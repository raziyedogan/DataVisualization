{
 "cells": [
  {
   "cell_type": "markdown",
   "id": "ca4e8253",
   "metadata": {},
   "source": [
    "Titanic - Machine Learning from Disaster\n",
    "\n",
    "https://www.kaggle.com/competitions/titanic linkinde bulunan yarışmayı gerçekleştirelim."
   ]
  },
  {
   "cell_type": "markdown",
   "id": "110c5b9f",
   "metadata": {},
   "source": [
    "# Introduction\n",
    "\n",
    "The sinking of Titanic is one of the most notorious shipwrecks in the history. In 1912, during her voyage, the Titanic sank after colliding with an iceberg, killing 1502 out of 2224 passengers and crew."
   ]
  },
  {
   "cell_type": "code",
   "execution_count": 1,
   "id": "b96b5734",
   "metadata": {},
   "outputs": [],
   "source": [
    "import numpy as np\n",
    "import pandas as pd\n",
    "import matplotlib.pyplot as plt\n",
    "plt.style.use(\"seaborn-whitegrid\")  #matplotlib'in bir style'ı var ve bunun seaborn-whitegrid tarzını kullanmak istiyoruz.\n",
    "import seaborn as sns\n",
    "from collections import Counter\n",
    "\n",
    "#Python'dan kaynaklı hataları kapatmak için:\n",
    "import warnings\n",
    "warnings.filterwarnings(\"ignore\")"
   ]
  },
  {
   "cell_type": "code",
   "execution_count": 2,
   "id": "95a8bd04",
   "metadata": {},
   "outputs": [
    {
     "data": {
      "text/plain": [
       "<function matplotlib.pyplot.show(close=None, block=None)>"
      ]
     },
     "execution_count": 2,
     "metadata": {},
     "output_type": "execute_result"
    },
    {
     "data": {
      "image/png": "[encoded data removed]",
      "text/plain": [
       "<Figure size 432x288 with 1 Axes>"
      ]
     },
     "metadata": {},
     "output_type": "display_data"
    }
   ],
   "source": [
    "a=[1,2,3,4]\n",
    "plt.plot(a)\n",
    "plt.show"
   ]
  },
  {
   "cell_type": "markdown",
   "id": "4086e2f4",
   "metadata": {},
   "source": [
    "plt.style.use(\"seaborn-whitegrid\")  satırı sayesinde yukarıdaki çıktıda bulunan grafiğin arka planında ızgara görünümü bulunmaktadır.\n",
    "\n",
    "Peki başka tarzları nasıl elde edebiliriz?:"
   ]
  },
  {
   "cell_type": "code",
   "execution_count": 3,
   "id": "cbd56ab7",
   "metadata": {},
   "outputs": [
    {
     "data": {
      "text/plain": [
       "['Solarize_Light2',\n",
       " '_classic_test_patch',\n",
       " 'bmh',\n",
       " 'classic',\n",
       " 'dark_background',\n",
       " 'fast',\n",
       " 'fivethirtyeight',\n",
       " 'ggplot',\n",
       " 'grayscale',\n",
       " 'seaborn',\n",
       " 'seaborn-bright',\n",
       " 'seaborn-colorblind',\n",
       " 'seaborn-dark',\n",
       " 'seaborn-dark-palette',\n",
       " 'seaborn-darkgrid',\n",
       " 'seaborn-deep',\n",
       " 'seaborn-muted',\n",
       " 'seaborn-notebook',\n",
       " 'seaborn-paper',\n",
       " 'seaborn-pastel',\n",
       " 'seaborn-poster',\n",
       " 'seaborn-talk',\n",
       " 'seaborn-ticks',\n",
       " 'seaborn-white',\n",
       " 'seaborn-whitegrid',\n",
       " 'tableau-colorblind10']"
      ]
     },
     "execution_count": 3,
     "metadata": {},
     "output_type": "execute_result"
    }
   ],
   "source": [
    "plt.style.available"
   ]
  },
  {
   "cell_type": "markdown",
   "id": "381f21e7",
   "metadata": {},
   "source": [
    "Kullanabileceğimiz bütün tarzların listesi çıktıda görüldüğü gibidir."
   ]
  },
  {
   "cell_type": "markdown",
   "id": "11a4b708",
   "metadata": {},
   "source": [
    "<font color = 'Orange'>\n",
    "1-LOAD AND CHECK DATA"
   ]
  },
  {
   "cell_type": "code",
   "execution_count": 4,
   "id": "7a12b9e5",
   "metadata": {},
   "outputs": [],
   "source": [
    "train_df = pd.read_csv(\"train.csv\")\n",
    "test_df = pd.read_csv(\"test.csv\")\n",
    "test_PassengerId = test_df[\"PassengerId\"]  #test_df'nin PassngerId feature'sinin orjinalini kaybetmemek için bir değişkene atadık."
   ]
  },
  {
   "cell_type": "markdown",
   "id": "39c27500",
   "metadata": {},
   "source": [
    "Data'yı inceleyelim."
   ]
  },
  {
   "cell_type": "code",
   "execution_count": 5,
   "id": "f470aeed",
   "metadata": {},
   "outputs": [
    {
     "data": {
      "text/plain": [
       "Index(['PassengerId', 'Survived', 'Pclass', 'Name', 'Sex', 'Age', 'SibSp',\n",
       "       'Parch', 'Ticket', 'Fare', 'Cabin', 'Embarked'],\n",
       "      dtype='object')"
      ]
     },
     "execution_count": 5,
     "metadata": {},
     "output_type": "execute_result"
    }
   ],
   "source": [
    "train_df.columns"
   ]
  },
  {
   "cell_type": "markdown",
   "id": "cff75f6f",
   "metadata": {},
   "source": [
    "Görüldüğü üzere 12 tane column yani feature mevcut."
   ]
  },
  {
   "cell_type": "code",
   "execution_count": 6,
   "id": "2c0f692d",
   "metadata": {},
   "outputs": [
    {
     "data": {
      "text/html": [
       "<div>\n",
       "<style scoped>\n",
       "    .dataframe tbody tr th:only-of-type {\n",
       "        vertical-align: middle;\n",
       "    }\n",
       "\n",
       "    .dataframe tbody tr th {\n",
       "        vertical-align: top;\n",
       "    }\n",
       "\n",
       "    .dataframe thead th {\n",
       "        text-align: right;\n",
       "    }\n",
       "</style>\n",
       "<table border=\"1\" class=\"dataframe\">\n",
       "  <thead>\n",
       "    <tr style=\"text-align: right;\">\n",
       "      <th></th>\n",
       "      <th>PassengerId</th>\n",
       "      <th>Survived</th>\n",
       "      <th>Pclass</th>\n",
       "      <th>Name</th>\n",
       "      <th>Sex</th>\n",
       "      <th>Age</th>\n",
       "      <th>SibSp</th>\n",
       "      <th>Parch</th>\n",
       "      <th>Ticket</th>\n",
       "      <th>Fare</th>\n",
       "      <th>Cabin</th>\n",
       "      <th>Embarked</th>\n",
       "    </tr>\n",
       "  </thead>\n",
       "  <tbody>\n",
       "    <tr>\n",
       "      <th>0</th>\n",
       "      <td>1</td>\n",
       "      <td>0</td>\n",
       "      <td>3</td>\n",
       "      <td>Braund, Mr. Owen Harris</td>\n",
       "      <td>male</td>\n",
       "      <td>22.0</td>\n",
       "      <td>1</td>\n",
       "      <td>0</td>\n",
       "      <td>A/5 21171</td>\n",
       "      <td>7.2500</td>\n",
       "      <td>NaN</td>\n",
       "      <td>S</td>\n",
       "    </tr>\n",
       "    <tr>\n",
       "      <th>1</th>\n",
       "      <td>2</td>\n",
       "      <td>1</td>\n",
       "      <td>1</td>\n",
       "      <td>Cumings, Mrs. John Bradley (Florence Briggs Th...</td>\n",
       "      <td>female</td>\n",
       "      <td>38.0</td>\n",
       "      <td>1</td>\n",
       "      <td>0</td>\n",
       "      <td>PC 17599</td>\n",
       "      <td>71.2833</td>\n",
       "      <td>C85</td>\n",
       "      <td>C</td>\n",
       "    </tr>\n",
       "    <tr>\n",
       "      <th>2</th>\n",
       "      <td>3</td>\n",
       "      <td>1</td>\n",
       "      <td>3</td>\n",
       "      <td>Heikkinen, Miss. Laina</td>\n",
       "      <td>female</td>\n",
       "      <td>26.0</td>\n",
       "      <td>0</td>\n",
       "      <td>0</td>\n",
       "      <td>STON/O2. 3101282</td>\n",
       "      <td>7.9250</td>\n",
       "      <td>NaN</td>\n",
       "      <td>S</td>\n",
       "    </tr>\n",
       "    <tr>\n",
       "      <th>3</th>\n",
       "      <td>4</td>\n",
       "      <td>1</td>\n",
       "      <td>1</td>\n",
       "      <td>Futrelle, Mrs. Jacques Heath (Lily May Peel)</td>\n",
       "      <td>female</td>\n",
       "      <td>35.0</td>\n",
       "      <td>1</td>\n",
       "      <td>0</td>\n",
       "      <td>113803</td>\n",
       "      <td>53.1000</td>\n",
       "      <td>C123</td>\n",
       "      <td>S</td>\n",
       "    </tr>\n",
       "    <tr>\n",
       "      <th>4</th>\n",
       "      <td>5</td>\n",
       "      <td>0</td>\n",
       "      <td>3</td>\n",
       "      <td>Allen, Mr. William Henry</td>\n",
       "      <td>male</td>\n",
       "      <td>35.0</td>\n",
       "      <td>0</td>\n",
       "      <td>0</td>\n",
       "      <td>373450</td>\n",
       "      <td>8.0500</td>\n",
       "      <td>NaN</td>\n",
       "      <td>S</td>\n",
       "    </tr>\n",
       "  </tbody>\n",
       "</table>\n",
       "</div>"
      ],
      "text/plain": [
       "   PassengerId  Survived  Pclass  \\\n",
       "0            1         0       3   \n",
       "1            2         1       1   \n",
       "2            3         1       3   \n",
       "3            4         1       1   \n",
       "4            5         0       3   \n",
       "\n",
       "                                                Name     Sex   Age  SibSp  \\\n",
       "0                            Braund, Mr. Owen Harris    male  22.0      1   \n",
       "1  Cumings, Mrs. John Bradley (Florence Briggs Th...  female  38.0      1   \n",
       "2                             Heikkinen, Miss. Laina  female  26.0      0   \n",
       "3       Futrelle, Mrs. Jacques Heath (Lily May Peel)  female  35.0      1   \n",
       "4                           Allen, Mr. William Henry    male  35.0      0   \n",
       "\n",
       "   Parch            Ticket     Fare Cabin Embarked  \n",
       "0      0         A/5 21171   7.2500   NaN        S  \n",
       "1      0          PC 17599  71.2833   C85        C  \n",
       "2      0  STON/O2. 3101282   7.9250   NaN        S  \n",
       "3      0            113803  53.1000  C123        S  \n",
       "4      0            373450   8.0500   NaN        S  "
      ]
     },
     "execution_count": 6,
     "metadata": {},
     "output_type": "execute_result"
    }
   ],
   "source": [
    "train_df.head()"
   ]
  },
  {
   "cell_type": "markdown",
   "id": "3502955d",
   "metadata": {},
   "source": [
    "df'nin ilk 5 satırını görüntüledik.\n",
    "\n",
    "Çıktıyı okuyalım. Mesela Ticket sütunu bilet numarasını ifade eder. Fare sütunu bileti almak için ödenen tutarı ifade eder. Cabin sütunu hangi kabinde bulunulduğunu ifade eder. Embarked sütunu hangi limandan bu gemiye binildiğini ifade eder."
   ]
  },
  {
   "cell_type": "code",
   "execution_count": 7,
   "id": "e008edb6",
   "metadata": {},
   "outputs": [
    {
     "data": {
      "text/html": [
       "<div>\n",
       "<style scoped>\n",
       "    .dataframe tbody tr th:only-of-type {\n",
       "        vertical-align: middle;\n",
       "    }\n",
       "\n",
       "    .dataframe tbody tr th {\n",
       "        vertical-align: top;\n",
       "    }\n",
       "\n",
       "    .dataframe thead th {\n",
       "        text-align: right;\n",
       "    }\n",
       "</style>\n",
       "<table border=\"1\" class=\"dataframe\">\n",
       "  <thead>\n",
       "    <tr style=\"text-align: right;\">\n",
       "      <th></th>\n",
       "      <th>PassengerId</th>\n",
       "      <th>Survived</th>\n",
       "      <th>Pclass</th>\n",
       "      <th>Age</th>\n",
       "      <th>SibSp</th>\n",
       "      <th>Parch</th>\n",
       "      <th>Fare</th>\n",
       "    </tr>\n",
       "  </thead>\n",
       "  <tbody>\n",
       "    <tr>\n",
       "      <th>count</th>\n",
       "      <td>891.000000</td>\n",
       "      <td>891.000000</td>\n",
       "      <td>891.000000</td>\n",
       "      <td>714.000000</td>\n",
       "      <td>891.000000</td>\n",
       "      <td>891.000000</td>\n",
       "      <td>891.000000</td>\n",
       "    </tr>\n",
       "    <tr>\n",
       "      <th>mean</th>\n",
       "      <td>446.000000</td>\n",
       "      <td>0.383838</td>\n",
       "      <td>2.308642</td>\n",
       "      <td>29.699118</td>\n",
       "      <td>0.523008</td>\n",
       "      <td>0.381594</td>\n",
       "      <td>32.204208</td>\n",
       "    </tr>\n",
       "    <tr>\n",
       "      <th>std</th>\n",
       "      <td>257.353842</td>\n",
       "      <td>0.486592</td>\n",
       "      <td>0.836071</td>\n",
       "      <td>14.526497</td>\n",
       "      <td>1.102743</td>\n",
       "      <td>0.806057</td>\n",
       "      <td>49.693429</td>\n",
       "    </tr>\n",
       "    <tr>\n",
       "      <th>min</th>\n",
       "      <td>1.000000</td>\n",
       "      <td>0.000000</td>\n",
       "      <td>1.000000</td>\n",
       "      <td>0.420000</td>\n",
       "      <td>0.000000</td>\n",
       "      <td>0.000000</td>\n",
       "      <td>0.000000</td>\n",
       "    </tr>\n",
       "    <tr>\n",
       "      <th>25%</th>\n",
       "      <td>223.500000</td>\n",
       "      <td>0.000000</td>\n",
       "      <td>2.000000</td>\n",
       "      <td>20.125000</td>\n",
       "      <td>0.000000</td>\n",
       "      <td>0.000000</td>\n",
       "      <td>7.910400</td>\n",
       "    </tr>\n",
       "    <tr>\n",
       "      <th>50%</th>\n",
       "      <td>446.000000</td>\n",
       "      <td>0.000000</td>\n",
       "      <td>3.000000</td>\n",
       "      <td>28.000000</td>\n",
       "      <td>0.000000</td>\n",
       "      <td>0.000000</td>\n",
       "      <td>14.454200</td>\n",
       "    </tr>\n",
       "    <tr>\n",
       "      <th>75%</th>\n",
       "      <td>668.500000</td>\n",
       "      <td>1.000000</td>\n",
       "      <td>3.000000</td>\n",
       "      <td>38.000000</td>\n",
       "      <td>1.000000</td>\n",
       "      <td>0.000000</td>\n",
       "      <td>31.000000</td>\n",
       "    </tr>\n",
       "    <tr>\n",
       "      <th>max</th>\n",
       "      <td>891.000000</td>\n",
       "      <td>1.000000</td>\n",
       "      <td>3.000000</td>\n",
       "      <td>80.000000</td>\n",
       "      <td>8.000000</td>\n",
       "      <td>6.000000</td>\n",
       "      <td>512.329200</td>\n",
       "    </tr>\n",
       "  </tbody>\n",
       "</table>\n",
       "</div>"
      ],
      "text/plain": [
       "       PassengerId    Survived      Pclass         Age       SibSp  \\\n",
       "count   891.000000  891.000000  891.000000  714.000000  891.000000   \n",
       "mean    446.000000    0.383838    2.308642   29.699118    0.523008   \n",
       "std     257.353842    0.486592    0.836071   14.526497    1.102743   \n",
       "min       1.000000    0.000000    1.000000    0.420000    0.000000   \n",
       "25%     223.500000    0.000000    2.000000   20.125000    0.000000   \n",
       "50%     446.000000    0.000000    3.000000   28.000000    0.000000   \n",
       "75%     668.500000    1.000000    3.000000   38.000000    1.000000   \n",
       "max     891.000000    1.000000    3.000000   80.000000    8.000000   \n",
       "\n",
       "            Parch        Fare  \n",
       "count  891.000000  891.000000  \n",
       "mean     0.381594   32.204208  \n",
       "std      0.806057   49.693429  \n",
       "min      0.000000    0.000000  \n",
       "25%      0.000000    7.910400  \n",
       "50%      0.000000   14.454200  \n",
       "75%      0.000000   31.000000  \n",
       "max      6.000000  512.329200  "
      ]
     },
     "execution_count": 7,
     "metadata": {},
     "output_type": "execute_result"
    }
   ],
   "source": [
    "train_df.describe()"
   ]
  },
  {
   "cell_type": "markdown",
   "id": "17a01ac5",
   "metadata": {},
   "source": [
    "Sayısal sütunlarla ilgili bazı istatistiksel bilgileri elde ettik.\n",
    "\n",
    "Çıktıyı inceleyelim. Mesela maksimum 80 yaşında ve minimum 0.42 yaşında insanların bulunduğu bir gemi olduğu sonucuna varabiliriz."
   ]
  },
  {
   "cell_type": "markdown",
   "id": "ce41c31b",
   "metadata": {},
   "source": [
    "<font color = 'Orange'>\n",
    "2-VARIABLE DESCRIPTION"
   ]
  },
  {
   "cell_type": "markdown",
   "id": "66b6e25a",
   "metadata": {},
   "source": [
    "1- PassengerId\n",
    "\n",
    "2- Survived\n",
    "\n",
    "3- Pclass\n",
    "\n",
    "4- Name\n",
    "\n",
    "5- Sex\n",
    "\n",
    "6- Age\n",
    "\n",
    "7- SibSp\n",
    "\n",
    "8- Parch\n",
    "\n",
    "9- Ticket\n",
    "\n",
    "10-Fare\n",
    "\n",
    "11-Cabin\n",
    "\n",
    "12-Embarked\n",
    "    \n",
    "Şimdi her birini veri seti üzerinde gözlemleyerek inceleyelim. "
   ]
  },
  {
   "cell_type": "code",
   "execution_count": 8,
   "id": "8474ed45",
   "metadata": {},
   "outputs": [
    {
     "data": {
      "text/html": [
       "<div>\n",
       "<style scoped>\n",
       "    .dataframe tbody tr th:only-of-type {\n",
       "        vertical-align: middle;\n",
       "    }\n",
       "\n",
       "    .dataframe tbody tr th {\n",
       "        vertical-align: top;\n",
       "    }\n",
       "\n",
       "    .dataframe thead th {\n",
       "        text-align: right;\n",
       "    }\n",
       "</style>\n",
       "<table border=\"1\" class=\"dataframe\">\n",
       "  <thead>\n",
       "    <tr style=\"text-align: right;\">\n",
       "      <th></th>\n",
       "      <th>PassengerId</th>\n",
       "      <th>Survived</th>\n",
       "      <th>Pclass</th>\n",
       "      <th>Name</th>\n",
       "      <th>Sex</th>\n",
       "      <th>Age</th>\n",
       "      <th>SibSp</th>\n",
       "      <th>Parch</th>\n",
       "      <th>Ticket</th>\n",
       "      <th>Fare</th>\n",
       "      <th>Cabin</th>\n",
       "      <th>Embarked</th>\n",
       "    </tr>\n",
       "  </thead>\n",
       "  <tbody>\n",
       "    <tr>\n",
       "      <th>0</th>\n",
       "      <td>1</td>\n",
       "      <td>0</td>\n",
       "      <td>3</td>\n",
       "      <td>Braund, Mr. Owen Harris</td>\n",
       "      <td>male</td>\n",
       "      <td>22.0</td>\n",
       "      <td>1</td>\n",
       "      <td>0</td>\n",
       "      <td>A/5 21171</td>\n",
       "      <td>7.2500</td>\n",
       "      <td>NaN</td>\n",
       "      <td>S</td>\n",
       "    </tr>\n",
       "    <tr>\n",
       "      <th>1</th>\n",
       "      <td>2</td>\n",
       "      <td>1</td>\n",
       "      <td>1</td>\n",
       "      <td>Cumings, Mrs. John Bradley (Florence Briggs Th...</td>\n",
       "      <td>female</td>\n",
       "      <td>38.0</td>\n",
       "      <td>1</td>\n",
       "      <td>0</td>\n",
       "      <td>PC 17599</td>\n",
       "      <td>71.2833</td>\n",
       "      <td>C85</td>\n",
       "      <td>C</td>\n",
       "    </tr>\n",
       "    <tr>\n",
       "      <th>2</th>\n",
       "      <td>3</td>\n",
       "      <td>1</td>\n",
       "      <td>3</td>\n",
       "      <td>Heikkinen, Miss. Laina</td>\n",
       "      <td>female</td>\n",
       "      <td>26.0</td>\n",
       "      <td>0</td>\n",
       "      <td>0</td>\n",
       "      <td>STON/O2. 3101282</td>\n",
       "      <td>7.9250</td>\n",
       "      <td>NaN</td>\n",
       "      <td>S</td>\n",
       "    </tr>\n",
       "    <tr>\n",
       "      <th>3</th>\n",
       "      <td>4</td>\n",
       "      <td>1</td>\n",
       "      <td>1</td>\n",
       "      <td>Futrelle, Mrs. Jacques Heath (Lily May Peel)</td>\n",
       "      <td>female</td>\n",
       "      <td>35.0</td>\n",
       "      <td>1</td>\n",
       "      <td>0</td>\n",
       "      <td>113803</td>\n",
       "      <td>53.1000</td>\n",
       "      <td>C123</td>\n",
       "      <td>S</td>\n",
       "    </tr>\n",
       "    <tr>\n",
       "      <th>4</th>\n",
       "      <td>5</td>\n",
       "      <td>0</td>\n",
       "      <td>3</td>\n",
       "      <td>Allen, Mr. William Henry</td>\n",
       "      <td>male</td>\n",
       "      <td>35.0</td>\n",
       "      <td>0</td>\n",
       "      <td>0</td>\n",
       "      <td>373450</td>\n",
       "      <td>8.0500</td>\n",
       "      <td>NaN</td>\n",
       "      <td>S</td>\n",
       "    </tr>\n",
       "  </tbody>\n",
       "</table>\n",
       "</div>"
      ],
      "text/plain": [
       "   PassengerId  Survived  Pclass  \\\n",
       "0            1         0       3   \n",
       "1            2         1       1   \n",
       "2            3         1       3   \n",
       "3            4         1       1   \n",
       "4            5         0       3   \n",
       "\n",
       "                                                Name     Sex   Age  SibSp  \\\n",
       "0                            Braund, Mr. Owen Harris    male  22.0      1   \n",
       "1  Cumings, Mrs. John Bradley (Florence Briggs Th...  female  38.0      1   \n",
       "2                             Heikkinen, Miss. Laina  female  26.0      0   \n",
       "3       Futrelle, Mrs. Jacques Heath (Lily May Peel)  female  35.0      1   \n",
       "4                           Allen, Mr. William Henry    male  35.0      0   \n",
       "\n",
       "   Parch            Ticket     Fare Cabin Embarked  \n",
       "0      0         A/5 21171   7.2500   NaN        S  \n",
       "1      0          PC 17599  71.2833   C85        C  \n",
       "2      0  STON/O2. 3101282   7.9250   NaN        S  \n",
       "3      0            113803  53.1000  C123        S  \n",
       "4      0            373450   8.0500   NaN        S  "
      ]
     },
     "execution_count": 8,
     "metadata": {},
     "output_type": "execute_result"
    }
   ],
   "source": [
    "train_df.head()"
   ]
  },
  {
   "cell_type": "markdown",
   "id": "ef888adf",
   "metadata": {},
   "source": [
    "<font color = 'OliveDrab'>\n",
    "PassengerId : Bulunan yolcuların yolcu numarasını ifade eden feature'dir. Unique değerler barındırır.\n",
    "\n",
    "Survived : 0 değeri yolcunun titanik kazası sonucunda öldüğünü ifade eder, 1 değeri yolcunun hayatta kaldığını ifade eder.\n",
    "\n",
    "Pclass : 1,2 ve 3 değerlerini alabilir. 1 ddeğeri 1.sınıf, 2 değeri 2.sınıf ve 3 değeri 3.sınıf anlamına gelir. Yani yolcuların sınıflarını ifade eder.\n",
    "    \n",
    "Name : Yolcu ismini ifade eder.\n",
    "    \n",
    "Sex : Yolcuların cinsiyetlerini ifade eder.\n",
    "    \n",
    "Age : Yolcuların yaşlarını ifade eder.\n",
    "    \n",
    "SibSp : sib, siblings'in kısaltmasıdır ve anlamı kardeşlerdir. Sp ise Spouses'in kısaltmasıdır ve eş yani karı koca anlamındandır. Mesela Harris'in 1 tane kardeşi olduğunu anlayabiliriz.\n",
    "    \n",
    "Parch : par , parent'tır. ch ise children'dir. Mesela Harris'in Pach değeri 0 ve bunun anlamı, Harris'in çocuğuda yok aileside yok. Parch değerinin 1 olması, kişisin gemi içerisinde anne ve babası olmak üzere bir ailesi var ya da çocukları var anlamına gelir.\n",
    "    \n",
    "Ticket : Bilet numarasıdır.\n",
    "    \n",
    "Fare : Bu bileti almak için ödediğimiz para miktarıdır.\n",
    "    \n",
    "Cabin : Kişinin gemi içerisinde kaldığı oda numarasıdır.\n",
    "    \n",
    "Embarked : Gemiye hangi limandan binildiği bilgisidir. 3 adet liman var ve bunlar; C=Cherbourg, Q=Queenstown, S=Southampton şeklindedir."
   ]
  },
  {
   "cell_type": "code",
   "execution_count": 9,
   "id": "c4fcf871",
   "metadata": {},
   "outputs": [
    {
     "name": "stdout",
     "output_type": "stream",
     "text": [
      "<class 'pandas.core.frame.DataFrame'>\n",
      "RangeIndex: 891 entries, 0 to 890\n",
      "Data columns (total 12 columns):\n",
      " #   Column       Non-Null Count  Dtype  \n",
      "---  ------       --------------  -----  \n",
      " 0   PassengerId  891 non-null    int64  \n",
      " 1   Survived     891 non-null    int64  \n",
      " 2   Pclass       891 non-null    int64  \n",
      " 3   Name         891 non-null    object \n",
      " 4   Sex          891 non-null    object \n",
      " 5   Age          714 non-null    float64\n",
      " 6   SibSp        891 non-null    int64  \n",
      " 7   Parch        891 non-null    int64  \n",
      " 8   Ticket       891 non-null    object \n",
      " 9   Fare         891 non-null    float64\n",
      " 10  Cabin        204 non-null    object \n",
      " 11  Embarked     889 non-null    object \n",
      "dtypes: float64(2), int64(5), object(5)\n",
      "memory usage: 83.7+ KB\n"
     ]
    }
   ],
   "source": [
    "train_df.info()"
   ]
  },
  {
   "cell_type": "markdown",
   "id": "551d61c5",
   "metadata": {},
   "source": [
    "info() metodu ile veri seti hakkında bilgiler edinebiliriz.\n",
    "\n",
    "Çıktıyı inceleyelim. pandas dataframe'ini kullandığımızı görüyoruz. 891 tane yolcu mevcut. 12 tane column var. Her bir column isimlerini ve column'da bulunan değerlerin veri tiplerini görebilmekteyiz. Toplamda 2 tane float, 5 tane int ve 5 tane string bulunduğunu görmekteyiz."
   ]
  },
  {
   "cell_type": "markdown",
   "id": "576b702b",
   "metadata": {},
   "source": [
    "<font color = 'Orange'>\n",
    "3-UNIVARIATE VARIABLE ANALYSIS"
   ]
  },
  {
   "cell_type": "markdown",
   "id": "9797fe31",
   "metadata": {},
   "source": [
    "Değişkenleri birer birer incelicez. Univariate variable analysis yaparken iki kısma ayrıcaz:\n",
    "\n",
    "    🟡 Categorical Variable Analysis\n",
    "    \n",
    "    🟡 Numerical Variable Analysis"
   ]
  },
  {
   "cell_type": "markdown",
   "id": "e8540122",
   "metadata": {},
   "source": [
    "<font color = 'DarkSlateGray'>\n",
    "    \n",
    "🟡 Categorical Variable\n",
    "\n",
    "Categorical variable: İki veya daha fazla kategoriden oluşan feature'lerdir. \n",
    "\n",
    "Mesela Survived feature'si categorical variable'dir. Çünkü iki adet farklı değer barındırır. 1=hayatta kalmıştır, 0=hayatta değildir.\n",
    "\n",
    "Sex feature'si kadın ve erkek olmak üzere iki farklı değer barınıdırır.\n",
    "\n",
    "Pclass feature'si 1.sınıf, 2.sınıf ve 3.sınıf olmak üzere 3 farklı değer barındırır.\n",
    "\n",
    "Embarked feature'si C , Q ve S olmak üzere 3 farklı liman bilgisi barındırır.\n",
    "\n",
    "Cabin fature'si, Name feature'si, Ticket feature'si, Sibsp feature'si ve Parch feature'si bir çok farklı kategoriye sahiptir.\n",
    "\n",
    "Sonuç olarak:\n",
    "\n",
    "    \n",
    "<font color = 'Blue'>  \n",
    "      Categorical Variable: Survived, Sex, Pclass, Embarked, Cabin, Name, Ticket, Sibsp, Parch"
   ]
  },
  {
   "cell_type": "markdown",
   "id": "066b06e7",
   "metadata": {},
   "source": [
    "<font color = 'DarkSlateGray'>\n",
    "🟡 Numerical Variable\n",
    "\n",
    "Numerical Variable: Sayılardan oluşan değişkenlerdir.\n",
    "    \n",
    "Sonuç olarak:\n",
    "    \n",
    "    \n",
    "<font color = 'Blue'> \n",
    "      Numerical Variable: Fare, age, passengerId"
   ]
  },
  {
   "cell_type": "markdown",
   "id": "8b8463a0",
   "metadata": {},
   "source": [
    "## Categorical Variable"
   ]
  },
  {
   "cell_type": "markdown",
   "id": "6fb91477",
   "metadata": {},
   "source": [
    "Categorical variable'leri görselleştirmek için öğrendiğimiz yöntemlerden birisi olan matplotlib kütüphanesini kullanacağız ve bunun için bir metod yazalım."
   ]
  },
  {
   "cell_type": "code",
   "execution_count": 10,
   "id": "229ed77e",
   "metadata": {},
   "outputs": [],
   "source": [
    "def bar_plot(variable):\n",
    "    \"\"\"\n",
    "        input: variable ex: \"Sex\"\n",
    "        output: bar plot & value count\n",
    "    \"\"\"\n",
    "    var = train_df[variable]  #Cinsiyet (Sex) variable'sini kullanarak var isimli bir değişken oluşturduk. ve var değişkeni içerisinde cinsiyetleri bulunduruyor.\n",
    "    varValue = var.value_counts()  #cinsiyetten kaç tane olması gerektiğini sağlıyor. \n",
    "    \n",
    "    #Şimdide görselleştirelim.\n",
    "    plt.figure(figsize=(9,3))\n",
    "    plt.bar(varValue.index, varValue)\n",
    "    plt.xticks(varValue.index, varValue.index.values)\n",
    "    plt.ylabel(\"Frequency\")  #y label kategorilere ait sample'lerin sayısıdır.\n",
    "    plt.title(variable)\n",
    "    plt.show()\n",
    "    \n",
    "    print(\"{}: \\n {}\".format(variable,varValue))"
   ]
  },
  {
   "cell_type": "markdown",
   "id": "200fbd1a",
   "metadata": {},
   "source": [
    ".value_counts() metodu ile feature'nin içerisinde kaç tane kategori olduğunu ve bu kategorilere ait kaç tane sample olduğu bilgisini elde edebiliriz."
   ]
  },
  {
   "cell_type": "markdown",
   "id": "20a2bc9b",
   "metadata": {},
   "source": [
    "Metodu kullanabilmek için gerekli olan kod satırını yazalım."
   ]
  },
  {
   "cell_type": "code",
   "execution_count": 11,
   "id": "f2f146f6",
   "metadata": {},
   "outputs": [
    {
     "data": {
      "image/png": "[encoded data removed]",
      "text/plain": [
       "<Figure size 648x216 with 1 Axes>"
      ]
     },
     "metadata": {},
     "output_type": "display_data"
    },
    {
     "name": "stdout",
     "output_type": "stream",
     "text": [
      "Survived: \n",
      " 0    549\n",
      "1    342\n",
      "Name: Survived, dtype: int64\n"
     ]
    },
    {
     "data": {
      "image/png": "[encoded data removed]",
      "text/plain": [
       "<Figure size 648x216 with 1 Axes>"
      ]
     },
     "metadata": {},
     "output_type": "display_data"
    },
    {
     "name": "stdout",
     "output_type": "stream",
     "text": [
      "Sex: \n",
      " male      577\n",
      "female    314\n",
      "Name: Sex, dtype: int64\n"
     ]
    },
    {
     "data": {
      "image/png": "[encoded data removed]",
      "text/plain": [
       "<Figure size 648x216 with 1 Axes>"
      ]
     },
     "metadata": {},
     "output_type": "display_data"
    },
    {
     "name": "stdout",
     "output_type": "stream",
     "text": [
      "Pclass: \n",
      " 3    491\n",
      "1    216\n",
      "2    184\n",
      "Name: Pclass, dtype: int64\n"
     ]
    },
    {
     "data": {
      "image/png": "[encoded data removed]",
      "text/plain": [
       "<Figure size 648x216 with 1 Axes>"
      ]
     },
     "metadata": {},
     "output_type": "display_data"
    },
    {
     "name": "stdout",
     "output_type": "stream",
     "text": [
      "Embarked: \n",
      " S    644\n",
      "C    168\n",
      "Q     77\n",
      "Name: Embarked, dtype: int64\n"
     ]
    },
    {
     "data": {
      "image/png": "[encoded data removed]",
      "text/plain": [
       "<Figure size 648x216 with 1 Axes>"
      ]
     },
     "metadata": {},
     "output_type": "display_data"
    },
    {
     "name": "stdout",
     "output_type": "stream",
     "text": [
      "SibSp: \n",
      " 0    608\n",
      "1    209\n",
      "2     28\n",
      "4     18\n",
      "3     16\n",
      "8      7\n",
      "5      5\n",
      "Name: SibSp, dtype: int64\n"
     ]
    },
    {
     "data": {
      "image/png": "[encoded data removed]",
      "text/plain": [
       "<Figure size 648x216 with 1 Axes>"
      ]
     },
     "metadata": {},
     "output_type": "display_data"
    },
    {
     "name": "stdout",
     "output_type": "stream",
     "text": [
      "Parch: \n",
      " 0    678\n",
      "1    118\n",
      "2     80\n",
      "5      5\n",
      "3      5\n",
      "4      4\n",
      "6      1\n",
      "Name: Parch, dtype: int64\n"
     ]
    }
   ],
   "source": [
    "category1= [\"Survived\", \"Sex\", \"Pclass\",\"Embarked\",\"SibSp\",\"Parch\"]\n",
    "for c in category1:\n",
    "    bar_plot(c)"
   ]
  },
  {
   "cell_type": "markdown",
   "id": "c29e9656",
   "metadata": {},
   "source": [
    "Çıktıda sırasıyla feature'leri elde ettik. Çıktıda bulunan bu feature'leri inceleyelim.\n",
    "\n",
    "Survived feature'sinin içerisinde 2 tane kategori var. 0=hayatta kalmayanlar ve 1=hayatta kalanlar şeklinde 2 kategoriye sahip. 549 kişi hayatta kalmamıştır ve 342 kişi hayatta kalmıştır.\n",
    "\n",
    "Survived variable'si ile ilgili şöyle bir yorum yapabiliriz; 891 tane yolcudan 549 tanesi hayatta kalmamış ve 342 tanesi hayatta kalmış Yani bunlar yarı yarıya değil. Sonuç olarak survived variable'sinin dengeli olmadığı yani unbalanced olduğu anlaşılır.\n",
    "\n",
    "Sex feature'sini inceleyelim. Cinsiyet ile ilgili male ve female olmak üzere 2 tane kategori mevcut. 577 tanesi erkek ve 314 tanesi kadındır. Sex variable'si dengesiz bir dağılıma sahiptir. Mesela bir yolcu geldiğinde bu yolcunun cinsiyetini tahmin etmek istersek, Sex dağılım oranlarına göre yolcu erkektir diyebiliriz.\n",
    "\n",
    "Pclass feature'sini inceleyelim. 1.sınıf (en zenginler) , 2.sınıf (ortalar) ve 3.sınıf (en fakirler) olmak üzere 3 tane kategori mevcut. 3.sınıfa ait 491 tane yolcu, 1.sınıfa ait 216 tane yolcu ve 2.sınıfa ait 184 tane yolcu vardır. \n",
    "\n",
    "Embarked feature'sini inceleyelim. 3 tane kategori mevcut. S limanından 644 tane, C limanından 168 tane ve Q limanından 77 tane yolcu binmiş.\n",
    "\n",
    "Mesela şöyle bir yoruma ulaşabiliriz. Pclass feature'si ile Embarked feature'si arasında bir ilişki kurabiliriz. Embarked feature'sinin Q limanından çok az sayıda yolcu binmiş. Pclass feature'sindede 1.sınıfta kalan yolcuların az sayıda olduğu görülmekte. Dolayısıyla 1.sınıfta kalan yolcuların limanı Q olabilir diyebiliriz. \n",
    "\n",
    "SibSp feature'sini inceleyelim. / tane kategori var. Hiç kardeşi olmayan (0 kategorisi) 608 kişiymiş. 1 tane kardeşi ya da eşi (1 kategorisi) olan yolcu sayısı 209 kişiymiş. \n",
    "\n",
    "Parch feature'sini inceleyelim. 7 tane kategori var. 678 kişinin diğer insanlarla bir bağlantısı yokmuş (0 kategorisi)."
   ]
  },
  {
   "cell_type": "markdown",
   "id": "49adb172",
   "metadata": {},
   "source": [
    "Categorical olduğunu bildiğimiz ama görselleştirme yaptığımızda karmaşa yaratacağından emin olduğumuz geri kalan categorical variable'leri anlatalım."
   ]
  },
  {
   "cell_type": "code",
   "execution_count": 12,
   "id": "172bc8f4",
   "metadata": {},
   "outputs": [
    {
     "name": "stdout",
     "output_type": "stream",
     "text": [
      "B96 B98        4\n",
      "G6             4\n",
      "C23 C25 C27    4\n",
      "C22 C26        3\n",
      "F33            3\n",
      "              ..\n",
      "E34            1\n",
      "C7             1\n",
      "C54            1\n",
      "E36            1\n",
      "C148           1\n",
      "Name: Cabin, Length: 147, dtype: int64 \n",
      "\n",
      "Braund, Mr. Owen Harris                     1\n",
      "Boulos, Mr. Hanna                           1\n",
      "Frolicher-Stehli, Mr. Maxmillian            1\n",
      "Gilinski, Mr. Eliezer                       1\n",
      "Murdlin, Mr. Joseph                         1\n",
      "                                           ..\n",
      "Kelly, Miss. Anna Katherine \"Annie Kate\"    1\n",
      "McCoy, Mr. Bernard                          1\n",
      "Johnson, Mr. William Cahoone Jr             1\n",
      "Keane, Miss. Nora A                         1\n",
      "Dooley, Mr. Patrick                         1\n",
      "Name: Name, Length: 891, dtype: int64 \n",
      "\n",
      "347082      7\n",
      "CA. 2343    7\n",
      "1601        7\n",
      "3101295     6\n",
      "CA 2144     6\n",
      "           ..\n",
      "9234        1\n",
      "19988       1\n",
      "2693        1\n",
      "PC 17612    1\n",
      "370376      1\n",
      "Name: Ticket, Length: 681, dtype: int64 \n",
      "\n"
     ]
    }
   ],
   "source": [
    "category2 = [\"Cabin\",\"Name\",\"Ticket\"]\n",
    "for c in category2:\n",
    "    print(\"{} \\n\".format(train_df[c].value_counts()))"
   ]
  },
  {
   "cell_type": "markdown",
   "id": "ac2a6205",
   "metadata": {},
   "source": [
    "Çıktıda Cabin, Name ve Ticket feature'lerine ait kaç adet kategori olduğunu görebiliyoruz.\n",
    "\n",
    "Mesela B96 B98 kategorisinden 4 tane varmış. G6 kategorisinden 4 tane varmış."
   ]
  },
  {
   "cell_type": "markdown",
   "id": "b01f3f96",
   "metadata": {},
   "source": [
    "## Numerical Variable"
   ]
  },
  {
   "cell_type": "markdown",
   "id": "fda9e344",
   "metadata": {},
   "source": [
    "Numerical variable yapabilmemiz için histogram plot ettiren bir metod yazacağız. Öncesinde histogramın ne olduğunu hatırlayalım.\n",
    "\n",
    "Mesela bir topluluktaki insanların yaşları 5, 15, 20 olsun. 5 yaşında olan 100 kişi, 15 yaşında olan 200 kişi ve 20 yaşında olan 150 kişi olsun. Bu durumda histogram, toplulukta bulunan insanların yaşlarının dağılımını gösteren bloktur."
   ]
  },
  {
   "cell_type": "code",
   "execution_count": 13,
   "id": "2c289e27",
   "metadata": {},
   "outputs": [],
   "source": [
    "def plot_hist(variable):\n",
    "    plt.figure(figsize=(9,3))\n",
    "    plt.hist(train_df[variable], bins=50)  #train_df 'nin variable'lerini sırasıyla çağırdık.\n",
    "    plt.xlabel(variable)\n",
    "    plt.ylabel(\"Frequency\")\n",
    "    plt.title(\"{} distribution with hist\".format(variable))\n",
    "    plt.show()"
   ]
  },
  {
   "cell_type": "code",
   "execution_count": 14,
   "id": "aa166b09",
   "metadata": {},
   "outputs": [
    {
     "data": {
      "image/png": "[encoded data removed]",
      "text/plain": [
       "<Figure size 648x216 with 1 Axes>"
      ]
     },
     "metadata": {},
     "output_type": "display_data"
    },
    {
     "data": {
      "image/png": "[encoded data removed]",
      "text/plain": [
       "<Figure size 648x216 with 1 Axes>"
      ]
     },
     "metadata": {},
     "output_type": "display_data"
    },
    {
     "data": {
      "image/png": "[encoded data removed]",
      "text/plain": [
       "<Figure size 648x216 with 1 Axes>"
      ]
     },
     "metadata": {},
     "output_type": "display_data"
    }
   ],
   "source": [
    "#numeric variable'lerin listesini oluşturalım.\n",
    "\n",
    "numericVar = [\"Fare\", \"Age\", \"PassengerId\"]\n",
    "for n in numericVar:\n",
    "    plot_hist(n)"
   ]
  },
  {
   "cell_type": "markdown",
   "id": "da312bcf",
   "metadata": {},
   "source": [
    "Çıktıda Fare, Age ve PassengerId için histogramları görmekteyiz.\n",
    "\n",
    "Çıktıyı inceleyelim. Fare feature'si biletlere ödenen para miktarını ifade eder. Histogramda görüldüğü üzere 100 doların üzerinde veren kişi sayısı çok az. Böylelikle ödenen paranın dağılımını elde edebiliyoruz.\n",
    "\n",
    "Age feature'sine ait histograma baktığımızda, 20 ve 30 yaşları arasında bir toplanma görünüyor. 70 yaşından büyük yolcu sayısı giderek azalıyor ve 0 ile 10 yaş arasında fazla sayıda çocuk olduğu gözlemlenebiliyor."
   ]
  },
  {
   "cell_type": "markdown",
   "id": "cde3e7de",
   "metadata": {},
   "source": [
    "<font color = 'Orange'>\n",
    "4-BASIC DATA ANALYSIS"
   ]
  },
  {
   "cell_type": "markdown",
   "id": "90ffc956",
   "metadata": {},
   "source": [
    "Bazı feature'lerin birbirleriyle ilişkilerini incelicez:\n",
    "\n",
    "Pclass - survived\n",
    "\n",
    "Sex - survived\n",
    "\n",
    "SibSp - survived\n",
    "\n",
    "Parch - survived"
   ]
  },
  {
   "cell_type": "code",
   "execution_count": 15,
   "id": "3ba04eda",
   "metadata": {},
   "outputs": [
    {
     "data": {
      "text/html": [
       "<div>\n",
       "<style scoped>\n",
       "    .dataframe tbody tr th:only-of-type {\n",
       "        vertical-align: middle;\n",
       "    }\n",
       "\n",
       "    .dataframe tbody tr th {\n",
       "        vertical-align: top;\n",
       "    }\n",
       "\n",
       "    .dataframe thead th {\n",
       "        text-align: right;\n",
       "    }\n",
       "</style>\n",
       "<table border=\"1\" class=\"dataframe\">\n",
       "  <thead>\n",
       "    <tr style=\"text-align: right;\">\n",
       "      <th></th>\n",
       "      <th>Pclass</th>\n",
       "      <th>Survived</th>\n",
       "    </tr>\n",
       "  </thead>\n",
       "  <tbody>\n",
       "    <tr>\n",
       "      <th>0</th>\n",
       "      <td>3</td>\n",
       "      <td>0</td>\n",
       "    </tr>\n",
       "    <tr>\n",
       "      <th>1</th>\n",
       "      <td>1</td>\n",
       "      <td>1</td>\n",
       "    </tr>\n",
       "    <tr>\n",
       "      <th>2</th>\n",
       "      <td>3</td>\n",
       "      <td>1</td>\n",
       "    </tr>\n",
       "    <tr>\n",
       "      <th>3</th>\n",
       "      <td>1</td>\n",
       "      <td>1</td>\n",
       "    </tr>\n",
       "    <tr>\n",
       "      <th>4</th>\n",
       "      <td>3</td>\n",
       "      <td>0</td>\n",
       "    </tr>\n",
       "    <tr>\n",
       "      <th>...</th>\n",
       "      <td>...</td>\n",
       "      <td>...</td>\n",
       "    </tr>\n",
       "    <tr>\n",
       "      <th>886</th>\n",
       "      <td>2</td>\n",
       "      <td>0</td>\n",
       "    </tr>\n",
       "    <tr>\n",
       "      <th>887</th>\n",
       "      <td>1</td>\n",
       "      <td>1</td>\n",
       "    </tr>\n",
       "    <tr>\n",
       "      <th>888</th>\n",
       "      <td>3</td>\n",
       "      <td>0</td>\n",
       "    </tr>\n",
       "    <tr>\n",
       "      <th>889</th>\n",
       "      <td>1</td>\n",
       "      <td>1</td>\n",
       "    </tr>\n",
       "    <tr>\n",
       "      <th>890</th>\n",
       "      <td>3</td>\n",
       "      <td>0</td>\n",
       "    </tr>\n",
       "  </tbody>\n",
       "</table>\n",
       "<p>891 rows × 2 columns</p>\n",
       "</div>"
      ],
      "text/plain": [
       "     Pclass  Survived\n",
       "0         3         0\n",
       "1         1         1\n",
       "2         3         1\n",
       "3         1         1\n",
       "4         3         0\n",
       "..      ...       ...\n",
       "886       2         0\n",
       "887       1         1\n",
       "888       3         0\n",
       "889       1         1\n",
       "890       3         0\n",
       "\n",
       "[891 rows x 2 columns]"
      ]
     },
     "execution_count": 15,
     "metadata": {},
     "output_type": "execute_result"
    }
   ],
   "source": [
    "train_df[[\"Pclass\",\"Survived\"]]"
   ]
  },
  {
   "cell_type": "markdown",
   "id": "8dc73340",
   "metadata": {},
   "source": [
    "Data frame içerisinde bulunan diğer feature'leri yok sayarak sadece Pclass ve Survived 'ı elde ettik."
   ]
  },
  {
   "cell_type": "code",
   "execution_count": 16,
   "id": "02e8f94b",
   "metadata": {},
   "outputs": [
    {
     "data": {
      "text/html": [
       "<div>\n",
       "<style scoped>\n",
       "    .dataframe tbody tr th:only-of-type {\n",
       "        vertical-align: middle;\n",
       "    }\n",
       "\n",
       "    .dataframe tbody tr th {\n",
       "        vertical-align: top;\n",
       "    }\n",
       "\n",
       "    .dataframe thead th {\n",
       "        text-align: right;\n",
       "    }\n",
       "</style>\n",
       "<table border=\"1\" class=\"dataframe\">\n",
       "  <thead>\n",
       "    <tr style=\"text-align: right;\">\n",
       "      <th></th>\n",
       "      <th>Pclass</th>\n",
       "      <th>Survived</th>\n",
       "    </tr>\n",
       "  </thead>\n",
       "  <tbody>\n",
       "    <tr>\n",
       "      <th>0</th>\n",
       "      <td>1</td>\n",
       "      <td>0.629630</td>\n",
       "    </tr>\n",
       "    <tr>\n",
       "      <th>1</th>\n",
       "      <td>2</td>\n",
       "      <td>0.472826</td>\n",
       "    </tr>\n",
       "    <tr>\n",
       "      <th>2</th>\n",
       "      <td>3</td>\n",
       "      <td>0.242363</td>\n",
       "    </tr>\n",
       "  </tbody>\n",
       "</table>\n",
       "</div>"
      ],
      "text/plain": [
       "   Pclass  Survived\n",
       "0       1  0.629630\n",
       "1       2  0.472826\n",
       "2       3  0.242363"
      ]
     },
     "execution_count": 16,
     "metadata": {},
     "output_type": "execute_result"
    }
   ],
   "source": [
    "#Pclass vs survived \n",
    "#İnsanların sınıfları ile hayatta kalmaları arasında nasıl bir orantı olduğunu inceleyelim.\n",
    "\n",
    "train_df[[\"Pclass\",\"Survived\"]].groupby([\"Pclass\"], as_index=False).mean()"
   ]
  },
  {
   "cell_type": "markdown",
   "id": "c1f154d5",
   "metadata": {},
   "source": [
    " Pclass'ın survived'a olan etkisini görmek için Pclass ve survived'i içeren data frame'i Pclass'a göre groupby yaparız. groupby ile grupladıktan sonra neye göre yazdırma yapması gerektiğini belirtmeliyiz. Burada grupla ve ortalamasını göster dedik.\n",
    " \n",
    " Sonucu sıralı göstermek için şöyle yaparız:"
   ]
  },
  {
   "cell_type": "code",
   "execution_count": 17,
   "id": "c278652a",
   "metadata": {},
   "outputs": [
    {
     "data": {
      "text/html": [
       "<div>\n",
       "<style scoped>\n",
       "    .dataframe tbody tr th:only-of-type {\n",
       "        vertical-align: middle;\n",
       "    }\n",
       "\n",
       "    .dataframe tbody tr th {\n",
       "        vertical-align: top;\n",
       "    }\n",
       "\n",
       "    .dataframe thead th {\n",
       "        text-align: right;\n",
       "    }\n",
       "</style>\n",
       "<table border=\"1\" class=\"dataframe\">\n",
       "  <thead>\n",
       "    <tr style=\"text-align: right;\">\n",
       "      <th></th>\n",
       "      <th>Pclass</th>\n",
       "      <th>Survived</th>\n",
       "    </tr>\n",
       "  </thead>\n",
       "  <tbody>\n",
       "    <tr>\n",
       "      <th>0</th>\n",
       "      <td>1</td>\n",
       "      <td>0.629630</td>\n",
       "    </tr>\n",
       "    <tr>\n",
       "      <th>1</th>\n",
       "      <td>2</td>\n",
       "      <td>0.472826</td>\n",
       "    </tr>\n",
       "    <tr>\n",
       "      <th>2</th>\n",
       "      <td>3</td>\n",
       "      <td>0.242363</td>\n",
       "    </tr>\n",
       "  </tbody>\n",
       "</table>\n",
       "</div>"
      ],
      "text/plain": [
       "   Pclass  Survived\n",
       "0       1  0.629630\n",
       "1       2  0.472826\n",
       "2       3  0.242363"
      ]
     },
     "execution_count": 17,
     "metadata": {},
     "output_type": "execute_result"
    }
   ],
   "source": [
    "train_df[[\"Pclass\",\"Survived\"]].groupby([\"Pclass\"], as_index=False).mean().sort_values(by=\"Survived\",ascending=False)"
   ]
  },
  {
   "cell_type": "markdown",
   "id": "eb350ec0",
   "metadata": {},
   "source": [
    "Çıktıyı yorumlayalım. 1.sınıf kategoriye sahip yolcuların hayatta kalma olasılıklarının 0.62 olduğunu görüyoruz. Yani %62 olasılıkla 1.sınıftaki bir yolcu titanik gemi kazası sonucunda hayatta kalmış. 3.sınıfta kalan bir yolcu kaza sonucunda %24 olasılığında hayatta kalmış."
   ]
  },
  {
   "cell_type": "markdown",
   "id": "14a07718",
   "metadata": {},
   "source": [
    "Şimdide cinsiyet (Sex) ile hayatta kalma (Survived) oranı arasındaki ilişkiyi incceleyelim."
   ]
  },
  {
   "cell_type": "code",
   "execution_count": 18,
   "id": "7038d8fc",
   "metadata": {},
   "outputs": [
    {
     "data": {
      "text/html": [
       "<div>\n",
       "<style scoped>\n",
       "    .dataframe tbody tr th:only-of-type {\n",
       "        vertical-align: middle;\n",
       "    }\n",
       "\n",
       "    .dataframe tbody tr th {\n",
       "        vertical-align: top;\n",
       "    }\n",
       "\n",
       "    .dataframe thead th {\n",
       "        text-align: right;\n",
       "    }\n",
       "</style>\n",
       "<table border=\"1\" class=\"dataframe\">\n",
       "  <thead>\n",
       "    <tr style=\"text-align: right;\">\n",
       "      <th></th>\n",
       "      <th>Sex</th>\n",
       "      <th>Survived</th>\n",
       "    </tr>\n",
       "  </thead>\n",
       "  <tbody>\n",
       "    <tr>\n",
       "      <th>0</th>\n",
       "      <td>female</td>\n",
       "      <td>0.742038</td>\n",
       "    </tr>\n",
       "    <tr>\n",
       "      <th>1</th>\n",
       "      <td>male</td>\n",
       "      <td>0.188908</td>\n",
       "    </tr>\n",
       "  </tbody>\n",
       "</table>\n",
       "</div>"
      ],
      "text/plain": [
       "      Sex  Survived\n",
       "0  female  0.742038\n",
       "1    male  0.188908"
      ]
     },
     "execution_count": 18,
     "metadata": {},
     "output_type": "execute_result"
    }
   ],
   "source": [
    "#Sex vs survived\n",
    "\n",
    "train_df[[\"Sex\",\"Survived\"]].groupby([\"Sex\"], as_index=False).mean().sort_values(by=\"Survived\",ascending=False)"
   ]
  },
  {
   "cell_type": "markdown",
   "id": "e0c8082c",
   "metadata": {},
   "source": [
    "Çıktıyı yorumlayalım. Kadınlar %74 oranında hayatta kalmış ve erkekler %18 oranında hayatta kalmış. "
   ]
  },
  {
   "cell_type": "markdown",
   "id": "1df059d0",
   "metadata": {},
   "source": [
    "Şimdi de bir kadeşe veya eşe sahip olma durumu ile hayatta kalma arasındaki ilişkiyi inceleyelim."
   ]
  },
  {
   "cell_type": "code",
   "execution_count": 19,
   "id": "7d3e923c",
   "metadata": {},
   "outputs": [
    {
     "data": {
      "text/html": [
       "<div>\n",
       "<style scoped>\n",
       "    .dataframe tbody tr th:only-of-type {\n",
       "        vertical-align: middle;\n",
       "    }\n",
       "\n",
       "    .dataframe tbody tr th {\n",
       "        vertical-align: top;\n",
       "    }\n",
       "\n",
       "    .dataframe thead th {\n",
       "        text-align: right;\n",
       "    }\n",
       "</style>\n",
       "<table border=\"1\" class=\"dataframe\">\n",
       "  <thead>\n",
       "    <tr style=\"text-align: right;\">\n",
       "      <th></th>\n",
       "      <th>SibSp</th>\n",
       "      <th>Survived</th>\n",
       "    </tr>\n",
       "  </thead>\n",
       "  <tbody>\n",
       "    <tr>\n",
       "      <th>1</th>\n",
       "      <td>1</td>\n",
       "      <td>0.535885</td>\n",
       "    </tr>\n",
       "    <tr>\n",
       "      <th>2</th>\n",
       "      <td>2</td>\n",
       "      <td>0.464286</td>\n",
       "    </tr>\n",
       "    <tr>\n",
       "      <th>0</th>\n",
       "      <td>0</td>\n",
       "      <td>0.345395</td>\n",
       "    </tr>\n",
       "    <tr>\n",
       "      <th>3</th>\n",
       "      <td>3</td>\n",
       "      <td>0.250000</td>\n",
       "    </tr>\n",
       "    <tr>\n",
       "      <th>4</th>\n",
       "      <td>4</td>\n",
       "      <td>0.166667</td>\n",
       "    </tr>\n",
       "    <tr>\n",
       "      <th>5</th>\n",
       "      <td>5</td>\n",
       "      <td>0.000000</td>\n",
       "    </tr>\n",
       "    <tr>\n",
       "      <th>6</th>\n",
       "      <td>8</td>\n",
       "      <td>0.000000</td>\n",
       "    </tr>\n",
       "  </tbody>\n",
       "</table>\n",
       "</div>"
      ],
      "text/plain": [
       "   SibSp  Survived\n",
       "1      1  0.535885\n",
       "2      2  0.464286\n",
       "0      0  0.345395\n",
       "3      3  0.250000\n",
       "4      4  0.166667\n",
       "5      5  0.000000\n",
       "6      8  0.000000"
      ]
     },
     "execution_count": 19,
     "metadata": {},
     "output_type": "execute_result"
    }
   ],
   "source": [
    "#SibSp vs survived\n",
    "\n",
    "train_df[[\"SibSp\",\"Survived\"]].groupby([\"SibSp\"], as_index=False).mean().sort_values(by=\"Survived\",ascending=False)"
   ]
  },
  {
   "cell_type": "markdown",
   "id": "4144b5a0",
   "metadata": {},
   "source": [
    "Veri setinden SibSp ve Survived feature'lerini aldım. SibSp feature'sine göre gruplama yaptım. Ve hayatta kalmanın ortalamasına bakmak için mean() metodunu kullandım. Ve sonra ortalamayı azalan sırada çıktıya yansıttım.\n",
    "\n",
    "Çıktıyı yorumlayalım. Yanında 1 tane kardeşi ya da eşi olan yolcuların hayatta kalma olasılığı %53 ile en yüksek orana sahip. Yanında 2 kişi olanların hayatta kalma oranları %46, gemiye yalnız binenlerin hayatta kalma oranı %34 dür. Yanına 2 'den fazla kişi olanların hayatta kalma oranlarının çok daha az olduğu görülmektedir.\n",
    "\n",
    "Mesela bu çıktıdan yeni bir feature elde edebiliriz. 7 tane kategoriyi 2 tane kategoriye düşürelim. Bir tane threshold belirleriz. 2 sayısı threshold olsun. 2 ve 2'nin altındakileri bir gruba toplarım ve bunların hayatta kalma olasılıkları 2'den büyüklere göre çok daha yüksek olur.  "
   ]
  },
  {
   "cell_type": "code",
   "execution_count": 20,
   "id": "c75b33b1",
   "metadata": {},
   "outputs": [
    {
     "data": {
      "text/html": [
       "<div>\n",
       "<style scoped>\n",
       "    .dataframe tbody tr th:only-of-type {\n",
       "        vertical-align: middle;\n",
       "    }\n",
       "\n",
       "    .dataframe tbody tr th {\n",
       "        vertical-align: top;\n",
       "    }\n",
       "\n",
       "    .dataframe thead th {\n",
       "        text-align: right;\n",
       "    }\n",
       "</style>\n",
       "<table border=\"1\" class=\"dataframe\">\n",
       "  <thead>\n",
       "    <tr style=\"text-align: right;\">\n",
       "      <th></th>\n",
       "      <th>Parch</th>\n",
       "      <th>Survived</th>\n",
       "    </tr>\n",
       "  </thead>\n",
       "  <tbody>\n",
       "    <tr>\n",
       "      <th>3</th>\n",
       "      <td>3</td>\n",
       "      <td>0.600000</td>\n",
       "    </tr>\n",
       "    <tr>\n",
       "      <th>1</th>\n",
       "      <td>1</td>\n",
       "      <td>0.550847</td>\n",
       "    </tr>\n",
       "    <tr>\n",
       "      <th>2</th>\n",
       "      <td>2</td>\n",
       "      <td>0.500000</td>\n",
       "    </tr>\n",
       "    <tr>\n",
       "      <th>0</th>\n",
       "      <td>0</td>\n",
       "      <td>0.343658</td>\n",
       "    </tr>\n",
       "    <tr>\n",
       "      <th>5</th>\n",
       "      <td>5</td>\n",
       "      <td>0.200000</td>\n",
       "    </tr>\n",
       "    <tr>\n",
       "      <th>4</th>\n",
       "      <td>4</td>\n",
       "      <td>0.000000</td>\n",
       "    </tr>\n",
       "    <tr>\n",
       "      <th>6</th>\n",
       "      <td>6</td>\n",
       "      <td>0.000000</td>\n",
       "    </tr>\n",
       "  </tbody>\n",
       "</table>\n",
       "</div>"
      ],
      "text/plain": [
       "   Parch  Survived\n",
       "3      3  0.600000\n",
       "1      1  0.550847\n",
       "2      2  0.500000\n",
       "0      0  0.343658\n",
       "5      5  0.200000\n",
       "4      4  0.000000\n",
       "6      6  0.000000"
      ]
     },
     "execution_count": 20,
     "metadata": {},
     "output_type": "execute_result"
    }
   ],
   "source": [
    "#Parch vs survived\n",
    "\n",
    "train_df[[\"Parch\",\"Survived\"]].groupby([\"Parch\"], as_index=False).mean().sort_values(by=\"Survived\",ascending=False)"
   ]
  },
  {
   "cell_type": "markdown",
   "id": "49b02686",
   "metadata": {},
   "source": [
    "Parch ile Survived feature'lerini birleştirdim yani bir araya topladım. Sonrasında bunları Parch feature'sine göre grupladım ve sonra ortalamalarını aldım. Sonrada sonucu azalan sırada yazdırdım.\n",
    "\n",
    "Çıktıyı yorumlayalım. Yolcunun yanında ebeveyn veya çocuk olmak üzere 3 kişi var ise %60 oranında hayatta kalma durumu söz konusu. \n",
    "\n",
    "Parch değeri arttıkça yani 4, 5 ve 6 değerleri için görüldüğü üzere hayatta kalma olasılığı azalıyor. "
   ]
  },
  {
   "cell_type": "markdown",
   "id": "57a59264",
   "metadata": {},
   "source": [
    "Sonuç olarak, birbirleriyle alakasız feature'ler keşfedersek bunlardan yeni feature oluşturabiliriz. Ya da bunları ayrı ayrı kullanabiliriz. "
   ]
  },
  {
   "cell_type": "markdown",
   "id": "488b73d5",
   "metadata": {},
   "source": [
    "<font color = 'Orange'>\n",
    "4-OUTLIER DETECTION"
   ]
  },
  {
   "cell_type": "markdown",
   "id": "873a85f9",
   "metadata": {},
   "source": [
    "Outlier kavramını hatırlayalım. Mesela bir iş yerinde çalıştığınızı düşünün. Ve sırasıyla 1,4,5,6,8,9,11,12,13,14,15,16,17,100 şeklinde maaşlar var. Burdan outlier'ı yani ayrık olan sayıyı bulmaya çalışıcaz. \n",
    "\n",
    "Outlier detection şu yüzden önemli: Modeli düzgün bir şekilde eğitebilmemiz için istatistiksel anlamda belli başlı veriyi bozan ayrık değerlerden kurtulmamız gerekiyor. \n",
    "\n",
    "1,4,5,6,8,9,11,12,13,14,15,16,,17100 sayılarının ortalaması 52'dir. Patron çalışanlara verdiği ortalama maaşa göre zam yapıcak diyelim. Patron ortalamanın 52 olduğunu gördüğünde bu değer çok iyi olduğu için zam yapmaktan vazgeçer. Ama bu 52 değerini ortaya çıkartan 100 değeridir. Bu 100 sayısı outlier'dir. Yani kısacası istatistiksel anlamda veriyi bozan sample'leri outlier olarak adlandırabiliriz.\n",
    "\n",
    "Başka bir deyişle, öyle bir değer düşünün ki verinin geri kalan değerlerinden çok büyük ya da çok küçük. İşte bu değer outlier'dır.\n",
    "\n",
    "Peki outlier'ı çıkartmak neden önemli?: Çünkü bu durum istatistiksel anlamda karar vermemizi zorlaştırır. Mesela patron 50 değerini duyunca çalışanlarına verdiği maaşın iyi olduğunu ve zam yapmasına gerek olmadığını düşünecek. Ama bu 50 değerini elde etmemize sebep olan 100 değerinde maaşa sahip olan kişidir. Geri kalan çalışanların maaşı 50'den çok daha azdır. Buradaki outlier'ı tespit edip çıkarırsak ortalama 12 olur ve patron zam yapma kararı alır.\n",
    "\n",
    "Şimdi outlier'ı nasıl bulacağımıza bakalım.\n",
    "\n",
    "Öncelikle 1 st quartile = Q1 şeklinde bir tanım var.\n",
    "\n",
    "3 rd quartile = Q3\n",
    "\n",
    "Q1 ve Q3 quartile'leri tespit edebilmemiz için arada 2 nd quartile dediğimiz ve median olarak adlandırdığımız Q2 değeri var.\n",
    "\n",
    "Median: Listenin içerisinde bulunan sayıların ortasındaki sayıdır. Yukarıdaki listede, sağ tarafta 7 tane sol tarafta 7 tane sayı olacak şekilde konumlandığımızda ortadaki sayı 11.5'tir. 11.5 sayısı median değeridir. \n",
    "\n",
    "\n",
    "                      Median\n",
    "1  4  5  6  8  9  11   11.5   12  13  14  15  16  17  100\n",
    "\n",
    "Q1 değeri median ile 1 değeri arasındaki sayıların ortasındaki sayıdır. Bu durumda Q1=6 'dır.\n",
    "\n",
    "Q3 değeri ise median ile 100 değeri arasındaki sayıların ortasındaki sayıdır. Bu durumda Q3=15 'dir.\n",
    "\n",
    "IQR = Q3-Q1 = 9\n",
    "\n",
    "Bu 9 sayısını 1.5 ile çarpımı outlier tespitindeki adımımızdır.\n",
    "\n",
    "outlier = 9 x 1.5 = 13.5\n",
    "\n",
    "Şimdide:\n",
    "\n",
    "Q1 - 13.5             ya da       Q3 + 13.5\n",
    "\n",
    "6 - 13.5 = -7.5                   15 + 13.5 = 28.5\n",
    "\n",
    "Şimdi bu elde ettiğimiz değerleri listede sıralama açısından uygun yerlere yerleştirelim.\n",
    "\n",
    "-7.5  1  4  5  6  8  9  11   11.5   12  13  14  15  16  17  28.5  100\n",
    "\n",
    "Burada -7.5 ve 28.5 aralığın dışındaki sayılar outlier'dır. Burada bu aralığın dışında kalan sayı 100 dür ve 100 değerinin outlier olduğunu tespit etmiş olduk.\n",
    "\n",
    "Bu diziden sağlıklı istatistiksel sonuçlar çıkarabilmek için 100 sayısını listeden çıkarmamız gerekmektedir. Eğer outlier'ı yani 100 sayısını çıkartmazsak istatistiksel anlamda doğru bilgiler elde edemem. Dolayısıyla machine learning modelimizi doğru bir şekilde eğitemeyiz."
   ]
  },
  {
   "cell_type": "code",
   "execution_count": 21,
   "id": "1603cb79",
   "metadata": {},
   "outputs": [],
   "source": [
    "def detect_outliers(df,features):\n",
    "    outlier_indices = []\n",
    "    \n",
    "    for c in features:\n",
    "        # 1st quartile\n",
    "        Q1 = np.percentile(df[c],25)\n",
    "        \n",
    "        # 3rd quartile\n",
    "        Q3 = np.percentile(df[c],75)\n",
    "        \n",
    "        # IQR\n",
    "        IQR = Q3-Q1\n",
    "        \n",
    "        # Outlier step\n",
    "        outlier_step = IQR*1.5\n",
    "        \n",
    "        # detect outlier and their indeces\n",
    "        outlier_list_col = df[(df[c] < Q1-outlier_step) | (df[c] > Q3+outlier_step)].index \n",
    "        #Bir yukarıdaki kod ile outlier'ları içerisinde bulunduran bir data frame elde etmiş oluyoruz. Outlier'ların indeksini almak içinde .index yazarız.\n",
    "        \n",
    "        #store indeces (Bu adım ile amaçlanan, bulduğumuz indeksleri depolarız ve böylece daha sonradan bunları çıkarabiliriz)\n",
    "        outlier_indices.extend(outlier_list_col) #indeksleri outlier_indices'in içerisinde depolamış oldum. \n",
    "\n",
    "    outlier_indices = Counter(outlier_indices)  #Bu satır ile hangi yolcunun kaç tane outlier içerdiğini öğrenebiliriz.\n",
    "    \n",
    "    multiple_outliers = list(i for i, v in outlier_indices.items() if v > 2) #Eğer bir tane sample'de 2'den fazla outlier var ise bunu çıkartmak için indeksini tutarız. Ama bir tane outlier var ise çıkartmayız.\n",
    "    \n",
    "    return multiple_outliers"
   ]
  },
  {
   "cell_type": "markdown",
   "id": "918fb9de",
   "metadata": {},
   "source": [
    "Yukarıdaki kodu anlatalım. metod parametre olarak data frame'i ve outlier'ı detect etmek için kullanacağımız feature'leri alır.\n",
    "\n",
    "Sayısal değerler için outlier detection yaparız. Feature'leri bir for döngüsünde döndürerek tüm outlier'ları tespit ettik.\n",
    "\n",
    "Counter() metodu listenin içerisinde bulunan elemanların kaçar tane olduğunu hesaplar.\n",
    "\n",
    "Counter() metodunun sonucuna ihtiyacımız var çünkü bir yolcunun tek bir feature için outlier'ı var ise o yolcuyu çıkartmak çok doğru olmaz fakat birden fazla feature için outlier değeri var ise yolcuyu yani sample'ı çıkartmak gerekbilir."
   ]
  },
  {
   "cell_type": "code",
   "execution_count": 22,
   "id": "60658cdc",
   "metadata": {},
   "outputs": [
    {
     "data": {
      "text/html": [
       "<div>\n",
       "<style scoped>\n",
       "    .dataframe tbody tr th:only-of-type {\n",
       "        vertical-align: middle;\n",
       "    }\n",
       "\n",
       "    .dataframe tbody tr th {\n",
       "        vertical-align: top;\n",
       "    }\n",
       "\n",
       "    .dataframe thead th {\n",
       "        text-align: right;\n",
       "    }\n",
       "</style>\n",
       "<table border=\"1\" class=\"dataframe\">\n",
       "  <thead>\n",
       "    <tr style=\"text-align: right;\">\n",
       "      <th></th>\n",
       "      <th>PassengerId</th>\n",
       "      <th>Survived</th>\n",
       "      <th>Pclass</th>\n",
       "      <th>Name</th>\n",
       "      <th>Sex</th>\n",
       "      <th>Age</th>\n",
       "      <th>SibSp</th>\n",
       "      <th>Parch</th>\n",
       "      <th>Ticket</th>\n",
       "      <th>Fare</th>\n",
       "      <th>Cabin</th>\n",
       "      <th>Embarked</th>\n",
       "    </tr>\n",
       "  </thead>\n",
       "  <tbody>\n",
       "    <tr>\n",
       "      <th>27</th>\n",
       "      <td>28</td>\n",
       "      <td>0</td>\n",
       "      <td>1</td>\n",
       "      <td>Fortune, Mr. Charles Alexander</td>\n",
       "      <td>male</td>\n",
       "      <td>19.0</td>\n",
       "      <td>3</td>\n",
       "      <td>2</td>\n",
       "      <td>19950</td>\n",
       "      <td>263.00</td>\n",
       "      <td>C23 C25 C27</td>\n",
       "      <td>S</td>\n",
       "    </tr>\n",
       "    <tr>\n",
       "      <th>88</th>\n",
       "      <td>89</td>\n",
       "      <td>1</td>\n",
       "      <td>1</td>\n",
       "      <td>Fortune, Miss. Mabel Helen</td>\n",
       "      <td>female</td>\n",
       "      <td>23.0</td>\n",
       "      <td>3</td>\n",
       "      <td>2</td>\n",
       "      <td>19950</td>\n",
       "      <td>263.00</td>\n",
       "      <td>C23 C25 C27</td>\n",
       "      <td>S</td>\n",
       "    </tr>\n",
       "    <tr>\n",
       "      <th>159</th>\n",
       "      <td>160</td>\n",
       "      <td>0</td>\n",
       "      <td>3</td>\n",
       "      <td>Sage, Master. Thomas Henry</td>\n",
       "      <td>male</td>\n",
       "      <td>NaN</td>\n",
       "      <td>8</td>\n",
       "      <td>2</td>\n",
       "      <td>CA. 2343</td>\n",
       "      <td>69.55</td>\n",
       "      <td>NaN</td>\n",
       "      <td>S</td>\n",
       "    </tr>\n",
       "    <tr>\n",
       "      <th>180</th>\n",
       "      <td>181</td>\n",
       "      <td>0</td>\n",
       "      <td>3</td>\n",
       "      <td>Sage, Miss. Constance Gladys</td>\n",
       "      <td>female</td>\n",
       "      <td>NaN</td>\n",
       "      <td>8</td>\n",
       "      <td>2</td>\n",
       "      <td>CA. 2343</td>\n",
       "      <td>69.55</td>\n",
       "      <td>NaN</td>\n",
       "      <td>S</td>\n",
       "    </tr>\n",
       "    <tr>\n",
       "      <th>201</th>\n",
       "      <td>202</td>\n",
       "      <td>0</td>\n",
       "      <td>3</td>\n",
       "      <td>Sage, Mr. Frederick</td>\n",
       "      <td>male</td>\n",
       "      <td>NaN</td>\n",
       "      <td>8</td>\n",
       "      <td>2</td>\n",
       "      <td>CA. 2343</td>\n",
       "      <td>69.55</td>\n",
       "      <td>NaN</td>\n",
       "      <td>S</td>\n",
       "    </tr>\n",
       "    <tr>\n",
       "      <th>324</th>\n",
       "      <td>325</td>\n",
       "      <td>0</td>\n",
       "      <td>3</td>\n",
       "      <td>Sage, Mr. George John Jr</td>\n",
       "      <td>male</td>\n",
       "      <td>NaN</td>\n",
       "      <td>8</td>\n",
       "      <td>2</td>\n",
       "      <td>CA. 2343</td>\n",
       "      <td>69.55</td>\n",
       "      <td>NaN</td>\n",
       "      <td>S</td>\n",
       "    </tr>\n",
       "    <tr>\n",
       "      <th>341</th>\n",
       "      <td>342</td>\n",
       "      <td>1</td>\n",
       "      <td>1</td>\n",
       "      <td>Fortune, Miss. Alice Elizabeth</td>\n",
       "      <td>female</td>\n",
       "      <td>24.0</td>\n",
       "      <td>3</td>\n",
       "      <td>2</td>\n",
       "      <td>19950</td>\n",
       "      <td>263.00</td>\n",
       "      <td>C23 C25 C27</td>\n",
       "      <td>S</td>\n",
       "    </tr>\n",
       "    <tr>\n",
       "      <th>792</th>\n",
       "      <td>793</td>\n",
       "      <td>0</td>\n",
       "      <td>3</td>\n",
       "      <td>Sage, Miss. Stella Anna</td>\n",
       "      <td>female</td>\n",
       "      <td>NaN</td>\n",
       "      <td>8</td>\n",
       "      <td>2</td>\n",
       "      <td>CA. 2343</td>\n",
       "      <td>69.55</td>\n",
       "      <td>NaN</td>\n",
       "      <td>S</td>\n",
       "    </tr>\n",
       "    <tr>\n",
       "      <th>846</th>\n",
       "      <td>847</td>\n",
       "      <td>0</td>\n",
       "      <td>3</td>\n",
       "      <td>Sage, Mr. Douglas Bullen</td>\n",
       "      <td>male</td>\n",
       "      <td>NaN</td>\n",
       "      <td>8</td>\n",
       "      <td>2</td>\n",
       "      <td>CA. 2343</td>\n",
       "      <td>69.55</td>\n",
       "      <td>NaN</td>\n",
       "      <td>S</td>\n",
       "    </tr>\n",
       "    <tr>\n",
       "      <th>863</th>\n",
       "      <td>864</td>\n",
       "      <td>0</td>\n",
       "      <td>3</td>\n",
       "      <td>Sage, Miss. Dorothy Edith \"Dolly\"</td>\n",
       "      <td>female</td>\n",
       "      <td>NaN</td>\n",
       "      <td>8</td>\n",
       "      <td>2</td>\n",
       "      <td>CA. 2343</td>\n",
       "      <td>69.55</td>\n",
       "      <td>NaN</td>\n",
       "      <td>S</td>\n",
       "    </tr>\n",
       "  </tbody>\n",
       "</table>\n",
       "</div>"
      ],
      "text/plain": [
       "     PassengerId  Survived  Pclass                               Name     Sex  \\\n",
       "27            28         0       1     Fortune, Mr. Charles Alexander    male   \n",
       "88            89         1       1         Fortune, Miss. Mabel Helen  female   \n",
       "159          160         0       3         Sage, Master. Thomas Henry    male   \n",
       "180          181         0       3       Sage, Miss. Constance Gladys  female   \n",
       "201          202         0       3                Sage, Mr. Frederick    male   \n",
       "324          325         0       3           Sage, Mr. George John Jr    male   \n",
       "341          342         1       1     Fortune, Miss. Alice Elizabeth  female   \n",
       "792          793         0       3            Sage, Miss. Stella Anna  female   \n",
       "846          847         0       3           Sage, Mr. Douglas Bullen    male   \n",
       "863          864         0       3  Sage, Miss. Dorothy Edith \"Dolly\"  female   \n",
       "\n",
       "      Age  SibSp  Parch    Ticket    Fare        Cabin Embarked  \n",
       "27   19.0      3      2     19950  263.00  C23 C25 C27        S  \n",
       "88   23.0      3      2     19950  263.00  C23 C25 C27        S  \n",
       "159   NaN      8      2  CA. 2343   69.55          NaN        S  \n",
       "180   NaN      8      2  CA. 2343   69.55          NaN        S  \n",
       "201   NaN      8      2  CA. 2343   69.55          NaN        S  \n",
       "324   NaN      8      2  CA. 2343   69.55          NaN        S  \n",
       "341  24.0      3      2     19950  263.00  C23 C25 C27        S  \n",
       "792   NaN      8      2  CA. 2343   69.55          NaN        S  \n",
       "846   NaN      8      2  CA. 2343   69.55          NaN        S  \n",
       "863   NaN      8      2  CA. 2343   69.55          NaN        S  "
      ]
     },
     "execution_count": 22,
     "metadata": {},
     "output_type": "execute_result"
    }
   ],
   "source": [
    "train_df.loc[detect_outliers(train_df,[\"Age\",\"SibSp\",\"Parch\",\"Fare\"])]  #outlier'ları tespit etmek istediğimiz feature'leri yazdık."
   ]
  },
  {
   "cell_type": "markdown",
   "id": "92c75508",
   "metadata": {},
   "source": [
    "Çıktıda outlier'ları görüyoruz. "
   ]
  },
  {
   "cell_type": "markdown",
   "id": "1ba2d87e",
   "metadata": {},
   "source": [
    "Şimdide outlier'ları kaldıralım."
   ]
  },
  {
   "cell_type": "code",
   "execution_count": 23,
   "id": "c346b0d2",
   "metadata": {},
   "outputs": [],
   "source": [
    "train_df = train_df.drop(detect_outliers(train_df,[\"Age\",\"SibSp\",\"Parch\",\"Fare\"]),axis=0).reset_index(drop=True)"
   ]
  },
  {
   "cell_type": "markdown",
   "id": "f844b5c5",
   "metadata": {},
   "source": [
    "<font color = 'Orange'>\n",
    "5-MISSING VALUE"
   ]
  },
  {
   "cell_type": "markdown",
   "id": "8f4bf6ad",
   "metadata": {},
   "source": [
    "Veri setinde non value olarak adlandırabileceğimiz missing yani boş değerlere bakıcaz. Boş değerleri herhangi bir machine learning modelini eğitmek için kullanamayacağımıza göre onlardan nasıl kurtulacağımıza veya onları nasıl dolduracağımıza bakalım.\n",
    "\n",
    "Missing value içerisinde iki tane alt başlık bulunmakta:\n",
    "\n",
    "<font color = 'Red'>\n",
    "    🟢 Find Missing Value\n",
    "    \n",
    "<font color = 'Red'>    \n",
    "   🟢 Fill Missing Value"
   ]
  },
  {
   "cell_type": "markdown",
   "id": "ecd0ea45",
   "metadata": {},
   "source": [
    "Missing value'leri bulmadan önce data frame'leri birleştirmemiz gerek. Data frame'leri birleştirmekten kasıt şudur: bir train_df miz var. Birde test_df miz var. Missing value'leri atabilmek ya da onları doldurabilmek için test data frame'in içerisindeki değerlerede bbakmalıyız. Çünkü eğer missing value'leri sadece train data frame'inde doldurursak bunların machine learning'te eğitimini gerçekleştirdiğimiz zaman bu machine learning modelimiz test data frame'in içerisindeki boş değerleri gördüğü zaman hata verecektir, bunları tanıyamayacaktır. Bu nedenle train ve test data frame'lerini birleştiricez ve daha sonrada missing value problemini ortadan kaldırıcaz."
   ]
  },
  {
   "cell_type": "code",
   "execution_count": 24,
   "id": "6400b358",
   "metadata": {},
   "outputs": [],
   "source": [
    "train_df_len = len(train_df)\n",
    "train_df = pd.concat([train_df,test_df],axis=0).reset_index(drop=True)  #Yukarıdan aşşağıya train_df ve test_df'yi birleştirdik."
   ]
  },
  {
   "cell_type": "code",
   "execution_count": 25,
   "id": "8718d687",
   "metadata": {},
   "outputs": [
    {
     "data": {
      "text/html": [
       "<div>\n",
       "<style scoped>\n",
       "    .dataframe tbody tr th:only-of-type {\n",
       "        vertical-align: middle;\n",
       "    }\n",
       "\n",
       "    .dataframe tbody tr th {\n",
       "        vertical-align: top;\n",
       "    }\n",
       "\n",
       "    .dataframe thead th {\n",
       "        text-align: right;\n",
       "    }\n",
       "</style>\n",
       "<table border=\"1\" class=\"dataframe\">\n",
       "  <thead>\n",
       "    <tr style=\"text-align: right;\">\n",
       "      <th></th>\n",
       "      <th>PassengerId</th>\n",
       "      <th>Survived</th>\n",
       "      <th>Pclass</th>\n",
       "      <th>Name</th>\n",
       "      <th>Sex</th>\n",
       "      <th>Age</th>\n",
       "      <th>SibSp</th>\n",
       "      <th>Parch</th>\n",
       "      <th>Ticket</th>\n",
       "      <th>Fare</th>\n",
       "      <th>Cabin</th>\n",
       "      <th>Embarked</th>\n",
       "    </tr>\n",
       "  </thead>\n",
       "  <tbody>\n",
       "    <tr>\n",
       "      <th>0</th>\n",
       "      <td>1</td>\n",
       "      <td>0.0</td>\n",
       "      <td>3</td>\n",
       "      <td>Braund, Mr. Owen Harris</td>\n",
       "      <td>male</td>\n",
       "      <td>22.0</td>\n",
       "      <td>1</td>\n",
       "      <td>0</td>\n",
       "      <td>A/5 21171</td>\n",
       "      <td>7.2500</td>\n",
       "      <td>NaN</td>\n",
       "      <td>S</td>\n",
       "    </tr>\n",
       "    <tr>\n",
       "      <th>1</th>\n",
       "      <td>2</td>\n",
       "      <td>1.0</td>\n",
       "      <td>1</td>\n",
       "      <td>Cumings, Mrs. John Bradley (Florence Briggs Th...</td>\n",
       "      <td>female</td>\n",
       "      <td>38.0</td>\n",
       "      <td>1</td>\n",
       "      <td>0</td>\n",
       "      <td>PC 17599</td>\n",
       "      <td>71.2833</td>\n",
       "      <td>C85</td>\n",
       "      <td>C</td>\n",
       "    </tr>\n",
       "    <tr>\n",
       "      <th>2</th>\n",
       "      <td>3</td>\n",
       "      <td>1.0</td>\n",
       "      <td>3</td>\n",
       "      <td>Heikkinen, Miss. Laina</td>\n",
       "      <td>female</td>\n",
       "      <td>26.0</td>\n",
       "      <td>0</td>\n",
       "      <td>0</td>\n",
       "      <td>STON/O2. 3101282</td>\n",
       "      <td>7.9250</td>\n",
       "      <td>NaN</td>\n",
       "      <td>S</td>\n",
       "    </tr>\n",
       "    <tr>\n",
       "      <th>3</th>\n",
       "      <td>4</td>\n",
       "      <td>1.0</td>\n",
       "      <td>1</td>\n",
       "      <td>Futrelle, Mrs. Jacques Heath (Lily May Peel)</td>\n",
       "      <td>female</td>\n",
       "      <td>35.0</td>\n",
       "      <td>1</td>\n",
       "      <td>0</td>\n",
       "      <td>113803</td>\n",
       "      <td>53.1000</td>\n",
       "      <td>C123</td>\n",
       "      <td>S</td>\n",
       "    </tr>\n",
       "    <tr>\n",
       "      <th>4</th>\n",
       "      <td>5</td>\n",
       "      <td>0.0</td>\n",
       "      <td>3</td>\n",
       "      <td>Allen, Mr. William Henry</td>\n",
       "      <td>male</td>\n",
       "      <td>35.0</td>\n",
       "      <td>0</td>\n",
       "      <td>0</td>\n",
       "      <td>373450</td>\n",
       "      <td>8.0500</td>\n",
       "      <td>NaN</td>\n",
       "      <td>S</td>\n",
       "    </tr>\n",
       "  </tbody>\n",
       "</table>\n",
       "</div>"
      ],
      "text/plain": [
       "   PassengerId  Survived  Pclass  \\\n",
       "0            1       0.0       3   \n",
       "1            2       1.0       1   \n",
       "2            3       1.0       3   \n",
       "3            4       1.0       1   \n",
       "4            5       0.0       3   \n",
       "\n",
       "                                                Name     Sex   Age  SibSp  \\\n",
       "0                            Braund, Mr. Owen Harris    male  22.0      1   \n",
       "1  Cumings, Mrs. John Bradley (Florence Briggs Th...  female  38.0      1   \n",
       "2                             Heikkinen, Miss. Laina  female  26.0      0   \n",
       "3       Futrelle, Mrs. Jacques Heath (Lily May Peel)  female  35.0      1   \n",
       "4                           Allen, Mr. William Henry    male  35.0      0   \n",
       "\n",
       "   Parch            Ticket     Fare Cabin Embarked  \n",
       "0      0         A/5 21171   7.2500   NaN        S  \n",
       "1      0          PC 17599  71.2833   C85        C  \n",
       "2      0  STON/O2. 3101282   7.9250   NaN        S  \n",
       "3      0            113803  53.1000  C123        S  \n",
       "4      0            373450   8.0500   NaN        S  "
      ]
     },
     "execution_count": 25,
     "metadata": {},
     "output_type": "execute_result"
    }
   ],
   "source": [
    "train_df.head()"
   ]
  },
  {
   "cell_type": "markdown",
   "id": "e3dd6c59",
   "metadata": {},
   "source": [
    "## Find Missing Value"
   ]
  },
  {
   "cell_type": "code",
   "execution_count": 26,
   "id": "81e4eab2",
   "metadata": {},
   "outputs": [
    {
     "data": {
      "text/plain": [
       "Index(['Survived', 'Age', 'Fare', 'Cabin', 'Embarked'], dtype='object')"
      ]
     },
     "execution_count": 26,
     "metadata": {},
     "output_type": "execute_result"
    }
   ],
   "source": [
    "train_df.columns[train_df.isnull().any()]"
   ]
  },
  {
   "cell_type": "markdown",
   "id": "d6ee85d3",
   "metadata": {},
   "source": [
    "train data frame'in içerisinde herhangi bir null değere sahip olup olmadığını bulduk ve hangi feature'lerde missing value olduğunu tespit ettik. \n",
    "\n",
    "Çıktıda missing value'lerin hangi feature'lerde olduğunu görebiliriz. Birde kaç tane olduğunu öğrenelim."
   ]
  },
  {
   "cell_type": "code",
   "execution_count": 27,
   "id": "02f24d42",
   "metadata": {},
   "outputs": [
    {
     "data": {
      "text/plain": [
       "PassengerId       0\n",
       "Survived        418\n",
       "Pclass            0\n",
       "Name              0\n",
       "Sex               0\n",
       "Age             256\n",
       "SibSp             0\n",
       "Parch             0\n",
       "Ticket            0\n",
       "Fare              1\n",
       "Cabin          1007\n",
       "Embarked          2\n",
       "dtype: int64"
      ]
     },
     "execution_count": 27,
     "metadata": {},
     "output_type": "execute_result"
    }
   ],
   "source": [
    "train_df.isnull().sum()"
   ]
  },
  {
   "cell_type": "markdown",
   "id": "91cff846",
   "metadata": {},
   "source": [
    "256 tane sample'de age ile ilgili feature boş. Yani 256 tane yolcunun yaş değeri bilinmiyor. 1007 tane yolcunun Cabin bilgisine sahip değiliz. 2 tane yolcunun hangi limandan (Embarked) bindiğini bilmiyoruz. 1 tane yolcunun biletini ne kadar fiyata satın aldığını (Fare) bilmiyoruz. 418 yolcununda hayatta kalıp kalmadığını bilmiyoruz. \n",
    "\n",
    "Survived 'a karşılık gelen 418 değeri test data frame'in boyutuna eşit oluyor çünkü 418 adet bilinmemesi onun test veri seti olmasından kaynaklı."
   ]
  },
  {
   "cell_type": "markdown",
   "id": "03b547b5",
   "metadata": {},
   "source": [
    "## Fill Missing Value"
   ]
  },
  {
   "cell_type": "markdown",
   "id": "1a2753a3",
   "metadata": {},
   "source": [
    "Embarked ve Fare feature'lerinin missing value'lerini dolduralım.\n",
    "\n",
    "Missing value'leri doldurmak yerine train veri setinden çıkartmak isteyebiliriz ama veriyi kaybetmektense doldurmak tercihimizdir."
   ]
  },
  {
   "cell_type": "code",
   "execution_count": 28,
   "id": "72a293d4",
   "metadata": {},
   "outputs": [
    {
     "data": {
      "text/html": [
       "<div>\n",
       "<style scoped>\n",
       "    .dataframe tbody tr th:only-of-type {\n",
       "        vertical-align: middle;\n",
       "    }\n",
       "\n",
       "    .dataframe tbody tr th {\n",
       "        vertical-align: top;\n",
       "    }\n",
       "\n",
       "    .dataframe thead th {\n",
       "        text-align: right;\n",
       "    }\n",
       "</style>\n",
       "<table border=\"1\" class=\"dataframe\">\n",
       "  <thead>\n",
       "    <tr style=\"text-align: right;\">\n",
       "      <th></th>\n",
       "      <th>PassengerId</th>\n",
       "      <th>Survived</th>\n",
       "      <th>Pclass</th>\n",
       "      <th>Name</th>\n",
       "      <th>Sex</th>\n",
       "      <th>Age</th>\n",
       "      <th>SibSp</th>\n",
       "      <th>Parch</th>\n",
       "      <th>Ticket</th>\n",
       "      <th>Fare</th>\n",
       "      <th>Cabin</th>\n",
       "      <th>Embarked</th>\n",
       "    </tr>\n",
       "  </thead>\n",
       "  <tbody>\n",
       "    <tr>\n",
       "      <th>60</th>\n",
       "      <td>62</td>\n",
       "      <td>1.0</td>\n",
       "      <td>1</td>\n",
       "      <td>Icard, Miss. Amelie</td>\n",
       "      <td>female</td>\n",
       "      <td>38.0</td>\n",
       "      <td>0</td>\n",
       "      <td>0</td>\n",
       "      <td>113572</td>\n",
       "      <td>80.0</td>\n",
       "      <td>B28</td>\n",
       "      <td>NaN</td>\n",
       "    </tr>\n",
       "    <tr>\n",
       "      <th>821</th>\n",
       "      <td>830</td>\n",
       "      <td>1.0</td>\n",
       "      <td>1</td>\n",
       "      <td>Stone, Mrs. George Nelson (Martha Evelyn)</td>\n",
       "      <td>female</td>\n",
       "      <td>62.0</td>\n",
       "      <td>0</td>\n",
       "      <td>0</td>\n",
       "      <td>113572</td>\n",
       "      <td>80.0</td>\n",
       "      <td>B28</td>\n",
       "      <td>NaN</td>\n",
       "    </tr>\n",
       "  </tbody>\n",
       "</table>\n",
       "</div>"
      ],
      "text/plain": [
       "     PassengerId  Survived  Pclass                                       Name  \\\n",
       "60            62       1.0       1                        Icard, Miss. Amelie   \n",
       "821          830       1.0       1  Stone, Mrs. George Nelson (Martha Evelyn)   \n",
       "\n",
       "        Sex   Age  SibSp  Parch  Ticket  Fare Cabin Embarked  \n",
       "60   female  38.0      0      0  113572  80.0   B28      NaN  \n",
       "821  female  62.0      0      0  113572  80.0   B28      NaN  "
      ]
     },
     "execution_count": 28,
     "metadata": {},
     "output_type": "execute_result"
    }
   ],
   "source": [
    "train_df[train_df[\"Embarked\"].isnull()]"
   ]
  },
  {
   "cell_type": "markdown",
   "id": "9a2b7e53",
   "metadata": {},
   "source": [
    "Çıktıda görüldüğü üzere, 60 ve 821. id 'lere sahip iki yolcunun nereden bindikleri belli değil. Bunu Embarked sütunundaki değerlerin NaN olmasından anladık. \n",
    "\n",
    "Bu NaN değerleri şunlara göre doldurabiliriz:\n",
    "\n",
    "Pclass feature'sini baz alarak 1.sınıfa ait yolcuların hangi limandan bindiğine bakarız ve elde ettiğimiz bilgi ile Embarked feature'sindeki NaN değerleri doldurabiliriz.\n",
    "\n",
    "Fare feature'si baz alınarak ta doldurma işlemi yapılabilir. Aşağı yukarı 80.0 para ödeyen insanların hangi limandan bindiklerine bakarız ve ona göre Embarked featuresindeki NaN değerleri doldurabiliriz.\n",
    "\n",
    "Fare feature'sini kullanarak analiz yapalım."
   ]
  },
  {
   "cell_type": "code",
   "execution_count": 29,
   "id": "54b55541",
   "metadata": {},
   "outputs": [
    {
     "data": {
      "image/png": "[encoded data removed]",
      "text/plain": [
       "<Figure size 432x288 with 1 Axes>"
      ]
     },
     "metadata": {},
     "output_type": "display_data"
    }
   ],
   "source": [
    "train_df.boxplot(column=\"Fare\",by=\"Embarked\")\n",
    "plt.show()"
   ]
  },
  {
   "cell_type": "markdown",
   "id": "2dee746a",
   "metadata": {},
   "source": [
    "Medyan değerleri her bir dikdörtgenin ortasındaki çizgidir. C'nin ortasındaki çizgi 100 değerine yakın. Q'daki meydan değeri çok düşük bu durumda bunların ödedikleri para çok az ve dolayısıyla bunların sahip oldukları cabin'ler ve Pclass değerleri çok düşük yani bunlar büyük ihtimalle 3.sınıfta seyahat eden yolculardır ve bunlar genellikle Q limanından binmişler. S 'nin medyan değeri C'ye göre daha düşüktür ve bunun anlamı S limanından binen yolcular büyük ihtimal 2.sınıfta seyahat edenlerdir. \n",
    "\n",
    "Embarked değeri NaN olan iki yolcunun Fare değerleri 80 miş. 80'e en yakın C dir ve bu durumda C limanından binmiş olma olasılıkları çok yüksektir. Dolayısıyla bu iki yolcunun Embarked değerlerini C olarak doldurabiliriz."
   ]
  },
  {
   "cell_type": "code",
   "execution_count": 30,
   "id": "9dabbb73",
   "metadata": {},
   "outputs": [],
   "source": [
    "train_df[\"Embarked\"] = train_df[\"Embarked\"].fillna(\"C\")"
   ]
  },
  {
   "cell_type": "markdown",
   "id": "0c675946",
   "metadata": {},
   "source": [
    "Yukarıdaki kod ile boş olan Embarked değerlerinin C ile doldurulması sağlanmıştır."
   ]
  },
  {
   "cell_type": "markdown",
   "id": "9d90f1a3",
   "metadata": {},
   "source": [
    "Şimdi doldurabilmişmiyiz kontrol edelim."
   ]
  },
  {
   "cell_type": "code",
   "execution_count": 31,
   "id": "42cbeee4",
   "metadata": {},
   "outputs": [
    {
     "data": {
      "text/html": [
       "<div>\n",
       "<style scoped>\n",
       "    .dataframe tbody tr th:only-of-type {\n",
       "        vertical-align: middle;\n",
       "    }\n",
       "\n",
       "    .dataframe tbody tr th {\n",
       "        vertical-align: top;\n",
       "    }\n",
       "\n",
       "    .dataframe thead th {\n",
       "        text-align: right;\n",
       "    }\n",
       "</style>\n",
       "<table border=\"1\" class=\"dataframe\">\n",
       "  <thead>\n",
       "    <tr style=\"text-align: right;\">\n",
       "      <th></th>\n",
       "      <th>PassengerId</th>\n",
       "      <th>Survived</th>\n",
       "      <th>Pclass</th>\n",
       "      <th>Name</th>\n",
       "      <th>Sex</th>\n",
       "      <th>Age</th>\n",
       "      <th>SibSp</th>\n",
       "      <th>Parch</th>\n",
       "      <th>Ticket</th>\n",
       "      <th>Fare</th>\n",
       "      <th>Cabin</th>\n",
       "      <th>Embarked</th>\n",
       "    </tr>\n",
       "  </thead>\n",
       "  <tbody>\n",
       "  </tbody>\n",
       "</table>\n",
       "</div>"
      ],
      "text/plain": [
       "Empty DataFrame\n",
       "Columns: [PassengerId, Survived, Pclass, Name, Sex, Age, SibSp, Parch, Ticket, Fare, Cabin, Embarked]\n",
       "Index: []"
      ]
     },
     "execution_count": 31,
     "metadata": {},
     "output_type": "execute_result"
    }
   ],
   "source": [
    "train_df[train_df[\"Embarked\"].isnull()]"
   ]
  },
  {
   "cell_type": "markdown",
   "id": "dbb1bcaf",
   "metadata": {},
   "source": [
    "Çıktıda görüldüğü üzere artık Embarked feature'sinde herhangi bir boş değer bulunmamaktadır."
   ]
  },
  {
   "cell_type": "markdown",
   "id": "a2255cb9",
   "metadata": {},
   "source": [
    "Şimdide hangi yolcumuzun Fare değerinin olmadığına bakalım. "
   ]
  },
  {
   "cell_type": "code",
   "execution_count": 32,
   "id": "7534efde",
   "metadata": {},
   "outputs": [
    {
     "data": {
      "text/html": [
       "<div>\n",
       "<style scoped>\n",
       "    .dataframe tbody tr th:only-of-type {\n",
       "        vertical-align: middle;\n",
       "    }\n",
       "\n",
       "    .dataframe tbody tr th {\n",
       "        vertical-align: top;\n",
       "    }\n",
       "\n",
       "    .dataframe thead th {\n",
       "        text-align: right;\n",
       "    }\n",
       "</style>\n",
       "<table border=\"1\" class=\"dataframe\">\n",
       "  <thead>\n",
       "    <tr style=\"text-align: right;\">\n",
       "      <th></th>\n",
       "      <th>PassengerId</th>\n",
       "      <th>Survived</th>\n",
       "      <th>Pclass</th>\n",
       "      <th>Name</th>\n",
       "      <th>Sex</th>\n",
       "      <th>Age</th>\n",
       "      <th>SibSp</th>\n",
       "      <th>Parch</th>\n",
       "      <th>Ticket</th>\n",
       "      <th>Fare</th>\n",
       "      <th>Cabin</th>\n",
       "      <th>Embarked</th>\n",
       "    </tr>\n",
       "  </thead>\n",
       "  <tbody>\n",
       "    <tr>\n",
       "      <th>1033</th>\n",
       "      <td>1044</td>\n",
       "      <td>NaN</td>\n",
       "      <td>3</td>\n",
       "      <td>Storey, Mr. Thomas</td>\n",
       "      <td>male</td>\n",
       "      <td>60.5</td>\n",
       "      <td>0</td>\n",
       "      <td>0</td>\n",
       "      <td>3701</td>\n",
       "      <td>NaN</td>\n",
       "      <td>NaN</td>\n",
       "      <td>S</td>\n",
       "    </tr>\n",
       "  </tbody>\n",
       "</table>\n",
       "</div>"
      ],
      "text/plain": [
       "      PassengerId  Survived  Pclass                Name   Sex   Age  SibSp  \\\n",
       "1033         1044       NaN       3  Storey, Mr. Thomas  male  60.5      0   \n",
       "\n",
       "      Parch Ticket  Fare Cabin Embarked  \n",
       "1033      0   3701   NaN   NaN        S  "
      ]
     },
     "execution_count": 32,
     "metadata": {},
     "output_type": "execute_result"
    }
   ],
   "source": [
    "train_df[train_df[\"Fare\"].isnull()]"
   ]
  },
  {
   "cell_type": "markdown",
   "id": "07006c15",
   "metadata": {},
   "source": [
    "1033 nolu yolcunun Fare değeri yok yani bu yolcunun ne kadar para ödediğini bilmiyoruz. \n",
    "\n",
    "Burda yola çıkabileceğimiz iki tane featur var. Birincisi hangi limandan bindiği (Embarked) ve diğeri sınıfı (Pclass).\n",
    "\n",
    "Pclass featuresinden yola çıkalım."
   ]
  },
  {
   "cell_type": "code",
   "execution_count": 33,
   "id": "0ad89155",
   "metadata": {},
   "outputs": [
    {
     "data": {
      "text/plain": [
       "12.741219971469327"
      ]
     },
     "execution_count": 33,
     "metadata": {},
     "output_type": "execute_result"
    }
   ],
   "source": [
    "np.mean(train_df[train_df[\"Pclass\"]==3][\"Fare\"])"
   ]
  },
  {
   "cell_type": "markdown",
   "id": "8414efd1",
   "metadata": {},
   "source": [
    "Pclass'ı 3 değerine sahip olan yolcuları listeledik. Bunu kullanarak sadece Fare 'e baktık. Ve bunların ortalamasını aldık. Böylece 3.sınıfta seyahat eden yolcuların ortalama ne kadar ödedikleri bilgisini elde ettik.\n",
    "\n",
    "Ortalama 12.7 tutarında ödeme yapmışlar. Şimdi Fare featuresindeki NaN değerleri 12.7 ile dolduralım."
   ]
  },
  {
   "cell_type": "code",
   "execution_count": 34,
   "id": "9b7abae6",
   "metadata": {},
   "outputs": [],
   "source": [
    "train_df[\"Fare\"] = train_df[\"Fare\"].fillna(np.mean(train_df[train_df[\"Pclass\"]==3][\"Fare\"]))"
   ]
  },
  {
   "cell_type": "code",
   "execution_count": 35,
   "id": "00c3e31e",
   "metadata": {},
   "outputs": [
    {
     "data": {
      "text/html": [
       "<div>\n",
       "<style scoped>\n",
       "    .dataframe tbody tr th:only-of-type {\n",
       "        vertical-align: middle;\n",
       "    }\n",
       "\n",
       "    .dataframe tbody tr th {\n",
       "        vertical-align: top;\n",
       "    }\n",
       "\n",
       "    .dataframe thead th {\n",
       "        text-align: right;\n",
       "    }\n",
       "</style>\n",
       "<table border=\"1\" class=\"dataframe\">\n",
       "  <thead>\n",
       "    <tr style=\"text-align: right;\">\n",
       "      <th></th>\n",
       "      <th>PassengerId</th>\n",
       "      <th>Survived</th>\n",
       "      <th>Pclass</th>\n",
       "      <th>Name</th>\n",
       "      <th>Sex</th>\n",
       "      <th>Age</th>\n",
       "      <th>SibSp</th>\n",
       "      <th>Parch</th>\n",
       "      <th>Ticket</th>\n",
       "      <th>Fare</th>\n",
       "      <th>Cabin</th>\n",
       "      <th>Embarked</th>\n",
       "    </tr>\n",
       "  </thead>\n",
       "  <tbody>\n",
       "  </tbody>\n",
       "</table>\n",
       "</div>"
      ],
      "text/plain": [
       "Empty DataFrame\n",
       "Columns: [PassengerId, Survived, Pclass, Name, Sex, Age, SibSp, Parch, Ticket, Fare, Cabin, Embarked]\n",
       "Index: []"
      ]
     },
     "execution_count": 35,
     "metadata": {},
     "output_type": "execute_result"
    }
   ],
   "source": [
    "train_df[train_df[\"Fare\"].isnull()]"
   ]
  },
  {
   "cell_type": "markdown",
   "id": "866de1a4",
   "metadata": {},
   "source": [
    "Çıktıda görüldüğü üzere artık Fare featuresinde herhangi bir boş değer bulunmamaktadır."
   ]
  },
  {
   "cell_type": "markdown",
   "id": "10463725",
   "metadata": {},
   "source": [
    "Buraya kadar olan kısmı DataScience isimli repository'de bulunan TitanicProject dökümanında gerçekleştirmiştim. Şimdi ise Titanik projesine Data Visualization konularını uyarlayarak devam edelim."
   ]
  },
  {
   "cell_type": "markdown",
   "id": "e98fe1d1",
   "metadata": {},
   "source": [
    "# VISUALIZATION"
   ]
  },
  {
   "cell_type": "markdown",
   "id": "2c8a2ae3",
   "metadata": {},
   "source": [
    "## Korelasyon Matrisi"
   ]
  },
  {
   "cell_type": "markdown",
   "id": "3459d0a5",
   "metadata": {},
   "source": [
    "SibSp, Parch, Age, Fare, Survived sütunları arasındaki korelasyon matrisini oluşturalım. Bunun için Seaborn kütüphanesinden faydalanacağız."
   ]
  },
  {
   "cell_type": "code",
   "execution_count": 36,
   "id": "2ac792cb",
   "metadata": {},
   "outputs": [
    {
     "data": {
      "image/png": "[encoded data removed]",
      "text/plain": [
       "<Figure size 432x288 with 2 Axes>"
      ]
     },
     "metadata": {},
     "output_type": "display_data"
    }
   ],
   "source": [
    "list1 = [\"SibSp\", \"Parch\", \"Age\", \"Fare\", \"Survived\"] \n",
    "sns.heatmap(train_df[list1].corr(), annot=True, fmt=\".2f\")\n",
    "plt.show()"
   ]
  },
  {
   "cell_type": "markdown",
   "id": "783b92f3",
   "metadata": {},
   "source": [
    "<font color = \"Chocolate\"><br>\n",
    "list1 = [\"Sibsp\", \"Parch\", \"Age\", \"Fare\", \"Survived\"]\n",
    "\n",
    "Bu satırda, aralarındaki korelasyonu inceleyeceğimiz feature'leri içeren bir liste oluşturdum.\n",
    "\n",
    "<font color = \"Chocolate\"><br>    \n",
    "sns.heatmap(train_df[list1].corr(), annot=True)\n",
    "\n",
    "Bu satırda, 1.parametrede list1 içerisindeki sütunlar arasındaki korelasyona bakmamızı sağlayacak corr() metodunu çağırdım. 2.parametre ile korelasyon matrisinin üzerindeki değerleri görebilmemizi sağladım. 3.parametre ile de virgülden sonra iki basamağın görüntülenmesini sağladım."
   ]
  },
  {
   "cell_type": "markdown",
   "id": "41476e03",
   "metadata": {},
   "source": [
    "Çıktıyı inceleyelim. Survived feature'sinin diğer feature'ler ile ilişkisine baktığımızda en çok 0.26 oranında Fare sütunu ile ilişkili olduğunu görüyoruz. Yani Survived feature'si Fare feature'si ile yüksek korelasyona sahiptir. Bunun anlamı, gemiye binen yolcular bilet için çok fazla para ödedilerse (Fare) hayatta kalma şansları yüksek (Survived) anlamına gelir."
   ]
  },
  {
   "cell_type": "markdown",
   "id": "79c28cf2",
   "metadata": {},
   "source": [
    "# Özellik Analizi"
   ]
  },
  {
   "cell_type": "markdown",
   "id": "a99eb266",
   "metadata": {},
   "source": [
    "<font color = \"IndianRed\"><br>\n",
    "SibSp ve Survived feature'leri arasındaki ilişkiyi inceleyelim."
   ]
  },
  {
   "cell_type": "code",
   "execution_count": 37,
   "id": "056c2129",
   "metadata": {},
   "outputs": [
    {
     "data": {
      "image/png": "[encoded data removed]",
      "text/plain": [
       "<Figure size 432x432 with 1 Axes>"
      ]
     },
     "metadata": {},
     "output_type": "display_data"
    }
   ],
   "source": [
    "g = sns.factorplot(x = \"SibSp\", y = \"Survived\", data = train_df, kind = \"bar\", size = 6)\n",
    "g.set_ylabels(\"Survived Probability\")\n",
    "plt.show()"
   ]
  },
  {
   "cell_type": "markdown",
   "id": "54668144",
   "metadata": {},
   "source": [
    "y ekseninde Survived Probability ve x ekseninde SibSp değerlerini görebildiğimiz bir bar plot elde ettik. \n",
    "\n",
    "Çıktıyı yorumlayalım.\n",
    "\n",
    "Survived feature'si ile yolcunun hayatta kalıp kalmadığını anlıyorduk. Eğer 1 ise yolcu hayatta kalmış demektir, 0 ise yolcu hayatta kalamamış demektir. \n",
    "\n",
    "SibSp feature'si ile yolcunun sahip olduğu kardeş ya da eş sayısını elde ediyoruz. Mesela bir yolcunun SibSp değeri 3 ise 3 tane kardeşe veya eşe sahip demektir.\n",
    "\n",
    "Çıktıda görüyoruz ki, hiç kardeşi olmayan, 1 kardeşi olan, 2 kardeşi olan yolcuların hayatta kalma olasılıkları gayet iyi bir değerde. Fakat SibSp değeri 3 ve sonrasındaki değerler için yolcunun hayatta kalma olasılığı ciddi bir şekilde azalıyor.\n",
    "\n",
    "Eğer yolcu 2'den fazla SibSp değerine sahip ise Survived Probability azalıyor sonucuna varabiliriz. Bu yorum ile yeni bir feature elde edebiliriz. Mesela SibSp2 isimli yeni bir feature oluştururuz ve threshold olarak 2 değerini belirleriz. Ve 2 ve daha az sayıda SibSp değerine sahip olanlar 1, 2 'den büyük SİbSP değerine sahip olanlar 2 olsun. Böylelikle 2 tane kategoriye sahip olan yeni bir feature elde etmiş olurum ve bu feature'yi machine learning modelini eğitmek için kullanabiliriz."
   ]
  },
  {
   "cell_type": "markdown",
   "id": "85210764",
   "metadata": {},
   "source": [
    "<font color = \"IndianRed\"><br>\n",
    "Parch ve Survived feature'leri arasındaki ilişkiyi inceleyelim."
   ]
  },
  {
   "cell_type": "code",
   "execution_count": 38,
   "id": "c4b3595c",
   "metadata": {},
   "outputs": [
    {
     "data": {
      "image/png": "[encoded data removed]",
      "text/plain": [
       "<Figure size 432x432 with 1 Axes>"
      ]
     },
     "metadata": {},
     "output_type": "display_data"
    }
   ],
   "source": [
    "g = sns.factorplot(x = \"Parch\", y = \"Survived\", data = train_df, kind = \"bar\", size = 6)\n",
    "g.set_ylabels(\"Survived Probability\")\n",
    "plt.show()"
   ]
  },
  {
   "cell_type": "markdown",
   "id": "03ed666e",
   "metadata": {},
   "source": [
    "Parch feature'si bir yolcunun sahip olduğu aile (anne,baba) ve çocuk sayısı bilgisini verir. Mesela Parch değeri 3 ise yolcunun 3 tane annesi babası ya da çocuğu var demektir.\n",
    "\n",
    "Çıktıyı yorumlayalım. Yalnız gelen kişiler (Parch=0), Parch değeri 1,2,3 olan kişilere göre daha az hayatta kalma olasılığına sahiptir. \n",
    "\n",
    "Parch değeri 1 ve 2 olan yolcuların genelde hayatta kalma olasılığı aynı diyebiliriz.\n",
    "\n",
    "Bar'ların ortasındaki siyah çizgiye standart sapmayı ifade eder.\n",
    "\n",
    "Mesela Parch değeri 3 olan sapmle'ın hayatta kalma olasılığı 0.6 ama bu ortalama değeridir. Bu değer siyah çizgiye bakıldığında 1 de olabilir 0.2 de olabilir. Yani 0.2 ve 1 aralığında değişken bir değere sahiptir, ortalama olarak 0.6'dır. "
   ]
  },
  {
   "cell_type": "markdown",
   "id": "0d48f5a1",
   "metadata": {},
   "source": [
    "<font color = \"IndianRed\"><br>\n",
    "Pclass ve Survived feature'leri arasındaki ilişkiyi inceleyelim."
   ]
  },
  {
   "cell_type": "code",
   "execution_count": 39,
   "id": "d46d904a",
   "metadata": {},
   "outputs": [
    {
     "data": {
      "image/png": "[encoded data removed]",
      "text/plain": [
       "<Figure size 432x432 with 1 Axes>"
      ]
     },
     "metadata": {},
     "output_type": "display_data"
    }
   ],
   "source": [
    "g = sns.factorplot(x=\"Pclass\",y=\"Survived\", kind =\"bar\", data=train_df, size=6)\n",
    "g.set_ylabels(\"Survived Probability\")\n",
    "plt.show()"
   ]
  },
  {
   "cell_type": "markdown",
   "id": "5fdf60dd",
   "metadata": {},
   "source": [
    "Çıktıyı yorumlayalım.\n",
    "\n",
    "y ekseninde hayatta kalma oranları bulunmakta. x ekseninde Pclass değerleri mevcut.\n",
    "\n",
    "Pclass feature'si yolcuların seyahat ettikleri sınıfları ifade ediyor. 1.sınıf, 2.sınıf, 3.sınıf şeklinde 3 kategoriye sahip. 1.sınıf en pahalı olan, 2.sınıf orta, 3.sınıf en ucuz olan kısımdır.\n",
    "\n",
    "1.sınıfta seyahat eden yolcuların hayatta kalma olasılıkları 2. ve 3.sınıflara göre daha yüksektir."
   ]
  },
  {
   "cell_type": "markdown",
   "id": "b94a492f",
   "metadata": {},
   "source": [
    "<font color = \"IndianRed\"><br>\n",
    "Age ve Survived feature'leri arasındaki ilişkiyi inceleyelim."
   ]
  },
  {
   "cell_type": "code",
   "execution_count": 40,
   "id": "95a62303",
   "metadata": {},
   "outputs": [
    {
     "data": {
      "image/png": "[encoded data removed]",
      "text/plain": [
       "<Figure size 432x216 with 2 Axes>"
      ]
     },
     "metadata": {},
     "output_type": "display_data"
    }
   ],
   "source": [
    "g = sns.FacetGrid(train_df, col=\"Survived\")\n",
    "g.map(sns.distplot, \"Age\", bins=25)  #Age, karşılaştıracağımız feature'dir.\n",
    "plt.show()"
   ]
  },
  {
   "cell_type": "markdown",
   "id": "58bc755b",
   "metadata": {},
   "source": [
    "Çıktıda gördüğünüz üzere 2 tane plot elde ettik. Survived=1.0 yazan plot'ta hayatta kalanların dağılımını, Survived=0.0 yazan plot'ta hayatta kalmayanların dağılımını görüyoruz. Survived=1.0 plot'unda Age değerinin 0-10 olduğu aralıkta çocukların kurtulduğunu görüyoruz.\n",
    "\n",
    "Yaş özelliği doğası gereği Gaussian dağılıma sahiptir. Burdada aşşağı yukarı bir gaussian dağılımı olduğunu görebiliyoruz.\n",
    "\n",
    "Survived=1.0 plot'unda Age değerinin 70'den sonraki aralıkta yaşlılarında büyük olasılıkta kurtulduğunu görüyoruz. Burada yaşlı insanların az olmasından kaynaklı düşük çizgi söz konusu.\n",
    "\n",
    "Survived=0.0 plot'unda 20-30 yaş arası insanların ölüm oranı çok iken, Survived=1.0 plot'unda 30-35 yaş arası insanlarda hayatta kalma oranı daha yüksek görünüyor.\n",
    "\n",
    "15 ve 35 yaşları arasında çok fazla yolcu olduğunu görebiliyoruz.\n",
    "\n",
    "Age feature'sini tahmin yapmak için kullanabiliriz. Yani maching learning'te eğiteceğimiz feature'lerden bir tanesi Age feature'si olur. \n",
    "\n",
    "Ayrıca plot'taki dağılımları kullanarak Age feature'sindeki missing value'leri doldurabiliriz."
   ]
  },
  {
   "cell_type": "markdown",
   "id": "caf40bbf",
   "metadata": {},
   "source": [
    "<font color = \"IndianRed\"><br>\n",
    "Pclass, Survived ve Age feature'leri arasındaki ilişkiyi inceleyelim."
   ]
  },
  {
   "cell_type": "code",
   "execution_count": 41,
   "id": "2cb9b5a2",
   "metadata": {},
   "outputs": [
    {
     "data": {
      "image/png": "[encoded data removed]",
      "text/plain": [
       "<Figure size 296x432 with 6 Axes>"
      ]
     },
     "metadata": {},
     "output_type": "display_data"
    }
   ],
   "source": [
    "g = sns.FacetGrid(train_df, col=\"Survived\", row=\"Pclass\", size=2)\n",
    "g.map(plt.hist, \"Age\", bins=25)\n",
    "g.add_legend()\n",
    "plt.show()"
   ]
  },
  {
   "cell_type": "markdown",
   "id": "2fc82421",
   "metadata": {},
   "source": [
    "x ekseninde yaşlar bulunmakta. 6 tane plot mevcut. Plot'larda satırlarda Pclass değerleri var. Sütunlarda ise Survived değerleri var.\n",
    "\n",
    "En alttaki plot'lara baktığımızda çok fazla yolcu olduğunu görebiliyoruz. Bunun anlamı, Pclass=3 'e ait yolcu sayısı, 1. ve 2.sınıflardaki yolcu sayılarından daha fazla. Ama yolcu sayısının fazla olması ile yolcuların yaşaması arasında herhangi bir doğru orantı yok hatta ters orantı var diyebiliriz. Yolcu sayısı fazla ise daha çok ölüm görülmüştür.\n",
    "\n",
    "Pclass=3 iken ölüm oranı, yaşama oranından daha yüksek. Pclass=2 olduğunda ölüm ve yaşama oranı biraz daha dengeli görünüyor. Pclass=1 iken yaşama oranı, ölüm oranından daha yüksektir.\n",
    "\n",
    "Sonuç olarak, Pclass değeri prediction yapmamızda, modeli eğitmemizde önemli bir feature olucak."
   ]
  },
  {
   "cell_type": "markdown",
   "id": "99d22124",
   "metadata": {},
   "source": [
    "<font color = \"IndianRed\"><br>\n",
    "Embarked, Sex, Pclass, Survived feature'leri arasındaki ilişkiyi inceleyelim."
   ]
  },
  {
   "cell_type": "markdown",
   "id": "9ad3f21d",
   "metadata": {},
   "source": [
    "Embarked: Yolcuların hangi limandan bindiği bilgisidir.\n",
    "    \n",
    "Sex: Yolcuların cinsiyetlerinin bilgisidir.\n",
    "\n",
    "Pclass: Yolcuların hangi sınıfta seyahat ettikleri bilgisidir.\n",
    "\n",
    "Survived: Yolcuların hayatta kalıp kalmadıklarına dair bilgidir."
   ]
  },
  {
   "cell_type": "code",
   "execution_count": 42,
   "id": "b855216e",
   "metadata": {},
   "outputs": [
    {
     "data": {
      "image/png": "[encoded data removed]",
      "text/plain": [
       "<Figure size 210.125x432 with 3 Axes>"
      ]
     },
     "metadata": {},
     "output_type": "display_data"
    }
   ],
   "source": [
    "g = sns.FacetGrid(train_df, row=\"Embarked\", size=2)\n",
    "g.map(sns.pointplot, \"Pclass\", \"Survived\", \"Sex\")\n",
    "g.add_legend()\n",
    "plt.show()"
   ]
  },
  {
   "cell_type": "markdown",
   "id": "bd821d8d",
   "metadata": {},
   "source": [
    "Embarked=S plot'unda kadınlar daha yüksek. Embarked=C plot'unda erkekler daha yüksek. Embarked=Q plot'unda kadınlar daha yüksek. 2 tane plot'ta kadınlar daha yüksek ve 1 tane plot'ta erkekler daha yüksek. Dolayısıyla kadınların hayatta kalma oranları erkeklerden daha yüksektir diyebiliriz. Sex (cinsiyet) ve Survived (hayatta kalma) feature'leri birbirleri ile alakalıdır. Bu yorumu sınıflandırma yaparken kullanabiliriz. Cinsiyet (Sex) sınıflandırma yaparken ya da prediction yaparken önemli bir feature olacak. Yani hayatta kalma oranını tahmin ederken cinsiyet (Sex) özelliğini kullanabiliriz.\n",
    "\n",
    "Şimdide Pclass ve Embarked arasındaki ilişkiye bakalım. Line 'lar üzerindeki ilk nokta 1.sınıfı, ikinci nokta 2.sınıfı ve üçüncü nokta 3.sınıfı ifade ediyor. Embarked=S plot'unda hem kadınlarda hem de erkeklerde Pclass=1'den itibaren yani 1.sınıftan başlayarak bir azalma mevcut. Aslında Pclass ve Embarked=S arasında bir ilişki mevcut. \n",
    "\n",
    "<font color =\"SlateBlue\"><br>\n",
    "İki feature arasında ilişkinin olması kullanılabilir bir şey olduğu anlamına geliyor. Aynı zamanda ilişkinin olmamasıda kullanılabilir bir feature anlamına geliyor çünkü eğer iki feature arasında bir ilişki yok ise bu iki feature farklı bilgiler taşıyor olabilir.\n",
    "\n",
    "C limanında erkeklerin hayatta kalma olasılıkları daha yüksektir. Bu bilgiyi limanları birleştirerek yeni bir feature oluşturmak istersek kullanabiliriz.\n",
    "\n",
    "Sex ve Embarked feature'lerini doğrudan modeli eğitmek için kullanacağız."
   ]
  },
  {
   "cell_type": "markdown",
   "id": "15342dc6",
   "metadata": {},
   "source": [
    "<font color = \"IndianRed\"><br>\n",
    "Embarked, Sex, Fare, Survived feature'leri arasındaki ilişkiyi inceleyelim."
   ]
  },
  {
   "cell_type": "markdown",
   "id": "fb37360e",
   "metadata": {},
   "source": [
    "Fare feature'si yolcuların bilet için ödedikleri parayı ifade eder."
   ]
  },
  {
   "cell_type": "code",
   "execution_count": 43,
   "id": "8b4bc6cb",
   "metadata": {},
   "outputs": [
    {
     "data": {
      "image/png": "[encoded data removed]",
      "text/plain": [
       "<Figure size 368x540 with 6 Axes>"
      ]
     },
     "metadata": {},
     "output_type": "display_data"
    }
   ],
   "source": [
    "g = sns.FacetGrid(train_df, row=\"Embarked\", col=\"Survived\", size=2.5)\n",
    "g.map(sns.barplot, \"Sex\", \"Fare\")\n",
    "g.add_legend()\n",
    "plt.show()"
   ]
  },
  {
   "cell_type": "markdown",
   "id": "471509ac",
   "metadata": {},
   "source": [
    "Satırlar Fare feature bilgisidir.\n",
    "\n",
    "En üstteki plot'ta soldakinde ödenen toplam tutar 25+25=50 ve soldakinde 50+25=75 diyelim. Soldaki plot'taki insanlar hayatta kalamamışlar, sağdaki plot'taki insanlar hayatta kalmışlar. 1.satırda S limanından binen insanlar için daha çok para ödeyenler (sağdaki plot) daha az para ödeyenlere (soldaki plot) göre hayatta kalmaları daha yüksektir.\n",
    "\n",
    "3 satırdaki her bir feature'yi incelediğimizde daha çok para ödendiği durumda hayatta kalma olasılığı artıyor. Fare feature'sine threshold'lar koyarsak Fare feature'sini categorical bir feature'ye çevirebiliriz.\n",
    "\n",
    "S,C ve Q limanlarını karşılaştırdığımız zaman en yüksek hayatta kalma oranı C'ye, orta sıra S'ye ve en düşük Q'ya ait."
   ]
  },
  {
   "cell_type": "markdown",
   "id": "127efcf4",
   "metadata": {},
   "source": [
    "## Fill Missing: Age Feature"
   ]
  },
  {
   "cell_type": "code",
   "execution_count": 44,
   "id": "1a0fbc4a",
   "metadata": {},
   "outputs": [
    {
     "data": {
      "text/plain": [
       "PassengerId       0\n",
       "Survived        418\n",
       "Pclass            0\n",
       "Name              0\n",
       "Sex               0\n",
       "Age             256\n",
       "SibSp             0\n",
       "Parch             0\n",
       "Ticket            0\n",
       "Fare              0\n",
       "Cabin          1007\n",
       "Embarked          0\n",
       "dtype: int64"
      ]
     },
     "execution_count": 44,
     "metadata": {},
     "output_type": "execute_result"
    }
   ],
   "source": [
    "train_df.isnull().sum()"
   ]
  },
  {
   "cell_type": "markdown",
   "id": "afa58adb",
   "metadata": {},
   "source": [
    "Çıktıda görebileceğiniz üzere Age feature'sinde 256 tane missing value bulunmakta. \n",
    "\n",
    "<font color=\"CadetBlue\"><br>\n",
    "Şimdi Age feature'sinde bulunan boşlukları bir istatistiksel modele göre doldurallım."
   ]
  },
  {
   "cell_type": "markdown",
   "id": "0536b411",
   "metadata": {},
   "source": [
    "<a id='1'></a><br>"
   ]
  },
  {
   "cell_type": "code",
   "execution_count": 45,
   "id": "c8fe938f",
   "metadata": {},
   "outputs": [
    {
     "data": {
      "text/html": [
       "<div>\n",
       "<style scoped>\n",
       "    .dataframe tbody tr th:only-of-type {\n",
       "        vertical-align: middle;\n",
       "    }\n",
       "\n",
       "    .dataframe tbody tr th {\n",
       "        vertical-align: top;\n",
       "    }\n",
       "\n",
       "    .dataframe thead th {\n",
       "        text-align: right;\n",
       "    }\n",
       "</style>\n",
       "<table border=\"1\" class=\"dataframe\">\n",
       "  <thead>\n",
       "    <tr style=\"text-align: right;\">\n",
       "      <th></th>\n",
       "      <th>PassengerId</th>\n",
       "      <th>Survived</th>\n",
       "      <th>Pclass</th>\n",
       "      <th>Name</th>\n",
       "      <th>Sex</th>\n",
       "      <th>Age</th>\n",
       "      <th>SibSp</th>\n",
       "      <th>Parch</th>\n",
       "      <th>Ticket</th>\n",
       "      <th>Fare</th>\n",
       "      <th>Cabin</th>\n",
       "      <th>Embarked</th>\n",
       "    </tr>\n",
       "  </thead>\n",
       "  <tbody>\n",
       "    <tr>\n",
       "      <th>5</th>\n",
       "      <td>6</td>\n",
       "      <td>0.0</td>\n",
       "      <td>3</td>\n",
       "      <td>Moran, Mr. James</td>\n",
       "      <td>male</td>\n",
       "      <td>NaN</td>\n",
       "      <td>0</td>\n",
       "      <td>0</td>\n",
       "      <td>330877</td>\n",
       "      <td>8.4583</td>\n",
       "      <td>NaN</td>\n",
       "      <td>Q</td>\n",
       "    </tr>\n",
       "    <tr>\n",
       "      <th>17</th>\n",
       "      <td>18</td>\n",
       "      <td>1.0</td>\n",
       "      <td>2</td>\n",
       "      <td>Williams, Mr. Charles Eugene</td>\n",
       "      <td>male</td>\n",
       "      <td>NaN</td>\n",
       "      <td>0</td>\n",
       "      <td>0</td>\n",
       "      <td>244373</td>\n",
       "      <td>13.0000</td>\n",
       "      <td>NaN</td>\n",
       "      <td>S</td>\n",
       "    </tr>\n",
       "    <tr>\n",
       "      <th>19</th>\n",
       "      <td>20</td>\n",
       "      <td>1.0</td>\n",
       "      <td>3</td>\n",
       "      <td>Masselmani, Mrs. Fatima</td>\n",
       "      <td>female</td>\n",
       "      <td>NaN</td>\n",
       "      <td>0</td>\n",
       "      <td>0</td>\n",
       "      <td>2649</td>\n",
       "      <td>7.2250</td>\n",
       "      <td>NaN</td>\n",
       "      <td>C</td>\n",
       "    </tr>\n",
       "    <tr>\n",
       "      <th>26</th>\n",
       "      <td>27</td>\n",
       "      <td>0.0</td>\n",
       "      <td>3</td>\n",
       "      <td>Emir, Mr. Farred Chehab</td>\n",
       "      <td>male</td>\n",
       "      <td>NaN</td>\n",
       "      <td>0</td>\n",
       "      <td>0</td>\n",
       "      <td>2631</td>\n",
       "      <td>7.2250</td>\n",
       "      <td>NaN</td>\n",
       "      <td>C</td>\n",
       "    </tr>\n",
       "    <tr>\n",
       "      <th>27</th>\n",
       "      <td>29</td>\n",
       "      <td>1.0</td>\n",
       "      <td>3</td>\n",
       "      <td>O'Dwyer, Miss. Ellen \"Nellie\"</td>\n",
       "      <td>female</td>\n",
       "      <td>NaN</td>\n",
       "      <td>0</td>\n",
       "      <td>0</td>\n",
       "      <td>330959</td>\n",
       "      <td>7.8792</td>\n",
       "      <td>NaN</td>\n",
       "      <td>Q</td>\n",
       "    </tr>\n",
       "    <tr>\n",
       "      <th>...</th>\n",
       "      <td>...</td>\n",
       "      <td>...</td>\n",
       "      <td>...</td>\n",
       "      <td>...</td>\n",
       "      <td>...</td>\n",
       "      <td>...</td>\n",
       "      <td>...</td>\n",
       "      <td>...</td>\n",
       "      <td>...</td>\n",
       "      <td>...</td>\n",
       "      <td>...</td>\n",
       "      <td>...</td>\n",
       "    </tr>\n",
       "    <tr>\n",
       "      <th>1289</th>\n",
       "      <td>1300</td>\n",
       "      <td>NaN</td>\n",
       "      <td>3</td>\n",
       "      <td>Riordan, Miss. Johanna Hannah\"\"</td>\n",
       "      <td>female</td>\n",
       "      <td>NaN</td>\n",
       "      <td>0</td>\n",
       "      <td>0</td>\n",
       "      <td>334915</td>\n",
       "      <td>7.7208</td>\n",
       "      <td>NaN</td>\n",
       "      <td>Q</td>\n",
       "    </tr>\n",
       "    <tr>\n",
       "      <th>1291</th>\n",
       "      <td>1302</td>\n",
       "      <td>NaN</td>\n",
       "      <td>3</td>\n",
       "      <td>Naughton, Miss. Hannah</td>\n",
       "      <td>female</td>\n",
       "      <td>NaN</td>\n",
       "      <td>0</td>\n",
       "      <td>0</td>\n",
       "      <td>365237</td>\n",
       "      <td>7.7500</td>\n",
       "      <td>NaN</td>\n",
       "      <td>Q</td>\n",
       "    </tr>\n",
       "    <tr>\n",
       "      <th>1294</th>\n",
       "      <td>1305</td>\n",
       "      <td>NaN</td>\n",
       "      <td>3</td>\n",
       "      <td>Spector, Mr. Woolf</td>\n",
       "      <td>male</td>\n",
       "      <td>NaN</td>\n",
       "      <td>0</td>\n",
       "      <td>0</td>\n",
       "      <td>A.5. 3236</td>\n",
       "      <td>8.0500</td>\n",
       "      <td>NaN</td>\n",
       "      <td>S</td>\n",
       "    </tr>\n",
       "    <tr>\n",
       "      <th>1297</th>\n",
       "      <td>1308</td>\n",
       "      <td>NaN</td>\n",
       "      <td>3</td>\n",
       "      <td>Ware, Mr. Frederick</td>\n",
       "      <td>male</td>\n",
       "      <td>NaN</td>\n",
       "      <td>0</td>\n",
       "      <td>0</td>\n",
       "      <td>359309</td>\n",
       "      <td>8.0500</td>\n",
       "      <td>NaN</td>\n",
       "      <td>S</td>\n",
       "    </tr>\n",
       "    <tr>\n",
       "      <th>1298</th>\n",
       "      <td>1309</td>\n",
       "      <td>NaN</td>\n",
       "      <td>3</td>\n",
       "      <td>Peter, Master. Michael J</td>\n",
       "      <td>male</td>\n",
       "      <td>NaN</td>\n",
       "      <td>1</td>\n",
       "      <td>1</td>\n",
       "      <td>2668</td>\n",
       "      <td>22.3583</td>\n",
       "      <td>NaN</td>\n",
       "      <td>C</td>\n",
       "    </tr>\n",
       "  </tbody>\n",
       "</table>\n",
       "<p>256 rows × 12 columns</p>\n",
       "</div>"
      ],
      "text/plain": [
       "      PassengerId  Survived  Pclass                             Name     Sex  \\\n",
       "5               6       0.0       3                 Moran, Mr. James    male   \n",
       "17             18       1.0       2     Williams, Mr. Charles Eugene    male   \n",
       "19             20       1.0       3          Masselmani, Mrs. Fatima  female   \n",
       "26             27       0.0       3          Emir, Mr. Farred Chehab    male   \n",
       "27             29       1.0       3    O'Dwyer, Miss. Ellen \"Nellie\"  female   \n",
       "...           ...       ...     ...                              ...     ...   \n",
       "1289         1300       NaN       3  Riordan, Miss. Johanna Hannah\"\"  female   \n",
       "1291         1302       NaN       3           Naughton, Miss. Hannah  female   \n",
       "1294         1305       NaN       3               Spector, Mr. Woolf    male   \n",
       "1297         1308       NaN       3              Ware, Mr. Frederick    male   \n",
       "1298         1309       NaN       3         Peter, Master. Michael J    male   \n",
       "\n",
       "      Age  SibSp  Parch     Ticket     Fare Cabin Embarked  \n",
       "5     NaN      0      0     330877   8.4583   NaN        Q  \n",
       "17    NaN      0      0     244373  13.0000   NaN        S  \n",
       "19    NaN      0      0       2649   7.2250   NaN        C  \n",
       "26    NaN      0      0       2631   7.2250   NaN        C  \n",
       "27    NaN      0      0     330959   7.8792   NaN        Q  \n",
       "...   ...    ...    ...        ...      ...   ...      ...  \n",
       "1289  NaN      0      0     334915   7.7208   NaN        Q  \n",
       "1291  NaN      0      0     365237   7.7500   NaN        Q  \n",
       "1294  NaN      0      0  A.5. 3236   8.0500   NaN        S  \n",
       "1297  NaN      0      0     359309   8.0500   NaN        S  \n",
       "1298  NaN      1      1       2668  22.3583   NaN        C  \n",
       "\n",
       "[256 rows x 12 columns]"
      ]
     },
     "execution_count": 45,
     "metadata": {},
     "output_type": "execute_result"
    }
   ],
   "source": [
    "train_df[train_df[\"Age\"].isnull()]"
   ]
  },
  {
   "cell_type": "markdown",
   "id": "f8db2c0e",
   "metadata": {},
   "source": [
    "Yukarıda train_df içerisindeki Age feature'sinde bulunan NaN değerleri gösterdik. 256 tane yolcunun yaş değeri bulunmamaktadır.\n",
    "\n",
    "Mesela Cinsiyet featuresine göre bu boşlukları doldurabilir miyiz?: female'lerin ortalama yaşına bakarız ve tüm female'leri ona göre doldururuz. male'lerin ortalama yaşına bakarız tüm male'leri ona göre doldururuz. \n",
    "\n",
    "Pclass feature'sine göre de yapabiliriz. 1.sınıfta kalan yolcuların yaş ortalamasını bulup Age feature'sindeki boşlukları bu ortalama değere göre doldurabiliriz. 2. ve  3. sınıflar içinde aynı işlem gerçekleştirilir.\n",
    "\n",
    "Parch ve SibSp feature'sine göre yapabiliriz. Çünkü bir yolcunun çocuğu var ise yaşının büyük olma olasılığı çocuğu olmayan bir yolcuya göre daha büyüktür diyebiliriz. Çocuk sayısına göre ya da parent sayısına göre yaşı olmayan yolcuların yaşlarını tahmin edebiliriz.\n",
    "\n",
    "Hibrit bir şekilde de yapabiliriz. Yani hem Sex feature'sini hem Pclass feature'sini hem Parch feature'sini hem de SibSp feature'sini kullanabiliriz. "
   ]
  },
  {
   "cell_type": "code",
   "execution_count": 46,
   "id": "74892e7e",
   "metadata": {},
   "outputs": [
    {
     "data": {
      "text/plain": [
       "<seaborn.axisgrid.FacetGrid at 0x175bbab9610>"
      ]
     },
     "execution_count": 46,
     "metadata": {},
     "output_type": "execute_result"
    },
    {
     "data": {
      "image/png": "[encoded data removed]",
      "text/plain": [
       "<Figure size 360x360 with 1 Axes>"
      ]
     },
     "metadata": {},
     "output_type": "display_data"
    }
   ],
   "source": [
    "sns.factorplot(x=\"Sex\", y=\"Age\", data=train_df, kind=\"box\")"
   ]
  },
  {
   "cell_type": "markdown",
   "id": "e9673c79",
   "metadata": {},
   "source": [
    "Kutuların ortasındaki çizgi medyanı ifade ediyor. male ve female için medyan değerleri aşağı yukarı aynı. Dolayısıyla male ve female olmasına göre yaşı tahmin edemeyiz. Çünkü erkek ve kadın için medyan değerleri aynı. Bu durumda Sex feature'sini kullanmamızın pek bir anlamı yok."
   ]
  },
  {
   "cell_type": "code",
   "execution_count": 47,
   "id": "77429289",
   "metadata": {},
   "outputs": [
    {
     "data": {
      "text/plain": [
       "<seaborn.axisgrid.FacetGrid at 0x175bb82f7c0>"
      ]
     },
     "execution_count": 47,
     "metadata": {},
     "output_type": "execute_result"
    },
    {
     "data": {
      "image/png": "[encoded data removed]",
      "text/plain": [
       "<Figure size 401.625x360 with 1 Axes>"
      ]
     },
     "metadata": {},
     "output_type": "display_data"
    }
   ],
   "source": [
    "sns.factorplot(x=\"Sex\", y=\"Age\", hue=\"Pclass\", data=train_df, kind=\"box\")"
   ]
  },
  {
   "cell_type": "markdown",
   "id": "6152e72e",
   "metadata": {},
   "source": [
    "Yukarıda sınıf olarak Pclass'ı ekledim. Her bir cinsiyet için 3 tane box plot var. Maviler 1.sınıf yolcularını, turuncular 2.sınıf yolcularını, yeşiller 3..sınıf yolcularını ifade etmekte.\n",
    "\n",
    "1.sınıf yolcuları için:\n",
    "    male'nin yaş medyanı 40 üzerinde, female'nin yaş medyanı 40'ın biraz altında. 1.sınıfta kalan yolcuların yaş medyanlarına 40 diyebiliriz.\n",
    "    \n",
    "2.sınıf yolcuları için:\n",
    "    male ve female'nin yaş medyanları yaklaşık 30.\n",
    "    \n",
    "3.sınıf yolcuları için:\n",
    "    male ve female'nin yaş medyanları yaklaşık 25.\n",
    "    \n",
    "Dolayısıyla 1.sınıfın yaş medyanları 2.sınıftan büyük ve 2.sınıfın yaş medyanları da 3.sınıftan büyüktür.\n",
    "\n",
    "Dolayısıyla en yaşlılar 1.sınıfta ve en gençler de 3.sınıftadır diyebiliriz.\n",
    "\n",
    "[Buradaki](#1) tabloya baktığımızda ilk satırda bulunan James'in Pclass'ında 3 değeri var yani James 3.sınıfta kalıyormuş. Bu nedenle James'in yaş ortalamasına 25 diyebiliriz.\n",
    "\n",
    "Sonuç olarak, Pclass yaş tahmini yapmak için kullanılabilir bir feature'dir."
   ]
  },
  {
   "cell_type": "code",
   "execution_count": 48,
   "id": "d28ef23e",
   "metadata": {},
   "outputs": [
    {
     "data": {
      "text/plain": [
       "<seaborn.axisgrid.FacetGrid at 0x175bbc9f1f0>"
      ]
     },
     "execution_count": 48,
     "metadata": {},
     "output_type": "execute_result"
    },
    {
     "data": {
      "image/png": "[encoded data removed]",
      "text/plain": [
       "<Figure size 360x360 with 1 Axes>"
      ]
     },
     "metadata": {},
     "output_type": "display_data"
    },
    {
     "data": {
      "image/png": "[encoded data removed]",
      "text/plain": [
       "<Figure size 360x360 with 1 Axes>"
      ]
     },
     "metadata": {},
     "output_type": "display_data"
    }
   ],
   "source": [
    "sns.factorplot(x=\"Parch\", y=\"Age\", data=train_df, kind=\"box\")\n",
    "sns.factorplot(x=\"SibSp\", y=\"Age\", data=train_df, kind=\"box\")"
   ]
  },
  {
   "cell_type": "markdown",
   "id": "837a3e1b",
   "metadata": {},
   "source": [
    "Yukarıdaki plot'u inceleyelim.\n",
    "\n",
    "Parch değeri 0,1 ve 2 olanlar için yaş medyanları aşağı yukarı 25'tir. Ama 2'den büyük değerler için yaş medyanı 45'tir. \n",
    "\n",
    "Aşağıdaki plot'u inceleyelim.\n",
    "\n",
    "SibSp değeri 1,2 ve 3 için yaş medyanı yaklaşık 25'tir. 3'den büyük değerler için yaş medyanı neredeyse 10 civarındadır."
   ]
  },
  {
   "cell_type": "markdown",
   "id": "c55f7ee3",
   "metadata": {},
   "source": [
    "Şimdi de tüm feature'ler arasındaki korelasyona bakalım. Bunun için heatmap kullanırız."
   ]
  },
  {
   "cell_type": "code",
   "execution_count": 49,
   "id": "d64ba94a",
   "metadata": {},
   "outputs": [
    {
     "data": {
      "image/png": "[encoded data removed]",
      "text/plain": [
       "<Figure size 432x288 with 2 Axes>"
      ]
     },
     "metadata": {},
     "output_type": "display_data"
    }
   ],
   "source": [
    "sns.heatmap(train_df[[\"Age\",\"Sex\",\"SibSp\",\"Parch\",\"Pclass\"]].corr(), annot=True)\n",
    "plt.show()"
   ]
  },
  {
   "cell_type": "markdown",
   "id": "f7634d8d",
   "metadata": {},
   "source": [
    "Sex ve Age arasında herhangi bir ilişki söz konusu değil. Sex feature'sini tabloda göremiyoruz. Bunun sebebi Sex feature'sinin string değerlerden oluşmasıdır. Sex feature'sini heatmap'te görebilmemiz için sayısal bir değere çevirmemiz gerekmekte. Sex feature'sini sayısal bir veri tipine dönüştürelim ve tekrar heatmap oluşturalım."
   ]
  },
  {
   "cell_type": "code",
   "execution_count": 50,
   "id": "92062b57",
   "metadata": {},
   "outputs": [],
   "source": [
    "train_df[\"Sex\"] = [1 if i==\"male\" else 0 for i in train_df[\"Sex\"]]  \n",
    "#male değerinin olduğu satırlara 1, female değerinin olduğu sütunlara 0 yazdırdım."
   ]
  },
  {
   "cell_type": "code",
   "execution_count": 51,
   "id": "4f50d412",
   "metadata": {},
   "outputs": [
    {
     "data": {
      "image/png": "[encoded data removed]",
      "text/plain": [
       "<Figure size 432x288 with 2 Axes>"
      ]
     },
     "metadata": {},
     "output_type": "display_data"
    }
   ],
   "source": [
    "sns.heatmap(train_df[[\"Age\",\"Sex\",\"SibSp\",\"Parch\",\"Pclass\"]].corr(), annot=True)\n",
    "plt.show()"
   ]
  },
  {
   "cell_type": "markdown",
   "id": "f4347623",
   "metadata": {},
   "source": [
    "Yukarıda gördüğümüz üzere Sex feature'side artık heatmep'te bulunmakta.\n",
    "\n",
    "Çıktıyı yorumlayalım.\n",
    "\n",
    "Age ve Sex arasındaki ilişki 0.063 oranındadır. Yani yaklaşık 0 dır ve bunun anlamı, herhangi bir ilişki söz konusu değildir. \n",
    "\n",
    "Age ve SibSp arasındaki ilişki -0.24'tür. Age ve Parch arasındaki ilişki -0.15'tür. Age ve Pclass arasındaki ilişki -0.41'dir. Bu iyi bir durumdur. Bu 3 tane feature'yi kullanarak yaş ile ilgili prediction yapabilirim."
   ]
  },
  {
   "cell_type": "markdown",
   "id": "e613d110",
   "metadata": {},
   "source": [
    "Şimdi de Age feature'sinde bulunan boşlukları dolduralım."
   ]
  },
  {
   "cell_type": "markdown",
   "id": "39e0b7cb",
   "metadata": {},
   "source": [
    "İlk olarak Age feature'sinde bulunan NaN value'lerin indekslerini bulalım."
   ]
  },
  {
   "cell_type": "code",
   "execution_count": 52,
   "id": "2ea3a96e",
   "metadata": {},
   "outputs": [
    {
     "data": {
      "text/plain": [
       "[5,\n",
       " 17,\n",
       " 19,\n",
       " 26,\n",
       " 27,\n",
       " 28,\n",
       " 30,\n",
       " 31,\n",
       " 35,\n",
       " 41,\n",
       " 44,\n",
       " 45,\n",
       " 46,\n",
       " 47,\n",
       " 54,\n",
       " 63,\n",
       " 64,\n",
       " 75,\n",
       " 76,\n",
       " 81,\n",
       " 86,\n",
       " 93,\n",
       " 99,\n",
       " 105,\n",
       " 107,\n",
       " 119,\n",
       " 124,\n",
       " 126,\n",
       " 138,\n",
       " 152,\n",
       " 156,\n",
       " 163,\n",
       " 165,\n",
       " 173,\n",
       " 177,\n",
       " 181,\n",
       " 182,\n",
       " 192,\n",
       " 194,\n",
       " 209,\n",
       " 218,\n",
       " 224,\n",
       " 230,\n",
       " 235,\n",
       " 236,\n",
       " 245,\n",
       " 251,\n",
       " 255,\n",
       " 259,\n",
       " 265,\n",
       " 269,\n",
       " 272,\n",
       " 279,\n",
       " 290,\n",
       " 293,\n",
       " 295,\n",
       " 296,\n",
       " 298,\n",
       " 299,\n",
       " 301,\n",
       " 324,\n",
       " 328,\n",
       " 329,\n",
       " 340,\n",
       " 344,\n",
       " 347,\n",
       " 351,\n",
       " 352,\n",
       " 357,\n",
       " 360,\n",
       " 361,\n",
       " 368,\n",
       " 377,\n",
       " 381,\n",
       " 402,\n",
       " 403,\n",
       " 404,\n",
       " 406,\n",
       " 408,\n",
       " 413,\n",
       " 418,\n",
       " 421,\n",
       " 424,\n",
       " 437,\n",
       " 444,\n",
       " 447,\n",
       " 450,\n",
       " 452,\n",
       " 457,\n",
       " 459,\n",
       " 461,\n",
       " 463,\n",
       " 468,\n",
       " 474,\n",
       " 478,\n",
       " 483,\n",
       " 488,\n",
       " 490,\n",
       " 495,\n",
       " 500,\n",
       " 504,\n",
       " 510,\n",
       " 515,\n",
       " 517,\n",
       " 520,\n",
       " 524,\n",
       " 526,\n",
       " 531,\n",
       " 540,\n",
       " 545,\n",
       " 550,\n",
       " 553,\n",
       " 556,\n",
       " 557,\n",
       " 561,\n",
       " 566,\n",
       " 571,\n",
       " 577,\n",
       " 582,\n",
       " 586,\n",
       " 589,\n",
       " 591,\n",
       " 594,\n",
       " 595,\n",
       " 604,\n",
       " 605,\n",
       " 606,\n",
       " 622,\n",
       " 626,\n",
       " 632,\n",
       " 636,\n",
       " 641,\n",
       " 643,\n",
       " 646,\n",
       " 649,\n",
       " 660,\n",
       " 662,\n",
       " 667,\n",
       " 673,\n",
       " 685,\n",
       " 690,\n",
       " 702,\n",
       " 704,\n",
       " 711,\n",
       " 720,\n",
       " 725,\n",
       " 731,\n",
       " 732,\n",
       " 733,\n",
       " 753,\n",
       " 759,\n",
       " 761,\n",
       " 766,\n",
       " 769,\n",
       " 771,\n",
       " 776,\n",
       " 783,\n",
       " 785,\n",
       " 807,\n",
       " 817,\n",
       " 818,\n",
       " 820,\n",
       " 824,\n",
       " 829,\n",
       " 831,\n",
       " 840,\n",
       " 850,\n",
       " 858,\n",
       " 868,\n",
       " 878,\n",
       " 891,\n",
       " 903,\n",
       " 910,\n",
       " 914,\n",
       " 917,\n",
       " 920,\n",
       " 922,\n",
       " 928,\n",
       " 935,\n",
       " 939,\n",
       " 946,\n",
       " 957,\n",
       " 964,\n",
       " 965,\n",
       " 966,\n",
       " 969,\n",
       " 972,\n",
       " 974,\n",
       " 983,\n",
       " 988,\n",
       " 989,\n",
       " 992,\n",
       " 997,\n",
       " 1002,\n",
       " 1005,\n",
       " 1008,\n",
       " 1013,\n",
       " 1014,\n",
       " 1027,\n",
       " 1029,\n",
       " 1032,\n",
       " 1041,\n",
       " 1044,\n",
       " 1049,\n",
       " 1051,\n",
       " 1054,\n",
       " 1064,\n",
       " 1069,\n",
       " 1072,\n",
       " 1080,\n",
       " 1081,\n",
       " 1086,\n",
       " 1092,\n",
       " 1097,\n",
       " 1100,\n",
       " 1106,\n",
       " 1108,\n",
       " 1114,\n",
       " 1124,\n",
       " 1125,\n",
       " 1130,\n",
       " 1136,\n",
       " 1137,\n",
       " 1146,\n",
       " 1147,\n",
       " 1148,\n",
       " 1149,\n",
       " 1152,\n",
       " 1154,\n",
       " 1155,\n",
       " 1163,\n",
       " 1167,\n",
       " 1169,\n",
       " 1170,\n",
       " 1171,\n",
       " 1173,\n",
       " 1178,\n",
       " 1182,\n",
       " 1185,\n",
       " 1193,\n",
       " 1213,\n",
       " 1220,\n",
       " 1223,\n",
       " 1225,\n",
       " 1238,\n",
       " 1239,\n",
       " 1246,\n",
       " 1247,\n",
       " 1261,\n",
       " 1263,\n",
       " 1265,\n",
       " 1289,\n",
       " 1291,\n",
       " 1294,\n",
       " 1297,\n",
       " 1298]"
      ]
     },
     "execution_count": 52,
     "metadata": {},
     "output_type": "execute_result"
    }
   ],
   "source": [
    "index_nan_age = list(train_df[\"Age\"][train_df[\"Age\"].isnull()].index)\n",
    "index_nan_age"
   ]
  },
  {
   "cell_type": "markdown",
   "id": "b30daac6",
   "metadata": {},
   "source": [
    "Yukarıda gördüğünüz sayılar, NaN value'lerin indeksleridir."
   ]
  },
  {
   "cell_type": "markdown",
   "id": "2356a0b3",
   "metadata": {},
   "source": [
    "Şimdi tek tek bu indeksleri dolaşıcaz ve bu indekslerde bulunan SibSp, Parch ve Pclass feature'lerine bakarak Age değerini tahmin etmeye çalışıcaz."
   ]
  },
  {
   "cell_type": "code",
   "execution_count": 53,
   "id": "ee8183ab",
   "metadata": {},
   "outputs": [],
   "source": [
    "for i in index_nan_age:\n",
    "    age_pred = train_df[\"Age\"][((train_df[\"SibSp\"] == train_df.iloc[i][\"SibSp\"]) & (train_df[\"Parch\"] == train_df.iloc[i][\"Parch\"]) & (train_df[\"Pclass\"] == train_df.iloc[i][\"Pclass\"]))].median"
   ]
  },
  {
   "cell_type": "code",
   "execution_count": 54,
   "id": "bea246b4",
   "metadata": {},
   "outputs": [
    {
     "data": {
      "text/plain": [
       "<bound method NDFrame._add_numeric_operations.<locals>.median of 10       4.00\n",
       "64        NaN\n",
       "126       NaN\n",
       "169      1.00\n",
       "172     18.00\n",
       "184     40.00\n",
       "246     29.00\n",
       "274     35.00\n",
       "322     31.00\n",
       "341      3.00\n",
       "345     15.00\n",
       "416     28.00\n",
       "417     18.00\n",
       "482      9.00\n",
       "525     17.00\n",
       "541     33.00\n",
       "588     36.00\n",
       "609     34.00\n",
       "615     20.00\n",
       "650     32.00\n",
       "702       NaN\n",
       "739     16.00\n",
       "791     30.00\n",
       "843      9.00\n",
       "859      4.00\n",
       "885     22.00\n",
       "961      6.00\n",
       "985     16.00\n",
       "998      1.00\n",
       "1042     7.00\n",
       "1046    26.00\n",
       "1073    11.50\n",
       "1144     1.00\n",
       "1162     0.75\n",
       "1164     9.00\n",
       "1165     2.00\n",
       "1214    19.00\n",
       "1225      NaN\n",
       "1290     3.00\n",
       "1298      NaN\n",
       "Name: Age, dtype: float64>"
      ]
     },
     "execution_count": 54,
     "metadata": {},
     "output_type": "execute_result"
    }
   ],
   "source": [
    "age_pred"
   ]
  },
  {
   "cell_type": "markdown",
   "id": "08a4cf82",
   "metadata": {},
   "source": [
    "Yukarıda gördüğünüz üzere NaN değerler var ve bu durumda bazı yerlerde tahmin yapamadık. Prediction yapamadığımız durumlar için  train_df[\"Age\"] 'in medyanını kullanalım."
   ]
  },
  {
   "cell_type": "code",
   "execution_count": 55,
   "id": "fb61ce80",
   "metadata": {},
   "outputs": [],
   "source": [
    "for i in index_nan_age:\n",
    "    age_pred = train_df[\"Age\"][((train_df[\"SibSp\"] == train_df.iloc[i][\"SibSp\"]) &(train_df[\"Parch\"] == train_df.iloc[i][\"Parch\"])& (train_df[\"Pclass\"] == train_df.iloc[i][\"Pclass\"]))].median()\n",
    "    age_med = train_df[\"Age\"].median()\n",
    "    if not np.isnan(age_pred):\n",
    "        train_df[\"Age\"].iloc[i] = age_pred\n",
    "    else:\n",
    "        train_df[\"Age\"].iloc[i] = age_med"
   ]
  },
  {
   "cell_type": "code",
   "execution_count": 56,
   "id": "3eff977e",
   "metadata": {},
   "outputs": [
    {
     "data": {
      "text/html": [
       "<div>\n",
       "<style scoped>\n",
       "    .dataframe tbody tr th:only-of-type {\n",
       "        vertical-align: middle;\n",
       "    }\n",
       "\n",
       "    .dataframe tbody tr th {\n",
       "        vertical-align: top;\n",
       "    }\n",
       "\n",
       "    .dataframe thead th {\n",
       "        text-align: right;\n",
       "    }\n",
       "</style>\n",
       "<table border=\"1\" class=\"dataframe\">\n",
       "  <thead>\n",
       "    <tr style=\"text-align: right;\">\n",
       "      <th></th>\n",
       "      <th>PassengerId</th>\n",
       "      <th>Survived</th>\n",
       "      <th>Pclass</th>\n",
       "      <th>Name</th>\n",
       "      <th>Sex</th>\n",
       "      <th>Age</th>\n",
       "      <th>SibSp</th>\n",
       "      <th>Parch</th>\n",
       "      <th>Ticket</th>\n",
       "      <th>Fare</th>\n",
       "      <th>Cabin</th>\n",
       "      <th>Embarked</th>\n",
       "    </tr>\n",
       "  </thead>\n",
       "  <tbody>\n",
       "  </tbody>\n",
       "</table>\n",
       "</div>"
      ],
      "text/plain": [
       "Empty DataFrame\n",
       "Columns: [PassengerId, Survived, Pclass, Name, Sex, Age, SibSp, Parch, Ticket, Fare, Cabin, Embarked]\n",
       "Index: []"
      ]
     },
     "execution_count": 56,
     "metadata": {},
     "output_type": "execute_result"
    }
   ],
   "source": [
    "train_df[train_df[\"Age\"].isnull()]"
   ]
  },
  {
   "cell_type": "markdown",
   "id": "3ebd2991",
   "metadata": {},
   "source": [
    "Yukarıda gördüğünüz üzere artık Age feature'sinde NaN değer bulunmamaktadır. Bu NaN değerleri ortadan kaldırırken SibSP, Pclass, Parch feature'lerini kullanmış olduk."
   ]
  }
 ],
 "metadata": {
  "kernelspec": {
   "display_name": "Python 3 (ipykernel)",
   "language": "python",
   "name": "python3"
  },
  "language_info": {
   "codemirror_mode": {
    "name": "ipython",
    "version": 3
   },
   "file_extension": ".py",
   "mimetype": "text/x-python",
   "name": "python",
   "nbconvert_exporter": "python",
   "pygments_lexer": "ipython3",
   "version": "3.9.7"
  }
 },
 "nbformat": 4,
 "nbformat_minor": 5
}
