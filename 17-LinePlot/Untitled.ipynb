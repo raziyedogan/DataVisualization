{
 "cells": [
  {
   "cell_type": "code",
   "execution_count": 1,
   "id": "a3ed32dd",
   "metadata": {},
   "outputs": [
    {
     "name": "stdout",
     "output_type": "stream",
     "text": [
      "Requirement already satisfied: chart_studio in c:\\users\\raziy\\anaconda3\\lib\\site-packages (1.1.0)\n",
      "Requirement already satisfied: six in c:\\users\\raziy\\anaconda3\\lib\\site-packages (from chart_studio) (1.16.0)\n",
      "Requirement already satisfied: retrying>=1.3.3 in c:\\users\\raziy\\anaconda3\\lib\\site-packages (from chart_studio) (1.3.3)\n",
      "Requirement already satisfied: plotly in c:\\users\\raziy\\anaconda3\\lib\\site-packages (from chart_studio) (5.8.2)\n",
      "Requirement already satisfied: requests in c:\\users\\raziy\\anaconda3\\lib\\site-packages (from chart_studio) (2.26.0)\n",
      "Requirement already satisfied: tenacity>=6.2.0 in c:\\users\\raziy\\anaconda3\\lib\\site-packages (from plotly->chart_studio) (8.0.1)\n",
      "Requirement already satisfied: certifi>=2017.4.17 in c:\\users\\raziy\\anaconda3\\lib\\site-packages (from requests->chart_studio) (2021.10.8)\n",
      "Requirement already satisfied: idna<4,>=2.5 in c:\\users\\raziy\\anaconda3\\lib\\site-packages (from requests->chart_studio) (3.2)\n",
      "Requirement already satisfied: urllib3<1.27,>=1.21.1 in c:\\users\\raziy\\anaconda3\\lib\\site-packages (from requests->chart_studio) (1.26.7)\n",
      "Requirement already satisfied: charset-normalizer~=2.0.0 in c:\\users\\raziy\\anaconda3\\lib\\site-packages (from requests->chart_studio) (2.0.4)\n",
      "Note: you may need to restart the kernel to use updated packages.\n"
     ]
    }
   ],
   "source": [
    "pip install chart_studio"
   ]
  },
  {
   "cell_type": "code",
   "execution_count": 2,
   "id": "36e57306",
   "metadata": {},
   "outputs": [
    {
     "name": "stdout",
     "output_type": "stream",
     "text": [
      "Requirement already satisfied: plotly in c:\\users\\raziy\\anaconda3\\lib\\site-packages (5.8.2)\n",
      "Requirement already satisfied: tenacity>=6.2.0 in c:\\users\\raziy\\anaconda3\\lib\\site-packages (from plotly) (8.0.1)\n",
      "Note: you may need to restart the kernel to use updated packages.\n"
     ]
    }
   ],
   "source": [
    "pip install plotly --upgrade"
   ]
  },
  {
   "cell_type": "code",
   "execution_count": null,
   "id": "6533aaad",
   "metadata": {},
   "outputs": [],
   "source": [
    "conda install -c conda-forge wordcloud"
   ]
  },
  {
   "cell_type": "code",
   "execution_count": null,
   "id": "7f1bf939",
   "metadata": {},
   "outputs": [],
   "source": [
    "import pandas as pd\n",
    "import numpy as np\n",
    "import matplotlib.pyplot as plt\n",
    "\n",
    "#plotly\n",
    "#import plotly.plotly as py\n",
    "#from plotly.offline import init_notebook_mode, iplot \n",
    "#init_notebook_mode(connected=True)\n",
    "import chart_studio.plotly as py\n",
    "import plotly.graph_objs as go\n",
    "\n",
    "#word cloud library: Word cloud pyplot kütüphanesine ait değil fakat güzel bir plot olmasından dolayı buda anlatılacaktır.\n",
    "from wordcloud import WordCloud"
   ]
  },
  {
   "cell_type": "code",
   "execution_count": null,
   "id": "338ccba5",
   "metadata": {},
   "outputs": [],
   "source": [
    "timesData = pd.read_csv(\"timesData.csv\")"
   ]
  },
  {
   "cell_type": "markdown",
   "id": "38c6bac8",
   "metadata": {},
   "source": [
    "# LINE PLOT"
   ]
  },
  {
   "cell_type": "markdown",
   "id": "3e28b071",
   "metadata": {},
   "source": [
    "Üniversitelerin 2011 yılındaki Citation ve Teaching skorlarını line plot ile görselleştirelim.\n",
    "\n",
    "Veri setinin ilk 100 satırı 2011 yılına karşılık gelmektedir."
   ]
  },
  {
   "cell_type": "code",
   "execution_count": null,
   "id": "d9d29d36",
   "metadata": {},
   "outputs": [],
   "source": [
    "from plotly.offline import iplot #iplot(fig) satırının çalışabilmesi için bu import'a ihtiyaç var.\n",
    "\n",
    "df = timesData.iloc[:100,:]  #2011 yılına ait veriler ilk 100 satırda bulunduğu için veri setinde ilk 100 satırın tüm feature'lerini aldım. \n",
    "\n",
    "# Creating trace1\n",
    "trace1 = go.Scatter(\n",
    "                    x = df.world_rank,\n",
    "                    y = df.citations,\n",
    "                    mode = \"lines\",\n",
    "                    name = \"citations\",\n",
    "                    marker = dict(color = 'rgba(16, 112, 2, 0.8)'),\n",
    "                    text= df.university_name)\n",
    "# Creating trace2\n",
    "trace2 = go.Scatter(\n",
    "                    x = df.world_rank,\n",
    "                    y = df.teaching,\n",
    "                    mode = \"lines+markers\",\n",
    "                    name = \"teaching\",\n",
    "                    marker = dict(color = 'rgba(80, 26, 80, 0.8)'),\n",
    "                    text= df.university_name)\n",
    "data = [trace1, trace2]\n",
    "layout = dict(title = 'Citation and Teaching vs World Rank of Top 100 Universities',\n",
    "              xaxis= dict(title= 'World Rank',ticklen= 5,zeroline= False)\n",
    "             )\n",
    "fig = dict(data = data, layout = layout)\n",
    "iplot(fig)\n"
   ]
  },
  {
   "cell_type": "markdown",
   "id": "dc7af9e4",
   "metadata": {},
   "source": [
    "Yukarıdaki kod bloğunu açıklayalım.\n",
    "\n",
    "Plotly boşluk doldurma gibidir. Bir kalıp vardır ve içerisini amaçlarımız doğrultusunda doldururuz.\n",
    "\n",
    "trace1 = go.Scatter(\n",
    "                    x = df.world_rank,\n",
    "                    y = df.citations,\n",
    "                    mode = \"lines\",\n",
    "                    name = \"citations\",\n",
    "                    marker = dict(color = 'rgba(16, 112, 2, 0.8)'),\n",
    "                    text= df.university_name)\n",
    "                    \n",
    "kısmı bir kalıptır. x ve y eksenini doldururuz. mode, hangi plotu kullanacağımızın yani plot'un şeklinin bilgisidir. name, plot'un ismidir. marker, plot'un rengidir. text, plot'un üzerinde gezinirken o konuma karşılık gelen değerin bilgisidir.\n",
    "\n",
    "trace1, görsel üzerinde gördüğünüz yeşil çizgilerdir.\n",
    "\n",
    "trace2 'de, görsel üzerinde gördüğünüz mor çizgilerdir.\n",
    "\n",
    "data = [trace1, trace2] satırı ile trace1 ve trace2 'yi data'da birleştiriyorum. Yani aslında bir liste oluşturdum.\n",
    "\n",
    "layout = dict(title = 'Citation and Teaching vs World Rank of Top 100 Universities',\n",
    "              xaxis= dict(title= 'World Rank',ticklen= 5,zeroline= False)\n",
    "             )   satırı ile plot'un dışında kalan x ekseninde yazılı olan ve başlıkta yazılı olan metinlerin var olması sağlanır. ticklen parametresi ile yazının kalınlığı ayarlanır.\n",
    "             \n",
    "fig = dict(data = data, layout = layout) satırı ile birleştirme gerçekleştirerek bir figür oluşturuyorum.            \n",
    "\n",
    "iplot(fig) satırı ile figürü çizdiriyorum.\n",
    "\n",
    "Bu arada rgba(16, 112, 2, 0.8) ifadesi şudur: rgb sırasıyla red,green,blue renklerini ifade eder ve ilk 3 parametreye 0 ile 255 arasında değerler verilerek istenen renk elde edilebilir. Son parametre olan 0.8 değeri saydamlığı ifade eder. Saydamlık 0 ile 1 arasında değerler alır. 0 yaptığımızda plot gözükmez ve 1 yaptığımızda %100 gözükür hiç saydamlık olmaz. Mesela trace1'in marker = dict(color = 'rgba(16, 112, 2, 0.8)') satırında 0.8 yerine 0 yazarsak plot üzerinde yeşil çizgiyi artık göremeyiz.\n",
    "\n",
    "Plot üzerinde gezinirken gördüğünüz değerler şunlardır: kodda bulunan text= df.university_name satırından dolayı üniversitenin ismi ve default olarak yansıtılan y eksenindeki değerdir.\n",
    "\n",
    "x = df.world_rank satırı ile x eksenine dünya sıralamasını yerleştirdim.\n",
    "\n",
    "y = df.citations satırı ile y eksenine citations skorunu yerleştirdim.\n",
    "\n",
    "mode = \"lines\" satırı ile çizgi olacağını bildirdim.\n",
    "\n",
    "name = \"citations\" satırı ile yeşil çizgilere citations ismini verdim."
   ]
  },
  {
   "cell_type": "markdown",
   "id": "2df34c22",
   "metadata": {},
   "source": [
    "<font color = 'tan'>\n",
    "    \n",
    "Çıktıdaki plot'u yorumlayalım. Mesela bir konumun üzerinde yazan ifadeler:\n",
    "    \n",
    "yeşil çizgi üzerinde citations puanı 86.8 ve \"University of Edinburgh\" yazmakta. Mor çizgi üzerinde teaching puanı 59.9 ve \"University of Edinburgh\" yazmakta. \n",
    "    \n",
    "Genellikle yeşil çizgi yukarı tarafta. Çünkü genelde Üniversitelerin citations puanı daha yüksek. Ama teaching puanları daha düşük.\n",
    "    \n",
    "Üniversitelerin dünya sıralaması azaldığı zaman teaching, citations'un baya bir altına düşüyor. Burdan şöyle bir yorum çıkarabiliriz; Üniversitelerin dünya sıralaması azaldığı zaman alıntı yapılması (citations) her ne kadar çok değişmesede teaching (bu büyük ihtimal öğrencilere öğretilen bir şeydir) birazcık düşüyor. Yani öğrenci kalitesi azalıyor ama öğretmenlerin kalitesi o kadar azalmıyor. "
   ]
  }
 ],
 "metadata": {
  "kernelspec": {
   "display_name": "Python 3 (ipykernel)",
   "language": "python",
   "name": "python3"
  },
  "language_info": {
   "codemirror_mode": {
    "name": "ipython",
    "version": 3
   },
   "file_extension": ".py",
   "mimetype": "text/x-python",
   "name": "python",
   "nbconvert_exporter": "python",
   "pygments_lexer": "ipython3",
   "version": "3.9.7"
  }
 },
 "nbformat": 4,
 "nbformat_minor": 5
}
