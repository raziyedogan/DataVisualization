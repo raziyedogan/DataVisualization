{
 "cells": [
  {
   "cell_type": "markdown",
   "id": "aa14a3dc",
   "metadata": {},
   "source": [
    "# Cluster Map"
   ]
  },
  {
   "cell_type": "markdown",
   "id": "4a945114",
   "metadata": {},
   "source": [
    "Bir heatmap çizeceğiz. Heatmap, feature'ler arasındaki correlation'u gösteren bir plot yöntemidir."
   ]
  },
  {
   "cell_type": "code",
   "execution_count": 6,
   "id": "1ed3a827",
   "metadata": {},
   "outputs": [],
   "source": [
    "import pandas as pd \n",
    "import matplotlib.pyplot as plt\n",
    "import seaborn as sns"
   ]
  },
  {
   "cell_type": "code",
   "execution_count": 7,
   "id": "33718ff8",
   "metadata": {},
   "outputs": [],
   "source": [
    "data = pd.read_csv(\"Iris.csv\")\n",
    "data = data.drop(['Id'],axis=1)"
   ]
  },
  {
   "cell_type": "code",
   "execution_count": 8,
   "id": "32cbd91b",
   "metadata": {},
   "outputs": [
    {
     "data": {
      "image/png": "[encoded data removed]",
      "text/plain": [
       "<Figure size 864x864 with 5 Axes>"
      ]
     },
     "metadata": {
      "needs_background": "light"
     },
     "output_type": "display_data"
    }
   ],
   "source": [
    "df = data.loc[:,[\"SepalLengthCm\",\"SepalWidthCm\",\"PetalLengthCm\",\"PetalWidthCm\"]]\n",
    "df1 = data.Species\n",
    "x = dict(zip(df1.unique(),\"rgb\"))\n",
    "row_colors = df1.map(x)\n",
    "cg = sns.clustermap(df,row_colors=row_colors,figsize=(12, 12),metric=\"correlation\")\n",
    "plt.setp(cg.ax_heatmap.yaxis.get_majorticklabels(),rotation = 0,size =8)\n",
    "plt.show()"
   ]
  },
  {
   "cell_type": "markdown",
   "id": "c391a3bc",
   "metadata": {},
   "source": [
    "<font color = \"Chocolate\"><br>\n",
    "df = data.loc[:,[\"SepalLengthCm\",\"SepalWidthCm\",\"PetalLengthCm\",\"PetalWidthCm\"]]\n",
    "\n",
    "Bu satırda data'nın 4 tane feature'sini bir data frame'e eşitledim.\n",
    "\n",
    "<font color = \"Chocolate\"><br>\n",
    "df1 = data.Species\n",
    "\n",
    "Bu satırda, türleri df1 değişkenine atıyorum. Bu türleri aşağıdaki kod bloğu çıktısında görebilirsiniz.\n",
    "\n",
    "<font color = \"Chocolate\"><br>    \n",
    "x = dict(zip(df1.unique(),\"rgb\"))\n",
    "\n",
    "Bu satırda, data frame'i rgb ile zipliyorum ve bir dictionary'e çeviriyorum. x'e atadığımız değeri aşağıda görebilirsiniz.\n",
    "\n",
    "<font color = \"Chocolate\"><br>\n",
    "row_colors = df1.map(x)\n",
    "\n",
    "Bu satırda, rgb renklerini ortaya çıkarmak gibi bir şey yaptım.\n",
    "\n",
    "<font color = \"Chocolate\"><br>\n",
    "cg = sns.clustermap(df,row_colors=row_colors,figsize=(12, 12),metric=\"correlation\")\n",
    "\n",
    "Bu satırda:\n",
    "\n",
    "    1.parametre:data frame'i belirttik ve bu sayede data frame içerisinde bulunan her şey (4 tane feature) plot ettirilecek.\n",
    "    \n",
    "    2.parametre: Daha öncesinde tanımladığım row_colors değişkeni sayesinde satırların rengi ayarlanmıştır.\n",
    "    \n",
    "    3.parametre: figür boyutunu ayarladım.\n",
    "    \n",
    "    4.parametre: Aralarındaki correlation ilişkisine göre feature'ler birbiri ile eşleştirilir, kümelendirir."
   ]
  },
  {
   "cell_type": "markdown",
   "id": "3b7df0bf",
   "metadata": {},
   "source": [
    "<font color = \"SteelBlue\">\n",
    "Çıktıyı yorumlayalım.\n",
    "\n",
    "<font color = \"SteelBlue\"><br>   \n",
    "Üst kısımda en sağdaki iki feature'yi kapsayan çizgiye odaklanın. Burada birbiri arasında ilişki bulunan \"PetalLengthCm\" ve \"PetalWidthCm\" feature'leri kümelenmiştir. En alt kod bloğunda corr() metodu sonucunda bu iki feature arasındaki correlation oranının 0.9 olduğunu görüyoruz.\n",
    "\n",
    "<font color = \"SteelBlue\"><br>\n",
    "Daha sonra bu kümeleme ile yani \"PetalLengthCm\", \"PetalWidthCm\" ve \"SepalLengthCm\" arasında doğru orantı söz konusudur. corr() metodu çıktısında gördüğünüz üzere \"SepalLengthCm\" ile \"PetalLengthCm\" arasında 0.87 oranında ve \"SepalLengthCm\" ile \"PetalWidthCm\" arasında 0.81 oranında doğru ilişki söz konusu.\n",
    "    \n",
    "<font color = \"SteelBlue\"><br>\n",
    "En sonda tüm bu kümelemeler ile \"SepalWidthCm\" arasında bir doğru ilişki söz konusu.\n",
    "    \n",
    "<font color = \"SteelBlue\"><br>\n",
    "Tüm bu kurguyu figür üzerindeki çizgilerden anlayabiliyoruz.\n",
    "    \n",
    "<font color = \"SteelBlue\"><br>\n",
    "Sol kısımdaki kümelemeler ise feature'lerin value'lerinin kendi aralarında kümelenmesidir."
   ]
  },
  {
   "cell_type": "code",
   "execution_count": 15,
   "id": "6eeb2c18",
   "metadata": {},
   "outputs": [
    {
     "data": {
      "text/plain": [
       "array(['Iris-setosa', 'Iris-versicolor', 'Iris-virginica'], dtype=object)"
      ]
     },
     "execution_count": 15,
     "metadata": {},
     "output_type": "execute_result"
    }
   ],
   "source": [
    "data.Species.unique()"
   ]
  },
  {
   "cell_type": "code",
   "execution_count": 16,
   "id": "d7264bb9",
   "metadata": {},
   "outputs": [
    {
     "data": {
      "text/plain": [
       "{'Iris-setosa': 'r', 'Iris-versicolor': 'g', 'Iris-virginica': 'b'}"
      ]
     },
     "execution_count": 16,
     "metadata": {},
     "output_type": "execute_result"
    }
   ],
   "source": [
    "x"
   ]
  },
  {
   "cell_type": "code",
   "execution_count": 17,
   "id": "baa3bce4",
   "metadata": {},
   "outputs": [
    {
     "data": {
      "text/plain": [
       "0      r\n",
       "1      r\n",
       "2      r\n",
       "3      r\n",
       "4      r\n",
       "      ..\n",
       "145    b\n",
       "146    b\n",
       "147    b\n",
       "148    b\n",
       "149    b\n",
       "Name: Species, Length: 150, dtype: object"
      ]
     },
     "execution_count": 17,
     "metadata": {},
     "output_type": "execute_result"
    }
   ],
   "source": [
    "row_colors"
   ]
  },
  {
   "cell_type": "code",
   "execution_count": 19,
   "id": "d358897d",
   "metadata": {},
   "outputs": [
    {
     "data": {
      "text/html": [
       "<div>\n",
       "<style scoped>\n",
       "    .dataframe tbody tr th:only-of-type {\n",
       "        vertical-align: middle;\n",
       "    }\n",
       "\n",
       "    .dataframe tbody tr th {\n",
       "        vertical-align: top;\n",
       "    }\n",
       "\n",
       "    .dataframe thead th {\n",
       "        text-align: right;\n",
       "    }\n",
       "</style>\n",
       "<table border=\"1\" class=\"dataframe\">\n",
       "  <thead>\n",
       "    <tr style=\"text-align: right;\">\n",
       "      <th></th>\n",
       "      <th>SepalLengthCm</th>\n",
       "      <th>SepalWidthCm</th>\n",
       "      <th>PetalLengthCm</th>\n",
       "      <th>PetalWidthCm</th>\n",
       "    </tr>\n",
       "  </thead>\n",
       "  <tbody>\n",
       "    <tr>\n",
       "      <th>SepalLengthCm</th>\n",
       "      <td>1.000000</td>\n",
       "      <td>-0.109369</td>\n",
       "      <td>0.871754</td>\n",
       "      <td>0.817954</td>\n",
       "    </tr>\n",
       "    <tr>\n",
       "      <th>SepalWidthCm</th>\n",
       "      <td>-0.109369</td>\n",
       "      <td>1.000000</td>\n",
       "      <td>-0.420516</td>\n",
       "      <td>-0.356544</td>\n",
       "    </tr>\n",
       "    <tr>\n",
       "      <th>PetalLengthCm</th>\n",
       "      <td>0.871754</td>\n",
       "      <td>-0.420516</td>\n",
       "      <td>1.000000</td>\n",
       "      <td>0.962757</td>\n",
       "    </tr>\n",
       "    <tr>\n",
       "      <th>PetalWidthCm</th>\n",
       "      <td>0.817954</td>\n",
       "      <td>-0.356544</td>\n",
       "      <td>0.962757</td>\n",
       "      <td>1.000000</td>\n",
       "    </tr>\n",
       "  </tbody>\n",
       "</table>\n",
       "</div>"
      ],
      "text/plain": [
       "               SepalLengthCm  SepalWidthCm  PetalLengthCm  PetalWidthCm\n",
       "SepalLengthCm       1.000000     -0.109369       0.871754      0.817954\n",
       "SepalWidthCm       -0.109369      1.000000      -0.420516     -0.356544\n",
       "PetalLengthCm       0.871754     -0.420516       1.000000      0.962757\n",
       "PetalWidthCm        0.817954     -0.356544       0.962757      1.000000"
      ]
     },
     "execution_count": 19,
     "metadata": {},
     "output_type": "execute_result"
    }
   ],
   "source": [
    "df.corr()"
   ]
  }
 ],
 "metadata": {
  "kernelspec": {
   "display_name": "Python 3 (ipykernel)",
   "language": "python",
   "name": "python3"
  },
  "language_info": {
   "codemirror_mode": {
    "name": "ipython",
    "version": 3
   },
   "file_extension": ".py",
   "mimetype": "text/x-python",
   "name": "python",
   "nbconvert_exporter": "python",
   "pygments_lexer": "ipython3",
   "version": "3.9.7"
  }
 },
 "nbformat": 4,
 "nbformat_minor": 5
}
