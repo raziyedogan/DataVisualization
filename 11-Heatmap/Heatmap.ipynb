{
 "cells": [
  {
   "cell_type": "markdown",
   "id": "fa9ab872",
   "metadata": {},
   "source": [
    "Standart olan kütüphaneleri import etme, veri setlerini çağırma ve veri setinde gerekli düzenlemeleri yapma işlemlerini gerçekleştirelim."
   ]
  },
  {
   "cell_type": "code",
   "execution_count": 1,
   "id": "8083d4f5",
   "metadata": {},
   "outputs": [],
   "source": [
    "import numpy as np\n",
    "import pandas as pd\n",
    "import seaborn as sns\n",
    "import matplotlib.pyplot as plt"
   ]
  },
  {
   "cell_type": "code",
   "execution_count": 2,
   "id": "c68ef9b3",
   "metadata": {},
   "outputs": [],
   "source": [
    "median_house_hold_in_come = pd.read_csv(\"MedianHouseholdIncome2015.csv\", encoding=\"windows-1252\")\n",
    "percentage_people_below_poverty_level = pd.read_csv(\"PercentagePeopleBelowPovertyLevel.csv\", encoding=\"windows-1252\")\n",
    "percent_over_25_completed_highSchool = pd.read_csv(\"PercentOver25CompletedHighSchool.csv\", encoding=\"windows-1252\")\n",
    "share_race_city = pd.read_csv(\"ShareRaceByCity.csv\", encoding=\"windows-1252\")\n",
    "kill = pd.read_csv(\"PoliceKillingsUS.csv\", encoding=\"windows-1252\")"
   ]
  },
  {
   "cell_type": "code",
   "execution_count": 3,
   "id": "89d11515",
   "metadata": {},
   "outputs": [],
   "source": [
    "percentage_people_below_poverty_level.poverty_rate.replace(['-'],0.0,inplace = True)"
   ]
  },
  {
   "cell_type": "code",
   "execution_count": 4,
   "id": "6453d805",
   "metadata": {},
   "outputs": [],
   "source": [
    "percentage_people_below_poverty_level.poverty_rate = percentage_people_below_poverty_level.poverty_rate.astype(float)"
   ]
  },
  {
   "cell_type": "code",
   "execution_count": 5,
   "id": "4b041f2e",
   "metadata": {},
   "outputs": [],
   "source": [
    "#barPlot1 dökümanı\n",
    "area_list = list(percentage_people_below_poverty_level['Geographic Area'].unique())\n",
    "area_poverty_ratio = []\n",
    "for i in area_list:\n",
    "    x = percentage_people_below_poverty_level[percentage_people_below_poverty_level['Geographic Area']==i]\n",
    "    area_poverty_rate = sum(x.poverty_rate)/len(x)\n",
    "    area_poverty_ratio.append(area_poverty_rate)\n",
    "data = pd.DataFrame({'area_list': area_list,'area_poverty_ratio':area_poverty_ratio})\n",
    "new_index = (data['area_poverty_ratio'].sort_values(ascending=False)).index.values\n",
    "sorted_data = data.reindex(new_index)"
   ]
  },
  {
   "cell_type": "code",
   "execution_count": 6,
   "id": "b47212c6",
   "metadata": {},
   "outputs": [],
   "source": [
    "#barPlot2 dökümanı\n",
    "percent_over_25_completed_highSchool.percent_completed_hs.replace(['-'],0.0,inplace = True)\n",
    "percent_over_25_completed_highSchool.percent_completed_hs = percent_over_25_completed_highSchool.percent_completed_hs.astype(float)\n",
    "area_list = list(percent_over_25_completed_highSchool['Geographic Area'].unique())\n",
    "area_highschool = []\n",
    "for i in area_list:\n",
    "    x = percent_over_25_completed_highSchool[percent_over_25_completed_highSchool['Geographic Area']==i]\n",
    "    area_highschool_rate = sum(x.percent_completed_hs)/len(x)\n",
    "    area_highschool.append(area_highschool_rate)\n",
    "# sorting\n",
    "data = pd.DataFrame({'area_list': area_list,'area_highschool_ratio':area_highschool})\n",
    "new_index = (data['area_highschool_ratio'].sort_values(ascending=True)).index.values\n",
    "sorted_data2 = data.reindex(new_index)"
   ]
  },
  {
   "cell_type": "code",
   "execution_count": 7,
   "id": "3dc1c536",
   "metadata": {},
   "outputs": [],
   "source": [
    "sorted_data['area_poverty_ratio'] = sorted_data['area_poverty_ratio']/max( sorted_data['area_poverty_ratio'])\n",
    "sorted_data2['area_highschool_ratio'] = sorted_data2['area_highschool_ratio']/max( sorted_data2['area_highschool_ratio'])"
   ]
  },
  {
   "cell_type": "code",
   "execution_count": 8,
   "id": "bb983019",
   "metadata": {},
   "outputs": [],
   "source": [
    "data = pd.concat([sorted_data,sorted_data2['area_highschool_ratio']],axis=1)"
   ]
  },
  {
   "cell_type": "code",
   "execution_count": 9,
   "id": "18b36706",
   "metadata": {},
   "outputs": [],
   "source": [
    "data.sort_values('area_poverty_ratio',inplace=True)"
   ]
  },
  {
   "cell_type": "markdown",
   "id": "e7fe1175",
   "metadata": {},
   "source": [
    "<font color = 'Blue'>\n",
    "Heatmap genelde data içerisinde korelasyonu ortaya çıkarmak, görselleştirmek için kullanılır."
   ]
  },
  {
   "cell_type": "markdown",
   "id": "fd45eceb",
   "metadata": {},
   "source": [
    "Liseden mezun olma oranı ile fakirlik oranı arasındaki ilişkiyi görselleştirelim."
   ]
  },
  {
   "cell_type": "code",
   "execution_count": 10,
   "id": "44fde915",
   "metadata": {},
   "outputs": [
    {
     "data": {
      "text/html": [
       "<div>\n",
       "<style scoped>\n",
       "    .dataframe tbody tr th:only-of-type {\n",
       "        vertical-align: middle;\n",
       "    }\n",
       "\n",
       "    .dataframe tbody tr th {\n",
       "        vertical-align: top;\n",
       "    }\n",
       "\n",
       "    .dataframe thead th {\n",
       "        text-align: right;\n",
       "    }\n",
       "</style>\n",
       "<table border=\"1\" class=\"dataframe\">\n",
       "  <thead>\n",
       "    <tr style=\"text-align: right;\">\n",
       "      <th></th>\n",
       "      <th>area_list</th>\n",
       "      <th>area_poverty_ratio</th>\n",
       "      <th>area_highschool_ratio</th>\n",
       "    </tr>\n",
       "  </thead>\n",
       "  <tbody>\n",
       "    <tr>\n",
       "      <th>30</th>\n",
       "      <td>NJ</td>\n",
       "      <td>0.303558</td>\n",
       "      <td>0.983615</td>\n",
       "    </tr>\n",
       "    <tr>\n",
       "      <th>50</th>\n",
       "      <td>WY</td>\n",
       "      <td>0.337139</td>\n",
       "      <td>0.912479</td>\n",
       "    </tr>\n",
       "    <tr>\n",
       "      <th>6</th>\n",
       "      <td>CT</td>\n",
       "      <td>0.339883</td>\n",
       "      <td>0.995254</td>\n",
       "    </tr>\n",
       "    <tr>\n",
       "      <th>21</th>\n",
       "      <td>MA</td>\n",
       "      <td>0.355090</td>\n",
       "      <td>1.000000</td>\n",
       "    </tr>\n",
       "    <tr>\n",
       "      <th>20</th>\n",
       "      <td>MD</td>\n",
       "      <td>0.382097</td>\n",
       "      <td>0.957107</td>\n",
       "    </tr>\n",
       "  </tbody>\n",
       "</table>\n",
       "</div>"
      ],
      "text/plain": [
       "   area_list  area_poverty_ratio  area_highschool_ratio\n",
       "30        NJ            0.303558               0.983615\n",
       "50        WY            0.337139               0.912479\n",
       "6         CT            0.339883               0.995254\n",
       "21        MA            0.355090               1.000000\n",
       "20        MD            0.382097               0.957107"
      ]
     },
     "execution_count": 10,
     "metadata": {},
     "output_type": "execute_result"
    }
   ],
   "source": [
    "data.head()"
   ]
  },
  {
   "cell_type": "markdown",
   "id": "fede1195",
   "metadata": {},
   "source": [
    "data içeriği çıktıda görüldüğü gibidir."
   ]
  },
  {
   "cell_type": "code",
   "execution_count": 11,
   "id": "5d4d403d",
   "metadata": {},
   "outputs": [
    {
     "data": {
      "text/html": [
       "<div>\n",
       "<style scoped>\n",
       "    .dataframe tbody tr th:only-of-type {\n",
       "        vertical-align: middle;\n",
       "    }\n",
       "\n",
       "    .dataframe tbody tr th {\n",
       "        vertical-align: top;\n",
       "    }\n",
       "\n",
       "    .dataframe thead th {\n",
       "        text-align: right;\n",
       "    }\n",
       "</style>\n",
       "<table border=\"1\" class=\"dataframe\">\n",
       "  <thead>\n",
       "    <tr style=\"text-align: right;\">\n",
       "      <th></th>\n",
       "      <th>area_poverty_ratio</th>\n",
       "      <th>area_highschool_ratio</th>\n",
       "    </tr>\n",
       "  </thead>\n",
       "  <tbody>\n",
       "    <tr>\n",
       "      <th>area_poverty_ratio</th>\n",
       "      <td>1.000000</td>\n",
       "      <td>-0.805761</td>\n",
       "    </tr>\n",
       "    <tr>\n",
       "      <th>area_highschool_ratio</th>\n",
       "      <td>-0.805761</td>\n",
       "      <td>1.000000</td>\n",
       "    </tr>\n",
       "  </tbody>\n",
       "</table>\n",
       "</div>"
      ],
      "text/plain": [
       "                       area_poverty_ratio  area_highschool_ratio\n",
       "area_poverty_ratio               1.000000              -0.805761\n",
       "area_highschool_ratio           -0.805761               1.000000"
      ]
     },
     "execution_count": 11,
     "metadata": {},
     "output_type": "execute_result"
    }
   ],
   "source": [
    "data.corr()"
   ]
  },
  {
   "cell_type": "markdown",
   "id": "e35873d2",
   "metadata": {},
   "source": [
    "Yukarıdaki satır ile data içerisindeki korelasyonu görüntüledim.\n",
    "\n",
    "Korelasyon sadece sayısal değerler arasında olur. Çünkü iki tane string arasında bir ilişki olamaz.\n",
    "\n",
    "Çıktıyı inceleyelim. area_poverty_ratio ile area_highschool_ratio arasında -0.8 değerinde bir korelasyon olduğunu görüyoruz. Eğer korelasyon 1 değerinde olsaydı bu doğru orantı anlamına gelirdi. \n",
    "\n",
    "Mesela şöyle düşünebiliriz: Evin fiyatı arttıkça evin oda sayısı artar diyebiliriz. Bu iki durum doğru orantılıdır. Aralarındaki korelasyon 1'dir ya da 1'e yakındır. \n",
    "\n",
    "Mesela evin şehir merkezine uzaklığı arttıkça fiyatı azalır. Burada ters orantı yani negatif korelasyon vardır. Bu durumda korelasyon -1'e yaklaşır. \n",
    "\n",
    "Mesela Türkiye'deki bölgelerin sayısı ve Amerika'da her yıl üretilen balık sayısı arasında bir ilişki yoktur. Ters ya da doğru orantı yok. Korelasyon olmadığı için 0 'dır.\n",
    "\n",
    "area_poverty_ratio ve area_poverty_ratio arasındaki ilişki çıktıda görüldüğü üzere 1'dir. İki feature aynı olduğu için biri artıyorsa diğeride artacağından doğru orantı olur. \n",
    "\n",
    "Aynı şekilde area_highschool_ratio ve area_highschool_ratio feature'lerinin korelasyon değerleri 1 'dir. İki feature aynı olduğu için aynı davranışı sergilerler ve buda doğru orantıdır.\n",
    "\n",
    "area_highschool_ratio ile area_poverty_ratio arasında -0.8 değerinde bir orantı var. Bunun anlamı, ters orantıdır. Yani bu iki feature arasında -1'e yakın güçlü bir ters orantı vardır. \n",
    "\n",
    "<font color = 'Violet'><br>\n",
    "Heatmap, yukarıdaki çıktının anlaşılabilirliği daha kolay görsel halidir."
   ]
  },
  {
   "cell_type": "code",
   "execution_count": 12,
   "id": "0236526a",
   "metadata": {},
   "outputs": [
    {
     "data": {
      "image/png": "[encoded data removed]",
      "text/plain": [
       "<Figure size 360x360 with 2 Axes>"
      ]
     },
     "metadata": {
      "needs_background": "light"
     },
     "output_type": "display_data"
    }
   ],
   "source": [
    "f,ax = plt.subplots(figsize=(5, 5))\n",
    "sns.heatmap(data.corr(), annot=True, linewidths=0.5,linecolor=\"red\", fmt= '.1f',ax=ax)\n",
    "plt.show()"
   ]
  },
  {
   "cell_type": "markdown",
   "id": "8ce1085f",
   "metadata": {},
   "source": [
    "Yukarıdaki kod bloğunu açıklayalım. x ekseni uzunluğu 5 ve y ekseni uzunluğu 5 olan bir figür oluşturdum. \n",
    "\n",
    "sns.heatmap(data.corr(), annot=True, linewidths=0.5,linecolor=\"red\", fmt= '.1f',ax=ax) satırı: ilk parametre ile korelasyon tablosunu belirttik. 2.parametre tablo içerisindeki hücrelerin üzerinde yazan sayıların görünmesini sağlar. 3.parametre hücreler arasındaki kırmızı çizginin kalınlığını ifade eder. 4.parametre hücreler arasındaki kırmızı çizgiye, kırmızı rengini vermemizi sağlar. 5.parametre virgülden sonra kaç hanenin olaacğını ifade eder."
   ]
  }
 ],
 "metadata": {
  "kernelspec": {
   "display_name": "Python 3 (ipykernel)",
   "language": "python",
   "name": "python3"
  },
  "language_info": {
   "codemirror_mode": {
    "name": "ipython",
    "version": 3
   },
   "file_extension": ".py",
   "mimetype": "text/x-python",
   "name": "python",
   "nbconvert_exporter": "python",
   "pygments_lexer": "ipython3",
   "version": "3.9.7"
  }
 },
 "nbformat": 4,
 "nbformat_minor": 5
}
