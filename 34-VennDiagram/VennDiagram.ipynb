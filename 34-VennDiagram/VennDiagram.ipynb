{
 "cells": [
  {
   "cell_type": "markdown",
   "id": "aeee366d",
   "metadata": {},
   "source": [
    "# Venn Diagram"
   ]
  },
  {
   "cell_type": "markdown",
   "id": "d4873dfd",
   "metadata": {},
   "source": [
    "Venn diagram, matplotlib kütüphanesine aittir."
   ]
  },
  {
   "cell_type": "code",
   "execution_count": 1,
   "id": "f0872d9a",
   "metadata": {},
   "outputs": [],
   "source": [
    "import pandas as pd \n",
    "import matplotlib.pyplot as plt"
   ]
  },
  {
   "cell_type": "code",
   "execution_count": 2,
   "id": "18355f19",
   "metadata": {},
   "outputs": [],
   "source": [
    "data = pd.read_csv(\"Iris.csv\")\n",
    "data = data.drop(['Id'],axis=1)"
   ]
  },
  {
   "cell_type": "code",
   "execution_count": 3,
   "id": "b73489c7",
   "metadata": {},
   "outputs": [
    {
     "data": {
      "image/png": "[encoded data removed]",
      "text/plain": [
       "<Figure size 432x288 with 1 Axes>"
      ]
     },
     "metadata": {},
     "output_type": "display_data"
    }
   ],
   "source": [
    "from matplotlib_venn import venn2\n",
    "\n",
    "sepal_length = data.iloc[:,0]\n",
    "sepal_width = data.iloc[:,1]\n",
    "petal_length = data.iloc[:,2]\n",
    "petal_width = data.iloc[:,3]\n",
    "\n",
    "venn2(subsets = (len(sepal_length)-15, len(sepal_width)-15, 15), set_labels = ('sepal_length', 'sepal_width'))\n",
    "plt.show()"
   ]
  },
  {
   "cell_type": "markdown",
   "id": "e94aeef1",
   "metadata": {},
   "source": [
    "<font color = \"CornflowerBlue\"><br>\n",
    "venn2(subsets = (len(sepal_length)-15, len(sepal_width)-15, 15), set_labels = ('sepal_length', 'sepal_width'))\n",
    "    \n",
    "Satırında (len(sepal_length)-15 kısmını A kümesinin B kümesinden farkı şeklinde düşünebiliriz. len(sepal_width)-15 kısmını B kümesinin A kümesinden farkı şeklinde düşünebiliriz. Ve en sondaki 15 kesişimleridir. ('sepal_length', 'sepal_width') kısmını ise A kümesi sepal_length ve B kümesi sepal_width şeklinde düşünebiliriz."
   ]
  }
 ],
 "metadata": {
  "kernelspec": {
   "display_name": "Python 3 (ipykernel)",
   "language": "python",
   "name": "python3"
  },
  "language_info": {
   "codemirror_mode": {
    "name": "ipython",
    "version": 3
   },
   "file_extension": ".py",
   "mimetype": "text/x-python",
   "name": "python",
   "nbconvert_exporter": "python",
   "pygments_lexer": "ipython3",
   "version": "3.9.7"
  }
 },
 "nbformat": 4,
 "nbformat_minor": 5
}
