{
 "cells": [
  {
   "cell_type": "markdown",
   "id": "97222e79",
   "metadata": {},
   "source": [
    "Standart olan kütüphaneleri import etme, veri setlerini çağırma ve veri setinde gerekli düzenlemeleri yapma işlemlerini gerçekleştirelim."
   ]
  },
  {
   "cell_type": "code",
   "execution_count": 1,
   "id": "51b0b708",
   "metadata": {},
   "outputs": [],
   "source": [
    "import numpy as np\n",
    "import pandas as pd\n",
    "import seaborn as sns\n",
    "import matplotlib.pyplot as plt"
   ]
  },
  {
   "cell_type": "code",
   "execution_count": 2,
   "id": "c729c4d1",
   "metadata": {},
   "outputs": [],
   "source": [
    "median_house_hold_in_come = pd.read_csv(\"MedianHouseholdIncome2015.csv\", encoding=\"windows-1252\")\n",
    "percentage_people_below_poverty_level = pd.read_csv(\"PercentagePeopleBelowPovertyLevel.csv\", encoding=\"windows-1252\")\n",
    "percent_over_25_completed_highSchool = pd.read_csv(\"PercentOver25CompletedHighSchool.csv\", encoding=\"windows-1252\")\n",
    "share_race_city = pd.read_csv(\"ShareRaceByCity.csv\", encoding=\"windows-1252\")\n",
    "kill = pd.read_csv(\"PoliceKillingsUS.csv\", encoding=\"windows-1252\")"
   ]
  },
  {
   "cell_type": "code",
   "execution_count": 3,
   "id": "155c79fe",
   "metadata": {},
   "outputs": [],
   "source": [
    "percentage_people_below_poverty_level.poverty_rate.replace(['-'],0.0,inplace = True)"
   ]
  },
  {
   "cell_type": "code",
   "execution_count": 4,
   "id": "d30ecd56",
   "metadata": {},
   "outputs": [],
   "source": [
    "percentage_people_below_poverty_level.poverty_rate = percentage_people_below_poverty_level.poverty_rate.astype(float)"
   ]
  },
  {
   "cell_type": "markdown",
   "id": "d6bb6393",
   "metadata": {},
   "source": [
    "Fakirlik oranı ile liseden mezun olma oranlarının karşılaştırılması üzerine görselleştirme gerçekleştirelim."
   ]
  },
  {
   "cell_type": "code",
   "execution_count": 5,
   "id": "a700c133",
   "metadata": {},
   "outputs": [],
   "source": [
    "#barPlot1 dökümanı\n",
    "area_list = list(percentage_people_below_poverty_level['Geographic Area'].unique())\n",
    "area_poverty_ratio = []\n",
    "for i in area_list:\n",
    "    x = percentage_people_below_poverty_level[percentage_people_below_poverty_level['Geographic Area']==i]\n",
    "    area_poverty_rate = sum(x.poverty_rate)/len(x)\n",
    "    area_poverty_ratio.append(area_poverty_rate)\n",
    "data = pd.DataFrame({'area_list': area_list,'area_poverty_ratio':area_poverty_ratio})\n",
    "new_index = (data['area_poverty_ratio'].sort_values(ascending=False)).index.values\n",
    "sorted_data = data.reindex(new_index)"
   ]
  },
  {
   "cell_type": "code",
   "execution_count": 6,
   "id": "866eb8a7",
   "metadata": {},
   "outputs": [],
   "source": [
    "#barPlot2 dökümanı\n",
    "percent_over_25_completed_highSchool.percent_completed_hs.replace(['-'],0.0,inplace = True)\n",
    "percent_over_25_completed_highSchool.percent_completed_hs = percent_over_25_completed_highSchool.percent_completed_hs.astype(float)\n",
    "area_list = list(percent_over_25_completed_highSchool['Geographic Area'].unique())\n",
    "area_highschool = []\n",
    "for i in area_list:\n",
    "    x = percent_over_25_completed_highSchool[percent_over_25_completed_highSchool['Geographic Area']==i]\n",
    "    area_highschool_rate = sum(x.percent_completed_hs)/len(x)\n",
    "    area_highschool.append(area_highschool_rate)\n",
    "# sorting\n",
    "data = pd.DataFrame({'area_list': area_list,'area_highschool_ratio':area_highschool})\n",
    "new_index = (data['area_highschool_ratio'].sort_values(ascending=True)).index.values\n",
    "sorted_data2 = data.reindex(new_index)"
   ]
  },
  {
   "cell_type": "code",
   "execution_count": 7,
   "id": "47dab884",
   "metadata": {},
   "outputs": [],
   "source": [
    "sorted_data['area_poverty_ratio'] = sorted_data['area_poverty_ratio']/max( sorted_data['area_poverty_ratio'])\n",
    "sorted_data2['area_highschool_ratio'] = sorted_data2['area_highschool_ratio']/max( sorted_data2['area_highschool_ratio'])"
   ]
  },
  {
   "cell_type": "code",
   "execution_count": 8,
   "id": "23527fb9",
   "metadata": {},
   "outputs": [],
   "source": [
    "data = pd.concat([sorted_data,sorted_data2['area_highschool_ratio']],axis=1)"
   ]
  },
  {
   "cell_type": "code",
   "execution_count": 9,
   "id": "d49e052c",
   "metadata": {},
   "outputs": [],
   "source": [
    "data.sort_values('area_poverty_ratio',inplace=True)"
   ]
  },
  {
   "cell_type": "markdown",
   "id": "a7ee728d",
   "metadata": {},
   "source": [
    "data'nın içeriğine bakalım."
   ]
  },
  {
   "cell_type": "code",
   "execution_count": 10,
   "id": "92adcdab",
   "metadata": {},
   "outputs": [
    {
     "data": {
      "text/html": [
       "<div>\n",
       "<style scoped>\n",
       "    .dataframe tbody tr th:only-of-type {\n",
       "        vertical-align: middle;\n",
       "    }\n",
       "\n",
       "    .dataframe tbody tr th {\n",
       "        vertical-align: top;\n",
       "    }\n",
       "\n",
       "    .dataframe thead th {\n",
       "        text-align: right;\n",
       "    }\n",
       "</style>\n",
       "<table border=\"1\" class=\"dataframe\">\n",
       "  <thead>\n",
       "    <tr style=\"text-align: right;\">\n",
       "      <th></th>\n",
       "      <th>area_list</th>\n",
       "      <th>area_poverty_ratio</th>\n",
       "      <th>area_highschool_ratio</th>\n",
       "    </tr>\n",
       "  </thead>\n",
       "  <tbody>\n",
       "    <tr>\n",
       "      <th>30</th>\n",
       "      <td>NJ</td>\n",
       "      <td>0.303558</td>\n",
       "      <td>0.983615</td>\n",
       "    </tr>\n",
       "    <tr>\n",
       "      <th>50</th>\n",
       "      <td>WY</td>\n",
       "      <td>0.337139</td>\n",
       "      <td>0.912479</td>\n",
       "    </tr>\n",
       "    <tr>\n",
       "      <th>6</th>\n",
       "      <td>CT</td>\n",
       "      <td>0.339883</td>\n",
       "      <td>0.995254</td>\n",
       "    </tr>\n",
       "    <tr>\n",
       "      <th>21</th>\n",
       "      <td>MA</td>\n",
       "      <td>0.355090</td>\n",
       "      <td>1.000000</td>\n",
       "    </tr>\n",
       "    <tr>\n",
       "      <th>20</th>\n",
       "      <td>MD</td>\n",
       "      <td>0.382097</td>\n",
       "      <td>0.957107</td>\n",
       "    </tr>\n",
       "  </tbody>\n",
       "</table>\n",
       "</div>"
      ],
      "text/plain": [
       "   area_list  area_poverty_ratio  area_highschool_ratio\n",
       "30        NJ            0.303558               0.983615\n",
       "50        WY            0.337139               0.912479\n",
       "6         CT            0.339883               0.995254\n",
       "21        MA            0.355090               1.000000\n",
       "20        MD            0.382097               0.957107"
      ]
     },
     "execution_count": 10,
     "metadata": {},
     "output_type": "execute_result"
    }
   ],
   "source": [
    "data.head()"
   ]
  },
  {
   "cell_type": "markdown",
   "id": "5fbb506e",
   "metadata": {},
   "source": [
    "Data'nın içerisinde bulunan area_list sütununda eyalet isimleri, area_poverty_ratio sütununda fakirlik oranı,\tarea_highschool_ratio sütununda liseden mezun olma oranı bilgileri bulunmaktadır."
   ]
  },
  {
   "cell_type": "code",
   "execution_count": 11,
   "id": "2927fa14",
   "metadata": {},
   "outputs": [
    {
     "name": "stderr",
     "output_type": "stream",
     "text": [
      "C:\\Users\\raziy\\anaconda3\\lib\\site-packages\\seaborn\\_decorators.py:36: FutureWarning: Pass the following variable as a keyword arg: y. From version 0.12, the only valid positional argument will be `data`, and passing other arguments without an explicit keyword will result in an error or misinterpretation.\n",
      "  warnings.warn(\n"
     ]
    },
    {
     "data": {
      "image/png": "[encoded data removed]",
      "text/plain": [
       "<Figure size 432x288 with 1 Axes>"
      ]
     },
     "metadata": {
      "needs_background": "light"
     },
     "output_type": "display_data"
    }
   ],
   "source": [
    "sns.kdeplot(data.area_poverty_ratio, data.area_highschool_ratio, shade=True, cut=3)\n",
    "plt.show()"
   ]
  },
  {
   "cell_type": "markdown",
   "id": "e999fa8a",
   "metadata": {},
   "source": [
    "x ekseninde yoksulluk oranı bilgisi ve y ekseninde liseden mezun olma oranı bilgisi yer almakta. shade=True parametresi çizglerin iç kısmındaki mavi dolulukların olmasını sağlar. Koyu mavi kısmın anlamı: x eksenindeki 0.5 değeri ile y eksenindeki 0.95 değeri data'da en çok bulunan değerlerdir. cut=3 parametresi mavi şeklin büyüklüğüdür."
   ]
  }
 ],
 "metadata": {
  "kernelspec": {
   "display_name": "Python 3 (ipykernel)",
   "language": "python",
   "name": "python3"
  },
  "language_info": {
   "codemirror_mode": {
    "name": "ipython",
    "version": 3
   },
   "file_extension": ".py",
   "mimetype": "text/x-python",
   "name": "python",
   "nbconvert_exporter": "python",
   "pygments_lexer": "ipython3",
   "version": "3.9.7"
  }
 },
 "nbformat": 4,
 "nbformat_minor": 5
}
