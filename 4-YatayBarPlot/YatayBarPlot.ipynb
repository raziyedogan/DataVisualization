{
 "cells": [
  {
   "cell_type": "markdown",
   "id": "53d104f0",
   "metadata": {},
   "source": [
    "Standart olan kütüphaneleri import etme, veri setlerini çağırma ve gerekli düzenlemeleri yapma işlemlerini gerçekleştirelim."
   ]
  },
  {
   "cell_type": "code",
   "execution_count": 1,
   "id": "4fc5d4a3",
   "metadata": {},
   "outputs": [],
   "source": [
    "import numpy as np\n",
    "import pandas as pd\n",
    "import seaborn as sns\n",
    "import matplotlib.pyplot as plt"
   ]
  },
  {
   "cell_type": "code",
   "execution_count": 2,
   "id": "bf909d32",
   "metadata": {},
   "outputs": [],
   "source": [
    "median_house_hold_in_come = pd.read_csv(\"MedianHouseholdIncome2015.csv\", encoding=\"windows-1252\")\n",
    "percentage_people_below_poverty_level = pd.read_csv(\"PercentagePeopleBelowPovertyLevel.csv\", encoding=\"windows-1252\")\n",
    "percent_over_25_completed_highSchool = pd.read_csv(\"PercentOver25CompletedHighSchool.csv\", encoding=\"windows-1252\")\n",
    "share_race_city = pd.read_csv(\"ShareRaceByCity.csv\", encoding=\"windows-1252\")\n",
    "kill = pd.read_csv(\"PoliceKillingsUS.csv\", encoding=\"windows-1252\")"
   ]
  },
  {
   "cell_type": "code",
   "execution_count": 3,
   "id": "dcb8cbd0",
   "metadata": {},
   "outputs": [],
   "source": [
    "percentage_people_below_poverty_level.poverty_rate.replace(['-'],0.0,inplace = True)"
   ]
  },
  {
   "cell_type": "code",
   "execution_count": 4,
   "id": "a2868d58",
   "metadata": {},
   "outputs": [],
   "source": [
    "percentage_people_below_poverty_level.poverty_rate = percentage_people_below_poverty_level.poverty_rate.astype(float)"
   ]
  },
  {
   "cell_type": "markdown",
   "id": "c87ad49a",
   "metadata": {},
   "source": [
    "3-BarPlot2 isimli dökümanda dikey barlar vardı ve x ekseni eyaletleri, y ekseni değerleri ifade ediyordu.\n",
    "\n",
    "Şimdi ise y ekseni eyaletleri ve x ekseni Percentage of Races olacak şekilde yapalım."
   ]
  },
  {
   "cell_type": "markdown",
   "id": "ece5f9cb",
   "metadata": {},
   "source": [
    "Eyaletlerdeki ırkların oranını görselleştirelim. Mesela New York eyaletindeki asyalı insanların oranına bu görsel sayesinde rahatlıkla bakabiliriz. Bu işlem için share_race_city değişkeninde tutulan data'yı kullanacağız. Öncelikle bu data'nın içeriğine bakalım."
   ]
  },
  {
   "cell_type": "code",
   "execution_count": 5,
   "id": "f801418b",
   "metadata": {},
   "outputs": [
    {
     "data": {
      "text/html": [
       "<div>\n",
       "<style scoped>\n",
       "    .dataframe tbody tr th:only-of-type {\n",
       "        vertical-align: middle;\n",
       "    }\n",
       "\n",
       "    .dataframe tbody tr th {\n",
       "        vertical-align: top;\n",
       "    }\n",
       "\n",
       "    .dataframe thead th {\n",
       "        text-align: right;\n",
       "    }\n",
       "</style>\n",
       "<table border=\"1\" class=\"dataframe\">\n",
       "  <thead>\n",
       "    <tr style=\"text-align: right;\">\n",
       "      <th></th>\n",
       "      <th>Geographic area</th>\n",
       "      <th>City</th>\n",
       "      <th>share_white</th>\n",
       "      <th>share_black</th>\n",
       "      <th>share_native_american</th>\n",
       "      <th>share_asian</th>\n",
       "      <th>share_hispanic</th>\n",
       "    </tr>\n",
       "  </thead>\n",
       "  <tbody>\n",
       "    <tr>\n",
       "      <th>0</th>\n",
       "      <td>AL</td>\n",
       "      <td>Abanda CDP</td>\n",
       "      <td>67.2</td>\n",
       "      <td>30.2</td>\n",
       "      <td>0</td>\n",
       "      <td>0</td>\n",
       "      <td>1.6</td>\n",
       "    </tr>\n",
       "    <tr>\n",
       "      <th>1</th>\n",
       "      <td>AL</td>\n",
       "      <td>Abbeville city</td>\n",
       "      <td>54.4</td>\n",
       "      <td>41.4</td>\n",
       "      <td>0.1</td>\n",
       "      <td>1</td>\n",
       "      <td>3.1</td>\n",
       "    </tr>\n",
       "    <tr>\n",
       "      <th>2</th>\n",
       "      <td>AL</td>\n",
       "      <td>Adamsville city</td>\n",
       "      <td>52.3</td>\n",
       "      <td>44.9</td>\n",
       "      <td>0.5</td>\n",
       "      <td>0.3</td>\n",
       "      <td>2.3</td>\n",
       "    </tr>\n",
       "    <tr>\n",
       "      <th>3</th>\n",
       "      <td>AL</td>\n",
       "      <td>Addison town</td>\n",
       "      <td>99.1</td>\n",
       "      <td>0.1</td>\n",
       "      <td>0</td>\n",
       "      <td>0.1</td>\n",
       "      <td>0.4</td>\n",
       "    </tr>\n",
       "    <tr>\n",
       "      <th>4</th>\n",
       "      <td>AL</td>\n",
       "      <td>Akron town</td>\n",
       "      <td>13.2</td>\n",
       "      <td>86.5</td>\n",
       "      <td>0</td>\n",
       "      <td>0</td>\n",
       "      <td>0.3</td>\n",
       "    </tr>\n",
       "  </tbody>\n",
       "</table>\n",
       "</div>"
      ],
      "text/plain": [
       "  Geographic area             City share_white share_black  \\\n",
       "0              AL       Abanda CDP        67.2        30.2   \n",
       "1              AL   Abbeville city        54.4        41.4   \n",
       "2              AL  Adamsville city        52.3        44.9   \n",
       "3              AL     Addison town        99.1         0.1   \n",
       "4              AL       Akron town        13.2        86.5   \n",
       "\n",
       "  share_native_american share_asian share_hispanic  \n",
       "0                     0           0            1.6  \n",
       "1                   0.1           1            3.1  \n",
       "2                   0.5         0.3            2.3  \n",
       "3                     0         0.1            0.4  \n",
       "4                     0           0            0.3  "
      ]
     },
     "execution_count": 5,
     "metadata": {},
     "output_type": "execute_result"
    }
   ],
   "source": [
    "share_race_city.head()"
   ]
  },
  {
   "cell_type": "markdown",
   "id": "dd29c36c",
   "metadata": {},
   "source": [
    "Çıktıyı inceleyelim.\n",
    "\n",
    "Geographic area: Eyaletler bilgisini tutar.\n",
    "\n",
    "City: Şehirler bilgisini tutar.\n",
    "\n",
    "share_white: Beyaz insanlar bilgisini tutar.\n",
    "\n",
    "share_black: Afrika kökenli Amerikalı insanların bilgisini tutar.\n",
    "\n",
    "share_native_american: Yerli insanların bilgisini tutar.\n",
    "\n",
    "share_asian: Asyalı insanların bilgisini tutar.\n",
    "\n",
    "share_hispanic: İspanyol kökenli insanların bilgisini tutar."
   ]
  },
  {
   "cell_type": "markdown",
   "id": "7f9a867d",
   "metadata": {},
   "source": [
    "Veri setinde amaçlarımız için düzeltmemiz gereken bir durum olup olmadığını anlamak için info() metodu sonucunu inceleyelim."
   ]
  },
  {
   "cell_type": "code",
   "execution_count": 6,
   "id": "6f99e051",
   "metadata": {},
   "outputs": [
    {
     "name": "stdout",
     "output_type": "stream",
     "text": [
      "<class 'pandas.core.frame.DataFrame'>\n",
      "RangeIndex: 29268 entries, 0 to 29267\n",
      "Data columns (total 7 columns):\n",
      " #   Column                 Non-Null Count  Dtype \n",
      "---  ------                 --------------  ----- \n",
      " 0   Geographic area        29268 non-null  object\n",
      " 1   City                   29268 non-null  object\n",
      " 2   share_white            29268 non-null  object\n",
      " 3   share_black            29268 non-null  object\n",
      " 4   share_native_american  29268 non-null  object\n",
      " 5   share_asian            29268 non-null  object\n",
      " 6   share_hispanic         29268 non-null  object\n",
      "dtypes: object(7)\n",
      "memory usage: 1.6+ MB\n"
     ]
    }
   ],
   "source": [
    "share_race_city.info()"
   ]
  },
  {
   "cell_type": "markdown",
   "id": "38fab849",
   "metadata": {},
   "source": [
    "share_white, share_black, share_native_american, share_asian, share_hispanic sütunları oran tutmakta fakat veri tiplerinin string olduğu görülmekte. String tipini sayısal bir veri tipine çevirmeliyiz ki oransal bir sonuç elde edebilelim."
   ]
  },
  {
   "cell_type": "markdown",
   "id": "2dfb1ab3",
   "metadata": {},
   "source": [
    "Öncelikle veri setini düzenleyelim. Veri seti içerisinde - ve (X) şeklinde değerler var. Bunların anlamı, doğru bir veri alınamadığı için boş veya veri yok anlamında - ve (X) değerleri konulmuş. Bizim bir oran bulmamız lazım dolayısıyla bu değerlerin yerine 0 yazmalıyız."
   ]
  },
  {
   "cell_type": "code",
   "execution_count": 7,
   "id": "443c84bb",
   "metadata": {},
   "outputs": [],
   "source": [
    "share_race_city.replace(['-'],0.0,inplace = True)\n",
    "share_race_city.replace(['(X)'],0.0,inplace = True)"
   ]
  },
  {
   "cell_type": "code",
   "execution_count": 8,
   "id": "a19543a0",
   "metadata": {},
   "outputs": [],
   "source": [
    "share_race_city.loc[:,['share_white','share_black','share_native_american','share_asian','share_hispanic']] = share_race_city.loc[:,['share_white','share_black','share_native_american','share_asian','share_hispanic']].astype(float)"
   ]
  },
  {
   "cell_type": "markdown",
   "id": "3e5be978",
   "metadata": {},
   "source": [
    "Yukarıda veri tipi string olan ve sayısal bir veri tipine dönüştürmemiz gereken sütunları float veri tipine çeviriyorum."
   ]
  },
  {
   "cell_type": "code",
   "execution_count": 9,
   "id": "c45c0a1f",
   "metadata": {},
   "outputs": [],
   "source": [
    "area_list = list(share_race_city['Geographic area'].unique())"
   ]
  },
  {
   "cell_type": "markdown",
   "id": "1f4ceaf7",
   "metadata": {},
   "source": [
    "Yukarıda eyaletlerden unique olanları buldum."
   ]
  },
  {
   "cell_type": "code",
   "execution_count": 10,
   "id": "b0ec8e2b",
   "metadata": {},
   "outputs": [],
   "source": [
    "share_white = []\n",
    "share_black = []\n",
    "share_native_american = []\n",
    "share_asian = []\n",
    "share_hispanic = []"
   ]
  },
  {
   "cell_type": "markdown",
   "id": "2491841c",
   "metadata": {},
   "source": [
    "Her bir ırk için bir boş liste oluşturdum."
   ]
  },
  {
   "cell_type": "code",
   "execution_count": 11,
   "id": "8b7b2620",
   "metadata": {},
   "outputs": [],
   "source": [
    "for i in area_list:\n",
    "    x = share_race_city[share_race_city['Geographic area']==i]\n",
    "    share_white.append(sum(x.share_white)/len(x))\n",
    "    share_black.append(sum(x.share_black) / len(x))\n",
    "    share_native_american.append(sum(x.share_native_american) / len(x))\n",
    "    share_asian.append(sum(x.share_asian) / len(x))\n",
    "    share_hispanic.append(sum(x.share_hispanic) / len(x))"
   ]
  },
  {
   "cell_type": "markdown",
   "id": "e4b8294d",
   "metadata": {},
   "source": [
    "Oluşturduğum boş listeleri oranlar ile dolduruyorum. Oran, ilgili ırktaki insanların toplamının bu insanların sayısına bölümü ile elde edilir.\n",
    "\n",
    "Veri setinde yazan oranlar o eyalete ait şehre göredir. Mesela AL eyaletinde Abanda CDP\tisimli şehirde 67.2\toranındadır. Biz şehirlere göre değil eyaletlere göre yaptığımız için o eyalete ait ilgili ırkın tüm oranların ortalamasını bulmalıyız. \n",
    "\n",
    "Yukarıdaki kod bloğu ile yapılan da eyaletlere göre oranları bulma işlemidir."
   ]
  },
  {
   "cell_type": "markdown",
   "id": "41d726ee",
   "metadata": {},
   "source": [
    "Buraya kadar \"Eyaletlerdeki ırkların oranı\" probleminin cevabını elde ettik. Şimdi elde ettiğimiz cevabı görselleştirelim."
   ]
  },
  {
   "cell_type": "code",
   "execution_count": 12,
   "id": "f6d24461",
   "metadata": {},
   "outputs": [
    {
     "data": {
      "text/plain": [
       "[Text(0.5, 0, 'Percentage of Races'),\n",
       " Text(0, 0.5, 'States'),\n",
       " Text(0.5, 1.0, \"Percentage of State's Population According to Races \")]"
      ]
     },
     "execution_count": 12,
     "metadata": {},
     "output_type": "execute_result"
    },
    {
     "data": {
      "image/png": "[encoded data removed]",
      "text/plain": [
       "<Figure size 648x1080 with 1 Axes>"
      ]
     },
     "metadata": {
      "needs_background": "light"
     },
     "output_type": "display_data"
    }
   ],
   "source": [
    "# visualization\n",
    "f,ax = plt.subplots(figsize = (9,15))\n",
    "sns.barplot(x=share_white,y=area_list,color='green',alpha = 0.5,label='White' )\n",
    "sns.barplot(x=share_black,y=area_list,color='blue',alpha = 0.7,label='African American')\n",
    "sns.barplot(x=share_native_american,y=area_list,color='cyan',alpha = 0.6,label='Native American')\n",
    "sns.barplot(x=share_asian,y=area_list,color='yellow',alpha = 0.6,label='Asian')\n",
    "sns.barplot(x=share_hispanic,y=area_list,color='red',alpha = 0.6,label='Hispanic')\n",
    "\n",
    "ax.legend(loc='lower right',frameon = True)     # legendlarin görünürlüğü\n",
    "ax.set(xlabel='Percentage of Races', ylabel='States',title = \"Percentage of State's Population According to Races \")"
   ]
  },
  {
   "cell_type": "markdown",
   "id": "f0039f18",
   "metadata": {},
   "source": [
    "Yukarıdaki blokta yapılanlar şu şekildedir:\n",
    "\n",
    "x ekseninin uzunluğu 9 ve y ekseninin uzunluğu 15 olan bir figür oluşturdum.\n",
    "\n",
    "sns.barplot(x=share_white,y=area_list,color='green',alpha = 0.5,label='White' ) satırı ile yapılan, x eksenine share_white 'ların oranını ve y eksenine area_list (eyaletler) 'lerin oranını koydum. Bu bar plot'un rengini yeşil yaptım. Bu rengin saydamlığını alpha=0.5 parametresi ile belirledim. label='White' parametresi ile yeşil renkteki barlaya white isminde etiket verdim. Bu satır figür üzerinde gördüğünüz yeşil barların hepsini çiziyor.\n",
    "\n",
    "Bu satırın altındaki 4 satırda da diğer ırklar için aynı işlemleri yaptım.\n",
    "\n",
    "ax.legend(loc='lower right',frameon = True) satırı: ledeng, figürün sağ alt köşesinde gördüğünüz label'ların bulunduğu küçük kutudur. Bu kutunun lokasyonunun loc='lower right' parametresi ile sağ alt köşe olmasını sağladım. frameon = True parametresi ile label'ları ifade eden yazıların arkasındaki beyaz kutunun görünmesini sağladım. Bu parametreyi False değerine eşitlerseniz, sadece label'ları ifade eden yazılar görünür ve arkalarındaki beyaz kutu görünmez.\n",
    "\n",
    "ax.set(xlabel='Percentage of Races', ylabel='States',title = \"Percentage of State's Population According to Races \") satırı ile x eksenini, y eksenini ve figürün başlığını temsil eden ifadeleri ekledim."
   ]
  },
  {
   "cell_type": "markdown",
   "id": "c43f72d8",
   "metadata": {},
   "source": [
    "Çıktıyı inceleyelim. AL'de mavi, kırmızı ve yeşil renkleri var. Yeşil rengi beyaz insanları, mavi rengi Afrika kökenli insanları ve kırmızı rengi ispanyol kökenli insanları temsil etmekte. AL eyaletinde en çok beyaz insanların, sonra Afrika kökenli insanların ve en az da ispanyol kökenli insanların olduğunu görebilmekteyiz."
   ]
  },
  {
   "cell_type": "markdown",
   "id": "d6182c4a",
   "metadata": {},
   "source": [
    "Böylelikle eyaletlerin ırklarının oranlarını görsel olarak kolaylıkla analiz edebilmemiz mümkün."
   ]
  }
 ],
 "metadata": {
  "kernelspec": {
   "display_name": "Python 3 (ipykernel)",
   "language": "python",
   "name": "python3"
  },
  "language_info": {
   "codemirror_mode": {
    "name": "ipython",
    "version": 3
   },
   "file_extension": ".py",
   "mimetype": "text/x-python",
   "name": "python",
   "nbconvert_exporter": "python",
   "pygments_lexer": "ipython3",
   "version": "3.9.7"
  }
 },
 "nbformat": 4,
 "nbformat_minor": 5
}
