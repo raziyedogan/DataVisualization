{
 "cells": [
  {
   "cell_type": "markdown",
   "id": "b31b227d",
   "metadata": {},
   "source": [
    "<font color = \"CornflowerBlue\" ><br>\n",
    "Bu zamana kadar öğrendiklerimizi bir veri seti üzerinde uygulayalım."
   ]
  },
  {
   "cell_type": "code",
   "execution_count": 1,
   "id": "df89b225",
   "metadata": {},
   "outputs": [],
   "source": [
    "import pandas as pd\n",
    "import numpy as np\n",
    "import matplotlib.pyplot as plt\n",
    "import seaborn as sns"
   ]
  },
  {
   "cell_type": "code",
   "execution_count": 2,
   "id": "73353c7a",
   "metadata": {},
   "outputs": [
    {
     "name": "stdout",
     "output_type": "stream",
     "text": [
      "Requirement already satisfied: chart_studio in c:\\users\\raziy\\anaconda3\\lib\\site-packages (1.1.0)\n",
      "Requirement already satisfied: requests in c:\\users\\raziy\\anaconda3\\lib\\site-packages (from chart_studio) (2.26.0)\n",
      "Requirement already satisfied: retrying>=1.3.3 in c:\\users\\raziy\\anaconda3\\lib\\site-packages (from chart_studio) (1.3.3)\n",
      "Requirement already satisfied: plotly in c:\\users\\raziy\\anaconda3\\lib\\site-packages (from chart_studio) (5.8.2)\n",
      "Requirement already satisfied: six in c:\\users\\raziy\\anaconda3\\lib\\site-packages (from chart_studio) (1.16.0)\n",
      "Requirement already satisfied: tenacity>=6.2.0 in c:\\users\\raziy\\anaconda3\\lib\\site-packages (from plotly->chart_studio) (8.0.1)\n",
      "Requirement already satisfied: certifi>=2017.4.17 in c:\\users\\raziy\\anaconda3\\lib\\site-packages (from requests->chart_studio) (2021.10.8)\n",
      "Requirement already satisfied: urllib3<1.27,>=1.21.1 in c:\\users\\raziy\\anaconda3\\lib\\site-packages (from requests->chart_studio) (1.26.7)\n",
      "Requirement already satisfied: charset-normalizer~=2.0.0 in c:\\users\\raziy\\anaconda3\\lib\\site-packages (from requests->chart_studio) (2.0.4)\n",
      "Requirement already satisfied: idna<4,>=2.5 in c:\\users\\raziy\\anaconda3\\lib\\site-packages (from requests->chart_studio) (3.2)\n",
      "Note: you may need to restart the kernel to use updated packages.\n"
     ]
    }
   ],
   "source": [
    "pip install chart_studio"
   ]
  },
  {
   "cell_type": "code",
   "execution_count": 3,
   "id": "d663f923",
   "metadata": {},
   "outputs": [
    {
     "name": "stdout",
     "output_type": "stream",
     "text": [
      "Requirement already satisfied: plotly in c:\\users\\raziy\\anaconda3\\lib\\site-packages (5.8.2)\n",
      "Requirement already satisfied: tenacity>=6.2.0 in c:\\users\\raziy\\anaconda3\\lib\\site-packages (from plotly) (8.0.1)\n",
      "Note: you may need to restart the kernel to use updated packages.\n"
     ]
    }
   ],
   "source": [
    "pip install plotly --upgrade"
   ]
  },
  {
   "cell_type": "code",
   "execution_count": 4,
   "id": "834acc8c",
   "metadata": {},
   "outputs": [
    {
     "name": "stdout",
     "output_type": "stream",
     "text": [
      "Collecting package metadata (current_repodata.json): ...working... done\n",
      "Solving environment: ...working... done\n",
      "\n",
      "# All requested packages already installed.\n",
      "\n",
      "\n",
      "Note: you may need to restart the kernel to use updated packages.\n"
     ]
    }
   ],
   "source": [
    "conda install -c conda-forge wordcloud"
   ]
  },
  {
   "cell_type": "code",
   "execution_count": 5,
   "id": "0ab23c84",
   "metadata": {},
   "outputs": [],
   "source": [
    "import chart_studio.plotly as py\n",
    "import plotly.graph_objs as go\n",
    "from wordcloud import WordCloud"
   ]
  },
  {
   "cell_type": "code",
   "execution_count": 6,
   "id": "9f762fe2",
   "metadata": {},
   "outputs": [
    {
     "name": "stdout",
     "output_type": "stream",
     "text": [
      "Requirement already satisfied: matplotlib-venn in c:\\users\\raziy\\anaconda3\\lib\\site-packages (0.11.7)\n",
      "Requirement already satisfied: scipy in c:\\users\\raziy\\anaconda3\\lib\\site-packages (from matplotlib-venn) (1.7.1)\n",
      "Requirement already satisfied: matplotlib in c:\\users\\raziy\\anaconda3\\lib\\site-packages (from matplotlib-venn) (3.4.3)\n",
      "Requirement already satisfied: numpy in c:\\users\\raziy\\anaconda3\\lib\\site-packages (from matplotlib-venn) (1.20.3)\n",
      "Requirement already satisfied: kiwisolver>=1.0.1 in c:\\users\\raziy\\anaconda3\\lib\\site-packages (from matplotlib->matplotlib-venn) (1.3.1)\n",
      "Requirement already satisfied: pillow>=6.2.0 in c:\\users\\raziy\\anaconda3\\lib\\site-packages (from matplotlib->matplotlib-venn) (8.4.0)\n",
      "Requirement already satisfied: python-dateutil>=2.7 in c:\\users\\raziy\\anaconda3\\lib\\site-packages (from matplotlib->matplotlib-venn) (2.8.2)\n",
      "Requirement already satisfied: pyparsing>=2.2.1 in c:\\users\\raziy\\anaconda3\\lib\\site-packages (from matplotlib->matplotlib-venn) (3.0.4)\n",
      "Requirement already satisfied: cycler>=0.10 in c:\\users\\raziy\\anaconda3\\lib\\site-packages (from matplotlib->matplotlib-venn) (0.10.0)\n",
      "Requirement already satisfied: six in c:\\users\\raziy\\anaconda3\\lib\\site-packages (from cycler>=0.10->matplotlib->matplotlib-venn) (1.16.0)\n"
     ]
    }
   ],
   "source": [
    "!pip install matplotlib-venn"
   ]
  },
  {
   "cell_type": "code",
   "execution_count": 7,
   "id": "2df0ad54",
   "metadata": {},
   "outputs": [],
   "source": [
    "import matplotlib_venn as venn\n",
    "from math import pi\n",
    "from pandas.plotting import parallel_coordinates"
   ]
  },
  {
   "cell_type": "code",
   "execution_count": 8,
   "id": "911a5bf6",
   "metadata": {},
   "outputs": [],
   "source": [
    "data = pd.read_csv(\"StudentMentalHealth.csv\")"
   ]
  },
  {
   "cell_type": "code",
   "execution_count": 9,
   "id": "aac29855",
   "metadata": {},
   "outputs": [
    {
     "data": {
      "text/html": [
       "<div>\n",
       "<style scoped>\n",
       "    .dataframe tbody tr th:only-of-type {\n",
       "        vertical-align: middle;\n",
       "    }\n",
       "\n",
       "    .dataframe tbody tr th {\n",
       "        vertical-align: top;\n",
       "    }\n",
       "\n",
       "    .dataframe thead th {\n",
       "        text-align: right;\n",
       "    }\n",
       "</style>\n",
       "<table border=\"1\" class=\"dataframe\">\n",
       "  <thead>\n",
       "    <tr style=\"text-align: right;\">\n",
       "      <th></th>\n",
       "      <th>Timestamp</th>\n",
       "      <th>Choose your gender</th>\n",
       "      <th>Age</th>\n",
       "      <th>What is your course?</th>\n",
       "      <th>Your current year of Study</th>\n",
       "      <th>What is your CGPA?</th>\n",
       "      <th>Marital status</th>\n",
       "      <th>Do you have Depression?</th>\n",
       "      <th>Do you have Anxiety?</th>\n",
       "      <th>Do you have Panic attack?</th>\n",
       "      <th>Did you seek any specialist for a treatment?</th>\n",
       "    </tr>\n",
       "  </thead>\n",
       "  <tbody>\n",
       "    <tr>\n",
       "      <th>0</th>\n",
       "      <td>8/7/2020 12:02</td>\n",
       "      <td>Female</td>\n",
       "      <td>18.0</td>\n",
       "      <td>Engineering</td>\n",
       "      <td>year 1</td>\n",
       "      <td>3.00 - 3.49</td>\n",
       "      <td>No</td>\n",
       "      <td>Yes</td>\n",
       "      <td>No</td>\n",
       "      <td>Yes</td>\n",
       "      <td>No</td>\n",
       "    </tr>\n",
       "    <tr>\n",
       "      <th>1</th>\n",
       "      <td>8/7/2020 12:04</td>\n",
       "      <td>Male</td>\n",
       "      <td>21.0</td>\n",
       "      <td>Islamic education</td>\n",
       "      <td>year 2</td>\n",
       "      <td>3.00 - 3.49</td>\n",
       "      <td>No</td>\n",
       "      <td>No</td>\n",
       "      <td>Yes</td>\n",
       "      <td>No</td>\n",
       "      <td>No</td>\n",
       "    </tr>\n",
       "    <tr>\n",
       "      <th>2</th>\n",
       "      <td>8/7/2020 12:05</td>\n",
       "      <td>Male</td>\n",
       "      <td>19.0</td>\n",
       "      <td>BIT</td>\n",
       "      <td>Year 1</td>\n",
       "      <td>3.00 - 3.49</td>\n",
       "      <td>No</td>\n",
       "      <td>Yes</td>\n",
       "      <td>Yes</td>\n",
       "      <td>Yes</td>\n",
       "      <td>No</td>\n",
       "    </tr>\n",
       "    <tr>\n",
       "      <th>3</th>\n",
       "      <td>8/7/2020 12:06</td>\n",
       "      <td>Female</td>\n",
       "      <td>22.0</td>\n",
       "      <td>Laws</td>\n",
       "      <td>year 3</td>\n",
       "      <td>3.00 - 3.49</td>\n",
       "      <td>Yes</td>\n",
       "      <td>Yes</td>\n",
       "      <td>No</td>\n",
       "      <td>No</td>\n",
       "      <td>No</td>\n",
       "    </tr>\n",
       "    <tr>\n",
       "      <th>4</th>\n",
       "      <td>8/7/2020 12:13</td>\n",
       "      <td>Male</td>\n",
       "      <td>23.0</td>\n",
       "      <td>Mathemathics</td>\n",
       "      <td>year 4</td>\n",
       "      <td>3.00 - 3.49</td>\n",
       "      <td>No</td>\n",
       "      <td>No</td>\n",
       "      <td>No</td>\n",
       "      <td>No</td>\n",
       "      <td>No</td>\n",
       "    </tr>\n",
       "  </tbody>\n",
       "</table>\n",
       "</div>"
      ],
      "text/plain": [
       "        Timestamp Choose your gender   Age What is your course?  \\\n",
       "0  8/7/2020 12:02             Female  18.0          Engineering   \n",
       "1  8/7/2020 12:04               Male  21.0    Islamic education   \n",
       "2  8/7/2020 12:05               Male  19.0                  BIT   \n",
       "3  8/7/2020 12:06             Female  22.0                 Laws   \n",
       "4  8/7/2020 12:13               Male  23.0         Mathemathics   \n",
       "\n",
       "  Your current year of Study What is your CGPA? Marital status  \\\n",
       "0                     year 1        3.00 - 3.49             No   \n",
       "1                     year 2        3.00 - 3.49             No   \n",
       "2                     Year 1        3.00 - 3.49             No   \n",
       "3                     year 3        3.00 - 3.49            Yes   \n",
       "4                     year 4        3.00 - 3.49             No   \n",
       "\n",
       "  Do you have Depression? Do you have Anxiety? Do you have Panic attack?  \\\n",
       "0                     Yes                   No                       Yes   \n",
       "1                      No                  Yes                        No   \n",
       "2                     Yes                  Yes                       Yes   \n",
       "3                     Yes                   No                        No   \n",
       "4                      No                   No                        No   \n",
       "\n",
       "  Did you seek any specialist for a treatment?  \n",
       "0                                           No  \n",
       "1                                           No  \n",
       "2                                           No  \n",
       "3                                           No  \n",
       "4                                           No  "
      ]
     },
     "execution_count": 9,
     "metadata": {},
     "output_type": "execute_result"
    }
   ],
   "source": [
    "data.head()"
   ]
  },
  {
   "cell_type": "code",
   "execution_count": 10,
   "id": "b283178c",
   "metadata": {},
   "outputs": [
    {
     "name": "stdout",
     "output_type": "stream",
     "text": [
      "<class 'pandas.core.frame.DataFrame'>\n",
      "RangeIndex: 101 entries, 0 to 100\n",
      "Data columns (total 11 columns):\n",
      " #   Column                                        Non-Null Count  Dtype  \n",
      "---  ------                                        --------------  -----  \n",
      " 0   Timestamp                                     101 non-null    object \n",
      " 1   Choose your gender                            101 non-null    object \n",
      " 2   Age                                           100 non-null    float64\n",
      " 3   What is your course?                          101 non-null    object \n",
      " 4   Your current year of Study                    101 non-null    object \n",
      " 5   What is your CGPA?                            101 non-null    object \n",
      " 6   Marital status                                101 non-null    object \n",
      " 7   Do you have Depression?                       101 non-null    object \n",
      " 8   Do you have Anxiety?                          101 non-null    object \n",
      " 9   Do you have Panic attack?                     101 non-null    object \n",
      " 10  Did you seek any specialist for a treatment?  101 non-null    object \n",
      "dtypes: float64(1), object(10)\n",
      "memory usage: 8.8+ KB\n"
     ]
    }
   ],
   "source": [
    "data.info()"
   ]
  },
  {
   "cell_type": "code",
   "execution_count": 11,
   "id": "5688b01b",
   "metadata": {},
   "outputs": [],
   "source": [
    "data[\"CGPA_Base\"] = [float(each.split(\"-\")[0]) for each in data.iloc[:,5]]"
   ]
  },
  {
   "cell_type": "code",
   "execution_count": 12,
   "id": "fc793ba4",
   "metadata": {},
   "outputs": [
    {
     "data": {
      "text/html": [
       "<div>\n",
       "<style scoped>\n",
       "    .dataframe tbody tr th:only-of-type {\n",
       "        vertical-align: middle;\n",
       "    }\n",
       "\n",
       "    .dataframe tbody tr th {\n",
       "        vertical-align: top;\n",
       "    }\n",
       "\n",
       "    .dataframe thead th {\n",
       "        text-align: right;\n",
       "    }\n",
       "</style>\n",
       "<table border=\"1\" class=\"dataframe\">\n",
       "  <thead>\n",
       "    <tr style=\"text-align: right;\">\n",
       "      <th></th>\n",
       "      <th>Timestamp</th>\n",
       "      <th>Choose your gender</th>\n",
       "      <th>Age</th>\n",
       "      <th>What is your course?</th>\n",
       "      <th>Your current year of Study</th>\n",
       "      <th>What is your CGPA?</th>\n",
       "      <th>Marital status</th>\n",
       "      <th>Do you have Depression?</th>\n",
       "      <th>Do you have Anxiety?</th>\n",
       "      <th>Do you have Panic attack?</th>\n",
       "      <th>Did you seek any specialist for a treatment?</th>\n",
       "      <th>CGPA_Base</th>\n",
       "    </tr>\n",
       "  </thead>\n",
       "  <tbody>\n",
       "    <tr>\n",
       "      <th>0</th>\n",
       "      <td>8/7/2020 12:02</td>\n",
       "      <td>Female</td>\n",
       "      <td>18.0</td>\n",
       "      <td>Engineering</td>\n",
       "      <td>year 1</td>\n",
       "      <td>3.00 - 3.49</td>\n",
       "      <td>No</td>\n",
       "      <td>Yes</td>\n",
       "      <td>No</td>\n",
       "      <td>Yes</td>\n",
       "      <td>No</td>\n",
       "      <td>3.0</td>\n",
       "    </tr>\n",
       "    <tr>\n",
       "      <th>1</th>\n",
       "      <td>8/7/2020 12:04</td>\n",
       "      <td>Male</td>\n",
       "      <td>21.0</td>\n",
       "      <td>Islamic education</td>\n",
       "      <td>year 2</td>\n",
       "      <td>3.00 - 3.49</td>\n",
       "      <td>No</td>\n",
       "      <td>No</td>\n",
       "      <td>Yes</td>\n",
       "      <td>No</td>\n",
       "      <td>No</td>\n",
       "      <td>3.0</td>\n",
       "    </tr>\n",
       "    <tr>\n",
       "      <th>2</th>\n",
       "      <td>8/7/2020 12:05</td>\n",
       "      <td>Male</td>\n",
       "      <td>19.0</td>\n",
       "      <td>BIT</td>\n",
       "      <td>Year 1</td>\n",
       "      <td>3.00 - 3.49</td>\n",
       "      <td>No</td>\n",
       "      <td>Yes</td>\n",
       "      <td>Yes</td>\n",
       "      <td>Yes</td>\n",
       "      <td>No</td>\n",
       "      <td>3.0</td>\n",
       "    </tr>\n",
       "    <tr>\n",
       "      <th>3</th>\n",
       "      <td>8/7/2020 12:06</td>\n",
       "      <td>Female</td>\n",
       "      <td>22.0</td>\n",
       "      <td>Laws</td>\n",
       "      <td>year 3</td>\n",
       "      <td>3.00 - 3.49</td>\n",
       "      <td>Yes</td>\n",
       "      <td>Yes</td>\n",
       "      <td>No</td>\n",
       "      <td>No</td>\n",
       "      <td>No</td>\n",
       "      <td>3.0</td>\n",
       "    </tr>\n",
       "    <tr>\n",
       "      <th>4</th>\n",
       "      <td>8/7/2020 12:13</td>\n",
       "      <td>Male</td>\n",
       "      <td>23.0</td>\n",
       "      <td>Mathemathics</td>\n",
       "      <td>year 4</td>\n",
       "      <td>3.00 - 3.49</td>\n",
       "      <td>No</td>\n",
       "      <td>No</td>\n",
       "      <td>No</td>\n",
       "      <td>No</td>\n",
       "      <td>No</td>\n",
       "      <td>3.0</td>\n",
       "    </tr>\n",
       "    <tr>\n",
       "      <th>5</th>\n",
       "      <td>8/7/2020 12:31</td>\n",
       "      <td>Male</td>\n",
       "      <td>19.0</td>\n",
       "      <td>Engineering</td>\n",
       "      <td>Year 2</td>\n",
       "      <td>3.50 - 4.00</td>\n",
       "      <td>No</td>\n",
       "      <td>No</td>\n",
       "      <td>No</td>\n",
       "      <td>Yes</td>\n",
       "      <td>No</td>\n",
       "      <td>3.5</td>\n",
       "    </tr>\n",
       "    <tr>\n",
       "      <th>6</th>\n",
       "      <td>8/7/2020 12:32</td>\n",
       "      <td>Female</td>\n",
       "      <td>23.0</td>\n",
       "      <td>Pendidikan islam</td>\n",
       "      <td>year 2</td>\n",
       "      <td>3.50 - 4.00</td>\n",
       "      <td>Yes</td>\n",
       "      <td>Yes</td>\n",
       "      <td>No</td>\n",
       "      <td>Yes</td>\n",
       "      <td>No</td>\n",
       "      <td>3.5</td>\n",
       "    </tr>\n",
       "    <tr>\n",
       "      <th>7</th>\n",
       "      <td>8/7/2020 12:33</td>\n",
       "      <td>Female</td>\n",
       "      <td>18.0</td>\n",
       "      <td>BCS</td>\n",
       "      <td>year 1</td>\n",
       "      <td>3.50 - 4.00</td>\n",
       "      <td>No</td>\n",
       "      <td>No</td>\n",
       "      <td>Yes</td>\n",
       "      <td>No</td>\n",
       "      <td>No</td>\n",
       "      <td>3.5</td>\n",
       "    </tr>\n",
       "    <tr>\n",
       "      <th>8</th>\n",
       "      <td>8/7/2020 12:35</td>\n",
       "      <td>Female</td>\n",
       "      <td>19.0</td>\n",
       "      <td>Human Resources</td>\n",
       "      <td>Year 2</td>\n",
       "      <td>2.50 - 2.99</td>\n",
       "      <td>No</td>\n",
       "      <td>No</td>\n",
       "      <td>No</td>\n",
       "      <td>No</td>\n",
       "      <td>No</td>\n",
       "      <td>2.5</td>\n",
       "    </tr>\n",
       "    <tr>\n",
       "      <th>9</th>\n",
       "      <td>8/7/2020 12:39</td>\n",
       "      <td>Male</td>\n",
       "      <td>18.0</td>\n",
       "      <td>Irkhs</td>\n",
       "      <td>year 1</td>\n",
       "      <td>3.50 - 4.00</td>\n",
       "      <td>No</td>\n",
       "      <td>No</td>\n",
       "      <td>Yes</td>\n",
       "      <td>Yes</td>\n",
       "      <td>No</td>\n",
       "      <td>3.5</td>\n",
       "    </tr>\n",
       "  </tbody>\n",
       "</table>\n",
       "</div>"
      ],
      "text/plain": [
       "        Timestamp Choose your gender   Age What is your course?  \\\n",
       "0  8/7/2020 12:02             Female  18.0          Engineering   \n",
       "1  8/7/2020 12:04               Male  21.0    Islamic education   \n",
       "2  8/7/2020 12:05               Male  19.0                  BIT   \n",
       "3  8/7/2020 12:06             Female  22.0                 Laws   \n",
       "4  8/7/2020 12:13               Male  23.0         Mathemathics   \n",
       "5  8/7/2020 12:31               Male  19.0          Engineering   \n",
       "6  8/7/2020 12:32             Female  23.0     Pendidikan islam   \n",
       "7  8/7/2020 12:33             Female  18.0                  BCS   \n",
       "8  8/7/2020 12:35             Female  19.0      Human Resources   \n",
       "9  8/7/2020 12:39               Male  18.0                Irkhs   \n",
       "\n",
       "  Your current year of Study What is your CGPA? Marital status  \\\n",
       "0                     year 1        3.00 - 3.49             No   \n",
       "1                     year 2        3.00 - 3.49             No   \n",
       "2                     Year 1        3.00 - 3.49             No   \n",
       "3                     year 3        3.00 - 3.49            Yes   \n",
       "4                     year 4        3.00 - 3.49             No   \n",
       "5                     Year 2        3.50 - 4.00             No   \n",
       "6                     year 2       3.50 - 4.00             Yes   \n",
       "7                     year 1        3.50 - 4.00             No   \n",
       "8                     Year 2        2.50 - 2.99             No   \n",
       "9                     year 1        3.50 - 4.00             No   \n",
       "\n",
       "  Do you have Depression? Do you have Anxiety? Do you have Panic attack?  \\\n",
       "0                     Yes                   No                       Yes   \n",
       "1                      No                  Yes                        No   \n",
       "2                     Yes                  Yes                       Yes   \n",
       "3                     Yes                   No                        No   \n",
       "4                      No                   No                        No   \n",
       "5                      No                   No                       Yes   \n",
       "6                     Yes                   No                       Yes   \n",
       "7                      No                  Yes                        No   \n",
       "8                      No                   No                        No   \n",
       "9                      No                  Yes                       Yes   \n",
       "\n",
       "  Did you seek any specialist for a treatment?  CGPA_Base  \n",
       "0                                           No        3.0  \n",
       "1                                           No        3.0  \n",
       "2                                           No        3.0  \n",
       "3                                           No        3.0  \n",
       "4                                           No        3.0  \n",
       "5                                           No        3.5  \n",
       "6                                           No        3.5  \n",
       "7                                           No        3.5  \n",
       "8                                           No        2.5  \n",
       "9                                           No        3.5  "
      ]
     },
     "execution_count": 12,
     "metadata": {},
     "output_type": "execute_result"
    }
   ],
   "source": [
    "data.head(10)"
   ]
  },
  {
   "cell_type": "code",
   "execution_count": 13,
   "id": "a0754c60",
   "metadata": {},
   "outputs": [
    {
     "name": "stdout",
     "output_type": "stream",
     "text": [
      "<class 'pandas.core.frame.DataFrame'>\n",
      "RangeIndex: 101 entries, 0 to 100\n",
      "Data columns (total 12 columns):\n",
      " #   Column                                        Non-Null Count  Dtype  \n",
      "---  ------                                        --------------  -----  \n",
      " 0   Timestamp                                     101 non-null    object \n",
      " 1   Choose your gender                            101 non-null    object \n",
      " 2   Age                                           100 non-null    float64\n",
      " 3   What is your course?                          101 non-null    object \n",
      " 4   Your current year of Study                    101 non-null    object \n",
      " 5   What is your CGPA?                            101 non-null    object \n",
      " 6   Marital status                                101 non-null    object \n",
      " 7   Do you have Depression?                       101 non-null    object \n",
      " 8   Do you have Anxiety?                          101 non-null    object \n",
      " 9   Do you have Panic attack?                     101 non-null    object \n",
      " 10  Did you seek any specialist for a treatment?  101 non-null    object \n",
      " 11  CGPA_Base                                     101 non-null    float64\n",
      "dtypes: float64(2), object(10)\n",
      "memory usage: 9.6+ KB\n"
     ]
    }
   ],
   "source": [
    "data.info()"
   ]
  },
  {
   "cell_type": "code",
   "execution_count": 14,
   "id": "ed292290",
   "metadata": {},
   "outputs": [],
   "source": [
    "data.dropna(inplace=True)"
   ]
  },
  {
   "cell_type": "markdown",
   "id": "52d62263",
   "metadata": {},
   "source": [
    "# VISUALIZATION WITH BAR PLOT"
   ]
  },
  {
   "cell_type": "code",
   "execution_count": 15,
   "id": "40ccaf97",
   "metadata": {},
   "outputs": [],
   "source": [
    "course_list = list(data['What is your course?'].unique())"
   ]
  },
  {
   "cell_type": "code",
   "execution_count": 16,
   "id": "74b35786",
   "metadata": {},
   "outputs": [
    {
     "data": {
      "text/plain": [
       "array(['Engineering', 'Islamic education', 'BIT', 'Laws', 'Mathemathics',\n",
       "       'Pendidikan islam', 'BCS', 'Human Resources', 'Irkhs',\n",
       "       'Psychology', 'KENMS', 'Accounting ', 'ENM', 'Marine science',\n",
       "       'KOE', 'Banking Studies', 'Business Administration', 'Law',\n",
       "       'KIRKHS', 'Usuluddin ', 'TAASL', 'Engine', 'ALA',\n",
       "       'Biomedical science', 'koe', 'Kirkhs', 'BENL', 'Benl', 'IT', 'CTS',\n",
       "       'engin', 'Econs', 'MHSC', 'Malcom', 'Kop', 'Human Sciences ',\n",
       "       'Biotechnology', 'Communication ', 'Diploma Nursing',\n",
       "       'Pendidikan Islam ', 'Radiography', 'psychology', 'Fiqh fatwa ',\n",
       "       'DIPLOMA TESL', 'Koe', 'Fiqh', 'Islamic Education', 'Nursing ',\n",
       "       'Pendidikan Islam'], dtype=object)"
      ]
     },
     "execution_count": 16,
     "metadata": {},
     "output_type": "execute_result"
    }
   ],
   "source": [
    "data['What is your course?'].unique()"
   ]
  },
  {
   "cell_type": "code",
   "execution_count": 17,
   "id": "577bd863",
   "metadata": {},
   "outputs": [
    {
     "data": {
      "text/plain": [
       "49"
      ]
     },
     "execution_count": 17,
     "metadata": {},
     "output_type": "execute_result"
    }
   ],
   "source": [
    "len(data['What is your course?'].unique())"
   ]
  },
  {
   "cell_type": "code",
   "execution_count": 18,
   "id": "539c503d",
   "metadata": {},
   "outputs": [],
   "source": [
    "course_cgpa_ratio = []"
   ]
  },
  {
   "cell_type": "code",
   "execution_count": 19,
   "id": "931d0311",
   "metadata": {},
   "outputs": [],
   "source": [
    "for i in course_list:\n",
    "    x = data[data['What is your course?']==i]\n",
    "    course_cgpa_rate = sum(x.CGPA_Base)/len(x)\n",
    "    course_cgpa_ratio.append(course_cgpa_rate)                "
   ]
  },
  {
   "cell_type": "code",
   "execution_count": 20,
   "id": "573af7d9",
   "metadata": {},
   "outputs": [],
   "source": [
    "df = pd.DataFrame({'course_list':course_list, 'course_cgpa_ratio':course_cgpa_ratio})"
   ]
  },
  {
   "cell_type": "code",
   "execution_count": 21,
   "id": "1610cc70",
   "metadata": {},
   "outputs": [],
   "source": [
    "new_index = (df['course_cgpa_ratio'].sort_values(ascending=False)).index.values"
   ]
  },
  {
   "cell_type": "code",
   "execution_count": 22,
   "id": "7ee4e0a0",
   "metadata": {},
   "outputs": [],
   "source": [
    "sorted_data = df.reindex(new_index)  #azalan sırada sıraladım."
   ]
  },
  {
   "cell_type": "code",
   "execution_count": 23,
   "id": "6abd8322",
   "metadata": {},
   "outputs": [
    {
     "data": {
      "text/plain": [
       "Text(0.5, 1.0, 'Comparison of notes by courses')"
      ]
     },
     "execution_count": 23,
     "metadata": {},
     "output_type": "execute_result"
    },
    {
     "data": {
      "image/png": "[encoded data removed]",
      "text/plain": [
       "<Figure size 1080x720 with 1 Axes>"
      ]
     },
     "metadata": {
      "needs_background": "light"
     },
     "output_type": "display_data"
    }
   ],
   "source": [
    "plt.figure(figsize=(15,10))\n",
    "sns.barplot(x=sorted_data['course_list'], y=sorted_data['course_cgpa_ratio'])\n",
    "plt.xticks(rotation= 90)\n",
    "plt.xlabel('Course')\n",
    "plt.ylabel('CGPA')\n",
    "plt.title('Comparison of notes by courses')"
   ]
  },
  {
   "cell_type": "code",
   "execution_count": 24,
   "id": "31968456",
   "metadata": {},
   "outputs": [],
   "source": [
    "depression_list = list(data['Do you have Depression?'].unique())"
   ]
  },
  {
   "cell_type": "code",
   "execution_count": 25,
   "id": "e80724dd",
   "metadata": {},
   "outputs": [
    {
     "data": {
      "text/plain": [
       "array(['Yes', 'No'], dtype=object)"
      ]
     },
     "execution_count": 25,
     "metadata": {},
     "output_type": "execute_result"
    }
   ],
   "source": [
    "data['Do you have Depression?'].unique()"
   ]
  },
  {
   "cell_type": "code",
   "execution_count": 26,
   "id": "6b59c76d",
   "metadata": {},
   "outputs": [],
   "source": [
    "depression_age_ratio = []"
   ]
  },
  {
   "cell_type": "code",
   "execution_count": 27,
   "id": "26061c56",
   "metadata": {},
   "outputs": [],
   "source": [
    "for i in depression_list:\n",
    "    x = data[data['Do you have Depression?']==i]\n",
    "    depression_age_rate = sum(x.Age)/len(x)\n",
    "    depression_age_ratio.append(depression_age_rate)                "
   ]
  },
  {
   "cell_type": "code",
   "execution_count": 28,
   "id": "ce99cd8c",
   "metadata": {},
   "outputs": [],
   "source": [
    "df1 = pd.DataFrame({'depression_list':depression_list, 'depression_age_ratio':depression_age_ratio})"
   ]
  },
  {
   "cell_type": "code",
   "execution_count": 29,
   "id": "f58a4042",
   "metadata": {},
   "outputs": [],
   "source": [
    "new_index1 = (df1['depression_age_ratio'].sort_values(ascending=False)).index.values"
   ]
  },
  {
   "cell_type": "code",
   "execution_count": 30,
   "id": "51f8917e",
   "metadata": {},
   "outputs": [],
   "source": [
    "sorted_data1 = df1.reindex(new_index1)  #azalan sırada sıraladım."
   ]
  },
  {
   "cell_type": "code",
   "execution_count": 31,
   "id": "4827c96f",
   "metadata": {},
   "outputs": [
    {
     "data": {
      "text/plain": [
       "Text(0.5, 1.0, 'Comparison of depression by age')"
      ]
     },
     "execution_count": 31,
     "metadata": {},
     "output_type": "execute_result"
    },
    {
     "data": {
      "image/png": "[encoded data removed]",
      "text/plain": [
       "<Figure size 1080x720 with 1 Axes>"
      ]
     },
     "metadata": {
      "needs_background": "light"
     },
     "output_type": "display_data"
    }
   ],
   "source": [
    "plt.figure(figsize=(15,10))\n",
    "sns.barplot(x=sorted_data1['depression_list'], y=sorted_data1['depression_age_ratio'])\n",
    "plt.xticks(rotation= 90)\n",
    "plt.xlabel('Depression')\n",
    "plt.ylabel('Age')\n",
    "plt.title('Comparison of depression by age')"
   ]
  },
  {
   "cell_type": "code",
   "execution_count": 32,
   "id": "bd69026c",
   "metadata": {},
   "outputs": [],
   "source": [
    "course_list = list(data['What is your course?'].unique())"
   ]
  },
  {
   "cell_type": "code",
   "execution_count": 33,
   "id": "0d2d235b",
   "metadata": {},
   "outputs": [],
   "source": [
    "course_age_ratio = []"
   ]
  },
  {
   "cell_type": "code",
   "execution_count": 34,
   "id": "e8ce9012",
   "metadata": {},
   "outputs": [],
   "source": [
    "for i in course_list:\n",
    "    x = data[data['What is your course?']==i]\n",
    "    course_age_rate = sum(x.Age)/len(x)\n",
    "    course_age_ratio.append(course_age_rate)                "
   ]
  },
  {
   "cell_type": "code",
   "execution_count": 35,
   "id": "fcc81a9f",
   "metadata": {},
   "outputs": [],
   "source": [
    "df2 = pd.DataFrame({'course_list':course_list, 'course_age_ratio':course_age_ratio})"
   ]
  },
  {
   "cell_type": "code",
   "execution_count": 36,
   "id": "92b3209e",
   "metadata": {},
   "outputs": [],
   "source": [
    "new_index2 = (df2['course_age_ratio'].sort_values(ascending=False)).index.values"
   ]
  },
  {
   "cell_type": "code",
   "execution_count": 37,
   "id": "b24ac238",
   "metadata": {},
   "outputs": [],
   "source": [
    "sorted_data2 = df2.reindex(new_index2)  #azalan sırada sıraladım."
   ]
  },
  {
   "cell_type": "code",
   "execution_count": 38,
   "id": "c47502d2",
   "metadata": {},
   "outputs": [
    {
     "data": {
      "text/plain": [
       "Text(0.5, 1.0, 'Comparison of course by age')"
      ]
     },
     "execution_count": 38,
     "metadata": {},
     "output_type": "execute_result"
    },
    {
     "data": {
      "image/png": "[encoded data removed]",
      "text/plain": [
       "<Figure size 1080x720 with 1 Axes>"
      ]
     },
     "metadata": {
      "needs_background": "light"
     },
     "output_type": "display_data"
    }
   ],
   "source": [
    "plt.figure(figsize=(15,10))\n",
    "sns.barplot(x=sorted_data2['course_list'], y=sorted_data2['course_age_ratio'])\n",
    "plt.xticks(rotation= 90)\n",
    "plt.xlabel('Course')\n",
    "plt.ylabel('Age')\n",
    "plt.title('Comparison of course by age')"
   ]
  },
  {
   "cell_type": "markdown",
   "id": "53de4e3d",
   "metadata": {},
   "source": [
    "# VISUALIZATION WITH POINT PLOT"
   ]
  },
  {
   "cell_type": "code",
   "execution_count": 39,
   "id": "fb47a999",
   "metadata": {},
   "outputs": [],
   "source": [
    "sorted_data['course_cgpa_ratio'] = sorted_data['course_cgpa_ratio']/max( sorted_data['course_cgpa_ratio'])\n",
    "sorted_data2['course_age_ratio'] = sorted_data2['course_age_ratio']/max( sorted_data2['course_age_ratio'])"
   ]
  },
  {
   "cell_type": "code",
   "execution_count": 40,
   "id": "510ed1c0",
   "metadata": {},
   "outputs": [],
   "source": [
    "data_1 = pd.concat([sorted_data,sorted_data2['course_age_ratio']],axis=1)"
   ]
  },
  {
   "cell_type": "code",
   "execution_count": 41,
   "id": "ddc7875a",
   "metadata": {},
   "outputs": [
    {
     "data": {
      "text/html": [
       "<div>\n",
       "<style scoped>\n",
       "    .dataframe tbody tr th:only-of-type {\n",
       "        vertical-align: middle;\n",
       "    }\n",
       "\n",
       "    .dataframe tbody tr th {\n",
       "        vertical-align: top;\n",
       "    }\n",
       "\n",
       "    .dataframe thead th {\n",
       "        text-align: right;\n",
       "    }\n",
       "</style>\n",
       "<table border=\"1\" class=\"dataframe\">\n",
       "  <thead>\n",
       "    <tr style=\"text-align: right;\">\n",
       "      <th></th>\n",
       "      <th>course_list</th>\n",
       "      <th>course_cgpa_ratio</th>\n",
       "      <th>course_age_ratio</th>\n",
       "    </tr>\n",
       "  </thead>\n",
       "  <tbody>\n",
       "    <tr>\n",
       "      <th>0</th>\n",
       "      <td>Engineering</td>\n",
       "      <td>0.865546</td>\n",
       "      <td>0.845588</td>\n",
       "    </tr>\n",
       "    <tr>\n",
       "      <th>1</th>\n",
       "      <td>Islamic education</td>\n",
       "      <td>0.857143</td>\n",
       "      <td>0.875000</td>\n",
       "    </tr>\n",
       "    <tr>\n",
       "      <th>2</th>\n",
       "      <td>BIT</td>\n",
       "      <td>0.888889</td>\n",
       "      <td>0.888889</td>\n",
       "    </tr>\n",
       "    <tr>\n",
       "      <th>3</th>\n",
       "      <td>Laws</td>\n",
       "      <td>0.928571</td>\n",
       "      <td>0.833333</td>\n",
       "    </tr>\n",
       "    <tr>\n",
       "      <th>4</th>\n",
       "      <td>Mathemathics</td>\n",
       "      <td>0.857143</td>\n",
       "      <td>0.958333</td>\n",
       "    </tr>\n",
       "    <tr>\n",
       "      <th>5</th>\n",
       "      <td>Pendidikan islam</td>\n",
       "      <td>1.000000</td>\n",
       "      <td>0.958333</td>\n",
       "    </tr>\n",
       "    <tr>\n",
       "      <th>6</th>\n",
       "      <td>BCS</td>\n",
       "      <td>0.968254</td>\n",
       "      <td>0.851852</td>\n",
       "    </tr>\n",
       "    <tr>\n",
       "      <th>7</th>\n",
       "      <td>Human Resources</td>\n",
       "      <td>0.714286</td>\n",
       "      <td>0.791667</td>\n",
       "    </tr>\n",
       "    <tr>\n",
       "      <th>8</th>\n",
       "      <td>Irkhs</td>\n",
       "      <td>1.000000</td>\n",
       "      <td>0.750000</td>\n",
       "    </tr>\n",
       "    <tr>\n",
       "      <th>9</th>\n",
       "      <td>Psychology</td>\n",
       "      <td>1.000000</td>\n",
       "      <td>0.833333</td>\n",
       "    </tr>\n",
       "    <tr>\n",
       "      <th>10</th>\n",
       "      <td>KENMS</td>\n",
       "      <td>1.000000</td>\n",
       "      <td>0.750000</td>\n",
       "    </tr>\n",
       "    <tr>\n",
       "      <th>11</th>\n",
       "      <td>Accounting</td>\n",
       "      <td>0.857143</td>\n",
       "      <td>1.000000</td>\n",
       "    </tr>\n",
       "    <tr>\n",
       "      <th>12</th>\n",
       "      <td>ENM</td>\n",
       "      <td>0.857143</td>\n",
       "      <td>1.000000</td>\n",
       "    </tr>\n",
       "    <tr>\n",
       "      <th>13</th>\n",
       "      <td>Marine science</td>\n",
       "      <td>1.000000</td>\n",
       "      <td>0.750000</td>\n",
       "    </tr>\n",
       "    <tr>\n",
       "      <th>14</th>\n",
       "      <td>KOE</td>\n",
       "      <td>0.892857</td>\n",
       "      <td>0.822917</td>\n",
       "    </tr>\n",
       "    <tr>\n",
       "      <th>15</th>\n",
       "      <td>Banking Studies</td>\n",
       "      <td>1.000000</td>\n",
       "      <td>0.750000</td>\n",
       "    </tr>\n",
       "    <tr>\n",
       "      <th>16</th>\n",
       "      <td>Business Administration</td>\n",
       "      <td>0.857143</td>\n",
       "      <td>0.958333</td>\n",
       "    </tr>\n",
       "    <tr>\n",
       "      <th>17</th>\n",
       "      <td>Law</td>\n",
       "      <td>0.857143</td>\n",
       "      <td>0.750000</td>\n",
       "    </tr>\n",
       "    <tr>\n",
       "      <th>18</th>\n",
       "      <td>KIRKHS</td>\n",
       "      <td>1.000000</td>\n",
       "      <td>0.750000</td>\n",
       "    </tr>\n",
       "    <tr>\n",
       "      <th>19</th>\n",
       "      <td>Usuluddin</td>\n",
       "      <td>0.857143</td>\n",
       "      <td>0.833333</td>\n",
       "    </tr>\n",
       "    <tr>\n",
       "      <th>20</th>\n",
       "      <td>TAASL</td>\n",
       "      <td>1.000000</td>\n",
       "      <td>0.958333</td>\n",
       "    </tr>\n",
       "    <tr>\n",
       "      <th>21</th>\n",
       "      <td>Engine</td>\n",
       "      <td>1.000000</td>\n",
       "      <td>0.875000</td>\n",
       "    </tr>\n",
       "    <tr>\n",
       "      <th>22</th>\n",
       "      <td>ALA</td>\n",
       "      <td>0.714286</td>\n",
       "      <td>0.958333</td>\n",
       "    </tr>\n",
       "    <tr>\n",
       "      <th>23</th>\n",
       "      <td>Biomedical science</td>\n",
       "      <td>0.642857</td>\n",
       "      <td>0.843750</td>\n",
       "    </tr>\n",
       "    <tr>\n",
       "      <th>24</th>\n",
       "      <td>koe</td>\n",
       "      <td>0.857143</td>\n",
       "      <td>0.833333</td>\n",
       "    </tr>\n",
       "    <tr>\n",
       "      <th>25</th>\n",
       "      <td>Kirkhs</td>\n",
       "      <td>1.000000</td>\n",
       "      <td>0.958333</td>\n",
       "    </tr>\n",
       "    <tr>\n",
       "      <th>26</th>\n",
       "      <td>BENL</td>\n",
       "      <td>0.857143</td>\n",
       "      <td>0.791667</td>\n",
       "    </tr>\n",
       "    <tr>\n",
       "      <th>27</th>\n",
       "      <td>Benl</td>\n",
       "      <td>0.857143</td>\n",
       "      <td>0.958333</td>\n",
       "    </tr>\n",
       "    <tr>\n",
       "      <th>28</th>\n",
       "      <td>IT</td>\n",
       "      <td>0.857143</td>\n",
       "      <td>0.750000</td>\n",
       "    </tr>\n",
       "    <tr>\n",
       "      <th>29</th>\n",
       "      <td>CTS</td>\n",
       "      <td>1.000000</td>\n",
       "      <td>0.750000</td>\n",
       "    </tr>\n",
       "    <tr>\n",
       "      <th>30</th>\n",
       "      <td>engin</td>\n",
       "      <td>1.000000</td>\n",
       "      <td>1.000000</td>\n",
       "    </tr>\n",
       "    <tr>\n",
       "      <th>31</th>\n",
       "      <td>Econs</td>\n",
       "      <td>1.000000</td>\n",
       "      <td>0.958333</td>\n",
       "    </tr>\n",
       "    <tr>\n",
       "      <th>32</th>\n",
       "      <td>MHSC</td>\n",
       "      <td>0.857143</td>\n",
       "      <td>0.791667</td>\n",
       "    </tr>\n",
       "    <tr>\n",
       "      <th>33</th>\n",
       "      <td>Malcom</td>\n",
       "      <td>1.000000</td>\n",
       "      <td>0.750000</td>\n",
       "    </tr>\n",
       "    <tr>\n",
       "      <th>34</th>\n",
       "      <td>Kop</td>\n",
       "      <td>0.857143</td>\n",
       "      <td>1.000000</td>\n",
       "    </tr>\n",
       "    <tr>\n",
       "      <th>35</th>\n",
       "      <td>Human Sciences</td>\n",
       "      <td>0.857143</td>\n",
       "      <td>0.750000</td>\n",
       "    </tr>\n",
       "    <tr>\n",
       "      <th>36</th>\n",
       "      <td>Biotechnology</td>\n",
       "      <td>0.000000</td>\n",
       "      <td>0.791667</td>\n",
       "    </tr>\n",
       "    <tr>\n",
       "      <th>37</th>\n",
       "      <td>Communication</td>\n",
       "      <td>1.000000</td>\n",
       "      <td>1.000000</td>\n",
       "    </tr>\n",
       "    <tr>\n",
       "      <th>38</th>\n",
       "      <td>Diploma Nursing</td>\n",
       "      <td>1.000000</td>\n",
       "      <td>1.000000</td>\n",
       "    </tr>\n",
       "    <tr>\n",
       "      <th>39</th>\n",
       "      <td>Pendidikan Islam</td>\n",
       "      <td>0.857143</td>\n",
       "      <td>0.791667</td>\n",
       "    </tr>\n",
       "    <tr>\n",
       "      <th>40</th>\n",
       "      <td>Radiography</td>\n",
       "      <td>0.857143</td>\n",
       "      <td>0.958333</td>\n",
       "    </tr>\n",
       "    <tr>\n",
       "      <th>41</th>\n",
       "      <td>psychology</td>\n",
       "      <td>1.000000</td>\n",
       "      <td>0.750000</td>\n",
       "    </tr>\n",
       "    <tr>\n",
       "      <th>42</th>\n",
       "      <td>Fiqh fatwa</td>\n",
       "      <td>0.857143</td>\n",
       "      <td>0.791667</td>\n",
       "    </tr>\n",
       "    <tr>\n",
       "      <th>43</th>\n",
       "      <td>DIPLOMA TESL</td>\n",
       "      <td>1.000000</td>\n",
       "      <td>0.958333</td>\n",
       "    </tr>\n",
       "    <tr>\n",
       "      <th>44</th>\n",
       "      <td>Koe</td>\n",
       "      <td>0.857143</td>\n",
       "      <td>0.750000</td>\n",
       "    </tr>\n",
       "    <tr>\n",
       "      <th>45</th>\n",
       "      <td>Fiqh</td>\n",
       "      <td>0.000000</td>\n",
       "      <td>1.000000</td>\n",
       "    </tr>\n",
       "    <tr>\n",
       "      <th>46</th>\n",
       "      <td>Islamic Education</td>\n",
       "      <td>1.000000</td>\n",
       "      <td>0.750000</td>\n",
       "    </tr>\n",
       "    <tr>\n",
       "      <th>47</th>\n",
       "      <td>Nursing</td>\n",
       "      <td>1.000000</td>\n",
       "      <td>0.791667</td>\n",
       "    </tr>\n",
       "    <tr>\n",
       "      <th>48</th>\n",
       "      <td>Pendidikan Islam</td>\n",
       "      <td>1.000000</td>\n",
       "      <td>0.958333</td>\n",
       "    </tr>\n",
       "  </tbody>\n",
       "</table>\n",
       "</div>"
      ],
      "text/plain": [
       "                course_list  course_cgpa_ratio  course_age_ratio\n",
       "0               Engineering           0.865546          0.845588\n",
       "1         Islamic education           0.857143          0.875000\n",
       "2                       BIT           0.888889          0.888889\n",
       "3                      Laws           0.928571          0.833333\n",
       "4              Mathemathics           0.857143          0.958333\n",
       "5          Pendidikan islam           1.000000          0.958333\n",
       "6                       BCS           0.968254          0.851852\n",
       "7           Human Resources           0.714286          0.791667\n",
       "8                     Irkhs           1.000000          0.750000\n",
       "9                Psychology           1.000000          0.833333\n",
       "10                    KENMS           1.000000          0.750000\n",
       "11              Accounting            0.857143          1.000000\n",
       "12                      ENM           0.857143          1.000000\n",
       "13           Marine science           1.000000          0.750000\n",
       "14                      KOE           0.892857          0.822917\n",
       "15          Banking Studies           1.000000          0.750000\n",
       "16  Business Administration           0.857143          0.958333\n",
       "17                      Law           0.857143          0.750000\n",
       "18                   KIRKHS           1.000000          0.750000\n",
       "19               Usuluddin            0.857143          0.833333\n",
       "20                    TAASL           1.000000          0.958333\n",
       "21                   Engine           1.000000          0.875000\n",
       "22                      ALA           0.714286          0.958333\n",
       "23       Biomedical science           0.642857          0.843750\n",
       "24                      koe           0.857143          0.833333\n",
       "25                   Kirkhs           1.000000          0.958333\n",
       "26                     BENL           0.857143          0.791667\n",
       "27                     Benl           0.857143          0.958333\n",
       "28                       IT           0.857143          0.750000\n",
       "29                      CTS           1.000000          0.750000\n",
       "30                    engin           1.000000          1.000000\n",
       "31                    Econs           1.000000          0.958333\n",
       "32                     MHSC           0.857143          0.791667\n",
       "33                   Malcom           1.000000          0.750000\n",
       "34                      Kop           0.857143          1.000000\n",
       "35          Human Sciences            0.857143          0.750000\n",
       "36            Biotechnology           0.000000          0.791667\n",
       "37           Communication            1.000000          1.000000\n",
       "38          Diploma Nursing           1.000000          1.000000\n",
       "39        Pendidikan Islam            0.857143          0.791667\n",
       "40              Radiography           0.857143          0.958333\n",
       "41               psychology           1.000000          0.750000\n",
       "42              Fiqh fatwa            0.857143          0.791667\n",
       "43             DIPLOMA TESL           1.000000          0.958333\n",
       "44                      Koe           0.857143          0.750000\n",
       "45                     Fiqh           0.000000          1.000000\n",
       "46        Islamic Education           1.000000          0.750000\n",
       "47                 Nursing            1.000000          0.791667\n",
       "48         Pendidikan Islam           1.000000          0.958333"
      ]
     },
     "execution_count": 41,
     "metadata": {},
     "output_type": "execute_result"
    }
   ],
   "source": [
    "data_1"
   ]
  },
  {
   "cell_type": "code",
   "execution_count": 42,
   "id": "ccbd71f5",
   "metadata": {},
   "outputs": [],
   "source": [
    "data_1.sort_values('course_cgpa_ratio',inplace=True)"
   ]
  },
  {
   "cell_type": "code",
   "execution_count": 43,
   "id": "a7f95c2a",
   "metadata": {},
   "outputs": [
    {
     "data": {
      "text/html": [
       "<div>\n",
       "<style scoped>\n",
       "    .dataframe tbody tr th:only-of-type {\n",
       "        vertical-align: middle;\n",
       "    }\n",
       "\n",
       "    .dataframe tbody tr th {\n",
       "        vertical-align: top;\n",
       "    }\n",
       "\n",
       "    .dataframe thead th {\n",
       "        text-align: right;\n",
       "    }\n",
       "</style>\n",
       "<table border=\"1\" class=\"dataframe\">\n",
       "  <thead>\n",
       "    <tr style=\"text-align: right;\">\n",
       "      <th></th>\n",
       "      <th>course_list</th>\n",
       "      <th>course_cgpa_ratio</th>\n",
       "      <th>course_age_ratio</th>\n",
       "    </tr>\n",
       "  </thead>\n",
       "  <tbody>\n",
       "    <tr>\n",
       "      <th>45</th>\n",
       "      <td>Fiqh</td>\n",
       "      <td>0.000000</td>\n",
       "      <td>1.000000</td>\n",
       "    </tr>\n",
       "    <tr>\n",
       "      <th>36</th>\n",
       "      <td>Biotechnology</td>\n",
       "      <td>0.000000</td>\n",
       "      <td>0.791667</td>\n",
       "    </tr>\n",
       "    <tr>\n",
       "      <th>23</th>\n",
       "      <td>Biomedical science</td>\n",
       "      <td>0.642857</td>\n",
       "      <td>0.843750</td>\n",
       "    </tr>\n",
       "    <tr>\n",
       "      <th>22</th>\n",
       "      <td>ALA</td>\n",
       "      <td>0.714286</td>\n",
       "      <td>0.958333</td>\n",
       "    </tr>\n",
       "    <tr>\n",
       "      <th>7</th>\n",
       "      <td>Human Resources</td>\n",
       "      <td>0.714286</td>\n",
       "      <td>0.791667</td>\n",
       "    </tr>\n",
       "  </tbody>\n",
       "</table>\n",
       "</div>"
      ],
      "text/plain": [
       "           course_list  course_cgpa_ratio  course_age_ratio\n",
       "45                Fiqh           0.000000          1.000000\n",
       "36       Biotechnology           0.000000          0.791667\n",
       "23  Biomedical science           0.642857          0.843750\n",
       "22                 ALA           0.714286          0.958333\n",
       "7      Human Resources           0.714286          0.791667"
      ]
     },
     "execution_count": 43,
     "metadata": {},
     "output_type": "execute_result"
    }
   ],
   "source": [
    "data_1.head()"
   ]
  },
  {
   "cell_type": "code",
   "execution_count": 44,
   "id": "58df16b2",
   "metadata": {},
   "outputs": [
    {
     "data": {
      "image/png": "[encoded data removed]",
      "text/plain": [
       "<Figure size 1440x720 with 1 Axes>"
      ]
     },
     "metadata": {
      "needs_background": "light"
     },
     "output_type": "display_data"
    }
   ],
   "source": [
    "f,ax1 = plt.subplots(figsize =(20,10))\n",
    "sns.pointplot(x='course_list',y='course_cgpa_ratio',data=sorted_data,color='lime',alpha=0.8)\n",
    "sns.pointplot(x='course_list',y='course_age_ratio',data=sorted_data2 ,color='red',alpha=0.8)\n",
    "plt.text(40,0.6,'CGPA',color='red',fontsize = 17,style = 'italic')\n",
    "plt.text(40,0.55,'AGE',color='lime',fontsize = 18,style = 'italic')\n",
    "plt.xlabel('Courses',fontsize = 15,color='blue')\n",
    "plt.ylabel('Values',fontsize = 15,color='blue')\n",
    "plt.title('CGPA  VS  AGE',fontsize = 20,color='blue')\n",
    "plt.grid()"
   ]
  },
  {
   "cell_type": "markdown",
   "id": "4e17d2ec",
   "metadata": {},
   "source": [
    "<font color=\"MediumSeaGreen\"><br>\n",
    "Çıktıyı yorumlayalım. CGPA azalırken, AGE değerleride azalan yöndedir. Dolayısıyla doğru orantı vardır diyebiliriz."
   ]
  },
  {
   "cell_type": "markdown",
   "id": "737df938",
   "metadata": {},
   "source": [
    "# JOINT PLOT"
   ]
  },
  {
   "cell_type": "code",
   "execution_count": 45,
   "id": "110c939d",
   "metadata": {},
   "outputs": [
    {
     "name": "stderr",
     "output_type": "stream",
     "text": [
      "C:\\Users\\raziy\\anaconda3\\lib\\site-packages\\seaborn\\_decorators.py:36: FutureWarning: Pass the following variables as keyword args: x, y. From version 0.12, the only valid positional argument will be `data`, and passing other arguments without an explicit keyword will result in an error or misinterpretation.\n",
      "  warnings.warn(\n",
      "C:\\Users\\raziy\\anaconda3\\lib\\site-packages\\seaborn\\axisgrid.py:2182: UserWarning: The `size` parameter has been renamed to `height`; please update your code.\n",
      "  warnings.warn(msg, UserWarning)\n"
     ]
    },
    {
     "data": {
      "image/png": "[encoded data removed]",
      "text/plain": [
       "<Figure size 360x360 with 3 Axes>"
      ]
     },
     "metadata": {
      "needs_background": "light"
     },
     "output_type": "display_data"
    }
   ],
   "source": [
    "g = sns.jointplot(\"course_cgpa_ratio\", \"course_age_ratio\", data=data_1,size=5, ratio=3, color=\"r\")"
   ]
  },
  {
   "cell_type": "markdown",
   "id": "443f559d",
   "metadata": {},
   "source": [
    "<font color=\"Salmon\"><br>\n",
    "Çıktıyı yorumlayalım. Figürün üst kısmındaki barlara bakın ve orada en uzun bar 1.0 değerine karşılık geliyor. Bunun anlamı, verisetinde course_cgpa_ratio sütunu içerisinde en çok 1.0 değeri bulunmaktaymış."
   ]
  },
  {
   "cell_type": "markdown",
   "id": "78272631",
   "metadata": {},
   "source": [
    "# PIE PLOT"
   ]
  },
  {
   "cell_type": "code",
   "execution_count": 46,
   "id": "a6186ac4",
   "metadata": {},
   "outputs": [],
   "source": [
    "data.rename(columns ={'Your current year of Study':'current_year'},inplace=True)"
   ]
  },
  {
   "cell_type": "code",
   "execution_count": 47,
   "id": "b9ecabd6",
   "metadata": {},
   "outputs": [
    {
     "data": {
      "text/html": [
       "<div>\n",
       "<style scoped>\n",
       "    .dataframe tbody tr th:only-of-type {\n",
       "        vertical-align: middle;\n",
       "    }\n",
       "\n",
       "    .dataframe tbody tr th {\n",
       "        vertical-align: top;\n",
       "    }\n",
       "\n",
       "    .dataframe thead th {\n",
       "        text-align: right;\n",
       "    }\n",
       "</style>\n",
       "<table border=\"1\" class=\"dataframe\">\n",
       "  <thead>\n",
       "    <tr style=\"text-align: right;\">\n",
       "      <th></th>\n",
       "      <th>Timestamp</th>\n",
       "      <th>Choose your gender</th>\n",
       "      <th>Age</th>\n",
       "      <th>What is your course?</th>\n",
       "      <th>current_year</th>\n",
       "      <th>What is your CGPA?</th>\n",
       "      <th>Marital status</th>\n",
       "      <th>Do you have Depression?</th>\n",
       "      <th>Do you have Anxiety?</th>\n",
       "      <th>Do you have Panic attack?</th>\n",
       "      <th>Did you seek any specialist for a treatment?</th>\n",
       "      <th>CGPA_Base</th>\n",
       "    </tr>\n",
       "  </thead>\n",
       "  <tbody>\n",
       "    <tr>\n",
       "      <th>0</th>\n",
       "      <td>8/7/2020 12:02</td>\n",
       "      <td>Female</td>\n",
       "      <td>18.0</td>\n",
       "      <td>Engineering</td>\n",
       "      <td>year 1</td>\n",
       "      <td>3.00 - 3.49</td>\n",
       "      <td>No</td>\n",
       "      <td>Yes</td>\n",
       "      <td>No</td>\n",
       "      <td>Yes</td>\n",
       "      <td>No</td>\n",
       "      <td>3.0</td>\n",
       "    </tr>\n",
       "    <tr>\n",
       "      <th>1</th>\n",
       "      <td>8/7/2020 12:04</td>\n",
       "      <td>Male</td>\n",
       "      <td>21.0</td>\n",
       "      <td>Islamic education</td>\n",
       "      <td>year 2</td>\n",
       "      <td>3.00 - 3.49</td>\n",
       "      <td>No</td>\n",
       "      <td>No</td>\n",
       "      <td>Yes</td>\n",
       "      <td>No</td>\n",
       "      <td>No</td>\n",
       "      <td>3.0</td>\n",
       "    </tr>\n",
       "    <tr>\n",
       "      <th>2</th>\n",
       "      <td>8/7/2020 12:05</td>\n",
       "      <td>Male</td>\n",
       "      <td>19.0</td>\n",
       "      <td>BIT</td>\n",
       "      <td>Year 1</td>\n",
       "      <td>3.00 - 3.49</td>\n",
       "      <td>No</td>\n",
       "      <td>Yes</td>\n",
       "      <td>Yes</td>\n",
       "      <td>Yes</td>\n",
       "      <td>No</td>\n",
       "      <td>3.0</td>\n",
       "    </tr>\n",
       "    <tr>\n",
       "      <th>3</th>\n",
       "      <td>8/7/2020 12:06</td>\n",
       "      <td>Female</td>\n",
       "      <td>22.0</td>\n",
       "      <td>Laws</td>\n",
       "      <td>year 3</td>\n",
       "      <td>3.00 - 3.49</td>\n",
       "      <td>Yes</td>\n",
       "      <td>Yes</td>\n",
       "      <td>No</td>\n",
       "      <td>No</td>\n",
       "      <td>No</td>\n",
       "      <td>3.0</td>\n",
       "    </tr>\n",
       "    <tr>\n",
       "      <th>4</th>\n",
       "      <td>8/7/2020 12:13</td>\n",
       "      <td>Male</td>\n",
       "      <td>23.0</td>\n",
       "      <td>Mathemathics</td>\n",
       "      <td>year 4</td>\n",
       "      <td>3.00 - 3.49</td>\n",
       "      <td>No</td>\n",
       "      <td>No</td>\n",
       "      <td>No</td>\n",
       "      <td>No</td>\n",
       "      <td>No</td>\n",
       "      <td>3.0</td>\n",
       "    </tr>\n",
       "  </tbody>\n",
       "</table>\n",
       "</div>"
      ],
      "text/plain": [
       "        Timestamp Choose your gender   Age What is your course? current_year  \\\n",
       "0  8/7/2020 12:02             Female  18.0          Engineering       year 1   \n",
       "1  8/7/2020 12:04               Male  21.0    Islamic education       year 2   \n",
       "2  8/7/2020 12:05               Male  19.0                  BIT       Year 1   \n",
       "3  8/7/2020 12:06             Female  22.0                 Laws       year 3   \n",
       "4  8/7/2020 12:13               Male  23.0         Mathemathics       year 4   \n",
       "\n",
       "  What is your CGPA? Marital status Do you have Depression?  \\\n",
       "0        3.00 - 3.49             No                     Yes   \n",
       "1        3.00 - 3.49             No                      No   \n",
       "2        3.00 - 3.49             No                     Yes   \n",
       "3        3.00 - 3.49            Yes                     Yes   \n",
       "4        3.00 - 3.49             No                      No   \n",
       "\n",
       "  Do you have Anxiety? Do you have Panic attack?  \\\n",
       "0                   No                       Yes   \n",
       "1                  Yes                        No   \n",
       "2                  Yes                       Yes   \n",
       "3                   No                        No   \n",
       "4                   No                        No   \n",
       "\n",
       "  Did you seek any specialist for a treatment?  CGPA_Base  \n",
       "0                                           No        3.0  \n",
       "1                                           No        3.0  \n",
       "2                                           No        3.0  \n",
       "3                                           No        3.0  \n",
       "4                                           No        3.0  "
      ]
     },
     "execution_count": 47,
     "metadata": {},
     "output_type": "execute_result"
    }
   ],
   "source": [
    "data.head()"
   ]
  },
  {
   "cell_type": "code",
   "execution_count": 48,
   "id": "c12a518e",
   "metadata": {},
   "outputs": [
    {
     "data": {
      "text/plain": [
       "7"
      ]
     },
     "execution_count": 48,
     "metadata": {},
     "output_type": "execute_result"
    }
   ],
   "source": [
    "len(data.current_year.unique())"
   ]
  },
  {
   "cell_type": "code",
   "execution_count": 49,
   "id": "ecf4d0c2",
   "metadata": {},
   "outputs": [],
   "source": [
    "labels = data.current_year.value_counts().index"
   ]
  },
  {
   "cell_type": "code",
   "execution_count": 50,
   "id": "9c957bee",
   "metadata": {},
   "outputs": [],
   "source": [
    "colors = ['grey','blue','red','yellow','green','brown']"
   ]
  },
  {
   "cell_type": "code",
   "execution_count": 51,
   "id": "7e1d7d08",
   "metadata": {},
   "outputs": [],
   "source": [
    "explode = [0,0,0,0,0,0,0]"
   ]
  },
  {
   "cell_type": "code",
   "execution_count": 52,
   "id": "97b09c9c",
   "metadata": {},
   "outputs": [],
   "source": [
    "sizes = data.current_year.value_counts().values"
   ]
  },
  {
   "cell_type": "code",
   "execution_count": 53,
   "id": "d9f6dd09",
   "metadata": {},
   "outputs": [
    {
     "data": {
      "text/plain": [
       "Text(0.5, 1.0, 'Killed People According to Races')"
      ]
     },
     "execution_count": 53,
     "metadata": {},
     "output_type": "execute_result"
    },
    {
     "data": {
      "image/png": "[encoded data removed]",
      "text/plain": [
       "<Figure size 504x504 with 1 Axes>"
      ]
     },
     "metadata": {},
     "output_type": "display_data"
    }
   ],
   "source": [
    "plt.figure(figsize = (7,7))\n",
    "plt.pie(sizes, explode=explode, labels=labels, colors=colors, autopct='%1.1f%%')\n",
    "plt.title('Killed People According to Races',color = 'blue',fontsize = 15)"
   ]
  },
  {
   "cell_type": "markdown",
   "id": "90a1aabb",
   "metadata": {},
   "source": [
    "# LINE PLOT"
   ]
  },
  {
   "cell_type": "code",
   "execution_count": 54,
   "id": "96f1fe22",
   "metadata": {},
   "outputs": [],
   "source": [
    "data['year_num'] = [int(each.split(\" \")[1]) for each in data.iloc[:,4]]"
   ]
  },
  {
   "cell_type": "code",
   "execution_count": 55,
   "id": "6f459a35",
   "metadata": {},
   "outputs": [],
   "source": [
    "data = data.sort_values('year_num')"
   ]
  },
  {
   "cell_type": "code",
   "execution_count": 56,
   "id": "e6f921c6",
   "metadata": {},
   "outputs": [
    {
     "data": {
      "text/html": [
       "<div>\n",
       "<style scoped>\n",
       "    .dataframe tbody tr th:only-of-type {\n",
       "        vertical-align: middle;\n",
       "    }\n",
       "\n",
       "    .dataframe tbody tr th {\n",
       "        vertical-align: top;\n",
       "    }\n",
       "\n",
       "    .dataframe thead th {\n",
       "        text-align: right;\n",
       "    }\n",
       "</style>\n",
       "<table border=\"1\" class=\"dataframe\">\n",
       "  <thead>\n",
       "    <tr style=\"text-align: right;\">\n",
       "      <th></th>\n",
       "      <th>Timestamp</th>\n",
       "      <th>Choose your gender</th>\n",
       "      <th>Age</th>\n",
       "      <th>What is your course?</th>\n",
       "      <th>current_year</th>\n",
       "      <th>What is your CGPA?</th>\n",
       "      <th>Marital status</th>\n",
       "      <th>Do you have Depression?</th>\n",
       "      <th>Do you have Anxiety?</th>\n",
       "      <th>Do you have Panic attack?</th>\n",
       "      <th>Did you seek any specialist for a treatment?</th>\n",
       "      <th>CGPA_Base</th>\n",
       "      <th>year_num</th>\n",
       "    </tr>\n",
       "  </thead>\n",
       "  <tbody>\n",
       "    <tr>\n",
       "      <th>0</th>\n",
       "      <td>8/7/2020 12:02</td>\n",
       "      <td>Female</td>\n",
       "      <td>18.0</td>\n",
       "      <td>Engineering</td>\n",
       "      <td>year 1</td>\n",
       "      <td>3.00 - 3.49</td>\n",
       "      <td>No</td>\n",
       "      <td>Yes</td>\n",
       "      <td>No</td>\n",
       "      <td>Yes</td>\n",
       "      <td>No</td>\n",
       "      <td>3.0</td>\n",
       "      <td>1</td>\n",
       "    </tr>\n",
       "    <tr>\n",
       "      <th>35</th>\n",
       "      <td>8/7/2020 14:43</td>\n",
       "      <td>Female</td>\n",
       "      <td>18.0</td>\n",
       "      <td>Engineering</td>\n",
       "      <td>year 1</td>\n",
       "      <td>2.00 - 2.49</td>\n",
       "      <td>No</td>\n",
       "      <td>No</td>\n",
       "      <td>No</td>\n",
       "      <td>No</td>\n",
       "      <td>No</td>\n",
       "      <td>2.0</td>\n",
       "      <td>1</td>\n",
       "    </tr>\n",
       "    <tr>\n",
       "      <th>37</th>\n",
       "      <td>8/7/2020 14:45</td>\n",
       "      <td>Female</td>\n",
       "      <td>19.0</td>\n",
       "      <td>BIT</td>\n",
       "      <td>year 1</td>\n",
       "      <td>2.50 - 2.99</td>\n",
       "      <td>No</td>\n",
       "      <td>Yes</td>\n",
       "      <td>Yes</td>\n",
       "      <td>Yes</td>\n",
       "      <td>No</td>\n",
       "      <td>2.5</td>\n",
       "      <td>1</td>\n",
       "    </tr>\n",
       "    <tr>\n",
       "      <th>38</th>\n",
       "      <td>8/7/2020 14:47</td>\n",
       "      <td>Female</td>\n",
       "      <td>18.0</td>\n",
       "      <td>KIRKHS</td>\n",
       "      <td>year 1</td>\n",
       "      <td>3.50 - 4.00</td>\n",
       "      <td>No</td>\n",
       "      <td>No</td>\n",
       "      <td>No</td>\n",
       "      <td>No</td>\n",
       "      <td>No</td>\n",
       "      <td>3.5</td>\n",
       "      <td>1</td>\n",
       "    </tr>\n",
       "    <tr>\n",
       "      <th>45</th>\n",
       "      <td>8/7/2020 15:09</td>\n",
       "      <td>Male</td>\n",
       "      <td>18.0</td>\n",
       "      <td>BCS</td>\n",
       "      <td>year 1</td>\n",
       "      <td>3.50 - 4.00</td>\n",
       "      <td>No</td>\n",
       "      <td>No</td>\n",
       "      <td>Yes</td>\n",
       "      <td>Yes</td>\n",
       "      <td>No</td>\n",
       "      <td>3.5</td>\n",
       "      <td>1</td>\n",
       "    </tr>\n",
       "  </tbody>\n",
       "</table>\n",
       "</div>"
      ],
      "text/plain": [
       "         Timestamp Choose your gender   Age What is your course? current_year  \\\n",
       "0   8/7/2020 12:02             Female  18.0          Engineering       year 1   \n",
       "35  8/7/2020 14:43             Female  18.0          Engineering       year 1   \n",
       "37  8/7/2020 14:45             Female  19.0                  BIT       year 1   \n",
       "38  8/7/2020 14:47             Female  18.0               KIRKHS       year 1   \n",
       "45  8/7/2020 15:09               Male  18.0                  BCS       year 1   \n",
       "\n",
       "   What is your CGPA? Marital status Do you have Depression?  \\\n",
       "0         3.00 - 3.49             No                     Yes   \n",
       "35        2.00 - 2.49             No                      No   \n",
       "37        2.50 - 2.99             No                     Yes   \n",
       "38        3.50 - 4.00             No                      No   \n",
       "45        3.50 - 4.00             No                      No   \n",
       "\n",
       "   Do you have Anxiety? Do you have Panic attack?  \\\n",
       "0                    No                       Yes   \n",
       "35                   No                        No   \n",
       "37                  Yes                       Yes   \n",
       "38                   No                        No   \n",
       "45                  Yes                       Yes   \n",
       "\n",
       "   Did you seek any specialist for a treatment?  CGPA_Base  year_num  \n",
       "0                                            No        3.0         1  \n",
       "35                                           No        2.0         1  \n",
       "37                                           No        2.5         1  \n",
       "38                                           No        3.5         1  \n",
       "45                                           No        3.5         1  "
      ]
     },
     "execution_count": 56,
     "metadata": {},
     "output_type": "execute_result"
    }
   ],
   "source": [
    "data.head()"
   ]
  },
  {
   "cell_type": "code",
   "execution_count": 57,
   "id": "6ba2f52c",
   "metadata": {},
   "outputs": [
    {
     "data": {
      "text/plain": [
       "array([1, 2, 3, 4], dtype=int64)"
      ]
     },
     "execution_count": 57,
     "metadata": {},
     "output_type": "execute_result"
    }
   ],
   "source": [
    "data.year_num.unique()"
   ]
  },
  {
   "cell_type": "code",
   "execution_count": 58,
   "id": "b79e207c",
   "metadata": {},
   "outputs": [
    {
     "data": {
      "text/plain": [
       "42"
      ]
     },
     "execution_count": 58,
     "metadata": {},
     "output_type": "execute_result"
    }
   ],
   "source": [
    "sayac=0\n",
    "for each in data.iloc[:,12]:\n",
    "    if each==1:\n",
    "        sayac+=1\n",
    "        \n",
    "sayac"
   ]
  },
  {
   "cell_type": "code",
   "execution_count": 59,
   "id": "67252a05",
   "metadata": {},
   "outputs": [
    {
     "data": {
      "text/html": [
       "<div>\n",
       "<style scoped>\n",
       "    .dataframe tbody tr th:only-of-type {\n",
       "        vertical-align: middle;\n",
       "    }\n",
       "\n",
       "    .dataframe tbody tr th {\n",
       "        vertical-align: top;\n",
       "    }\n",
       "\n",
       "    .dataframe thead th {\n",
       "        text-align: right;\n",
       "    }\n",
       "</style>\n",
       "<table border=\"1\" class=\"dataframe\">\n",
       "  <thead>\n",
       "    <tr style=\"text-align: right;\">\n",
       "      <th></th>\n",
       "      <th>Timestamp</th>\n",
       "      <th>Choose your gender</th>\n",
       "      <th>Age</th>\n",
       "      <th>What is your course?</th>\n",
       "      <th>current_year</th>\n",
       "      <th>What is your CGPA?</th>\n",
       "      <th>Marital status</th>\n",
       "      <th>Do you have Depression?</th>\n",
       "      <th>Do you have Anxiety?</th>\n",
       "      <th>Do you have Panic attack?</th>\n",
       "      <th>Did you seek any specialist for a treatment?</th>\n",
       "      <th>CGPA_Base</th>\n",
       "      <th>year_num</th>\n",
       "    </tr>\n",
       "  </thead>\n",
       "  <tbody>\n",
       "    <tr>\n",
       "      <th>0</th>\n",
       "      <td>8/7/2020 12:02</td>\n",
       "      <td>Female</td>\n",
       "      <td>18.0</td>\n",
       "      <td>Engineering</td>\n",
       "      <td>year 1</td>\n",
       "      <td>3.00 - 3.49</td>\n",
       "      <td>No</td>\n",
       "      <td>Yes</td>\n",
       "      <td>No</td>\n",
       "      <td>Yes</td>\n",
       "      <td>No</td>\n",
       "      <td>3.0</td>\n",
       "      <td>1</td>\n",
       "    </tr>\n",
       "    <tr>\n",
       "      <th>35</th>\n",
       "      <td>8/7/2020 14:43</td>\n",
       "      <td>Female</td>\n",
       "      <td>18.0</td>\n",
       "      <td>Engineering</td>\n",
       "      <td>year 1</td>\n",
       "      <td>2.00 - 2.49</td>\n",
       "      <td>No</td>\n",
       "      <td>No</td>\n",
       "      <td>No</td>\n",
       "      <td>No</td>\n",
       "      <td>No</td>\n",
       "      <td>2.0</td>\n",
       "      <td>1</td>\n",
       "    </tr>\n",
       "    <tr>\n",
       "      <th>37</th>\n",
       "      <td>8/7/2020 14:45</td>\n",
       "      <td>Female</td>\n",
       "      <td>19.0</td>\n",
       "      <td>BIT</td>\n",
       "      <td>year 1</td>\n",
       "      <td>2.50 - 2.99</td>\n",
       "      <td>No</td>\n",
       "      <td>Yes</td>\n",
       "      <td>Yes</td>\n",
       "      <td>Yes</td>\n",
       "      <td>No</td>\n",
       "      <td>2.5</td>\n",
       "      <td>1</td>\n",
       "    </tr>\n",
       "    <tr>\n",
       "      <th>38</th>\n",
       "      <td>8/7/2020 14:47</td>\n",
       "      <td>Female</td>\n",
       "      <td>18.0</td>\n",
       "      <td>KIRKHS</td>\n",
       "      <td>year 1</td>\n",
       "      <td>3.50 - 4.00</td>\n",
       "      <td>No</td>\n",
       "      <td>No</td>\n",
       "      <td>No</td>\n",
       "      <td>No</td>\n",
       "      <td>No</td>\n",
       "      <td>3.5</td>\n",
       "      <td>1</td>\n",
       "    </tr>\n",
       "    <tr>\n",
       "      <th>45</th>\n",
       "      <td>8/7/2020 15:09</td>\n",
       "      <td>Male</td>\n",
       "      <td>18.0</td>\n",
       "      <td>BCS</td>\n",
       "      <td>year 1</td>\n",
       "      <td>3.50 - 4.00</td>\n",
       "      <td>No</td>\n",
       "      <td>No</td>\n",
       "      <td>Yes</td>\n",
       "      <td>Yes</td>\n",
       "      <td>No</td>\n",
       "      <td>3.5</td>\n",
       "      <td>1</td>\n",
       "    </tr>\n",
       "    <tr>\n",
       "      <th>...</th>\n",
       "      <td>...</td>\n",
       "      <td>...</td>\n",
       "      <td>...</td>\n",
       "      <td>...</td>\n",
       "      <td>...</td>\n",
       "      <td>...</td>\n",
       "      <td>...</td>\n",
       "      <td>...</td>\n",
       "      <td>...</td>\n",
       "      <td>...</td>\n",
       "      <td>...</td>\n",
       "      <td>...</td>\n",
       "      <td>...</td>\n",
       "    </tr>\n",
       "    <tr>\n",
       "      <th>99</th>\n",
       "      <td>13/07/2020 21:23:57</td>\n",
       "      <td>Female</td>\n",
       "      <td>23.0</td>\n",
       "      <td>Pendidikan Islam</td>\n",
       "      <td>year 4</td>\n",
       "      <td>3.50 - 4.00</td>\n",
       "      <td>No</td>\n",
       "      <td>No</td>\n",
       "      <td>No</td>\n",
       "      <td>No</td>\n",
       "      <td>No</td>\n",
       "      <td>3.5</td>\n",
       "      <td>4</td>\n",
       "    </tr>\n",
       "    <tr>\n",
       "      <th>47</th>\n",
       "      <td>8/7/2020 15:14</td>\n",
       "      <td>Female</td>\n",
       "      <td>18.0</td>\n",
       "      <td>Engine</td>\n",
       "      <td>year 4</td>\n",
       "      <td>3.50 - 4.00</td>\n",
       "      <td>No</td>\n",
       "      <td>No</td>\n",
       "      <td>No</td>\n",
       "      <td>No</td>\n",
       "      <td>No</td>\n",
       "      <td>3.5</td>\n",
       "      <td>4</td>\n",
       "    </tr>\n",
       "    <tr>\n",
       "      <th>17</th>\n",
       "      <td>8/7/2020 12:52</td>\n",
       "      <td>Female</td>\n",
       "      <td>24.0</td>\n",
       "      <td>ENM</td>\n",
       "      <td>year 4</td>\n",
       "      <td>3.00 - 3.49</td>\n",
       "      <td>Yes</td>\n",
       "      <td>Yes</td>\n",
       "      <td>Yes</td>\n",
       "      <td>Yes</td>\n",
       "      <td>No</td>\n",
       "      <td>3.0</td>\n",
       "      <td>4</td>\n",
       "    </tr>\n",
       "    <tr>\n",
       "      <th>29</th>\n",
       "      <td>8/7/2020 14:05</td>\n",
       "      <td>Female</td>\n",
       "      <td>24.0</td>\n",
       "      <td>BCS</td>\n",
       "      <td>year 4</td>\n",
       "      <td>3.50 - 4.00</td>\n",
       "      <td>No</td>\n",
       "      <td>No</td>\n",
       "      <td>No</td>\n",
       "      <td>No</td>\n",
       "      <td>No</td>\n",
       "      <td>3.5</td>\n",
       "      <td>4</td>\n",
       "    </tr>\n",
       "    <tr>\n",
       "      <th>79</th>\n",
       "      <td>13/07/2020 10:10:30</td>\n",
       "      <td>Female</td>\n",
       "      <td>18.0</td>\n",
       "      <td>Engineering</td>\n",
       "      <td>year 4</td>\n",
       "      <td>3.50 - 4.00</td>\n",
       "      <td>No</td>\n",
       "      <td>No</td>\n",
       "      <td>No</td>\n",
       "      <td>No</td>\n",
       "      <td>No</td>\n",
       "      <td>3.5</td>\n",
       "      <td>4</td>\n",
       "    </tr>\n",
       "  </tbody>\n",
       "</table>\n",
       "<p>100 rows × 13 columns</p>\n",
       "</div>"
      ],
      "text/plain": [
       "              Timestamp Choose your gender   Age What is your course?  \\\n",
       "0        8/7/2020 12:02             Female  18.0          Engineering   \n",
       "35       8/7/2020 14:43             Female  18.0          Engineering   \n",
       "37       8/7/2020 14:45             Female  19.0                  BIT   \n",
       "38       8/7/2020 14:47             Female  18.0               KIRKHS   \n",
       "45       8/7/2020 15:09               Male  18.0                  BCS   \n",
       "..                  ...                ...   ...                  ...   \n",
       "99  13/07/2020 21:23:57             Female  23.0     Pendidikan Islam   \n",
       "47       8/7/2020 15:14             Female  18.0               Engine   \n",
       "17       8/7/2020 12:52             Female  24.0                  ENM   \n",
       "29       8/7/2020 14:05             Female  24.0                  BCS   \n",
       "79  13/07/2020 10:10:30             Female  18.0          Engineering   \n",
       "\n",
       "   current_year What is your CGPA? Marital status Do you have Depression?  \\\n",
       "0        year 1        3.00 - 3.49             No                     Yes   \n",
       "35       year 1        2.00 - 2.49             No                      No   \n",
       "37       year 1        2.50 - 2.99             No                     Yes   \n",
       "38       year 1        3.50 - 4.00             No                      No   \n",
       "45       year 1        3.50 - 4.00             No                      No   \n",
       "..          ...                ...            ...                     ...   \n",
       "99       year 4        3.50 - 4.00             No                      No   \n",
       "47       year 4        3.50 - 4.00             No                      No   \n",
       "17       year 4        3.00 - 3.49            Yes                     Yes   \n",
       "29       year 4        3.50 - 4.00             No                      No   \n",
       "79       year 4        3.50 - 4.00             No                      No   \n",
       "\n",
       "   Do you have Anxiety? Do you have Panic attack?  \\\n",
       "0                    No                       Yes   \n",
       "35                   No                        No   \n",
       "37                  Yes                       Yes   \n",
       "38                   No                        No   \n",
       "45                  Yes                       Yes   \n",
       "..                  ...                       ...   \n",
       "99                   No                        No   \n",
       "47                   No                        No   \n",
       "17                  Yes                       Yes   \n",
       "29                   No                        No   \n",
       "79                   No                        No   \n",
       "\n",
       "   Did you seek any specialist for a treatment?  CGPA_Base  year_num  \n",
       "0                                            No        3.0         1  \n",
       "35                                           No        2.0         1  \n",
       "37                                           No        2.5         1  \n",
       "38                                           No        3.5         1  \n",
       "45                                           No        3.5         1  \n",
       "..                                          ...        ...       ...  \n",
       "99                                           No        3.5         4  \n",
       "47                                           No        3.5         4  \n",
       "17                                           No        3.0         4  \n",
       "29                                           No        3.5         4  \n",
       "79                                           No        3.5         4  \n",
       "\n",
       "[100 rows x 13 columns]"
      ]
     },
     "execution_count": 59,
     "metadata": {},
     "output_type": "execute_result"
    }
   ],
   "source": [
    "df4 = data.iloc[:101,:]\n",
    "df4"
   ]
  },
  {
   "cell_type": "code",
   "execution_count": 65,
   "id": "6ccac4a6",
   "metadata": {},
   "outputs": [],
   "source": [
    "#Kabaca her iki sütun değerlerinide 0 ile 1 aralığına çekerek dağılımın biraz daha ilişkili olmasını amaçladım.\n",
    "df4['Age'] = df4['Age']/max( df4['Age'])\n",
    "df4['CGPA_Base'] = df4['CGPA_Base']/max( df4['CGPA_Base'])"
   ]
  },
  {
   "cell_type": "code",
   "execution_count": 66,
   "id": "83ea961b",
   "metadata": {},
   "outputs": [
    {
     "data": {
      "application/vnd.plotly.v1+json": {
       "config": {
        "linkText": "Export to plot.ly",
        "plotlyServerURL": "https://plot.ly",
        "showLink": false
       },
       "data": [
        {
         "marker": {
          "color": "rgba(16, 112, 2, 0.8)"
         },
         "mode": "lines",
         "name": "Age",
         "text": [
          "8/7/2020 12:02",
          "8/7/2020 14:43",
          "8/7/2020 14:45",
          "8/7/2020 14:47",
          "8/7/2020 15:09",
          "8/7/2020 15:12",
          "8/7/2020 15:57",
          "8/7/2020 15:58",
          "8/7/2020 16:22",
          "8/7/2020 16:34",
          "8/7/2020 16:53",
          "8/7/2020 17:05",
          "8/7/2020 17:37",
          "8/7/2020 17:46",
          "8/7/2020 17:50",
          "8/7/2020 19:05",
          "8/7/2020 20:36",
          "9/7/2020 6:57",
          "9/7/2020 11:57",
          "9/7/2020 13:15",
          "13/07/2020 10:12:26",
          "13/07/2020 10:14:46",
          "13/07/2020 10:33:47",
          "13/07/2020 11:46:13",
          "13/07/2020 11:49:02",
          "13/07/2020 16:15:13",
          "13/07/2020 19:08:32",
          "13/07/2020 19:56:49",
          "8/7/2020 14:41",
          "8/7/2020 14:29",
          "8/7/2020 15:27",
          "8/7/2020 13:12",
          "8/7/2020 12:05",
          "8/7/2020 13:13",
          "8/7/2020 12:41",
          "8/7/2020 13:35",
          "8/7/2020 13:29",
          "8/7/2020 12:40",
          "8/7/2020 12:39",
          "8/7/2020 12:39",
          "8/7/2020 12:33",
          "8/7/2020 13:15",
          "8/7/2020 12:43",
          "8/7/2020 14:27",
          "9/7/2020 18:24",
          "13/07/2020 10:11:26",
          "8/7/2020 14:29",
          "8/7/2020 13:05",
          "13/07/2020 10:12:28",
          "8/7/2020 12:32",
          "8/7/2020 12:31",
          "13/07/2020 11:54:58",
          "13/07/2020 14:38:12",
          "13/07/2020 14:48:05",
          "8/7/2020 12:04",
          "13/07/2020 21:21:42",
          "13/07/2020 10:12:18",
          "8/7/2020 12:35",
          "18/07/2020 20:16:21",
          "8/7/2020 15:14",
          "8/7/2020 15:37",
          "8/7/2020 15:08",
          "8/7/2020 14:58",
          "8/7/2020 14:56",
          "8/7/2020 13:41",
          "8/7/2020 13:07",
          "8/7/2020 14:31",
          "8/7/2020 13:13",
          "8/7/2020 12:06",
          "8/7/2020 13:17",
          "13/07/2020 13:57:11",
          "13/07/2020 17:30:44",
          "8/7/2020 14:57",
          "13/07/2020 10:34:08",
          "8/7/2020 13:58",
          "13/07/2020 21:22:56",
          "8/7/2020 14:43",
          "8/7/2020 16:34",
          "8/7/2020 15:47",
          "8/7/2020 16:21",
          "8/7/2020 12:46",
          "8/7/2020 12:43",
          "8/7/2020 16:08",
          "8/7/2020 18:11",
          "8/7/2020 15:48",
          "13/07/2020 10:07:32",
          "8/7/2020 18:10",
          "8/7/2020 22:35",
          "8/7/2020 12:39",
          "9/7/2020 11:43",
          "8/7/2020 15:18",
          "8/7/2020 21:21",
          "8/7/2020 12:13",
          "8/7/2020 19:32",
          "8/7/2020 14:57",
          "13/07/2020 21:23:57",
          "8/7/2020 15:14",
          "8/7/2020 12:52",
          "8/7/2020 14:05",
          "13/07/2020 10:10:30"
         ],
         "type": "scatter",
         "x": [
          1,
          1,
          1,
          1,
          1,
          1,
          1,
          1,
          1,
          1,
          1,
          1,
          1,
          1,
          1,
          1,
          1,
          1,
          1,
          1,
          1,
          1,
          1,
          1,
          1,
          1,
          1,
          1,
          1,
          1,
          1,
          1,
          1,
          1,
          1,
          1,
          1,
          1,
          1,
          1,
          1,
          1,
          2,
          2,
          2,
          2,
          2,
          2,
          2,
          2,
          2,
          2,
          2,
          2,
          2,
          2,
          2,
          2,
          2,
          2,
          2,
          2,
          2,
          2,
          2,
          2,
          2,
          2,
          3,
          3,
          3,
          3,
          3,
          3,
          3,
          3,
          3,
          3,
          3,
          3,
          3,
          3,
          3,
          3,
          3,
          3,
          3,
          3,
          3,
          3,
          3,
          3,
          4,
          4,
          4,
          4,
          4,
          4,
          4,
          4
         ],
         "y": [
          0.75,
          0.75,
          0.7916666666666666,
          0.75,
          0.75,
          0.7916666666666666,
          0.7916666666666666,
          0.875,
          0.75,
          0.9583333333333334,
          0.7916666666666666,
          0.75,
          1,
          1,
          0.9583333333333334,
          0.75,
          1,
          0.75,
          1,
          0.9583333333333334,
          0.7916666666666666,
          0.9583333333333334,
          0.75,
          0.75,
          1,
          0.75,
          0.75,
          0.875,
          0.7916666666666666,
          0.7916666666666666,
          0.9583333333333334,
          0.7916666666666666,
          0.7916666666666666,
          1,
          0.7916666666666666,
          0.7916666666666666,
          0.75,
          0.75,
          0.8333333333333334,
          0.75,
          0.75,
          1,
          0.75,
          0.9583333333333334,
          0.75,
          1,
          0.75,
          0.8333333333333334,
          0.7916666666666666,
          0.9583333333333334,
          0.7916666666666666,
          1,
          0.75,
          0.7916666666666666,
          0.875,
          0.75,
          1,
          0.7916666666666666,
          0.8333333333333334,
          1,
          0.75,
          0.9583333333333334,
          0.8333333333333334,
          1,
          0.75,
          0.75,
          0.75,
          0.75,
          0.9166666666666666,
          0.9583333333333334,
          0.9583333333333334,
          1,
          1,
          0.7916666666666666,
          1,
          0.7916666666666666,
          0.75,
          0.75,
          0.7916666666666666,
          0.8333333333333334,
          1,
          1,
          0.9583333333333334,
          0.7916666666666666,
          0.8333333333333334,
          0.7916666666666666,
          0.75,
          0.7916666666666666,
          1,
          1,
          1,
          0.75,
          0.9583333333333334,
          1,
          0.9166666666666666,
          0.9583333333333334,
          0.75,
          1,
          1,
          0.75
         ]
        },
        {
         "marker": {
          "color": "rgba(80, 26, 80, 0.8)"
         },
         "mode": "lines+markers",
         "name": "CGPA_Base",
         "text": [
          "8/7/2020 12:02",
          "8/7/2020 14:43",
          "8/7/2020 14:45",
          "8/7/2020 14:47",
          "8/7/2020 15:09",
          "8/7/2020 15:12",
          "8/7/2020 15:57",
          "8/7/2020 15:58",
          "8/7/2020 16:22",
          "8/7/2020 16:34",
          "8/7/2020 16:53",
          "8/7/2020 17:05",
          "8/7/2020 17:37",
          "8/7/2020 17:46",
          "8/7/2020 17:50",
          "8/7/2020 19:05",
          "8/7/2020 20:36",
          "9/7/2020 6:57",
          "9/7/2020 11:57",
          "9/7/2020 13:15",
          "13/07/2020 10:12:26",
          "13/07/2020 10:14:46",
          "13/07/2020 10:33:47",
          "13/07/2020 11:46:13",
          "13/07/2020 11:49:02",
          "13/07/2020 16:15:13",
          "13/07/2020 19:08:32",
          "13/07/2020 19:56:49",
          "8/7/2020 14:41",
          "8/7/2020 14:29",
          "8/7/2020 15:27",
          "8/7/2020 13:12",
          "8/7/2020 12:05",
          "8/7/2020 13:13",
          "8/7/2020 12:41",
          "8/7/2020 13:35",
          "8/7/2020 13:29",
          "8/7/2020 12:40",
          "8/7/2020 12:39",
          "8/7/2020 12:39",
          "8/7/2020 12:33",
          "8/7/2020 13:15",
          "8/7/2020 12:43",
          "8/7/2020 14:27",
          "9/7/2020 18:24",
          "13/07/2020 10:11:26",
          "8/7/2020 14:29",
          "8/7/2020 13:05",
          "13/07/2020 10:12:28",
          "8/7/2020 12:32",
          "8/7/2020 12:31",
          "13/07/2020 11:54:58",
          "13/07/2020 14:38:12",
          "13/07/2020 14:48:05",
          "8/7/2020 12:04",
          "13/07/2020 21:21:42",
          "13/07/2020 10:12:18",
          "8/7/2020 12:35",
          "18/07/2020 20:16:21",
          "8/7/2020 15:14",
          "8/7/2020 15:37",
          "8/7/2020 15:08",
          "8/7/2020 14:58",
          "8/7/2020 14:56",
          "8/7/2020 13:41",
          "8/7/2020 13:07",
          "8/7/2020 14:31",
          "8/7/2020 13:13",
          "8/7/2020 12:06",
          "8/7/2020 13:17",
          "13/07/2020 13:57:11",
          "13/07/2020 17:30:44",
          "8/7/2020 14:57",
          "13/07/2020 10:34:08",
          "8/7/2020 13:58",
          "13/07/2020 21:22:56",
          "8/7/2020 14:43",
          "8/7/2020 16:34",
          "8/7/2020 15:47",
          "8/7/2020 16:21",
          "8/7/2020 12:46",
          "8/7/2020 12:43",
          "8/7/2020 16:08",
          "8/7/2020 18:11",
          "8/7/2020 15:48",
          "13/07/2020 10:07:32",
          "8/7/2020 18:10",
          "8/7/2020 22:35",
          "8/7/2020 12:39",
          "9/7/2020 11:43",
          "8/7/2020 15:18",
          "8/7/2020 21:21",
          "8/7/2020 12:13",
          "8/7/2020 19:32",
          "8/7/2020 14:57",
          "13/07/2020 21:23:57",
          "8/7/2020 15:14",
          "8/7/2020 12:52",
          "8/7/2020 14:05",
          "13/07/2020 10:10:30"
         ],
         "type": "scatter",
         "x": [
          1,
          1,
          1,
          1,
          1,
          1,
          1,
          1,
          1,
          1,
          1,
          1,
          1,
          1,
          1,
          1,
          1,
          1,
          1,
          1,
          1,
          1,
          1,
          1,
          1,
          1,
          1,
          1,
          1,
          1,
          1,
          1,
          1,
          1,
          1,
          1,
          1,
          1,
          1,
          1,
          1,
          1,
          2,
          2,
          2,
          2,
          2,
          2,
          2,
          2,
          2,
          2,
          2,
          2,
          2,
          2,
          2,
          2,
          2,
          2,
          2,
          2,
          2,
          2,
          2,
          2,
          2,
          2,
          3,
          3,
          3,
          3,
          3,
          3,
          3,
          3,
          3,
          3,
          3,
          3,
          3,
          3,
          3,
          3,
          3,
          3,
          3,
          3,
          3,
          3,
          3,
          3,
          4,
          4,
          4,
          4,
          4,
          4,
          4,
          4
         ],
         "y": [
          0.8571428571428571,
          0.5714285714285714,
          0.7142857142857143,
          1,
          1,
          1,
          1,
          0.8571428571428571,
          1,
          0.8571428571428571,
          1,
          1,
          1,
          1,
          1,
          1,
          0.8571428571428571,
          0,
          1,
          0.8571428571428571,
          0.8571428571428571,
          0.8571428571428571,
          1,
          1,
          0.8571428571428571,
          0.8571428571428571,
          1,
          1,
          0.8571428571428571,
          1,
          0.7142857142857143,
          0.8571428571428571,
          0.8571428571428571,
          1,
          0.8571428571428571,
          1,
          1,
          0.8571428571428571,
          1,
          1,
          1,
          0.8571428571428571,
          1,
          0.8571428571428571,
          0.8571428571428571,
          1,
          0.8571428571428571,
          1,
          0.8571428571428571,
          1,
          1,
          0.5714285714285714,
          0.8571428571428571,
          0.8571428571428571,
          0.8571428571428571,
          0.8571428571428571,
          1,
          0.7142857142857143,
          0.8571428571428571,
          0.8571428571428571,
          1,
          1,
          0.8571428571428571,
          0.7142857142857143,
          0.8571428571428571,
          1,
          1,
          0.8571428571428571,
          0.8571428571428571,
          1,
          1,
          0,
          0.8571428571428571,
          0.8571428571428571,
          1,
          1,
          0.8571428571428571,
          0.8571428571428571,
          0.8571428571428571,
          0.8571428571428571,
          0.8571428571428571,
          1,
          1,
          0.8571428571428571,
          0.8571428571428571,
          0,
          0.8571428571428571,
          0.8571428571428571,
          1,
          1,
          1,
          1,
          0.8571428571428571,
          0.8571428571428571,
          1,
          1,
          1,
          0.8571428571428571,
          1,
          1
         ]
        }
       ],
       "layout": {
        "template": {
         "data": {
          "bar": [
           {
            "error_x": {
             "color": "#2a3f5f"
            },
            "error_y": {
             "color": "#2a3f5f"
            },
            "marker": {
             "line": {
              "color": "#E5ECF6",
              "width": 0.5
             },
             "pattern": {
              "fillmode": "overlay",
              "size": 10,
              "solidity": 0.2
             }
            },
            "type": "bar"
           }
          ],
          "barpolar": [
           {
            "marker": {
             "line": {
              "color": "#E5ECF6",
              "width": 0.5
             },
             "pattern": {
              "fillmode": "overlay",
              "size": 10,
              "solidity": 0.2
             }
            },
            "type": "barpolar"
           }
          ],
          "carpet": [
           {
            "aaxis": {
             "endlinecolor": "#2a3f5f",
             "gridcolor": "white",
             "linecolor": "white",
             "minorgridcolor": "white",
             "startlinecolor": "#2a3f5f"
            },
            "baxis": {
             "endlinecolor": "#2a3f5f",
             "gridcolor": "white",
             "linecolor": "white",
             "minorgridcolor": "white",
             "startlinecolor": "#2a3f5f"
            },
            "type": "carpet"
           }
          ],
          "choropleth": [
           {
            "colorbar": {
             "outlinewidth": 0,
             "ticks": ""
            },
            "type": "choropleth"
           }
          ],
          "contour": [
           {
            "colorbar": {
             "outlinewidth": 0,
             "ticks": ""
            },
            "colorscale": [
             [
              0,
              "#0d0887"
             ],
             [
              0.1111111111111111,
              "#46039f"
             ],
             [
              0.2222222222222222,
              "#7201a8"
             ],
             [
              0.3333333333333333,
              "#9c179e"
             ],
             [
              0.4444444444444444,
              "#bd3786"
             ],
             [
              0.5555555555555556,
              "#d8576b"
             ],
             [
              0.6666666666666666,
              "#ed7953"
             ],
             [
              0.7777777777777778,
              "#fb9f3a"
             ],
             [
              0.8888888888888888,
              "#fdca26"
             ],
             [
              1,
              "#f0f921"
             ]
            ],
            "type": "contour"
           }
          ],
          "contourcarpet": [
           {
            "colorbar": {
             "outlinewidth": 0,
             "ticks": ""
            },
            "type": "contourcarpet"
           }
          ],
          "heatmap": [
           {
            "colorbar": {
             "outlinewidth": 0,
             "ticks": ""
            },
            "colorscale": [
             [
              0,
              "#0d0887"
             ],
             [
              0.1111111111111111,
              "#46039f"
             ],
             [
              0.2222222222222222,
              "#7201a8"
             ],
             [
              0.3333333333333333,
              "#9c179e"
             ],
             [
              0.4444444444444444,
              "#bd3786"
             ],
             [
              0.5555555555555556,
              "#d8576b"
             ],
             [
              0.6666666666666666,
              "#ed7953"
             ],
             [
              0.7777777777777778,
              "#fb9f3a"
             ],
             [
              0.8888888888888888,
              "#fdca26"
             ],
             [
              1,
              "#f0f921"
             ]
            ],
            "type": "heatmap"
           }
          ],
          "heatmapgl": [
           {
            "colorbar": {
             "outlinewidth": 0,
             "ticks": ""
            },
            "colorscale": [
             [
              0,
              "#0d0887"
             ],
             [
              0.1111111111111111,
              "#46039f"
             ],
             [
              0.2222222222222222,
              "#7201a8"
             ],
             [
              0.3333333333333333,
              "#9c179e"
             ],
             [
              0.4444444444444444,
              "#bd3786"
             ],
             [
              0.5555555555555556,
              "#d8576b"
             ],
             [
              0.6666666666666666,
              "#ed7953"
             ],
             [
              0.7777777777777778,
              "#fb9f3a"
             ],
             [
              0.8888888888888888,
              "#fdca26"
             ],
             [
              1,
              "#f0f921"
             ]
            ],
            "type": "heatmapgl"
           }
          ],
          "histogram": [
           {
            "marker": {
             "pattern": {
              "fillmode": "overlay",
              "size": 10,
              "solidity": 0.2
             }
            },
            "type": "histogram"
           }
          ],
          "histogram2d": [
           {
            "colorbar": {
             "outlinewidth": 0,
             "ticks": ""
            },
            "colorscale": [
             [
              0,
              "#0d0887"
             ],
             [
              0.1111111111111111,
              "#46039f"
             ],
             [
              0.2222222222222222,
              "#7201a8"
             ],
             [
              0.3333333333333333,
              "#9c179e"
             ],
             [
              0.4444444444444444,
              "#bd3786"
             ],
             [
              0.5555555555555556,
              "#d8576b"
             ],
             [
              0.6666666666666666,
              "#ed7953"
             ],
             [
              0.7777777777777778,
              "#fb9f3a"
             ],
             [
              0.8888888888888888,
              "#fdca26"
             ],
             [
              1,
              "#f0f921"
             ]
            ],
            "type": "histogram2d"
           }
          ],
          "histogram2dcontour": [
           {
            "colorbar": {
             "outlinewidth": 0,
             "ticks": ""
            },
            "colorscale": [
             [
              0,
              "#0d0887"
             ],
             [
              0.1111111111111111,
              "#46039f"
             ],
             [
              0.2222222222222222,
              "#7201a8"
             ],
             [
              0.3333333333333333,
              "#9c179e"
             ],
             [
              0.4444444444444444,
              "#bd3786"
             ],
             [
              0.5555555555555556,
              "#d8576b"
             ],
             [
              0.6666666666666666,
              "#ed7953"
             ],
             [
              0.7777777777777778,
              "#fb9f3a"
             ],
             [
              0.8888888888888888,
              "#fdca26"
             ],
             [
              1,
              "#f0f921"
             ]
            ],
            "type": "histogram2dcontour"
           }
          ],
          "mesh3d": [
           {
            "colorbar": {
             "outlinewidth": 0,
             "ticks": ""
            },
            "type": "mesh3d"
           }
          ],
          "parcoords": [
           {
            "line": {
             "colorbar": {
              "outlinewidth": 0,
              "ticks": ""
             }
            },
            "type": "parcoords"
           }
          ],
          "pie": [
           {
            "automargin": true,
            "type": "pie"
           }
          ],
          "scatter": [
           {
            "fillpattern": {
             "fillmode": "overlay",
             "size": 10,
             "solidity": 0.2
            },
            "type": "scatter"
           }
          ],
          "scatter3d": [
           {
            "line": {
             "colorbar": {
              "outlinewidth": 0,
              "ticks": ""
             }
            },
            "marker": {
             "colorbar": {
              "outlinewidth": 0,
              "ticks": ""
             }
            },
            "type": "scatter3d"
           }
          ],
          "scattercarpet": [
           {
            "marker": {
             "colorbar": {
              "outlinewidth": 0,
              "ticks": ""
             }
            },
            "type": "scattercarpet"
           }
          ],
          "scattergeo": [
           {
            "marker": {
             "colorbar": {
              "outlinewidth": 0,
              "ticks": ""
             }
            },
            "type": "scattergeo"
           }
          ],
          "scattergl": [
           {
            "marker": {
             "colorbar": {
              "outlinewidth": 0,
              "ticks": ""
             }
            },
            "type": "scattergl"
           }
          ],
          "scattermapbox": [
           {
            "marker": {
             "colorbar": {
              "outlinewidth": 0,
              "ticks": ""
             }
            },
            "type": "scattermapbox"
           }
          ],
          "scatterpolar": [
           {
            "marker": {
             "colorbar": {
              "outlinewidth": 0,
              "ticks": ""
             }
            },
            "type": "scatterpolar"
           }
          ],
          "scatterpolargl": [
           {
            "marker": {
             "colorbar": {
              "outlinewidth": 0,
              "ticks": ""
             }
            },
            "type": "scatterpolargl"
           }
          ],
          "scatterternary": [
           {
            "marker": {
             "colorbar": {
              "outlinewidth": 0,
              "ticks": ""
             }
            },
            "type": "scatterternary"
           }
          ],
          "surface": [
           {
            "colorbar": {
             "outlinewidth": 0,
             "ticks": ""
            },
            "colorscale": [
             [
              0,
              "#0d0887"
             ],
             [
              0.1111111111111111,
              "#46039f"
             ],
             [
              0.2222222222222222,
              "#7201a8"
             ],
             [
              0.3333333333333333,
              "#9c179e"
             ],
             [
              0.4444444444444444,
              "#bd3786"
             ],
             [
              0.5555555555555556,
              "#d8576b"
             ],
             [
              0.6666666666666666,
              "#ed7953"
             ],
             [
              0.7777777777777778,
              "#fb9f3a"
             ],
             [
              0.8888888888888888,
              "#fdca26"
             ],
             [
              1,
              "#f0f921"
             ]
            ],
            "type": "surface"
           }
          ],
          "table": [
           {
            "cells": {
             "fill": {
              "color": "#EBF0F8"
             },
             "line": {
              "color": "white"
             }
            },
            "header": {
             "fill": {
              "color": "#C8D4E3"
             },
             "line": {
              "color": "white"
             }
            },
            "type": "table"
           }
          ]
         },
         "layout": {
          "annotationdefaults": {
           "arrowcolor": "#2a3f5f",
           "arrowhead": 0,
           "arrowwidth": 1
          },
          "autotypenumbers": "strict",
          "coloraxis": {
           "colorbar": {
            "outlinewidth": 0,
            "ticks": ""
           }
          },
          "colorscale": {
           "diverging": [
            [
             0,
             "#8e0152"
            ],
            [
             0.1,
             "#c51b7d"
            ],
            [
             0.2,
             "#de77ae"
            ],
            [
             0.3,
             "#f1b6da"
            ],
            [
             0.4,
             "#fde0ef"
            ],
            [
             0.5,
             "#f7f7f7"
            ],
            [
             0.6,
             "#e6f5d0"
            ],
            [
             0.7,
             "#b8e186"
            ],
            [
             0.8,
             "#7fbc41"
            ],
            [
             0.9,
             "#4d9221"
            ],
            [
             1,
             "#276419"
            ]
           ],
           "sequential": [
            [
             0,
             "#0d0887"
            ],
            [
             0.1111111111111111,
             "#46039f"
            ],
            [
             0.2222222222222222,
             "#7201a8"
            ],
            [
             0.3333333333333333,
             "#9c179e"
            ],
            [
             0.4444444444444444,
             "#bd3786"
            ],
            [
             0.5555555555555556,
             "#d8576b"
            ],
            [
             0.6666666666666666,
             "#ed7953"
            ],
            [
             0.7777777777777778,
             "#fb9f3a"
            ],
            [
             0.8888888888888888,
             "#fdca26"
            ],
            [
             1,
             "#f0f921"
            ]
           ],
           "sequentialminus": [
            [
             0,
             "#0d0887"
            ],
            [
             0.1111111111111111,
             "#46039f"
            ],
            [
             0.2222222222222222,
             "#7201a8"
            ],
            [
             0.3333333333333333,
             "#9c179e"
            ],
            [
             0.4444444444444444,
             "#bd3786"
            ],
            [
             0.5555555555555556,
             "#d8576b"
            ],
            [
             0.6666666666666666,
             "#ed7953"
            ],
            [
             0.7777777777777778,
             "#fb9f3a"
            ],
            [
             0.8888888888888888,
             "#fdca26"
            ],
            [
             1,
             "#f0f921"
            ]
           ]
          },
          "colorway": [
           "#636efa",
           "#EF553B",
           "#00cc96",
           "#ab63fa",
           "#FFA15A",
           "#19d3f3",
           "#FF6692",
           "#B6E880",
           "#FF97FF",
           "#FECB52"
          ],
          "font": {
           "color": "#2a3f5f"
          },
          "geo": {
           "bgcolor": "white",
           "lakecolor": "white",
           "landcolor": "#E5ECF6",
           "showlakes": true,
           "showland": true,
           "subunitcolor": "white"
          },
          "hoverlabel": {
           "align": "left"
          },
          "hovermode": "closest",
          "mapbox": {
           "style": "light"
          },
          "paper_bgcolor": "white",
          "plot_bgcolor": "#E5ECF6",
          "polar": {
           "angularaxis": {
            "gridcolor": "white",
            "linecolor": "white",
            "ticks": ""
           },
           "bgcolor": "#E5ECF6",
           "radialaxis": {
            "gridcolor": "white",
            "linecolor": "white",
            "ticks": ""
           }
          },
          "scene": {
           "xaxis": {
            "backgroundcolor": "#E5ECF6",
            "gridcolor": "white",
            "gridwidth": 2,
            "linecolor": "white",
            "showbackground": true,
            "ticks": "",
            "zerolinecolor": "white"
           },
           "yaxis": {
            "backgroundcolor": "#E5ECF6",
            "gridcolor": "white",
            "gridwidth": 2,
            "linecolor": "white",
            "showbackground": true,
            "ticks": "",
            "zerolinecolor": "white"
           },
           "zaxis": {
            "backgroundcolor": "#E5ECF6",
            "gridcolor": "white",
            "gridwidth": 2,
            "linecolor": "white",
            "showbackground": true,
            "ticks": "",
            "zerolinecolor": "white"
           }
          },
          "shapedefaults": {
           "line": {
            "color": "#2a3f5f"
           }
          },
          "ternary": {
           "aaxis": {
            "gridcolor": "white",
            "linecolor": "white",
            "ticks": ""
           },
           "baxis": {
            "gridcolor": "white",
            "linecolor": "white",
            "ticks": ""
           },
           "bgcolor": "#E5ECF6",
           "caxis": {
            "gridcolor": "white",
            "linecolor": "white",
            "ticks": ""
           }
          },
          "title": {
           "x": 0.05
          },
          "xaxis": {
           "automargin": true,
           "gridcolor": "white",
           "linecolor": "white",
           "ticks": "",
           "title": {
            "standoff": 15
           },
           "zerolinecolor": "white",
           "zerolinewidth": 2
          },
          "yaxis": {
           "automargin": true,
           "gridcolor": "white",
           "linecolor": "white",
           "ticks": "",
           "title": {
            "standoff": 15
           },
           "zerolinecolor": "white",
           "zerolinewidth": 2
          }
         }
        },
        "title": {
         "text": "Age and CGPA"
        },
        "xaxis": {
         "ticklen": 5,
         "title": {
          "text": "Year"
         },
         "zeroline": false
        }
       }
      },
      "text/html": [
       "<div>                            <div id=\"995e9650-7d9b-429e-b9ff-00e6bec518f4\" class=\"plotly-graph-div\" style=\"height:525px; width:100%;\"></div>            <script type=\"text/javascript\">                require([\"plotly\"], function(Plotly) {                    window.PLOTLYENV=window.PLOTLYENV || {};                                    if (document.getElementById(\"995e9650-7d9b-429e-b9ff-00e6bec518f4\")) {                    Plotly.newPlot(                        \"995e9650-7d9b-429e-b9ff-00e6bec518f4\",                        [{\"marker\":{\"color\":\"rgba(16, 112, 2, 0.8)\"},\"mode\":\"lines\",\"name\":\"Age\",\"text\":[\"8/7/2020 12:02\",\"8/7/2020 14:43\",\"8/7/2020 14:45\",\"8/7/2020 14:47\",\"8/7/2020 15:09\",\"8/7/2020 15:12\",\"8/7/2020 15:57\",\"8/7/2020 15:58\",\"8/7/2020 16:22\",\"8/7/2020 16:34\",\"8/7/2020 16:53\",\"8/7/2020 17:05\",\"8/7/2020 17:37\",\"8/7/2020 17:46\",\"8/7/2020 17:50\",\"8/7/2020 19:05\",\"8/7/2020 20:36\",\"9/7/2020 6:57\",\"9/7/2020 11:57\",\"9/7/2020 13:15\",\"13/07/2020 10:12:26\",\"13/07/2020 10:14:46\",\"13/07/2020 10:33:47\",\"13/07/2020 11:46:13\",\"13/07/2020 11:49:02\",\"13/07/2020 16:15:13\",\"13/07/2020 19:08:32\",\"13/07/2020 19:56:49\",\"8/7/2020 14:41\",\"8/7/2020 14:29\",\"8/7/2020 15:27\",\"8/7/2020 13:12\",\"8/7/2020 12:05\",\"8/7/2020 13:13\",\"8/7/2020 12:41\",\"8/7/2020 13:35\",\"8/7/2020 13:29\",\"8/7/2020 12:40\",\"8/7/2020 12:39\",\"8/7/2020 12:39\",\"8/7/2020 12:33\",\"8/7/2020 13:15\",\"8/7/2020 12:43\",\"8/7/2020 14:27\",\"9/7/2020 18:24\",\"13/07/2020 10:11:26\",\"8/7/2020 14:29\",\"8/7/2020 13:05\",\"13/07/2020 10:12:28\",\"8/7/2020 12:32\",\"8/7/2020 12:31\",\"13/07/2020 11:54:58\",\"13/07/2020 14:38:12\",\"13/07/2020 14:48:05\",\"8/7/2020 12:04\",\"13/07/2020 21:21:42\",\"13/07/2020 10:12:18\",\"8/7/2020 12:35\",\"18/07/2020 20:16:21\",\"8/7/2020 15:14\",\"8/7/2020 15:37\",\"8/7/2020 15:08\",\"8/7/2020 14:58\",\"8/7/2020 14:56\",\"8/7/2020 13:41\",\"8/7/2020 13:07\",\"8/7/2020 14:31\",\"8/7/2020 13:13\",\"8/7/2020 12:06\",\"8/7/2020 13:17\",\"13/07/2020 13:57:11\",\"13/07/2020 17:30:44\",\"8/7/2020 14:57\",\"13/07/2020 10:34:08\",\"8/7/2020 13:58\",\"13/07/2020 21:22:56\",\"8/7/2020 14:43\",\"8/7/2020 16:34\",\"8/7/2020 15:47\",\"8/7/2020 16:21\",\"8/7/2020 12:46\",\"8/7/2020 12:43\",\"8/7/2020 16:08\",\"8/7/2020 18:11\",\"8/7/2020 15:48\",\"13/07/2020 10:07:32\",\"8/7/2020 18:10\",\"8/7/2020 22:35\",\"8/7/2020 12:39\",\"9/7/2020 11:43\",\"8/7/2020 15:18\",\"8/7/2020 21:21\",\"8/7/2020 12:13\",\"8/7/2020 19:32\",\"8/7/2020 14:57\",\"13/07/2020 21:23:57\",\"8/7/2020 15:14\",\"8/7/2020 12:52\",\"8/7/2020 14:05\",\"13/07/2020 10:10:30\"],\"x\":[1,1,1,1,1,1,1,1,1,1,1,1,1,1,1,1,1,1,1,1,1,1,1,1,1,1,1,1,1,1,1,1,1,1,1,1,1,1,1,1,1,1,2,2,2,2,2,2,2,2,2,2,2,2,2,2,2,2,2,2,2,2,2,2,2,2,2,2,3,3,3,3,3,3,3,3,3,3,3,3,3,3,3,3,3,3,3,3,3,3,3,3,4,4,4,4,4,4,4,4],\"y\":[0.75,0.75,0.7916666666666666,0.75,0.75,0.7916666666666666,0.7916666666666666,0.875,0.75,0.9583333333333334,0.7916666666666666,0.75,1.0,1.0,0.9583333333333334,0.75,1.0,0.75,1.0,0.9583333333333334,0.7916666666666666,0.9583333333333334,0.75,0.75,1.0,0.75,0.75,0.875,0.7916666666666666,0.7916666666666666,0.9583333333333334,0.7916666666666666,0.7916666666666666,1.0,0.7916666666666666,0.7916666666666666,0.75,0.75,0.8333333333333334,0.75,0.75,1.0,0.75,0.9583333333333334,0.75,1.0,0.75,0.8333333333333334,0.7916666666666666,0.9583333333333334,0.7916666666666666,1.0,0.75,0.7916666666666666,0.875,0.75,1.0,0.7916666666666666,0.8333333333333334,1.0,0.75,0.9583333333333334,0.8333333333333334,1.0,0.75,0.75,0.75,0.75,0.9166666666666666,0.9583333333333334,0.9583333333333334,1.0,1.0,0.7916666666666666,1.0,0.7916666666666666,0.75,0.75,0.7916666666666666,0.8333333333333334,1.0,1.0,0.9583333333333334,0.7916666666666666,0.8333333333333334,0.7916666666666666,0.75,0.7916666666666666,1.0,1.0,1.0,0.75,0.9583333333333334,1.0,0.9166666666666666,0.9583333333333334,0.75,1.0,1.0,0.75],\"type\":\"scatter\"},{\"marker\":{\"color\":\"rgba(80, 26, 80, 0.8)\"},\"mode\":\"lines+markers\",\"name\":\"CGPA_Base\",\"text\":[\"8/7/2020 12:02\",\"8/7/2020 14:43\",\"8/7/2020 14:45\",\"8/7/2020 14:47\",\"8/7/2020 15:09\",\"8/7/2020 15:12\",\"8/7/2020 15:57\",\"8/7/2020 15:58\",\"8/7/2020 16:22\",\"8/7/2020 16:34\",\"8/7/2020 16:53\",\"8/7/2020 17:05\",\"8/7/2020 17:37\",\"8/7/2020 17:46\",\"8/7/2020 17:50\",\"8/7/2020 19:05\",\"8/7/2020 20:36\",\"9/7/2020 6:57\",\"9/7/2020 11:57\",\"9/7/2020 13:15\",\"13/07/2020 10:12:26\",\"13/07/2020 10:14:46\",\"13/07/2020 10:33:47\",\"13/07/2020 11:46:13\",\"13/07/2020 11:49:02\",\"13/07/2020 16:15:13\",\"13/07/2020 19:08:32\",\"13/07/2020 19:56:49\",\"8/7/2020 14:41\",\"8/7/2020 14:29\",\"8/7/2020 15:27\",\"8/7/2020 13:12\",\"8/7/2020 12:05\",\"8/7/2020 13:13\",\"8/7/2020 12:41\",\"8/7/2020 13:35\",\"8/7/2020 13:29\",\"8/7/2020 12:40\",\"8/7/2020 12:39\",\"8/7/2020 12:39\",\"8/7/2020 12:33\",\"8/7/2020 13:15\",\"8/7/2020 12:43\",\"8/7/2020 14:27\",\"9/7/2020 18:24\",\"13/07/2020 10:11:26\",\"8/7/2020 14:29\",\"8/7/2020 13:05\",\"13/07/2020 10:12:28\",\"8/7/2020 12:32\",\"8/7/2020 12:31\",\"13/07/2020 11:54:58\",\"13/07/2020 14:38:12\",\"13/07/2020 14:48:05\",\"8/7/2020 12:04\",\"13/07/2020 21:21:42\",\"13/07/2020 10:12:18\",\"8/7/2020 12:35\",\"18/07/2020 20:16:21\",\"8/7/2020 15:14\",\"8/7/2020 15:37\",\"8/7/2020 15:08\",\"8/7/2020 14:58\",\"8/7/2020 14:56\",\"8/7/2020 13:41\",\"8/7/2020 13:07\",\"8/7/2020 14:31\",\"8/7/2020 13:13\",\"8/7/2020 12:06\",\"8/7/2020 13:17\",\"13/07/2020 13:57:11\",\"13/07/2020 17:30:44\",\"8/7/2020 14:57\",\"13/07/2020 10:34:08\",\"8/7/2020 13:58\",\"13/07/2020 21:22:56\",\"8/7/2020 14:43\",\"8/7/2020 16:34\",\"8/7/2020 15:47\",\"8/7/2020 16:21\",\"8/7/2020 12:46\",\"8/7/2020 12:43\",\"8/7/2020 16:08\",\"8/7/2020 18:11\",\"8/7/2020 15:48\",\"13/07/2020 10:07:32\",\"8/7/2020 18:10\",\"8/7/2020 22:35\",\"8/7/2020 12:39\",\"9/7/2020 11:43\",\"8/7/2020 15:18\",\"8/7/2020 21:21\",\"8/7/2020 12:13\",\"8/7/2020 19:32\",\"8/7/2020 14:57\",\"13/07/2020 21:23:57\",\"8/7/2020 15:14\",\"8/7/2020 12:52\",\"8/7/2020 14:05\",\"13/07/2020 10:10:30\"],\"x\":[1,1,1,1,1,1,1,1,1,1,1,1,1,1,1,1,1,1,1,1,1,1,1,1,1,1,1,1,1,1,1,1,1,1,1,1,1,1,1,1,1,1,2,2,2,2,2,2,2,2,2,2,2,2,2,2,2,2,2,2,2,2,2,2,2,2,2,2,3,3,3,3,3,3,3,3,3,3,3,3,3,3,3,3,3,3,3,3,3,3,3,3,4,4,4,4,4,4,4,4],\"y\":[0.8571428571428571,0.5714285714285714,0.7142857142857143,1.0,1.0,1.0,1.0,0.8571428571428571,1.0,0.8571428571428571,1.0,1.0,1.0,1.0,1.0,1.0,0.8571428571428571,0.0,1.0,0.8571428571428571,0.8571428571428571,0.8571428571428571,1.0,1.0,0.8571428571428571,0.8571428571428571,1.0,1.0,0.8571428571428571,1.0,0.7142857142857143,0.8571428571428571,0.8571428571428571,1.0,0.8571428571428571,1.0,1.0,0.8571428571428571,1.0,1.0,1.0,0.8571428571428571,1.0,0.8571428571428571,0.8571428571428571,1.0,0.8571428571428571,1.0,0.8571428571428571,1.0,1.0,0.5714285714285714,0.8571428571428571,0.8571428571428571,0.8571428571428571,0.8571428571428571,1.0,0.7142857142857143,0.8571428571428571,0.8571428571428571,1.0,1.0,0.8571428571428571,0.7142857142857143,0.8571428571428571,1.0,1.0,0.8571428571428571,0.8571428571428571,1.0,1.0,0.0,0.8571428571428571,0.8571428571428571,1.0,1.0,0.8571428571428571,0.8571428571428571,0.8571428571428571,0.8571428571428571,0.8571428571428571,1.0,1.0,0.8571428571428571,0.8571428571428571,0.0,0.8571428571428571,0.8571428571428571,1.0,1.0,1.0,1.0,0.8571428571428571,0.8571428571428571,1.0,1.0,1.0,0.8571428571428571,1.0,1.0],\"type\":\"scatter\"}],                        {\"template\":{\"data\":{\"barpolar\":[{\"marker\":{\"line\":{\"color\":\"#E5ECF6\",\"width\":0.5},\"pattern\":{\"fillmode\":\"overlay\",\"size\":10,\"solidity\":0.2}},\"type\":\"barpolar\"}],\"bar\":[{\"error_x\":{\"color\":\"#2a3f5f\"},\"error_y\":{\"color\":\"#2a3f5f\"},\"marker\":{\"line\":{\"color\":\"#E5ECF6\",\"width\":0.5},\"pattern\":{\"fillmode\":\"overlay\",\"size\":10,\"solidity\":0.2}},\"type\":\"bar\"}],\"carpet\":[{\"aaxis\":{\"endlinecolor\":\"#2a3f5f\",\"gridcolor\":\"white\",\"linecolor\":\"white\",\"minorgridcolor\":\"white\",\"startlinecolor\":\"#2a3f5f\"},\"baxis\":{\"endlinecolor\":\"#2a3f5f\",\"gridcolor\":\"white\",\"linecolor\":\"white\",\"minorgridcolor\":\"white\",\"startlinecolor\":\"#2a3f5f\"},\"type\":\"carpet\"}],\"choropleth\":[{\"colorbar\":{\"outlinewidth\":0,\"ticks\":\"\"},\"type\":\"choropleth\"}],\"contourcarpet\":[{\"colorbar\":{\"outlinewidth\":0,\"ticks\":\"\"},\"type\":\"contourcarpet\"}],\"contour\":[{\"colorbar\":{\"outlinewidth\":0,\"ticks\":\"\"},\"colorscale\":[[0.0,\"#0d0887\"],[0.1111111111111111,\"#46039f\"],[0.2222222222222222,\"#7201a8\"],[0.3333333333333333,\"#9c179e\"],[0.4444444444444444,\"#bd3786\"],[0.5555555555555556,\"#d8576b\"],[0.6666666666666666,\"#ed7953\"],[0.7777777777777778,\"#fb9f3a\"],[0.8888888888888888,\"#fdca26\"],[1.0,\"#f0f921\"]],\"type\":\"contour\"}],\"heatmapgl\":[{\"colorbar\":{\"outlinewidth\":0,\"ticks\":\"\"},\"colorscale\":[[0.0,\"#0d0887\"],[0.1111111111111111,\"#46039f\"],[0.2222222222222222,\"#7201a8\"],[0.3333333333333333,\"#9c179e\"],[0.4444444444444444,\"#bd3786\"],[0.5555555555555556,\"#d8576b\"],[0.6666666666666666,\"#ed7953\"],[0.7777777777777778,\"#fb9f3a\"],[0.8888888888888888,\"#fdca26\"],[1.0,\"#f0f921\"]],\"type\":\"heatmapgl\"}],\"heatmap\":[{\"colorbar\":{\"outlinewidth\":0,\"ticks\":\"\"},\"colorscale\":[[0.0,\"#0d0887\"],[0.1111111111111111,\"#46039f\"],[0.2222222222222222,\"#7201a8\"],[0.3333333333333333,\"#9c179e\"],[0.4444444444444444,\"#bd3786\"],[0.5555555555555556,\"#d8576b\"],[0.6666666666666666,\"#ed7953\"],[0.7777777777777778,\"#fb9f3a\"],[0.8888888888888888,\"#fdca26\"],[1.0,\"#f0f921\"]],\"type\":\"heatmap\"}],\"histogram2dcontour\":[{\"colorbar\":{\"outlinewidth\":0,\"ticks\":\"\"},\"colorscale\":[[0.0,\"#0d0887\"],[0.1111111111111111,\"#46039f\"],[0.2222222222222222,\"#7201a8\"],[0.3333333333333333,\"#9c179e\"],[0.4444444444444444,\"#bd3786\"],[0.5555555555555556,\"#d8576b\"],[0.6666666666666666,\"#ed7953\"],[0.7777777777777778,\"#fb9f3a\"],[0.8888888888888888,\"#fdca26\"],[1.0,\"#f0f921\"]],\"type\":\"histogram2dcontour\"}],\"histogram2d\":[{\"colorbar\":{\"outlinewidth\":0,\"ticks\":\"\"},\"colorscale\":[[0.0,\"#0d0887\"],[0.1111111111111111,\"#46039f\"],[0.2222222222222222,\"#7201a8\"],[0.3333333333333333,\"#9c179e\"],[0.4444444444444444,\"#bd3786\"],[0.5555555555555556,\"#d8576b\"],[0.6666666666666666,\"#ed7953\"],[0.7777777777777778,\"#fb9f3a\"],[0.8888888888888888,\"#fdca26\"],[1.0,\"#f0f921\"]],\"type\":\"histogram2d\"}],\"histogram\":[{\"marker\":{\"pattern\":{\"fillmode\":\"overlay\",\"size\":10,\"solidity\":0.2}},\"type\":\"histogram\"}],\"mesh3d\":[{\"colorbar\":{\"outlinewidth\":0,\"ticks\":\"\"},\"type\":\"mesh3d\"}],\"parcoords\":[{\"line\":{\"colorbar\":{\"outlinewidth\":0,\"ticks\":\"\"}},\"type\":\"parcoords\"}],\"pie\":[{\"automargin\":true,\"type\":\"pie\"}],\"scatter3d\":[{\"line\":{\"colorbar\":{\"outlinewidth\":0,\"ticks\":\"\"}},\"marker\":{\"colorbar\":{\"outlinewidth\":0,\"ticks\":\"\"}},\"type\":\"scatter3d\"}],\"scattercarpet\":[{\"marker\":{\"colorbar\":{\"outlinewidth\":0,\"ticks\":\"\"}},\"type\":\"scattercarpet\"}],\"scattergeo\":[{\"marker\":{\"colorbar\":{\"outlinewidth\":0,\"ticks\":\"\"}},\"type\":\"scattergeo\"}],\"scattergl\":[{\"marker\":{\"colorbar\":{\"outlinewidth\":0,\"ticks\":\"\"}},\"type\":\"scattergl\"}],\"scattermapbox\":[{\"marker\":{\"colorbar\":{\"outlinewidth\":0,\"ticks\":\"\"}},\"type\":\"scattermapbox\"}],\"scatterpolargl\":[{\"marker\":{\"colorbar\":{\"outlinewidth\":0,\"ticks\":\"\"}},\"type\":\"scatterpolargl\"}],\"scatterpolar\":[{\"marker\":{\"colorbar\":{\"outlinewidth\":0,\"ticks\":\"\"}},\"type\":\"scatterpolar\"}],\"scatter\":[{\"fillpattern\":{\"fillmode\":\"overlay\",\"size\":10,\"solidity\":0.2},\"type\":\"scatter\"}],\"scatterternary\":[{\"marker\":{\"colorbar\":{\"outlinewidth\":0,\"ticks\":\"\"}},\"type\":\"scatterternary\"}],\"surface\":[{\"colorbar\":{\"outlinewidth\":0,\"ticks\":\"\"},\"colorscale\":[[0.0,\"#0d0887\"],[0.1111111111111111,\"#46039f\"],[0.2222222222222222,\"#7201a8\"],[0.3333333333333333,\"#9c179e\"],[0.4444444444444444,\"#bd3786\"],[0.5555555555555556,\"#d8576b\"],[0.6666666666666666,\"#ed7953\"],[0.7777777777777778,\"#fb9f3a\"],[0.8888888888888888,\"#fdca26\"],[1.0,\"#f0f921\"]],\"type\":\"surface\"}],\"table\":[{\"cells\":{\"fill\":{\"color\":\"#EBF0F8\"},\"line\":{\"color\":\"white\"}},\"header\":{\"fill\":{\"color\":\"#C8D4E3\"},\"line\":{\"color\":\"white\"}},\"type\":\"table\"}]},\"layout\":{\"annotationdefaults\":{\"arrowcolor\":\"#2a3f5f\",\"arrowhead\":0,\"arrowwidth\":1},\"autotypenumbers\":\"strict\",\"coloraxis\":{\"colorbar\":{\"outlinewidth\":0,\"ticks\":\"\"}},\"colorscale\":{\"diverging\":[[0,\"#8e0152\"],[0.1,\"#c51b7d\"],[0.2,\"#de77ae\"],[0.3,\"#f1b6da\"],[0.4,\"#fde0ef\"],[0.5,\"#f7f7f7\"],[0.6,\"#e6f5d0\"],[0.7,\"#b8e186\"],[0.8,\"#7fbc41\"],[0.9,\"#4d9221\"],[1,\"#276419\"]],\"sequential\":[[0.0,\"#0d0887\"],[0.1111111111111111,\"#46039f\"],[0.2222222222222222,\"#7201a8\"],[0.3333333333333333,\"#9c179e\"],[0.4444444444444444,\"#bd3786\"],[0.5555555555555556,\"#d8576b\"],[0.6666666666666666,\"#ed7953\"],[0.7777777777777778,\"#fb9f3a\"],[0.8888888888888888,\"#fdca26\"],[1.0,\"#f0f921\"]],\"sequentialminus\":[[0.0,\"#0d0887\"],[0.1111111111111111,\"#46039f\"],[0.2222222222222222,\"#7201a8\"],[0.3333333333333333,\"#9c179e\"],[0.4444444444444444,\"#bd3786\"],[0.5555555555555556,\"#d8576b\"],[0.6666666666666666,\"#ed7953\"],[0.7777777777777778,\"#fb9f3a\"],[0.8888888888888888,\"#fdca26\"],[1.0,\"#f0f921\"]]},\"colorway\":[\"#636efa\",\"#EF553B\",\"#00cc96\",\"#ab63fa\",\"#FFA15A\",\"#19d3f3\",\"#FF6692\",\"#B6E880\",\"#FF97FF\",\"#FECB52\"],\"font\":{\"color\":\"#2a3f5f\"},\"geo\":{\"bgcolor\":\"white\",\"lakecolor\":\"white\",\"landcolor\":\"#E5ECF6\",\"showlakes\":true,\"showland\":true,\"subunitcolor\":\"white\"},\"hoverlabel\":{\"align\":\"left\"},\"hovermode\":\"closest\",\"mapbox\":{\"style\":\"light\"},\"paper_bgcolor\":\"white\",\"plot_bgcolor\":\"#E5ECF6\",\"polar\":{\"angularaxis\":{\"gridcolor\":\"white\",\"linecolor\":\"white\",\"ticks\":\"\"},\"bgcolor\":\"#E5ECF6\",\"radialaxis\":{\"gridcolor\":\"white\",\"linecolor\":\"white\",\"ticks\":\"\"}},\"scene\":{\"xaxis\":{\"backgroundcolor\":\"#E5ECF6\",\"gridcolor\":\"white\",\"gridwidth\":2,\"linecolor\":\"white\",\"showbackground\":true,\"ticks\":\"\",\"zerolinecolor\":\"white\"},\"yaxis\":{\"backgroundcolor\":\"#E5ECF6\",\"gridcolor\":\"white\",\"gridwidth\":2,\"linecolor\":\"white\",\"showbackground\":true,\"ticks\":\"\",\"zerolinecolor\":\"white\"},\"zaxis\":{\"backgroundcolor\":\"#E5ECF6\",\"gridcolor\":\"white\",\"gridwidth\":2,\"linecolor\":\"white\",\"showbackground\":true,\"ticks\":\"\",\"zerolinecolor\":\"white\"}},\"shapedefaults\":{\"line\":{\"color\":\"#2a3f5f\"}},\"ternary\":{\"aaxis\":{\"gridcolor\":\"white\",\"linecolor\":\"white\",\"ticks\":\"\"},\"baxis\":{\"gridcolor\":\"white\",\"linecolor\":\"white\",\"ticks\":\"\"},\"bgcolor\":\"#E5ECF6\",\"caxis\":{\"gridcolor\":\"white\",\"linecolor\":\"white\",\"ticks\":\"\"}},\"title\":{\"x\":0.05},\"xaxis\":{\"automargin\":true,\"gridcolor\":\"white\",\"linecolor\":\"white\",\"ticks\":\"\",\"title\":{\"standoff\":15},\"zerolinecolor\":\"white\",\"zerolinewidth\":2},\"yaxis\":{\"automargin\":true,\"gridcolor\":\"white\",\"linecolor\":\"white\",\"ticks\":\"\",\"title\":{\"standoff\":15},\"zerolinecolor\":\"white\",\"zerolinewidth\":2}}},\"title\":{\"text\":\"Age and CGPA\"},\"xaxis\":{\"ticklen\":5,\"title\":{\"text\":\"Year\"},\"zeroline\":false}},                        {\"responsive\": true}                    ).then(function(){\n",
       "                            \n",
       "var gd = document.getElementById('995e9650-7d9b-429e-b9ff-00e6bec518f4');\n",
       "var x = new MutationObserver(function (mutations, observer) {{\n",
       "        var display = window.getComputedStyle(gd).display;\n",
       "        if (!display || display === 'none') {{\n",
       "            console.log([gd, 'removed!']);\n",
       "            Plotly.purge(gd);\n",
       "            observer.disconnect();\n",
       "        }}\n",
       "}});\n",
       "\n",
       "// Listen for the removal of the full notebook cells\n",
       "var notebookContainer = gd.closest('#notebook-container');\n",
       "if (notebookContainer) {{\n",
       "    x.observe(notebookContainer, {childList: true});\n",
       "}}\n",
       "\n",
       "// Listen for the clearing of the current output cell\n",
       "var outputEl = gd.closest('.output');\n",
       "if (outputEl) {{\n",
       "    x.observe(outputEl, {childList: true});\n",
       "}}\n",
       "\n",
       "                        })                };                });            </script>        </div>"
      ]
     },
     "metadata": {},
     "output_type": "display_data"
    }
   ],
   "source": [
    "from plotly.offline import iplot #iplot(fig) satırının çalışabilmesi için bu import'a ihtiyaç var. \n",
    "\n",
    "# Creating trace1\n",
    "trace1 = go.Scatter(\n",
    "                    x = df4.year_num,\n",
    "                    y = df4.Age,\n",
    "                    mode = \"lines\",\n",
    "                    name = \"Age\",\n",
    "                    marker = dict(color = 'rgba(16, 112, 2, 0.8)'),\n",
    "                    text= df4.Timestamp)\n",
    "# Creating trace2\n",
    "trace2 = go.Scatter(\n",
    "                    x = df4.year_num,\n",
    "                    y = df4.CGPA_Base,\n",
    "                    mode = \"lines+markers\",\n",
    "                    name = \"CGPA_Base\",\n",
    "                    marker = dict(color = 'rgba(80, 26, 80, 0.8)'),\n",
    "                    text= df4.Timestamp)\n",
    "data = [trace1, trace2]\n",
    "layout = dict(title = 'Age and CGPA',\n",
    "              xaxis= dict(title= 'Year',ticklen= 5,zeroline= False)\n",
    "             )\n",
    "fig = dict(data = data, layout = layout)\n",
    "iplot(fig)"
   ]
  }
 ],
 "metadata": {
  "kernelspec": {
   "display_name": "Python 3 (ipykernel)",
   "language": "python",
   "name": "python3"
  },
  "language_info": {
   "codemirror_mode": {
    "name": "ipython",
    "version": 3
   },
   "file_extension": ".py",
   "mimetype": "text/x-python",
   "name": "python",
   "nbconvert_exporter": "python",
   "pygments_lexer": "ipython3",
   "version": "3.9.7"
  }
 },
 "nbformat": 4,
 "nbformat_minor": 5
}
