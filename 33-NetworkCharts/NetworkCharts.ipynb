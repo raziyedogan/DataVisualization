{
 "cells": [
  {
   "cell_type": "markdown",
   "id": "31d4f66f",
   "metadata": {},
   "source": [
    "# Network Charts"
   ]
  },
  {
   "cell_type": "markdown",
   "id": "30e5ebbf",
   "metadata": {},
   "source": [
    "<font color = \"MediumAquaMarine\"><br>\n",
    "Network Charts, Networkx kütüphanesinin bir görselleştirme aracıdır.\n",
    "    <br>\n",
    "<font color = \"MediumAquaMarine\"><br>\n",
    "Network charts genellikle data'da feature'ler arasındaki correlation ile ilgilidir. Correlation denince akla gelen seaborn kütüphanesinden heatmap'tir. Heatmap, feature'ler arasındaki orantı hakkında bilgi veriyordu.\n",
    "    <br>\n",
    "<font color = \"MediumAquaMarine\"><br>\n",
    "corr() metodu feature'ler arasındaki correlation'u verir."
   ]
  },
  {
   "cell_type": "code",
   "execution_count": 1,
   "id": "c28f228d",
   "metadata": {},
   "outputs": [],
   "source": [
    "import numpy as np \n",
    "import pandas as pd \n",
    "import matplotlib.pyplot as plt"
   ]
  },
  {
   "cell_type": "code",
   "execution_count": 2,
   "id": "815aa5d6",
   "metadata": {},
   "outputs": [],
   "source": [
    "data = pd.read_csv(\"Iris.csv\")\n",
    "data = data.drop(['Id'],axis=1)"
   ]
  },
  {
   "cell_type": "code",
   "execution_count": 3,
   "id": "442ea3f0",
   "metadata": {},
   "outputs": [
    {
     "data": {
      "text/html": [
       "<div>\n",
       "<style scoped>\n",
       "    .dataframe tbody tr th:only-of-type {\n",
       "        vertical-align: middle;\n",
       "    }\n",
       "\n",
       "    .dataframe tbody tr th {\n",
       "        vertical-align: top;\n",
       "    }\n",
       "\n",
       "    .dataframe thead th {\n",
       "        text-align: right;\n",
       "    }\n",
       "</style>\n",
       "<table border=\"1\" class=\"dataframe\">\n",
       "  <thead>\n",
       "    <tr style=\"text-align: right;\">\n",
       "      <th></th>\n",
       "      <th>SepalLengthCm</th>\n",
       "      <th>SepalWidthCm</th>\n",
       "      <th>PetalLengthCm</th>\n",
       "      <th>PetalWidthCm</th>\n",
       "    </tr>\n",
       "  </thead>\n",
       "  <tbody>\n",
       "    <tr>\n",
       "      <th>SepalLengthCm</th>\n",
       "      <td>1.000000</td>\n",
       "      <td>-0.109369</td>\n",
       "      <td>0.871754</td>\n",
       "      <td>0.817954</td>\n",
       "    </tr>\n",
       "    <tr>\n",
       "      <th>SepalWidthCm</th>\n",
       "      <td>-0.109369</td>\n",
       "      <td>1.000000</td>\n",
       "      <td>-0.420516</td>\n",
       "      <td>-0.356544</td>\n",
       "    </tr>\n",
       "    <tr>\n",
       "      <th>PetalLengthCm</th>\n",
       "      <td>0.871754</td>\n",
       "      <td>-0.420516</td>\n",
       "      <td>1.000000</td>\n",
       "      <td>0.962757</td>\n",
       "    </tr>\n",
       "    <tr>\n",
       "      <th>PetalWidthCm</th>\n",
       "      <td>0.817954</td>\n",
       "      <td>-0.356544</td>\n",
       "      <td>0.962757</td>\n",
       "      <td>1.000000</td>\n",
       "    </tr>\n",
       "  </tbody>\n",
       "</table>\n",
       "</div>"
      ],
      "text/plain": [
       "               SepalLengthCm  SepalWidthCm  PetalLengthCm  PetalWidthCm\n",
       "SepalLengthCm       1.000000     -0.109369       0.871754      0.817954\n",
       "SepalWidthCm       -0.109369      1.000000      -0.420516     -0.356544\n",
       "PetalLengthCm       0.871754     -0.420516       1.000000      0.962757\n",
       "PetalWidthCm        0.817954     -0.356544       0.962757      1.000000"
      ]
     },
     "execution_count": 3,
     "metadata": {},
     "output_type": "execute_result"
    }
   ],
   "source": [
    "corr = data.iloc[:,0:4].corr()\n",
    "corr"
   ]
  },
  {
   "cell_type": "markdown",
   "id": "3bb68b5e",
   "metadata": {},
   "source": [
    "Çıktıyı inceleyelim. PetalLengthCm ve SepalLengthCm\tfeature'leri arasında 0.87 değerinde positive correlation vardır. Bunun anlamı, SepalLengthCm arttıkça 0.87 oranında PetalLengthCm artar.\n",
    "\n",
    "PetalWidthCm ve SepalLengthCm feature'leri arasında 0.81 değerinde positive correlation vardır. Bunun anlamı, SepalLengthCm arttıkça 0.81 oranında PetalWidthCm\t artar.\n",
    "\n",
    "PetalLengthCm ve SepalWidthCm -0.42 oranında ters orantılıdır."
   ]
  },
  {
   "cell_type": "markdown",
   "id": "93147eb2",
   "metadata": {},
   "source": [
    "<font color = \"RosyBrown\"><br>\n",
    "Tüm bunları network analizi yaparak network chart ile görselleştirmek mümkündür. Network analizi yapan insanlar feature'lerin her birini \"node\" olarak isimlendirmişlerdir. \n",
    "<br>\n",
    "<font color = \"RosyBrown\"><br>\n",
    "2 tane feature birbirine yakın ise belli bir threshold değeri belirliyoruz ve bunları birbirine link ile bağlıyoruz. Mesela threshold değeri 0.9 olsun. İki tane feature yani node arasındaki correlation 0.9'un üzerinde ise bu ikisi birbirine bağlanır. Aralarındaki ilişkinin arandığı iki feature aynı ise aralarındaki orantı değeri 1 dir yani birbiri ile %100 doğru orantılıdır. 1 değerleri dışında 0.9'un üzerinde correlation oranına sahip olan PetalLengthCm ve PetalLengthCm node'leridir. Threshold değeri 0.9 ve network grafı çizdirmek isteseydik PetalLengthCm ve PetalLengthCm node'leri arasında bir bağlantı olucaktı ve diğer feature'ler arasında hiçbir bağlantı olmayacaktı. \n",
    "<br>\n",
    "<font color = \"RosyBrown\"><br>\n",
    "Network charts, heatmap yerine kullanılabilen bir alternatiftir. Ama genelde network charts, social network analizi yapılırken kullanılır. Social network, bir popülasyon incelemek demektir. Machine Learning kısmında heatmap kullanırız."
   ]
  },
  {
   "cell_type": "code",
   "execution_count": 4,
   "id": "251697a8",
   "metadata": {},
   "outputs": [
    {
     "name": "stdout",
     "output_type": "stream",
     "text": [
      "Requirement already satisfied: networkx in c:\\users\\raziy\\anaconda3\\lib\\site-packages (2.6.3)\n",
      "Note: you may need to restart the kernel to use updated packages.\n"
     ]
    }
   ],
   "source": [
    "pip install networkx"
   ]
  },
  {
   "cell_type": "code",
   "execution_count": 5,
   "id": "3b09fe33",
   "metadata": {},
   "outputs": [
    {
     "data": {
      "text/html": [
       "<div>\n",
       "<style scoped>\n",
       "    .dataframe tbody tr th:only-of-type {\n",
       "        vertical-align: middle;\n",
       "    }\n",
       "\n",
       "    .dataframe tbody tr th {\n",
       "        vertical-align: top;\n",
       "    }\n",
       "\n",
       "    .dataframe thead th {\n",
       "        text-align: right;\n",
       "    }\n",
       "</style>\n",
       "<table border=\"1\" class=\"dataframe\">\n",
       "  <thead>\n",
       "    <tr style=\"text-align: right;\">\n",
       "      <th></th>\n",
       "      <th>var1</th>\n",
       "      <th>var2</th>\n",
       "      <th>value</th>\n",
       "    </tr>\n",
       "  </thead>\n",
       "  <tbody>\n",
       "    <tr>\n",
       "      <th>0</th>\n",
       "      <td>SepalLengthCm</td>\n",
       "      <td>SepalLengthCm</td>\n",
       "      <td>1.000000</td>\n",
       "    </tr>\n",
       "    <tr>\n",
       "      <th>1</th>\n",
       "      <td>SepalLengthCm</td>\n",
       "      <td>SepalWidthCm</td>\n",
       "      <td>-0.109369</td>\n",
       "    </tr>\n",
       "    <tr>\n",
       "      <th>2</th>\n",
       "      <td>SepalLengthCm</td>\n",
       "      <td>PetalLengthCm</td>\n",
       "      <td>0.871754</td>\n",
       "    </tr>\n",
       "    <tr>\n",
       "      <th>3</th>\n",
       "      <td>SepalLengthCm</td>\n",
       "      <td>PetalWidthCm</td>\n",
       "      <td>0.817954</td>\n",
       "    </tr>\n",
       "    <tr>\n",
       "      <th>4</th>\n",
       "      <td>SepalWidthCm</td>\n",
       "      <td>SepalLengthCm</td>\n",
       "      <td>-0.109369</td>\n",
       "    </tr>\n",
       "    <tr>\n",
       "      <th>5</th>\n",
       "      <td>SepalWidthCm</td>\n",
       "      <td>SepalWidthCm</td>\n",
       "      <td>1.000000</td>\n",
       "    </tr>\n",
       "    <tr>\n",
       "      <th>6</th>\n",
       "      <td>SepalWidthCm</td>\n",
       "      <td>PetalLengthCm</td>\n",
       "      <td>-0.420516</td>\n",
       "    </tr>\n",
       "    <tr>\n",
       "      <th>7</th>\n",
       "      <td>SepalWidthCm</td>\n",
       "      <td>PetalWidthCm</td>\n",
       "      <td>-0.356544</td>\n",
       "    </tr>\n",
       "    <tr>\n",
       "      <th>8</th>\n",
       "      <td>PetalLengthCm</td>\n",
       "      <td>SepalLengthCm</td>\n",
       "      <td>0.871754</td>\n",
       "    </tr>\n",
       "    <tr>\n",
       "      <th>9</th>\n",
       "      <td>PetalLengthCm</td>\n",
       "      <td>SepalWidthCm</td>\n",
       "      <td>-0.420516</td>\n",
       "    </tr>\n",
       "    <tr>\n",
       "      <th>10</th>\n",
       "      <td>PetalLengthCm</td>\n",
       "      <td>PetalLengthCm</td>\n",
       "      <td>1.000000</td>\n",
       "    </tr>\n",
       "    <tr>\n",
       "      <th>11</th>\n",
       "      <td>PetalLengthCm</td>\n",
       "      <td>PetalWidthCm</td>\n",
       "      <td>0.962757</td>\n",
       "    </tr>\n",
       "    <tr>\n",
       "      <th>12</th>\n",
       "      <td>PetalWidthCm</td>\n",
       "      <td>SepalLengthCm</td>\n",
       "      <td>0.817954</td>\n",
       "    </tr>\n",
       "    <tr>\n",
       "      <th>13</th>\n",
       "      <td>PetalWidthCm</td>\n",
       "      <td>SepalWidthCm</td>\n",
       "      <td>-0.356544</td>\n",
       "    </tr>\n",
       "    <tr>\n",
       "      <th>14</th>\n",
       "      <td>PetalWidthCm</td>\n",
       "      <td>PetalLengthCm</td>\n",
       "      <td>0.962757</td>\n",
       "    </tr>\n",
       "    <tr>\n",
       "      <th>15</th>\n",
       "      <td>PetalWidthCm</td>\n",
       "      <td>PetalWidthCm</td>\n",
       "      <td>1.000000</td>\n",
       "    </tr>\n",
       "  </tbody>\n",
       "</table>\n",
       "</div>"
      ],
      "text/plain": [
       "             var1           var2     value\n",
       "0   SepalLengthCm  SepalLengthCm  1.000000\n",
       "1   SepalLengthCm   SepalWidthCm -0.109369\n",
       "2   SepalLengthCm  PetalLengthCm  0.871754\n",
       "3   SepalLengthCm   PetalWidthCm  0.817954\n",
       "4    SepalWidthCm  SepalLengthCm -0.109369\n",
       "5    SepalWidthCm   SepalWidthCm  1.000000\n",
       "6    SepalWidthCm  PetalLengthCm -0.420516\n",
       "7    SepalWidthCm   PetalWidthCm -0.356544\n",
       "8   PetalLengthCm  SepalLengthCm  0.871754\n",
       "9   PetalLengthCm   SepalWidthCm -0.420516\n",
       "10  PetalLengthCm  PetalLengthCm  1.000000\n",
       "11  PetalLengthCm   PetalWidthCm  0.962757\n",
       "12   PetalWidthCm  SepalLengthCm  0.817954\n",
       "13   PetalWidthCm   SepalWidthCm -0.356544\n",
       "14   PetalWidthCm  PetalLengthCm  0.962757\n",
       "15   PetalWidthCm   PetalWidthCm  1.000000"
      ]
     },
     "execution_count": 5,
     "metadata": {},
     "output_type": "execute_result"
    }
   ],
   "source": [
    "# import networkx library\n",
    "import networkx as nx\n",
    "\n",
    "# Transform it in a links data frame (3 columns only):\n",
    "links = corr.stack().reset_index()\n",
    "links.columns = ['var1', 'var2','value']\n",
    "links"
   ]
  },
  {
   "cell_type": "markdown",
   "id": "5e5beff4",
   "metadata": {},
   "source": [
    "Çıktıda gördüğünüz üzere, var1 sütununa bir feature, var2 sütununa bir feature verilmiştir ve bu iki feature arasındaki correlation değeri value sütununa yazdırılmıştır. \n",
    "\n",
    "<font color = \"Sienna\"><br>\n",
    "Networkx kütüphanesini kullanabilmemiz için yukarıdaki kod bloğunu yazmamız gereklidir."
   ]
  },
  {
   "cell_type": "code",
   "execution_count": 6,
   "id": "82ab78cc",
   "metadata": {},
   "outputs": [
    {
     "data": {
      "image/png": "[encoded data removed]",
      "text/plain": [
       "<Figure size 432x288 with 1 Axes>"
      ]
     },
     "metadata": {},
     "output_type": "display_data"
    }
   ],
   "source": [
    "# correlation\n",
    "threshold = -1\n",
    "\n",
    "# Keep only correlation over a threshold and remove self correlation (cor(A,A)=1)\n",
    "links_filtered=links.loc[ (links['value'] >= threshold ) & (links['var1'] != links['var2']) ]\n",
    " \n",
    "# Build your graph\n",
    "G=nx.from_pandas_edgelist(links_filtered, 'var1', 'var2')\n",
    " \n",
    "# Plot the network\n",
    "nx.draw_circular(G, with_labels=True, node_color='orange', node_size=300, edge_color='red', linewidths=1, font_size=10)"
   ]
  },
  {
   "cell_type": "markdown",
   "id": "7e8447a6",
   "metadata": {},
   "source": [
    "<font color=\"OliveDrab\"><br>\n",
    "threshold = -1\n",
    "\n",
    "satırı ile threshold değerini -1 olarak belirledim. Çünkü her bir node arasında bağlantı görmek istiyoruz.\n",
    "    \n",
    "<font color=\"OliveDrab\"><br>\n",
    "links_filtered=links.loc[ (links['value'] >= threshold ) & (links['var1'] != links['var2']) ]\n",
    "    \n",
    "Aynı feature'ler arasındaki correlation değeri 1'dir. Bunu bildiğimiz için bu durumu görselleştirmenin anlamı yoktur. Dolayısıyla aynı feature'ler (mesela SepalLengthCm ve SepalLengthCm arasındaki correlation 1'dir) arasındaki linki çıkarmalıyız. Birde threshold değerinden büyük correlation değerine sahip feature'ler arasına link koymalıyız. Dolayısıyla bu satırda bir filtre uyguluyorum. Filtre ile value değerinin threshold değerinden büyük olması şartı ve var1 ile var2 sütunlarındaki değerlerin aynı feature olmaması şartı sağlanmıştır. Böylelikle iki farklı feature arasındaki correlation değerleri threshold değerine göre filtrelenmiştir.\n",
    "\n",
    "<font color=\"OliveDrab\"><br>    \n",
    "G=nx.from_pandas_edgelist(links_filtered, 'var1', 'var2')\n",
    "    \n",
    "Bu satır ile bir graph elde ediyorum.\n",
    "    \n",
    "<font color=\"OliveDrab\"><br>\n",
    "nx.draw_circular(G, with_labels=True, node_color='orange', node_size=300, edge_color='red', linewidths=1, font_size=10)\n",
    "    \n",
    "Bu satır ile grafı görselleştiriyorum."
   ]
  },
  {
   "cell_type": "markdown",
   "id": "b936ff18",
   "metadata": {},
   "source": [
    "Çıktıda gördüğünüz üzere, belirlediğim threshold değerine göre tüm feature'ler birbiri ile ilişki içerisindedir."
   ]
  }
 ],
 "metadata": {
  "kernelspec": {
   "display_name": "Python 3 (ipykernel)",
   "language": "python",
   "name": "python3"
  },
  "language_info": {
   "codemirror_mode": {
    "name": "ipython",
    "version": 3
   },
   "file_extension": ".py",
   "mimetype": "text/x-python",
   "name": "python",
   "nbconvert_exporter": "python",
   "pygments_lexer": "ipython3",
   "version": "3.9.7"
  }
 },
 "nbformat": 4,
 "nbformat_minor": 5
}
