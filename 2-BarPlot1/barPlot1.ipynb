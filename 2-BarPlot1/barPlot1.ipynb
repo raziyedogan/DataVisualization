{
 "cells": [
  {
   "cell_type": "code",
   "execution_count": 1,
   "id": "ce8cd6e7",
   "metadata": {},
   "outputs": [],
   "source": [
    "import numpy as np\n",
    "import pandas as pd\n",
    "import seaborn as sns\n",
    "import matplotlib.pyplot as plt"
   ]
  },
  {
   "cell_type": "code",
   "execution_count": 2,
   "id": "4ecd7e22",
   "metadata": {},
   "outputs": [],
   "source": [
    "median_house_hold_in_come = pd.read_csv(\"MedianHouseholdIncome2015.csv\", encoding=\"windows-1252\")\n",
    "percentage_people_below_poverty_level = pd.read_csv(\"PercentagePeopleBelowPovertyLevel.csv\", encoding=\"windows-1252\")\n",
    "percent_over_25_completed_highSchool = pd.read_csv(\"PercentOver25CompletedHighSchool.csv\", encoding=\"windows-1252\")\n",
    "share_race_city = pd.read_csv(\"ShareRaceByCity.csv\", encoding=\"windows-1252\")\n",
    "kill = pd.read_csv(\"PoliceKillingsUS.csv\", encoding=\"windows-1252\")"
   ]
  },
  {
   "cell_type": "code",
   "execution_count": 3,
   "id": "9d5f883e",
   "metadata": {},
   "outputs": [],
   "source": [
    "percentage_people_below_poverty_level.poverty_rate.replace(['-'],0.0,inplace = True)"
   ]
  },
  {
   "cell_type": "code",
   "execution_count": 4,
   "id": "ad2bba65",
   "metadata": {},
   "outputs": [],
   "source": [
    "percentage_people_below_poverty_level.poverty_rate = percentage_people_below_poverty_level.poverty_rate.astype(float)"
   ]
  },
  {
   "cell_type": "code",
   "execution_count": 5,
   "id": "1e05f4ff",
   "metadata": {},
   "outputs": [],
   "source": [
    "area_list = list(percentage_people_below_poverty_level['Geographic Area'].unique())"
   ]
  },
  {
   "cell_type": "markdown",
   "id": "5e0dde27",
   "metadata": {},
   "source": [
    "Yukarıda yapılan şudur: percentage_people_below_poverty_level değişkeninde tutulan veri setinde Geographic Area featuresini alır ve bu sütunun içerisindeki unique olan değerleri bulur. "
   ]
  },
  {
   "cell_type": "code",
   "execution_count": 6,
   "id": "b6672595",
   "metadata": {},
   "outputs": [
    {
     "data": {
      "text/plain": [
       "array(['AL', 'AK', 'AZ', 'AR', 'CA', 'CO', 'CT', 'DE', 'DC', 'FL', 'GA',\n",
       "       'HI', 'ID', 'IL', 'IN', 'IA', 'KS', 'KY', 'LA', 'ME', 'MD', 'MA',\n",
       "       'MI', 'MN', 'MS', 'MO', 'MT', 'NE', 'NV', 'NH', 'NJ', 'NM', 'NY',\n",
       "       'NC', 'ND', 'OH', 'OK', 'OR', 'PA', 'RI', 'SC', 'SD', 'TN', 'TX',\n",
       "       'UT', 'VT', 'VA', 'WA', 'WV', 'WI', 'WY'], dtype=object)"
      ]
     },
     "execution_count": 6,
     "metadata": {},
     "output_type": "execute_result"
    }
   ],
   "source": [
    "percentage_people_below_poverty_level['Geographic Area'].unique()"
   ]
  },
  {
   "cell_type": "markdown",
   "id": "d17cee83",
   "metadata": {},
   "source": [
    "Yukarıdaki kod çıktısında Amerika'daki eyaletleri görüyoruz."
   ]
  },
  {
   "cell_type": "code",
   "execution_count": 7,
   "id": "7b082370",
   "metadata": {},
   "outputs": [
    {
     "data": {
      "text/plain": [
       "51"
      ]
     },
     "execution_count": 7,
     "metadata": {},
     "output_type": "execute_result"
    }
   ],
   "source": [
    "len(percentage_people_below_poverty_level['Geographic Area'].unique())"
   ]
  },
  {
   "cell_type": "markdown",
   "id": "6fb89d79",
   "metadata": {},
   "source": [
    "Çıktıda Amerika'da 51 tane eyalet olduğunu görüyoruz. "
   ]
  },
  {
   "cell_type": "code",
   "execution_count": 8,
   "id": "a4ffe0bc",
   "metadata": {},
   "outputs": [],
   "source": [
    "area_poverty_ratio = []"
   ]
  },
  {
   "cell_type": "markdown",
   "id": "8bd450c4",
   "metadata": {},
   "source": [
    "Yukarıdaki kod ile amaçlanan şudur: Eğer data'yı hiçbir sıralama yapmadan bar plot'a koyarsak, eyaletlerin sırasında bir görsel görürüz. Fakat azalan sırada bir görsel daha anlaşılır olacağından data'yı sıralamalıyız. Hadi bunu yapalım."
   ]
  },
  {
   "cell_type": "code",
   "execution_count": 9,
   "id": "994d90c8",
   "metadata": {},
   "outputs": [],
   "source": [
    "for i in area_list:\n",
    "    x = percentage_people_below_poverty_level[percentage_people_below_poverty_level['Geographic Area']==i]\n",
    "    area_poverty_rate = sum(x.poverty_rate)/len(x)\n",
    "    area_poverty_ratio.append(area_poverty_rate)"
   ]
  },
  {
   "cell_type": "markdown",
   "id": "163592b8",
   "metadata": {},
   "source": [
    "Yukarıda yapılanları açıklayalım.\n",
    "\n",
    "x = percentage_people_below_poverty_level[percentage_people_below_poverty_level['Geographic Area']==i] satır ile, data'nın içerisinde önceden area_list'e kaydettiğimiz unique eyaletlerin her birini tek tek buluruz.\n",
    "\n",
    "Bunu bulduktan sonra area_poverty_rate = sum(x.poverty_rate)/len(x) satırı ile poverty_rate'nin ortalamasını alırız. Ve bu ortalama değeri area_poverty_rate değişkeninde tutuyoruz.\n",
    "\n",
    "Daha sonrada bu area_poverty_rate değişkenini daha önceden oluşturduğum area_poverty_ratio isimli listenin içerisine ekliyoruz."
   ]
  },
  {
   "cell_type": "code",
   "execution_count": 10,
   "id": "7aa7d3c5",
   "metadata": {},
   "outputs": [],
   "source": [
    "data = pd.DataFrame({'area_list': area_list,'area_poverty_ratio':area_poverty_ratio})"
   ]
  },
  {
   "cell_type": "markdown",
   "id": "e93063fe",
   "metadata": {},
   "source": [
    "Yukarıda bir data frame oluşturdum. Bu data frame'in sütunlarından birisinin ismi area_list ve bir diğer sütun ismi area_poverty_ratio 'dir."
   ]
  },
  {
   "cell_type": "code",
   "execution_count": 11,
   "id": "85785fd4",
   "metadata": {},
   "outputs": [],
   "source": [
    "new_index = (data['area_poverty_ratio'].sort_values(ascending=False)).index.values"
   ]
  },
  {
   "cell_type": "markdown",
   "id": "79a73631",
   "metadata": {},
   "source": [
    "ascending=False parametresinden dolayı azalan sırada bir sıralama gerçekleştirilir. Eğer bu parametre True değerine eşitlenseydi artan sırada bir sıralama gerçekleştirilirdi. Ve indeksleri çekiyorum."
   ]
  },
  {
   "cell_type": "code",
   "execution_count": 12,
   "id": "4c0dd851",
   "metadata": {},
   "outputs": [],
   "source": [
    "sorted_data = data.reindex(new_index)"
   ]
  },
  {
   "cell_type": "markdown",
   "id": "82a33481",
   "metadata": {},
   "source": [
    "Azalan sıradaki sırayı sağlayan indekleri data'nın yeni indeksi yaptım."
   ]
  },
  {
   "cell_type": "code",
   "execution_count": 13,
   "id": "224e4400",
   "metadata": {},
   "outputs": [
    {
     "data": {
      "text/plain": [
       "Text(0.5, 1.0, 'Poverty Rate Given States')"
      ]
     },
     "execution_count": 13,
     "metadata": {},
     "output_type": "execute_result"
    },
    {
     "data": {
      "image/png": "[encoded data removed]",
      "text/plain": [
       "<Figure size 1080x720 with 1 Axes>"
      ]
     },
     "metadata": {
      "needs_background": "light"
     },
     "output_type": "display_data"
    }
   ],
   "source": [
    "# visualization\n",
    "plt.figure(figsize=(15,10))\n",
    "sns.barplot(x=sorted_data['area_list'], y=sorted_data['area_poverty_ratio'])\n",
    "plt.xticks(rotation= 45)\n",
    "plt.xlabel('States')\n",
    "plt.ylabel('Poverty Rate')\n",
    "plt.title('Poverty Rate Given States')"
   ]
  },
  {
   "cell_type": "markdown",
   "id": "a2799cba",
   "metadata": {},
   "source": [
    "Yukarıda yapılanları açıklayalım. Artık görselleştirme gerçekleştirilmiştir. \n",
    "\n",
    "plt.figure(figsize=(15,10)) satırını yeni bir figür açmak için kullandım. Ve bu figürün eninin uzunluğunu 15, boyunun uzunluğunu 10 olarak ayarladım.\n",
    "\n",
    "sns.barplot(x=sorted_data['area_list'], y=sorted_data['area_poverty_ratio']) satırı: x ekseninde sorted_data'nın area_list'i yani eyalet listesi ve y ekseninde sorted_data'nın area_poverty_ratio'su yani fakirlik oranı bulunmakta. \n",
    "\n",
    "plt.xticks(rotation= 45) satırı ile x ekseninde yazan ifadelerin konum açılarını belirlendim. Mesela 45 yerine 90 yazın ve farkı gözlemleyin.\n",
    "\n",
    "plt.xlabel('States') ve plt.ylabel('Poverty Rate') astırları ile x ve y eksenlerine isim verdim.\n",
    "\n",
    "plt.title('Poverty Rate Given States') satırı ile de figüre başlık verdim."
   ]
  },
  {
   "cell_type": "markdown",
   "id": "39cb68ff",
   "metadata": {},
   "source": [
    "Böylece bar plot'lar halinde görselleştirerek insanların daha kolay anlayabilmesini sağlamış olduk."
   ]
  },
  {
   "cell_type": "markdown",
   "id": "bb0b80dd",
   "metadata": {},
   "source": [
    "Çıktıyı inceleyelim. x ekseninde görebileceğiniz LA ifadesi Los Angeles'dır. Los Angeles'ın fakirlik oranının yaklaşık %23 olduğunu görebiliyoruz. Ve Los Angeles'ın fakirlik oranı 6.sıradadır.\n",
    "\n",
    "Fakirlik oranı en düşük olanın NJ olduğunu görebiliyoruz."
   ]
  },
  {
   "cell_type": "markdown",
   "id": "1e80819b",
   "metadata": {},
   "source": [
    "Haydi şimdi bir görselleştirme daha yapalım. Öldürülen insanların isimleri ve soyisimleri arasında en çok kullanılan 15 tanesini gösteren figürü çizelim. Bunun için kill değişkeninde tutulan veri setini kullanmalıyız. Öncelikle bu veri setinin içeriğine bakalım."
   ]
  },
  {
   "cell_type": "code",
   "execution_count": 14,
   "id": "f7b711cd",
   "metadata": {},
   "outputs": [
    {
     "data": {
      "text/html": [
       "<div>\n",
       "<style scoped>\n",
       "    .dataframe tbody tr th:only-of-type {\n",
       "        vertical-align: middle;\n",
       "    }\n",
       "\n",
       "    .dataframe tbody tr th {\n",
       "        vertical-align: top;\n",
       "    }\n",
       "\n",
       "    .dataframe thead th {\n",
       "        text-align: right;\n",
       "    }\n",
       "</style>\n",
       "<table border=\"1\" class=\"dataframe\">\n",
       "  <thead>\n",
       "    <tr style=\"text-align: right;\">\n",
       "      <th></th>\n",
       "      <th>id</th>\n",
       "      <th>name</th>\n",
       "      <th>date</th>\n",
       "      <th>manner_of_death</th>\n",
       "      <th>armed</th>\n",
       "      <th>age</th>\n",
       "      <th>gender</th>\n",
       "      <th>race</th>\n",
       "      <th>city</th>\n",
       "      <th>state</th>\n",
       "      <th>signs_of_mental_illness</th>\n",
       "      <th>threat_level</th>\n",
       "      <th>flee</th>\n",
       "      <th>body_camera</th>\n",
       "    </tr>\n",
       "  </thead>\n",
       "  <tbody>\n",
       "    <tr>\n",
       "      <th>0</th>\n",
       "      <td>3</td>\n",
       "      <td>Tim Elliot</td>\n",
       "      <td>02/01/15</td>\n",
       "      <td>shot</td>\n",
       "      <td>gun</td>\n",
       "      <td>53.0</td>\n",
       "      <td>M</td>\n",
       "      <td>A</td>\n",
       "      <td>Shelton</td>\n",
       "      <td>WA</td>\n",
       "      <td>True</td>\n",
       "      <td>attack</td>\n",
       "      <td>Not fleeing</td>\n",
       "      <td>False</td>\n",
       "    </tr>\n",
       "    <tr>\n",
       "      <th>1</th>\n",
       "      <td>4</td>\n",
       "      <td>Lewis Lee Lembke</td>\n",
       "      <td>02/01/15</td>\n",
       "      <td>shot</td>\n",
       "      <td>gun</td>\n",
       "      <td>47.0</td>\n",
       "      <td>M</td>\n",
       "      <td>W</td>\n",
       "      <td>Aloha</td>\n",
       "      <td>OR</td>\n",
       "      <td>False</td>\n",
       "      <td>attack</td>\n",
       "      <td>Not fleeing</td>\n",
       "      <td>False</td>\n",
       "    </tr>\n",
       "    <tr>\n",
       "      <th>2</th>\n",
       "      <td>5</td>\n",
       "      <td>John Paul Quintero</td>\n",
       "      <td>03/01/15</td>\n",
       "      <td>shot and Tasered</td>\n",
       "      <td>unarmed</td>\n",
       "      <td>23.0</td>\n",
       "      <td>M</td>\n",
       "      <td>H</td>\n",
       "      <td>Wichita</td>\n",
       "      <td>KS</td>\n",
       "      <td>False</td>\n",
       "      <td>other</td>\n",
       "      <td>Not fleeing</td>\n",
       "      <td>False</td>\n",
       "    </tr>\n",
       "    <tr>\n",
       "      <th>3</th>\n",
       "      <td>8</td>\n",
       "      <td>Matthew Hoffman</td>\n",
       "      <td>04/01/15</td>\n",
       "      <td>shot</td>\n",
       "      <td>toy weapon</td>\n",
       "      <td>32.0</td>\n",
       "      <td>M</td>\n",
       "      <td>W</td>\n",
       "      <td>San Francisco</td>\n",
       "      <td>CA</td>\n",
       "      <td>True</td>\n",
       "      <td>attack</td>\n",
       "      <td>Not fleeing</td>\n",
       "      <td>False</td>\n",
       "    </tr>\n",
       "    <tr>\n",
       "      <th>4</th>\n",
       "      <td>9</td>\n",
       "      <td>Michael Rodriguez</td>\n",
       "      <td>04/01/15</td>\n",
       "      <td>shot</td>\n",
       "      <td>nail gun</td>\n",
       "      <td>39.0</td>\n",
       "      <td>M</td>\n",
       "      <td>H</td>\n",
       "      <td>Evans</td>\n",
       "      <td>CO</td>\n",
       "      <td>False</td>\n",
       "      <td>attack</td>\n",
       "      <td>Not fleeing</td>\n",
       "      <td>False</td>\n",
       "    </tr>\n",
       "  </tbody>\n",
       "</table>\n",
       "</div>"
      ],
      "text/plain": [
       "   id                name      date   manner_of_death       armed   age  \\\n",
       "0   3          Tim Elliot  02/01/15              shot         gun  53.0   \n",
       "1   4    Lewis Lee Lembke  02/01/15              shot         gun  47.0   \n",
       "2   5  John Paul Quintero  03/01/15  shot and Tasered     unarmed  23.0   \n",
       "3   8     Matthew Hoffman  04/01/15              shot  toy weapon  32.0   \n",
       "4   9   Michael Rodriguez  04/01/15              shot    nail gun  39.0   \n",
       "\n",
       "  gender race           city state  signs_of_mental_illness threat_level  \\\n",
       "0      M    A        Shelton    WA                     True       attack   \n",
       "1      M    W          Aloha    OR                    False       attack   \n",
       "2      M    H        Wichita    KS                    False        other   \n",
       "3      M    W  San Francisco    CA                     True       attack   \n",
       "4      M    H          Evans    CO                    False       attack   \n",
       "\n",
       "          flee  body_camera  \n",
       "0  Not fleeing        False  \n",
       "1  Not fleeing        False  \n",
       "2  Not fleeing        False  \n",
       "3  Not fleeing        False  \n",
       "4  Not fleeing        False  "
      ]
     },
     "execution_count": 14,
     "metadata": {},
     "output_type": "execute_result"
    }
   ],
   "source": [
    "kill.head()"
   ]
  },
  {
   "cell_type": "markdown",
   "id": "61127b4c",
   "metadata": {},
   "source": [
    "Veri setinin içerisinde:\n",
    "\n",
    "name sütunu: isimler bilgisini barındırır.\n",
    "\n",
    "date sütunu: tarihler bilgisini barındırır.\n",
    "\n",
    "manner_of_death sütunu: nasıl öldürüldüğü bilgisini barındırır.\n",
    "\n",
    "armed sütunu: hangi silah ile öldürüldüğü bilgisini barındırır.\n",
    "\n",
    "age sütunu: yaşı bilgisini barındırır.\n",
    "\n",
    "gender sütunu: cinsiyeti bilgisini barındırır.\n",
    "\n",
    "race sütunu: ırkı bilgisini barındırır.\n",
    "\n",
    "city sütunu: yaşadığı şehir bilgisini barındırır.\n",
    "\n",
    "state sütunu: eyaleti bilgisini barındırır."
   ]
  },
  {
   "cell_type": "markdown",
   "id": "44bfd0e7",
   "metadata": {},
   "source": [
    "Şimdi görselleştirme işlemine geçebiliriz."
   ]
  },
  {
   "cell_type": "code",
   "execution_count": 15,
   "id": "1a6c5401",
   "metadata": {},
   "outputs": [
    {
     "data": {
      "text/plain": [
       "Text(0.5, 1.0, 'Most common 15 Name or Surname of killed people')"
      ]
     },
     "execution_count": 15,
     "metadata": {},
     "output_type": "execute_result"
    },
    {
     "data": {
      "image/png": "[encoded data removed]",
      "text/plain": [
       "<Figure size 1080x720 with 1 Axes>"
      ]
     },
     "metadata": {
      "needs_background": "light"
     },
     "output_type": "display_data"
    }
   ],
   "source": [
    "from collections import Counter\n",
    "\n",
    "separate = kill.name[kill.name != 'TK TK'].str.split() \n",
    "a,b = zip(*separate)                    \n",
    "name_list = a+b                         \n",
    "name_count = Counter(name_list)         \n",
    "most_common_names = name_count.most_common(15)  \n",
    "x,y = zip(*most_common_names)\n",
    "x,y = list(x),list(y)\n",
    "# \n",
    "plt.figure(figsize=(15,10))\n",
    "ax= sns.barplot(x=x, y=y,palette = sns.cubehelix_palette(len(x)))\n",
    "plt.xlabel('Name or Surname of killed people')\n",
    "plt.ylabel('Frequency')\n",
    "plt.title('Most common 15 Name or Surname of killed people')"
   ]
  },
  {
   "cell_type": "markdown",
   "id": "f4323356",
   "metadata": {},
   "source": [
    "Yukarıda yapılanlar şu şekildedir:\n",
    "\n",
    "separate = kill.name[kill.name != 'TK TK'].str.split() satırında: kill veri setinden name sütununu aldım ve name sütununda 'TK TK' ismindeki değeri bulunduran satırlar dışındaki satırları str yaptım ve split() metodu ile şunu yaptım: Mesela isim 'Raziye Dogan' ise 'Raziye','dogan' şeklinde boşluktan ayırarak isim ve soyisim şeklinde ayırmış oldum. Ve bu işlemleri separate değişkenine atadık.\n",
    "\n",
    "Ayrıca şunuda söylemeliyim ki, kill.name.value_counts() kodunu çalıştırdığınızda 49 tane 'TK TK' değerinin olduğunu göreceksiniz.\n",
    "\n",
    "a,b = zip(*separate) satırı ile unzip işlemi yaptım. Yani a ve b değişkenlerine isim ve soyismi ayırıyor.\n",
    "\n",
    "name_list = a+b satırında ayırdığım isim ve soyismi birleştiriyorum. Yani bir tuble'nin içerisinde aşağıdan yukarıya birleşmiş oldu.\n",
    "\n",
    "name_count = Counter(name_list) satırı ile bir name'den kaç tane olduğunu tespit ettim.\n",
    "\n",
    "most_common_names = name_count.most_common(15) satırında most_common metodunu kullanarak en çok olan 15 tanesini bul dedim.\n",
    "\n",
    "Daha sonra x,y = zip(*most_common_names) satırı ile bunu da unzip yaptım. \n",
    "\n",
    "x,y = list(x),list(y) satırında x ve y listesini elde ettim.\n",
    "\n",
    "ax= sns.barplot(x=x, y=y,palette = sns.cubehelix_palette(len(x))) satırında bar plot ile x ve y olacak şekilde çizdim.\n",
    "\n",
    "palette = sns.cubehelix_palette(len(x)) satırı çıktıda gördüğünüz figürdeki renkleri ifade ediyor. Bu metoda bir uzunluk değeri veriyoruz ve bu uzunluk değeri kadar birbiri ile uyumlu farklı renk döndürüyor.\n",
    "\n",
    "Çıktıyı okuyalım. En çok Michael ismi bulunmakta ve yaklaşık 90 adet. 15.sıradaki isim Joshua 'dır."
   ]
  }
 ],
 "metadata": {
  "kernelspec": {
   "display_name": "Python 3 (ipykernel)",
   "language": "python",
   "name": "python3"
  },
  "language_info": {
   "codemirror_mode": {
    "name": "ipython",
    "version": 3
   },
   "file_extension": ".py",
   "mimetype": "text/x-python",
   "name": "python",
   "nbconvert_exporter": "python",
   "pygments_lexer": "ipython3",
   "version": "3.9.7"
  }
 },
 "nbformat": 4,
 "nbformat_minor": 5
}
