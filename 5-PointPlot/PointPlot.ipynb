{
 "cells": [
  {
   "cell_type": "markdown",
   "id": "5133e578",
   "metadata": {},
   "source": [
    "Standart olan kütüphaneleri import etme, veri setlerini çağırma ve gerekli düzenlemeleri yapma işlemlerini gerçekleştirelim."
   ]
  },
  {
   "cell_type": "code",
   "execution_count": null,
   "id": "d38168df",
   "metadata": {},
   "outputs": [],
   "source": [
    "import numpy as np\n",
    "import pandas as pd\n",
    "import seaborn as sns\n",
    "import matplotlib.pyplot as plt"
   ]
  },
  {
   "cell_type": "code",
   "execution_count": null,
   "id": "d7327d05",
   "metadata": {},
   "outputs": [],
   "source": [
    "median_house_hold_in_come = pd.read_csv(\"MedianHouseholdIncome2015.csv\", encoding=\"windows-1252\")\n",
    "percentage_people_below_poverty_level = pd.read_csv(\"PercentagePeopleBelowPovertyLevel.csv\", encoding=\"windows-1252\")\n",
    "percent_over_25_completed_highSchool = pd.read_csv(\"PercentOver25CompletedHighSchool.csv\", encoding=\"windows-1252\")\n",
    "share_race_city = pd.read_csv(\"ShareRaceByCity.csv\", encoding=\"windows-1252\")\n",
    "kill = pd.read_csv(\"PoliceKillingsUS.csv\", encoding=\"windows-1252\")"
   ]
  },
  {
   "cell_type": "code",
   "execution_count": null,
   "id": "23bdf5dc",
   "metadata": {},
   "outputs": [],
   "source": [
    "percentage_people_below_poverty_level.poverty_rate.replace(['-'],0.0,inplace = True)"
   ]
  },
  {
   "cell_type": "code",
   "execution_count": null,
   "id": "1572f2d8",
   "metadata": {},
   "outputs": [],
   "source": [
    "percentage_people_below_poverty_level.poverty_rate = percentage_people_below_poverty_level.poverty_rate.astype(float)"
   ]
  },
  {
   "cell_type": "markdown",
   "id": "31f67829",
   "metadata": {},
   "source": [
    "Point plot, noktalardan oluşan ve noktalar arasında çizgi olan bir plot'tur."
   ]
  },
  {
   "cell_type": "markdown",
   "id": "58e136b6",
   "metadata": {},
   "source": [
    "Bu bölümde yapacağımızın görselleştirmenin konusu, her bir eyaletteki liseden mezun olma oranının ve fakirlik oranının karşılaştırılmasıdır.\n",
    "\n",
    "Problemi yorumlayalım. Eğer liseden mezun olma oranı yüksek ise fakirlik oranının azalması beklenir. Veya fakirlik oranı yüksek ise insanlar iş bulmak için liseden mezun olmamışlar denilebilir. Şimdi bu yorumların gerçek olup olmadığını anlamak amacıyla görselleştirme işlemi yapalım."
   ]
  },
  {
   "cell_type": "markdown",
   "id": "e4dc29f1",
   "metadata": {},
   "source": [
    "Şimdi barPlot1 ve barPlot2 isimli dökümanlarda yaptığım sorted_data ve sorted_data2 değişkenlerine ihtiyaç olduğundan bu kısma ait kodları buraya tekrar yazacağım."
   ]
  },
  {
   "cell_type": "code",
   "execution_count": null,
   "id": "c0dc2422",
   "metadata": {},
   "outputs": [],
   "source": [
    "#barPlot1 dökümanı\n",
    "area_list = list(percentage_people_below_poverty_level['Geographic Area'].unique())\n",
    "area_poverty_ratio = []\n",
    "for i in area_list:\n",
    "    x = percentage_people_below_poverty_level[percentage_people_below_poverty_level['Geographic Area']==i]\n",
    "    area_poverty_rate = sum(x.poverty_rate)/len(x)\n",
    "    area_poverty_ratio.append(area_poverty_rate)\n",
    "data = pd.DataFrame({'area_list': area_list,'area_poverty_ratio':area_poverty_ratio})\n",
    "new_index = (data['area_poverty_ratio'].sort_values(ascending=False)).index.values\n",
    "sorted_data = data.reindex(new_index)"
   ]
  },
  {
   "cell_type": "code",
   "execution_count": null,
   "id": "b73b545d",
   "metadata": {},
   "outputs": [],
   "source": [
    "#barPlot2 dökümanı\n",
    "percent_over_25_completed_highSchool.percent_completed_hs.replace(['-'],0.0,inplace = True)\n",
    "percent_over_25_completed_highSchool.percent_completed_hs = percent_over_25_completed_highSchool.percent_completed_hs.astype(float)\n",
    "area_list = list(percent_over_25_completed_highSchool['Geographic Area'].unique())\n",
    "area_highschool = []\n",
    "for i in area_list:\n",
    "    x = percent_over_25_completed_highSchool[percent_over_25_completed_highSchool['Geographic Area']==i]\n",
    "    area_highschool_rate = sum(x.percent_completed_hs)/len(x)\n",
    "    area_highschool.append(area_highschool_rate)\n",
    "# sorting\n",
    "data = pd.DataFrame({'area_list': area_list,'area_highschool_ratio':area_highschool})\n",
    "new_index = (data['area_highschool_ratio'].sort_values(ascending=True)).index.values\n",
    "sorted_data2 = data.reindex(new_index)"
   ]
  },
  {
   "cell_type": "markdown",
   "id": "d0461f89",
   "metadata": {},
   "source": [
    "sorted_data değişkeninde poverty_rate'in sıralanmış hali tutulmakta. sorted_data2 değişkeninde ise area_highschool_ratio'nun sıralanmış hali tutulmakta. "
   ]
  },
  {
   "cell_type": "code",
   "execution_count": null,
   "id": "84638b7a",
   "metadata": {},
   "outputs": [],
   "source": [
    "sorted_data.head()"
   ]
  },
  {
   "cell_type": "markdown",
   "id": "d97743e3",
   "metadata": {},
   "source": [
    "sorted_data içerisinde eyaletlerin fakirlik oranlarının ortalaması sıralı bir şekilde bulunmaktadır. Dolayısıyla bu data'nın içerisinde poverty rate bilgisine sahibiz."
   ]
  },
  {
   "cell_type": "code",
   "execution_count": null,
   "id": "581bb587",
   "metadata": {},
   "outputs": [],
   "source": [
    "sorted_data2.head()"
   ]
  },
  {
   "cell_type": "markdown",
   "id": "79d5e1f9",
   "metadata": {},
   "source": [
    "sorted_data2 içerisinde eyaletlere göre liseden mezun olma oranları sıralı bir şekilde tutulmaktadır."
   ]
  },
  {
   "cell_type": "code",
   "execution_count": null,
   "id": "460e5af7",
   "metadata": {},
   "outputs": [],
   "source": [
    "sorted_data['area_poverty_ratio'] = sorted_data['area_poverty_ratio']/max( sorted_data['area_poverty_ratio'])\n",
    "sorted_data2['area_highschool_ratio'] = sorted_data2['area_highschool_ratio']/max( sorted_data2['area_highschool_ratio'])"
   ]
  },
  {
   "cell_type": "markdown",
   "id": "1966c0dd",
   "metadata": {},
   "source": [
    "sorted_data['area_poverty_ratio'] = sorted_data['area_poverty_ratio']/max( sorted_data['area_poverty_ratio']) \n",
    "\n",
    "sorted_data2['area_highschool_ratio'] = sorted_data2['area_highschool_ratio']/max( sorted_data2['area_highschool_ratio'])\n",
    "\n",
    "Bu iki satır basit bir normalize etme tekniğidir.\n",
    "\n",
    "Normalize etme şudur:\n",
    "\n",
    "[1,2,3,4,5] ve [1000,999,888,777,666] şeklinde iki adet data'yı karşılaştırmak isteyelim. Bu iki data'yı aynı plot üzerinde çizebiliriz ama birinci data 1,2,3,4,5 kısmında çıkarken diğer data 1000 lerde çıkar. Dolayısıyla güzel bir görünüm elde edemeyiz. Hatta bunu çizdirerek anlatmak istediğimi daha iyi görelim."
   ]
  },
  {
   "cell_type": "code",
   "execution_count": null,
   "id": "e05169c1",
   "metadata": {},
   "outputs": [],
   "source": [
    "x = [1,2,3,4,5] \n",
    "y1 = [1,2,3,4,5] \n",
    "y2 = [1000,999,888,777,666]\n",
    "plt.plot(x,y1)\n",
    "plt.plot(x,y2)\n",
    "plt.show()"
   ]
  },
  {
   "cell_type": "markdown",
   "id": "b9e729e6",
   "metadata": {},
   "source": [
    "Çıktıyı inceleyelim. \n",
    "\n",
    "Turuncu çizgi, 1000'den 999'a düşmüş, sonra 888'e, sonra 777'ye ve sonra 666'ya düşmüş. \n",
    "\n",
    "Fakat x ve y1 dataları arasında bir doğru orantı var. Bu iki data birbiri ile ilişkili. Eğer bu ilişkiyi aşağıdaki gibi plote ettirirsek:"
   ]
  },
  {
   "cell_type": "code",
   "execution_count": null,
   "id": "a155ff9f",
   "metadata": {},
   "outputs": [],
   "source": [
    "plt.plot(x,y1)\n",
    "plt.show()"
   ]
  },
  {
   "cell_type": "markdown",
   "id": "9cef9084",
   "metadata": {},
   "source": [
    "Çıktıda görüldüğü üzere doğru orantılı bir data'dır. Bu ilişkiyi ilk grafikte mavi çizgi ile görüldüğü gibi dümdüz bir çizgi olarak görüyoruz. Çünkü turuncu kısımdaki sayılar çok büyük ve mavi çizgi ile ifade edilen sayılar çok küçük olduğu için aralarındaki farkı ayırt edemiyoruz. \n",
    "\n",
    "Bu problemi çözmek için bu iki data'yı normalize edip data'daki veriyi kaybetmeden aynı ölçeğe çekmemiz gerekir."
   ]
  },
  {
   "cell_type": "markdown",
   "id": "287a0011",
   "metadata": {},
   "source": [
    "1.data = [1,2,3,4,5] / 5\n",
    "\n",
    "2.data = [1000,999,888,777,666] / 1000\n",
    "\n",
    "Normalize etmenin formülünü ileriki dökümanlarda anlatacağım. Burada basit bir şekilde bu data'ları maksimum değerlerine bölersek şu şekilde olur:\n",
    "\n",
    "1.data = 0 < [1,2,3,4,5] / 5 < 1\n",
    "2.data = 0 < [1000,999,888,777,666] / 1000 < 1\n",
    "\n",
    "şeklinde 0 ile 1 arasında sayılar elde etmiş oluruz. Dolayısıyla bu iki data'yı normalize etmiş oluyorum. Yani 0 ile 1 aralığına taşımış oluyorum.\n",
    "\n",
    "Görmek istediğimiz durum, bir data'daki artış veya azalışın diğer data'yı etkileyip etkilemediğidir. Yani liseden mezun olma oranının fakirlik oranını etkileyip etkilemediğini görmek istiyoruz. \n",
    "\n",
    "Yani önemli olan plotlardaki eğimdir. Değerlerle ilgilenmiyoruz. Eğimlere odaklanarak artış ve azalışı incelemeliyiz.\n",
    "\n",
    "Dolayısıyla,\n",
    "\n",
    "sorted_data['area_poverty_ratio'] = sorted_data['area_poverty_ratio']/max( sorted_data['area_poverty_ratio'])\n",
    "\n",
    "sorted_data2['area_highschool_ratio'] = sorted_data2['area_highschool_ratio']/max( sorted_data2['area_highschool_ratio'])\n",
    "\n",
    "satırları ile basit bir normalizasyon gerçekleştirdim. Ve böylece iki data'yıda 0 ile 1 aralığına çekmiş oldum."
   ]
  },
  {
   "cell_type": "code",
   "execution_count": null,
   "id": "42c0f98b",
   "metadata": {},
   "outputs": [],
   "source": [
    "data = pd.concat([sorted_data,sorted_data2['area_highschool_ratio']],axis=1)"
   ]
  },
  {
   "cell_type": "markdown",
   "id": "869425bd",
   "metadata": {},
   "source": [
    "İki tane data olduğu için bu data'ları yan yana birleştirdim. Elde ettiğimiz data'ya bakalım."
   ]
  },
  {
   "cell_type": "code",
   "execution_count": null,
   "id": "4f8e492e",
   "metadata": {},
   "outputs": [],
   "source": [
    "data"
   ]
  },
  {
   "cell_type": "markdown",
   "id": "b4720997",
   "metadata": {},
   "source": [
    "area_list sütunu eyaletleri ifade ediyor. Ve diğer sütunlardaki değerlere dikkat ederseniz 0 ile 1 aralığındalar."
   ]
  },
  {
   "cell_type": "code",
   "execution_count": null,
   "id": "f6b07077",
   "metadata": {},
   "outputs": [],
   "source": [
    "data.sort_values('area_poverty_ratio',inplace=True)"
   ]
  },
  {
   "cell_type": "markdown",
   "id": "e7c2a82f",
   "metadata": {},
   "source": [
    "Şimdi görselleştirme yapalım."
   ]
  },
  {
   "cell_type": "code",
   "execution_count": null,
   "id": "e813fd4b",
   "metadata": {},
   "outputs": [],
   "source": [
    "# visualize\n",
    "f,ax1 = plt.subplots(figsize =(20,10))\n",
    "sns.pointplot(x='area_list',y='area_poverty_ratio',data=data,color='lime',alpha=0.8)\n",
    "sns.pointplot(x='area_list',y='area_highschool_ratio',data=data,color='red',alpha=0.8)\n",
    "plt.text(40,0.6,'high school graduate ratio',color='red',fontsize = 17,style = 'italic')\n",
    "plt.text(40,0.55,'poverty ratio',color='lime',fontsize = 18,style = 'italic')\n",
    "plt.xlabel('States',fontsize = 15,color='blue')\n",
    "plt.ylabel('Values',fontsize = 15,color='blue')\n",
    "plt.title('High School Graduate  VS  Poverty Rate',fontsize = 20,color='blue')\n",
    "plt.grid()"
   ]
  },
  {
   "cell_type": "markdown",
   "id": "df182d3f",
   "metadata": {},
   "source": [
    "f,ax1 = plt.subplots(figsize =(20,10)) satırı ile bir subplot oluşturdum ve x ekseni uzunluğunu 20, y ekseni uzunluğunu 10 şeklinde ayarladım.\n",
    "\n",
    "sns.pointplot(x='area_list',y='area_poverty_ratio',data=data,color='lime',alpha=0.8) satırında x ekseni area_list'i ve y ekseni area_poverty_ratio'yu ifade etmekte. Bu sütunları görmesi için data=data parametresini yazdım. color ile rengi ve alpha ile rengin saydamlığını ayarladım.\n",
    "\n",
    "Bir alt satır ile de liseden mezun olma oranı için aynı işlemleri gerçekleştirdim.\n",
    "\n",
    "plt.text(40,0.6,'high school graduate ratio',color='red',fontsize = 17,style = 'italic') satırı ile bu plotların üzerine string yazdım. 40 parametresi text'in x konumu ve 0.6 parametresi text'in y konumunu ifade eder. 'high school graduate ratio' parametresi text'in üzerine yazılacak ifadedir. color yazının rengini, fontsize yazının büyüklüğünü ve style yazı tipini ifade eder.\n",
    "\n",
    "plt.grid() satırı ile grafikte arka planda gördüğünüz çizgilerin varlığı sağlanmıştır."
   ]
  },
  {
   "cell_type": "markdown",
   "id": "faf17acf",
   "metadata": {},
   "source": [
    "Çıktıyı yorumlayalım. poverty ratio (yeşil çizgi) artarken, high school graduate ratio (kırmızı çizgi) yaklaşık 1 değerine yakın olarak başlamış ve 0.85 civarında sonlanmış yani hafif bir şekilde aşağı doğru eğimi var. Yani poverty ratio ve high school graduate ratio %100 olmasa da ters orantılıdır diyebiliriz. "
   ]
  }
 ],
 "metadata": {
  "kernelspec": {
   "display_name": "Python 3 (ipykernel)",
   "language": "python",
   "name": "python3"
  },
  "language_info": {
   "codemirror_mode": {
    "name": "ipython",
    "version": 3
   },
   "file_extension": ".py",
   "mimetype": "text/x-python",
   "name": "python",
   "nbconvert_exporter": "python",
   "pygments_lexer": "ipython3",
   "version": "3.9.7"
  }
 },
 "nbformat": 4,
 "nbformat_minor": 5
}
