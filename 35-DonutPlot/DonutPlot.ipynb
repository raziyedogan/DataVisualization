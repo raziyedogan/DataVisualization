{
 "cells": [
  {
   "cell_type": "markdown",
   "id": "5b8a38ab",
   "metadata": {},
   "source": [
    "# Donut Plot"
   ]
  },
  {
   "cell_type": "markdown",
   "id": "0e05ac2a",
   "metadata": {},
   "source": [
    "Donut plot, Matplotlib kütüphanesine aittir. Donut plot'un pie chart'tan farkı, ortasında bir boşluk oluşmasıdır. Kullanım amacının pie chart'tan hiçbir farkı yoktur."
   ]
  },
  {
   "cell_type": "code",
   "execution_count": 1,
   "id": "966ffed5",
   "metadata": {},
   "outputs": [],
   "source": [
    "import pandas as pd \n",
    "import matplotlib.pyplot as plt"
   ]
  },
  {
   "cell_type": "code",
   "execution_count": 2,
   "id": "e2923847",
   "metadata": {},
   "outputs": [],
   "source": [
    "data = pd.read_csv(\"Iris.csv\")\n",
    "data = data.drop(['Id'],axis=1)"
   ]
  },
  {
   "cell_type": "code",
   "execution_count": 3,
   "id": "62870a54",
   "metadata": {},
   "outputs": [
    {
     "data": {
      "text/html": [
       "<div>\n",
       "<style scoped>\n",
       "    .dataframe tbody tr th:only-of-type {\n",
       "        vertical-align: middle;\n",
       "    }\n",
       "\n",
       "    .dataframe tbody tr th {\n",
       "        vertical-align: top;\n",
       "    }\n",
       "\n",
       "    .dataframe thead th {\n",
       "        text-align: right;\n",
       "    }\n",
       "</style>\n",
       "<table border=\"1\" class=\"dataframe\">\n",
       "  <thead>\n",
       "    <tr style=\"text-align: right;\">\n",
       "      <th></th>\n",
       "      <th>SepalLengthCm</th>\n",
       "      <th>SepalWidthCm</th>\n",
       "      <th>PetalLengthCm</th>\n",
       "      <th>PetalWidthCm</th>\n",
       "      <th>Species</th>\n",
       "    </tr>\n",
       "  </thead>\n",
       "  <tbody>\n",
       "    <tr>\n",
       "      <th>0</th>\n",
       "      <td>5.1</td>\n",
       "      <td>3.5</td>\n",
       "      <td>1.4</td>\n",
       "      <td>0.2</td>\n",
       "      <td>Iris-setosa</td>\n",
       "    </tr>\n",
       "    <tr>\n",
       "      <th>1</th>\n",
       "      <td>4.9</td>\n",
       "      <td>3.0</td>\n",
       "      <td>1.4</td>\n",
       "      <td>0.2</td>\n",
       "      <td>Iris-setosa</td>\n",
       "    </tr>\n",
       "    <tr>\n",
       "      <th>2</th>\n",
       "      <td>4.7</td>\n",
       "      <td>3.2</td>\n",
       "      <td>1.3</td>\n",
       "      <td>0.2</td>\n",
       "      <td>Iris-setosa</td>\n",
       "    </tr>\n",
       "    <tr>\n",
       "      <th>3</th>\n",
       "      <td>4.6</td>\n",
       "      <td>3.1</td>\n",
       "      <td>1.5</td>\n",
       "      <td>0.2</td>\n",
       "      <td>Iris-setosa</td>\n",
       "    </tr>\n",
       "    <tr>\n",
       "      <th>4</th>\n",
       "      <td>5.0</td>\n",
       "      <td>3.6</td>\n",
       "      <td>1.4</td>\n",
       "      <td>0.2</td>\n",
       "      <td>Iris-setosa</td>\n",
       "    </tr>\n",
       "  </tbody>\n",
       "</table>\n",
       "</div>"
      ],
      "text/plain": [
       "   SepalLengthCm  SepalWidthCm  PetalLengthCm  PetalWidthCm      Species\n",
       "0            5.1           3.5            1.4           0.2  Iris-setosa\n",
       "1            4.9           3.0            1.4           0.2  Iris-setosa\n",
       "2            4.7           3.2            1.3           0.2  Iris-setosa\n",
       "3            4.6           3.1            1.5           0.2  Iris-setosa\n",
       "4            5.0           3.6            1.4           0.2  Iris-setosa"
      ]
     },
     "execution_count": 3,
     "metadata": {},
     "output_type": "execute_result"
    }
   ],
   "source": [
    "data.head()"
   ]
  },
  {
   "cell_type": "code",
   "execution_count": 4,
   "id": "39254c08",
   "metadata": {},
   "outputs": [],
   "source": [
    "sepal_length = data.iloc[:,0]\n",
    "sepal_width = data.iloc[:,1]\n",
    "petal_length = data.iloc[:,2]\n",
    "petal_width = data.iloc[:,3]"
   ]
  },
  {
   "cell_type": "code",
   "execution_count": 5,
   "id": "3d552031",
   "metadata": {},
   "outputs": [
    {
     "data": {
      "image/png": "[encoded data removed]",
      "text/plain": [
       "<Figure size 432x288 with 1 Axes>"
      ]
     },
     "metadata": {},
     "output_type": "display_data"
    }
   ],
   "source": [
    "# donut plot\n",
    "feature_names = \"sepal_length\",\"sepal_width\",\"petal_length\",\"petal_width\"\n",
    "feature_size = [len(sepal_length),len(sepal_width),len(petal_length),len(petal_width)]\n",
    "# create a circle for the center of plot\n",
    "circle = plt.Circle((0,0),0.5,color = \"white\")\n",
    "plt.pie(feature_size, labels = feature_names, colors = [\"red\",\"green\",\"blue\",\"cyan\"] )\n",
    "p = plt.gcf()\n",
    "p.gca().add_artist(circle)\n",
    "plt.title(\"Number of Each Features\")\n",
    "plt.show()"
   ]
  },
  {
   "cell_type": "markdown",
   "id": "12987fe5",
   "metadata": {},
   "source": [
    "<font color = \"DarkGoldenRod\"><br>\n",
    "circle = plt.Circle((0,0),0.5,color = \"white\")\n",
    "\n",
    "Bu satırda 0,0 koordinatlarında 0.5 yarı çapında beyaz renkte bir daire oluşturdum.\n",
    "\n",
    "<font color = \"DarkGoldenRod\"><br>\n",
    "plt.pie(feature_size, labels = feature_names, colors = [\"red\",\"green\",\"blue\",\"cyan\"] )\n",
    "\n",
    "Bu satırda matplotlib kütüphanesinin pie plot'u vardır.\n",
    "\n",
    "<font color = \"DarkGoldenRod\"><br>    \n",
    "p.gca().add_artist(circle)\n",
    "\n",
    "Bu satırda öncesinde oluşturduğum beyaz daireyi pie plot'a ekledim.\n",
    "\n",
    "<font color = \"DarkGoldenRod\"><br>    \n",
    "p = plt.gcf()\n",
    "<font color = \"DarkGoldenRod\"><br>\n",
    "p.gca().add_artist(circle)\n",
    "\n",
    "Bu iki satırı yorum satırı içerisine alın. Çıktıda gördüğünüz üzere pie chart elde ettik. Donat'ın pie chart'tan farkı, ortasındaki beyaz kısmıdır."
   ]
  }
 ],
 "metadata": {
  "kernelspec": {
   "display_name": "Python 3 (ipykernel)",
   "language": "python",
   "name": "python3"
  },
  "language_info": {
   "codemirror_mode": {
    "name": "ipython",
    "version": 3
   },
   "file_extension": ".py",
   "mimetype": "text/x-python",
   "name": "python",
   "nbconvert_exporter": "python",
   "pygments_lexer": "ipython3",
   "version": "3.9.7"
  }
 },
 "nbformat": 4,
 "nbformat_minor": 5
}
