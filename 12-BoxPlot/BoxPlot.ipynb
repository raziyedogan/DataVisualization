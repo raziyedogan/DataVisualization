{
 "cells": [
  {
   "cell_type": "markdown",
   "id": "730d643d",
   "metadata": {},
   "source": [
    "Standart olan kütüphaneleri import etme, veri setlerini çağırma ve veri setinde gerekli düzenlemeleri yapma işlemlerini gerçekleştirelim."
   ]
  },
  {
   "cell_type": "code",
   "execution_count": 1,
   "id": "91033fc5",
   "metadata": {},
   "outputs": [],
   "source": [
    "import numpy as np\n",
    "import pandas as pd\n",
    "import seaborn as sns\n",
    "import matplotlib.pyplot as plt"
   ]
  },
  {
   "cell_type": "code",
   "execution_count": 2,
   "id": "f5f52cb1",
   "metadata": {},
   "outputs": [],
   "source": [
    "median_house_hold_in_come = pd.read_csv(\"MedianHouseholdIncome2015.csv\", encoding=\"windows-1252\")\n",
    "percentage_people_below_poverty_level = pd.read_csv(\"PercentagePeopleBelowPovertyLevel.csv\", encoding=\"windows-1252\")\n",
    "percent_over_25_completed_highSchool = pd.read_csv(\"PercentOver25CompletedHighSchool.csv\", encoding=\"windows-1252\")\n",
    "share_race_city = pd.read_csv(\"ShareRaceByCity.csv\", encoding=\"windows-1252\")\n",
    "kill = pd.read_csv(\"PoliceKillingsUS.csv\", encoding=\"windows-1252\")"
   ]
  },
  {
   "cell_type": "code",
   "execution_count": 3,
   "id": "9673891a",
   "metadata": {},
   "outputs": [],
   "source": [
    "percentage_people_below_poverty_level.poverty_rate.replace(['-'],0.0,inplace = True)"
   ]
  },
  {
   "cell_type": "code",
   "execution_count": 4,
   "id": "5e143313",
   "metadata": {},
   "outputs": [],
   "source": [
    "percentage_people_below_poverty_level.poverty_rate = percentage_people_below_poverty_level.poverty_rate.astype(float)"
   ]
  },
  {
   "cell_type": "code",
   "execution_count": 5,
   "id": "35d7af6d",
   "metadata": {},
   "outputs": [],
   "source": [
    "#barPlot1 dökümanı\n",
    "area_list = list(percentage_people_below_poverty_level['Geographic Area'].unique())\n",
    "area_poverty_ratio = []\n",
    "for i in area_list:\n",
    "    x = percentage_people_below_poverty_level[percentage_people_below_poverty_level['Geographic Area']==i]\n",
    "    area_poverty_rate = sum(x.poverty_rate)/len(x)\n",
    "    area_poverty_ratio.append(area_poverty_rate)\n",
    "data = pd.DataFrame({'area_list': area_list,'area_poverty_ratio':area_poverty_ratio})\n",
    "new_index = (data['area_poverty_ratio'].sort_values(ascending=False)).index.values\n",
    "sorted_data = data.reindex(new_index)"
   ]
  },
  {
   "cell_type": "code",
   "execution_count": 6,
   "id": "04b90e51",
   "metadata": {},
   "outputs": [],
   "source": [
    "#barPlot2 dökümanı\n",
    "percent_over_25_completed_highSchool.percent_completed_hs.replace(['-'],0.0,inplace = True)\n",
    "percent_over_25_completed_highSchool.percent_completed_hs = percent_over_25_completed_highSchool.percent_completed_hs.astype(float)\n",
    "area_list = list(percent_over_25_completed_highSchool['Geographic Area'].unique())\n",
    "area_highschool = []\n",
    "for i in area_list:\n",
    "    x = percent_over_25_completed_highSchool[percent_over_25_completed_highSchool['Geographic Area']==i]\n",
    "    area_highschool_rate = sum(x.percent_completed_hs)/len(x)\n",
    "    area_highschool.append(area_highschool_rate)\n",
    "# sorting\n",
    "data = pd.DataFrame({'area_list': area_list,'area_highschool_ratio':area_highschool})\n",
    "new_index = (data['area_highschool_ratio'].sort_values(ascending=True)).index.values\n",
    "sorted_data2 = data.reindex(new_index)"
   ]
  },
  {
   "cell_type": "code",
   "execution_count": 7,
   "id": "7c893e3b",
   "metadata": {},
   "outputs": [],
   "source": [
    "sorted_data['area_poverty_ratio'] = sorted_data['area_poverty_ratio']/max( sorted_data['area_poverty_ratio'])\n",
    "sorted_data2['area_highschool_ratio'] = sorted_data2['area_highschool_ratio']/max( sorted_data2['area_highschool_ratio'])"
   ]
  },
  {
   "cell_type": "code",
   "execution_count": 8,
   "id": "461fa9ef",
   "metadata": {},
   "outputs": [],
   "source": [
    "data = pd.concat([sorted_data,sorted_data2['area_highschool_ratio']],axis=1)"
   ]
  },
  {
   "cell_type": "code",
   "execution_count": 9,
   "id": "55a87e59",
   "metadata": {},
   "outputs": [],
   "source": [
    "data.sort_values('area_poverty_ratio',inplace=True)"
   ]
  },
  {
   "cell_type": "markdown",
   "id": "e26e6504",
   "metadata": {},
   "source": [
    "manner of death, insanın öldürülme şeklini ifade eder. \n",
    "\n",
    "İki adet öldürülme şekli var: 🟢shot(ateş edilerek) 🟢 shot and Tasered (ateş edilerek ve şok tabancası ile)\n",
    "\n",
    "Aynı zamanda öldürülen insanların cinsiyetlerini (gender) gözlemlemek istiyoruz. \n",
    "\n",
    "Aynı zamanda öldürülen insanların yaşını (age) gözlemlemek istiyoruz. \n",
    "\n",
    "Bu amaçlar için box plot çok kullanışlıdır."
   ]
  },
  {
   "cell_type": "code",
   "execution_count": 10,
   "id": "b9a270bd",
   "metadata": {},
   "outputs": [
    {
     "data": {
      "image/png": "[encoded data removed]",
      "text/plain": [
       "<Figure size 432x288 with 1 Axes>"
      ]
     },
     "metadata": {
      "needs_background": "light"
     },
     "output_type": "display_data"
    }
   ],
   "source": [
    "sns.boxplot(x=\"gender\", y=\"age\", hue=\"manner_of_death\", data=kill, palette=\"PRGn\")\n",
    "plt.show()"
   ]
  },
  {
   "cell_type": "markdown",
   "id": "8bfbea73",
   "metadata": {},
   "source": [
    "Yukarıdaki kod bloğunu açıklayalım. \n",
    "\n",
    "data=kill parametresi ile data olarak kill değişkeninde tutulan veri setini kullanacağımızı belirtiyoruz. \n",
    "\n",
    "palette=\"PRGn\" parametresi ile renk ayarlanır.\n",
    "\n",
    "x=\"gender\" parametresi ile veri setindeki gender sütunundan unique değerler alınır ve bu değerler M ve F şeklindedir. Seaborn kütüphanesi x eksenini M ve F şeklinde ikiye ayırır.\n",
    "\n",
    "y=\"age\" parametresi ile yaşın sayısal değerleri y eksenine yerleştirilir.\n",
    "\n",
    "hue=\"manner_of_death\" parametresi ile manner_of_death sütunundaki unique değerler (shot ve shot and Tasered) alınır. hue, class demektir. Bir x ekseninde class'larına ayırma işlemi var birde görselleştirirken class'a ayırma işlemi var. Görselde mor kısım shot, yeşil kısım shot and Tasered'i ifade eder. "
   ]
  },
  {
   "cell_type": "markdown",
   "id": "7b6235f8",
   "metadata": {},
   "source": [
    "<font color = 'Peach'>\n",
    "    \n",
    "Çıktıyı yorumlayalım. \n",
    "\n",
    "Sol tarafta yer alan erkek (M) cinsiyetine ait figürü açıklayalım. Vurulan insanların yaşlarının medyanı(mor dörtgenin ortasındaki çizgi)(medyanı, ortalama şeklindede düşünebilirsiniz) ölüm şekli shot and Tasered olanlara göre daha azdır.\n",
    "\n",
    "Kadınlarda (sağ taraftaki figür) şok tabancası ile öldürülenlerin sayısı çok fazla değil. Yani dağılımı geniş değil gördüğünüz üzere.\n",
    "\n",
    "Kadınlarda shot ve shot and Tasered şekilleri ile öldürülenlerin yaş ortalamaları hemen hemen aynı.\n",
    "\n",
    "Mesela sağ figürün en üst kısmındaki noktalar outlier'dır. Outlier'ın ne olduğu önceki dökümanlarda mevcut. Mesela cinsiyeti erkek olan ve 80 'den büyük yaşı olan bir vatandaş vurularak öldürülmüş. Bu outlier bir durumdur. Çünkü yaş ortalaması genelde 30 civarıymış (mor figürün ortasındaki çizgiden anlıyoruz)."
   ]
  }
 ],
 "metadata": {
  "kernelspec": {
   "display_name": "Python 3 (ipykernel)",
   "language": "python",
   "name": "python3"
  },
  "language_info": {
   "codemirror_mode": {
    "name": "ipython",
    "version": 3
   },
   "file_extension": ".py",
   "mimetype": "text/x-python",
   "name": "python",
   "nbconvert_exporter": "python",
   "pygments_lexer": "ipython3",
   "version": "3.9.7"
  }
 },
 "nbformat": 4,
 "nbformat_minor": 5
}
