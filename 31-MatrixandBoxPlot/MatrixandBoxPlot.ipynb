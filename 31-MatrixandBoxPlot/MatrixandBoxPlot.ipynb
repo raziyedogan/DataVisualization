{
 "cells": [
  {
   "cell_type": "markdown",
   "id": "01a7a864",
   "metadata": {},
   "source": [
    "# NADİR KULLANILAN GÖRSELLEŞTİRME ARAÇLARI"
   ]
  },
  {
   "cell_type": "markdown",
   "id": "2dde5902",
   "metadata": {},
   "source": [
    "<font color = \"Olive\"><br>\n",
    "Amaçlarımızı doğru bir şekilde uyarlayabildiğimiz görselleştirme aracını tespit edebilmemiz önemlidir. Yaygın kullanılan görselleştirme araçları isteklerimizi karşılayamayabilir. Dolayısıyla diğer görselleştirme araçlarını da öğrenmemizde fayda var.\n",
    "    \n",
    "Öğreneceğimiz görselleştirme araçları şu şekildedir:\n",
    "\n",
    "    🟡Matrix and Box Plots (Missingno)\n",
    "\n",
    "    🟡Parallel Plots (Pandas)\n",
    "\n",
    "    🟡Network Charts (Networkx)\n",
    "\n",
    "    🟡Venn (Matplotlib)\n",
    "\n",
    "    🟡Donut (Matplotlib)\n",
    "\n",
    "    🟡Spider Chart (Matplotlib)\n",
    "\n",
    "    🟡Cluster Map (Seaborn)\n",
    "\n",
    "    🟡Inset Plots (Plotly)\n",
    "\n",
    "    🟡Basic 3D Scatter Plot (Plotly)"
   ]
  },
  {
   "cell_type": "markdown",
   "id": "388d67f8",
   "metadata": {},
   "source": [
    "# Matrix and Box Plots (Missingno)"
   ]
  },
  {
   "cell_type": "markdown",
   "id": "284be677",
   "metadata": {},
   "source": [
    "Data'lar genelde kirli olurlar ve içerisinde missing value'ler bulunur. Bu missing value'leri ayırt etmemiz ve temizlememiz gerekir. info() metodu ile veri seti içeriğine göz atabilmemiz mümkün. Ama görselleştirme anlaşılabilirlik ve etkileyicilik açısından daha kullanışlıdır. \n",
    "\n",
    "Missing value'leri (Nan value veya boş değer gibi) görselleştirebiliyorsak anlaşılabilirlik açısından daha verimli olur. Bunu görselleştirebilmek için missingno kütüphanesinden faydalanabiliriz."
   ]
  },
  {
   "cell_type": "markdown",
   "id": "22b80bf5",
   "metadata": {},
   "source": [
    "Öncelikle kütüphaneleri import edelim."
   ]
  },
  {
   "cell_type": "code",
   "execution_count": 3,
   "id": "cdadbd68",
   "metadata": {},
   "outputs": [
    {
     "name": "stdout",
     "output_type": "stream",
     "text": [
      "Requirement already satisfied: chart_studio in c:\\users\\raziy\\anaconda3\\lib\\site-packages (1.1.0)\n",
      "Requirement already satisfied: retrying>=1.3.3 in c:\\users\\raziy\\anaconda3\\lib\\site-packages (from chart_studio) (1.3.3)\n",
      "Requirement already satisfied: six in c:\\users\\raziy\\anaconda3\\lib\\site-packages (from chart_studio) (1.16.0)\n",
      "Requirement already satisfied: plotly in c:\\users\\raziy\\anaconda3\\lib\\site-packages (from chart_studio) (5.8.2)\n",
      "Requirement already satisfied: requests in c:\\users\\raziy\\anaconda3\\lib\\site-packages (from chart_studio) (2.26.0)\n",
      "Requirement already satisfied: tenacity>=6.2.0 in c:\\users\\raziy\\anaconda3\\lib\\site-packages (from plotly->chart_studio) (8.0.1)\n",
      "Requirement already satisfied: idna<4,>=2.5 in c:\\users\\raziy\\anaconda3\\lib\\site-packages (from requests->chart_studio) (3.2)\n",
      "Requirement already satisfied: charset-normalizer~=2.0.0 in c:\\users\\raziy\\anaconda3\\lib\\site-packages (from requests->chart_studio) (2.0.4)\n",
      "Requirement already satisfied: certifi>=2017.4.17 in c:\\users\\raziy\\anaconda3\\lib\\site-packages (from requests->chart_studio) (2021.10.8)\n",
      "Requirement already satisfied: urllib3<1.27,>=1.21.1 in c:\\users\\raziy\\anaconda3\\lib\\site-packages (from requests->chart_studio) (1.26.7)\n",
      "Note: you may need to restart the kernel to use updated packages.\n"
     ]
    }
   ],
   "source": [
    "pip install chart_studio"
   ]
  },
  {
   "cell_type": "code",
   "execution_count": 4,
   "id": "204461fb",
   "metadata": {},
   "outputs": [
    {
     "name": "stdout",
     "output_type": "stream",
     "text": [
      "Requirement already satisfied: plotly in c:\\users\\raziy\\anaconda3\\lib\\site-packages (5.8.2)\n",
      "Requirement already satisfied: tenacity>=6.2.0 in c:\\users\\raziy\\anaconda3\\lib\\site-packages (from plotly) (8.0.1)\n",
      "Note: you may need to restart the kernel to use updated packages.\n"
     ]
    }
   ],
   "source": [
    "pip install plotly --upgrade"
   ]
  },
  {
   "cell_type": "code",
   "execution_count": 6,
   "id": "9924bd29",
   "metadata": {},
   "outputs": [
    {
     "name": "stdout",
     "output_type": "stream",
     "text": [
      "Collecting matplotlib-venn\n",
      "  Downloading matplotlib-venn-0.11.7.tar.gz (29 kB)\n",
      "Requirement already satisfied: matplotlib in c:\\users\\raziy\\anaconda3\\lib\\site-packages (from matplotlib-venn) (3.4.3)\n",
      "Requirement already satisfied: numpy in c:\\users\\raziy\\anaconda3\\lib\\site-packages (from matplotlib-venn) (1.20.3)\n",
      "Requirement already satisfied: scipy in c:\\users\\raziy\\anaconda3\\lib\\site-packages (from matplotlib-venn) (1.7.1)\n",
      "Requirement already satisfied: kiwisolver>=1.0.1 in c:\\users\\raziy\\anaconda3\\lib\\site-packages (from matplotlib->matplotlib-venn) (1.3.1)\n",
      "Requirement already satisfied: python-dateutil>=2.7 in c:\\users\\raziy\\anaconda3\\lib\\site-packages (from matplotlib->matplotlib-venn) (2.8.2)\n",
      "Requirement already satisfied: cycler>=0.10 in c:\\users\\raziy\\anaconda3\\lib\\site-packages (from matplotlib->matplotlib-venn) (0.10.0)\n",
      "Requirement already satisfied: pyparsing>=2.2.1 in c:\\users\\raziy\\anaconda3\\lib\\site-packages (from matplotlib->matplotlib-venn) (3.0.4)\n",
      "Requirement already satisfied: pillow>=6.2.0 in c:\\users\\raziy\\anaconda3\\lib\\site-packages (from matplotlib->matplotlib-venn) (8.4.0)\n",
      "Requirement already satisfied: six in c:\\users\\raziy\\anaconda3\\lib\\site-packages (from cycler>=0.10->matplotlib->matplotlib-venn) (1.16.0)\n",
      "Building wheels for collected packages: matplotlib-venn\n",
      "  Building wheel for matplotlib-venn (setup.py): started\n",
      "  Building wheel for matplotlib-venn (setup.py): finished with status 'done'\n",
      "  Created wheel for matplotlib-venn: filename=matplotlib_venn-0.11.7-py3-none-any.whl size=32154 sha256=92b688e4c97eecd51250760e28e11f9a94940bbabb2d17e17dad348f35370253\n",
      "  Stored in directory: c:\\users\\raziy\\appdata\\local\\pip\\cache\\wheels\\32\\41\\5f\\d0f29cd092d042d8e8a87d7bbe42193166aa555ff38b377343\n",
      "Successfully built matplotlib-venn\n",
      "Installing collected packages: matplotlib-venn\n",
      "Successfully installed matplotlib-venn-0.11.7\n"
     ]
    }
   ],
   "source": [
    "!pip install matplotlib-venn"
   ]
  },
  {
   "cell_type": "code",
   "execution_count": 9,
   "id": "7286caa3",
   "metadata": {},
   "outputs": [],
   "source": [
    "import numpy as np # linear algebra\n",
    "import pandas as pd # data processing, CSV file I/O (e.g. pd.read_csv)\n",
    "import matplotlib.pyplot as plt\n",
    "import seaborn as sns\n",
    "import chart_studio.plotly as py\n",
    "import plotly.graph_objs as go\n",
    "import matplotlib_venn as venn\n",
    "from math import pi\n",
    "from pandas.plotting import parallel_coordinates"
   ]
  },
  {
   "cell_type": "markdown",
   "id": "9ddfc835",
   "metadata": {},
   "source": [
    "Bir data frame oluşturmak için önce dictionary oluştururuz. Şimdi bir data frame oluşturalım:"
   ]
  },
  {
   "cell_type": "code",
   "execution_count": 10,
   "id": "0a15bd55",
   "metadata": {},
   "outputs": [],
   "source": [
    "dictionary = {\"column1\":[1,2,3,4,5,6,7,8,9,10,11,12,13,14,15,16,17,18,19,20],\n",
    "              \"column2\":[1,2,3,4,np.nan,6,7,8,np.nan,10,np.nan,12,13,14,15,16,np.nan,18,np.nan,20],\n",
    "              \"column3\":[1,2,3,4,np.nan,6,7,8,9,10,11,12,13,np.nan,15,16,17,18,np.nan,20]}"
   ]
  },
  {
   "cell_type": "markdown",
   "id": "f959a617",
   "metadata": {},
   "source": [
    "data frame içerisine np.nan şeklinde nan value'ler ekledim."
   ]
  },
  {
   "cell_type": "code",
   "execution_count": 12,
   "id": "d6a8d92a",
   "metadata": {},
   "outputs": [
    {
     "data": {
      "text/html": [
       "<div>\n",
       "<style scoped>\n",
       "    .dataframe tbody tr th:only-of-type {\n",
       "        vertical-align: middle;\n",
       "    }\n",
       "\n",
       "    .dataframe tbody tr th {\n",
       "        vertical-align: top;\n",
       "    }\n",
       "\n",
       "    .dataframe thead th {\n",
       "        text-align: right;\n",
       "    }\n",
       "</style>\n",
       "<table border=\"1\" class=\"dataframe\">\n",
       "  <thead>\n",
       "    <tr style=\"text-align: right;\">\n",
       "      <th></th>\n",
       "      <th>column1</th>\n",
       "      <th>column2</th>\n",
       "      <th>column3</th>\n",
       "    </tr>\n",
       "  </thead>\n",
       "  <tbody>\n",
       "    <tr>\n",
       "      <th>0</th>\n",
       "      <td>1</td>\n",
       "      <td>1.0</td>\n",
       "      <td>1.0</td>\n",
       "    </tr>\n",
       "    <tr>\n",
       "      <th>1</th>\n",
       "      <td>2</td>\n",
       "      <td>2.0</td>\n",
       "      <td>2.0</td>\n",
       "    </tr>\n",
       "    <tr>\n",
       "      <th>2</th>\n",
       "      <td>3</td>\n",
       "      <td>3.0</td>\n",
       "      <td>3.0</td>\n",
       "    </tr>\n",
       "    <tr>\n",
       "      <th>3</th>\n",
       "      <td>4</td>\n",
       "      <td>4.0</td>\n",
       "      <td>4.0</td>\n",
       "    </tr>\n",
       "    <tr>\n",
       "      <th>4</th>\n",
       "      <td>5</td>\n",
       "      <td>NaN</td>\n",
       "      <td>NaN</td>\n",
       "    </tr>\n",
       "    <tr>\n",
       "      <th>5</th>\n",
       "      <td>6</td>\n",
       "      <td>6.0</td>\n",
       "      <td>6.0</td>\n",
       "    </tr>\n",
       "    <tr>\n",
       "      <th>6</th>\n",
       "      <td>7</td>\n",
       "      <td>7.0</td>\n",
       "      <td>7.0</td>\n",
       "    </tr>\n",
       "    <tr>\n",
       "      <th>7</th>\n",
       "      <td>8</td>\n",
       "      <td>8.0</td>\n",
       "      <td>8.0</td>\n",
       "    </tr>\n",
       "    <tr>\n",
       "      <th>8</th>\n",
       "      <td>9</td>\n",
       "      <td>NaN</td>\n",
       "      <td>9.0</td>\n",
       "    </tr>\n",
       "    <tr>\n",
       "      <th>9</th>\n",
       "      <td>10</td>\n",
       "      <td>10.0</td>\n",
       "      <td>10.0</td>\n",
       "    </tr>\n",
       "    <tr>\n",
       "      <th>10</th>\n",
       "      <td>11</td>\n",
       "      <td>NaN</td>\n",
       "      <td>11.0</td>\n",
       "    </tr>\n",
       "    <tr>\n",
       "      <th>11</th>\n",
       "      <td>12</td>\n",
       "      <td>12.0</td>\n",
       "      <td>12.0</td>\n",
       "    </tr>\n",
       "    <tr>\n",
       "      <th>12</th>\n",
       "      <td>13</td>\n",
       "      <td>13.0</td>\n",
       "      <td>13.0</td>\n",
       "    </tr>\n",
       "    <tr>\n",
       "      <th>13</th>\n",
       "      <td>14</td>\n",
       "      <td>14.0</td>\n",
       "      <td>NaN</td>\n",
       "    </tr>\n",
       "    <tr>\n",
       "      <th>14</th>\n",
       "      <td>15</td>\n",
       "      <td>15.0</td>\n",
       "      <td>15.0</td>\n",
       "    </tr>\n",
       "    <tr>\n",
       "      <th>15</th>\n",
       "      <td>16</td>\n",
       "      <td>16.0</td>\n",
       "      <td>16.0</td>\n",
       "    </tr>\n",
       "    <tr>\n",
       "      <th>16</th>\n",
       "      <td>17</td>\n",
       "      <td>NaN</td>\n",
       "      <td>17.0</td>\n",
       "    </tr>\n",
       "    <tr>\n",
       "      <th>17</th>\n",
       "      <td>18</td>\n",
       "      <td>18.0</td>\n",
       "      <td>18.0</td>\n",
       "    </tr>\n",
       "    <tr>\n",
       "      <th>18</th>\n",
       "      <td>19</td>\n",
       "      <td>NaN</td>\n",
       "      <td>NaN</td>\n",
       "    </tr>\n",
       "    <tr>\n",
       "      <th>19</th>\n",
       "      <td>20</td>\n",
       "      <td>20.0</td>\n",
       "      <td>20.0</td>\n",
       "    </tr>\n",
       "  </tbody>\n",
       "</table>\n",
       "</div>"
      ],
      "text/plain": [
       "    column1  column2  column3\n",
       "0         1      1.0      1.0\n",
       "1         2      2.0      2.0\n",
       "2         3      3.0      3.0\n",
       "3         4      4.0      4.0\n",
       "4         5      NaN      NaN\n",
       "5         6      6.0      6.0\n",
       "6         7      7.0      7.0\n",
       "7         8      8.0      8.0\n",
       "8         9      NaN      9.0\n",
       "9        10     10.0     10.0\n",
       "10       11      NaN     11.0\n",
       "11       12     12.0     12.0\n",
       "12       13     13.0     13.0\n",
       "13       14     14.0      NaN\n",
       "14       15     15.0     15.0\n",
       "15       16     16.0     16.0\n",
       "16       17      NaN     17.0\n",
       "17       18     18.0     18.0\n",
       "18       19      NaN      NaN\n",
       "19       20     20.0     20.0"
      ]
     },
     "execution_count": 12,
     "metadata": {},
     "output_type": "execute_result"
    }
   ],
   "source": [
    "data_missingno = pd.DataFrame(dictionary)\n",
    "data_missingno"
   ]
  },
  {
   "cell_type": "markdown",
   "id": "6be5047c",
   "metadata": {},
   "source": [
    "Çıktıda gördüğünüz üzere column1, column2 ve column3 isimli featureler var ve NaN değerler mevcut. Bunları görselleştirelim."
   ]
  },
  {
   "cell_type": "code",
   "execution_count": 14,
   "id": "49692bed",
   "metadata": {},
   "outputs": [
    {
     "name": "stdout",
     "output_type": "stream",
     "text": [
      "Collecting package metadata (current_repodata.json): ...working... done\n",
      "Note: you may need to restart the kernel to use updated packages.\n",
      "\n",
      "Solving environment: ...working... done\n",
      "\n",
      "## Package Plan ##\n",
      "\n",
      "  environment location: C:\\Users\\raziy\\anaconda3\n",
      "\n",
      "  added / updated specs:\n",
      "    - missingno\n",
      "\n",
      "\n",
      "The following packages will be downloaded:\n",
      "\n",
      "    package                    |            build\n",
      "    ---------------------------|-----------------\n",
      "    missingno-0.4.1            |             py_0          10 KB  conda-forge/label/gcc7\n",
      "    ------------------------------------------------------------\n",
      "                                           Total:          10 KB\n",
      "\n",
      "The following NEW packages will be INSTALLED:\n",
      "\n",
      "  missingno          conda-forge/label/gcc7/noarch::missingno-0.4.1-py_0\n",
      "\n",
      "\n",
      "\n",
      "Downloading and Extracting Packages\n",
      "\n",
      "missingno-0.4.1      | 10 KB     |            |   0% \n",
      "missingno-0.4.1      | 10 KB     | ########## | 100% \n",
      "missingno-0.4.1      | 10 KB     | ########## | 100% \n",
      "Preparing transaction: ...working... done\n",
      "Verifying transaction: ...working... done\n",
      "Executing transaction: ...working... done\n"
     ]
    }
   ],
   "source": [
    "conda install -c conda-forge/label/gcc7 missingno"
   ]
  },
  {
   "cell_type": "code",
   "execution_count": 15,
   "id": "a19a4308",
   "metadata": {},
   "outputs": [
    {
     "data": {
      "image/png": "[encoded data removed]",
      "text/plain": [
       "<Figure size 1800x720 with 2 Axes>"
      ]
     },
     "metadata": {
      "needs_background": "light"
     },
     "output_type": "display_data"
    }
   ],
   "source": [
    "import missingno as msno\n",
    "msno.matrix(data_missingno)\n",
    "plt.show()"
   ]
  },
  {
   "cell_type": "markdown",
   "id": "3be800c1",
   "metadata": {},
   "source": [
    "Çıktıyı yorumlayalım.\n",
    "\n",
    "Eğer data frame'de o anki sample'deki değer NaN değil de normal bir değer ise siyah bar olarak görüntülenir. Eğer NaN value ise beyaz bar olarak görüntülenir.\n",
    "\n",
    "Çıktıda column1'in tamamı siyah ve data frame'e baktığımızda column1'de hiç NaN değer olmadığını görüyoruz.\n",
    "\n",
    "column2 için 5 tane beyaz bar var ve data frame'de 5 tane NaN değer var.\n",
    "\n",
    "column3 için 3 tane beyaz bar var ve data frame'de 3 tane NaN değer var.\n",
    "\n",
    "Sağ taraftaki çizgi, bir satırda kaç tane dolu olduğunu yani NaN olmadığını gösterir. 3 hizzasına baktığımızda, o hizzada 3 tane değer var ve bu 3 değer NaN değil. 1 yazan yere baktığımızda, 3 tane değer var (column1, column2 ve column3) ve 1 tanesi NaN değil, diğer 2 tanesi NaN.\n",
    "\n",
    "Siyah barlar gerçek value, beyaz barlar NaN value'dir.\n",
    "\n",
    "Böylelikle data frame içerisindeki NaN value'leri görselleştirmiş olduk."
   ]
  },
  {
   "cell_type": "markdown",
   "id": "fe7d99b2",
   "metadata": {},
   "source": [
    "NaN value'leri görselleştirmek için yukarıda kullandığımız matrix plot yerine bar plot'da kullanabiliriz."
   ]
  },
  {
   "cell_type": "code",
   "execution_count": 16,
   "id": "84cf6baf",
   "metadata": {},
   "outputs": [
    {
     "data": {
      "image/png": "[encoded data removed]",
      "text/plain": [
       "<Figure size 1728x720 with 3 Axes>"
      ]
     },
     "metadata": {
      "needs_background": "light"
     },
     "output_type": "display_data"
    }
   ],
   "source": [
    "# missingno bar plot\n",
    "msno.bar(data_missingno)\n",
    "plt.show()"
   ]
  },
  {
   "cell_type": "markdown",
   "id": "2d9d907a",
   "metadata": {},
   "source": [
    "Çıktıyı yorumlayalım. \n",
    "\n",
    "column1'i ifade eden bar'a bakınız. Üstünde 20 tane değer olduğunu belirtiyor. Bar'ın hizzasında 1.0 var ve bunun anlamı, %100 dolu, boş değer yoktur.\n",
    "\n",
    "column2 'de 15 tane dolu değer vardır. En sağda toplam 20 değer (sample) olduğunu görebiliyoruz ve bu durumda 5 tane boş değer vardır. 5 tane boş değer, 20'de 5 yani %75'e karşılık gelir. %75 doludur.\n",
    "\n",
    "column3'e baktığımızda, 20 tane sayı olması lazım fakat 17 tane mevcut dolayısıyla 3 tanesi NaN değerdir."
   ]
  }
 ],
 "metadata": {
  "kernelspec": {
   "display_name": "Python 3 (ipykernel)",
   "language": "python",
   "name": "python3"
  },
  "language_info": {
   "codemirror_mode": {
    "name": "ipython",
    "version": 3
   },
   "file_extension": ".py",
   "mimetype": "text/x-python",
   "name": "python",
   "nbconvert_exporter": "python",
   "pygments_lexer": "ipython3",
   "version": "3.9.7"
  }
 },
 "nbformat": 4,
 "nbformat_minor": 5
}
