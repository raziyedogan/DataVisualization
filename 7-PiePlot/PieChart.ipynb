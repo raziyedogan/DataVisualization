{
 "cells": [
  {
   "cell_type": "markdown",
   "id": "ee60cda7",
   "metadata": {},
   "source": [
    "Standart olan kütüphaneleri import etme, veri setlerini çağırma ve gerekli düzenlemeleri yapma işlemlerini gerçekleştirelim."
   ]
  },
  {
   "cell_type": "code",
   "execution_count": 1,
   "id": "9b0356a1",
   "metadata": {},
   "outputs": [],
   "source": [
    "import numpy as np\n",
    "import pandas as pd\n",
    "import seaborn as sns\n",
    "import matplotlib.pyplot as plt"
   ]
  },
  {
   "cell_type": "code",
   "execution_count": 2,
   "id": "1a004a72",
   "metadata": {},
   "outputs": [],
   "source": [
    "median_house_hold_in_come = pd.read_csv(\"MedianHouseholdIncome2015.csv\", encoding=\"windows-1252\")\n",
    "percentage_people_below_poverty_level = pd.read_csv(\"PercentagePeopleBelowPovertyLevel.csv\", encoding=\"windows-1252\")\n",
    "percent_over_25_completed_highSchool = pd.read_csv(\"PercentOver25CompletedHighSchool.csv\", encoding=\"windows-1252\")\n",
    "share_race_city = pd.read_csv(\"ShareRaceByCity.csv\", encoding=\"windows-1252\")\n",
    "kill = pd.read_csv(\"PoliceKillingsUS.csv\", encoding=\"windows-1252\")"
   ]
  },
  {
   "cell_type": "code",
   "execution_count": 3,
   "id": "b2d39559",
   "metadata": {},
   "outputs": [],
   "source": [
    "percentage_people_below_poverty_level.poverty_rate.replace(['-'],0.0,inplace = True)"
   ]
  },
  {
   "cell_type": "code",
   "execution_count": 4,
   "id": "96d65cb1",
   "metadata": {},
   "outputs": [],
   "source": [
    "percentage_people_below_poverty_level.poverty_rate = percentage_people_below_poverty_level.poverty_rate.astype(float)"
   ]
  },
  {
   "cell_type": "markdown",
   "id": "20934013",
   "metadata": {},
   "source": [
    "Öldürülen insanların ırklarının oranını problemini ele alalım. Bu amaç için kill değişkeninde tutulan veri setini kullanmalıyız. Veri setine bir göz atalım."
   ]
  },
  {
   "cell_type": "code",
   "execution_count": 5,
   "id": "25e9d8a4",
   "metadata": {},
   "outputs": [
    {
     "data": {
      "text/html": [
       "<div>\n",
       "<style scoped>\n",
       "    .dataframe tbody tr th:only-of-type {\n",
       "        vertical-align: middle;\n",
       "    }\n",
       "\n",
       "    .dataframe tbody tr th {\n",
       "        vertical-align: top;\n",
       "    }\n",
       "\n",
       "    .dataframe thead th {\n",
       "        text-align: right;\n",
       "    }\n",
       "</style>\n",
       "<table border=\"1\" class=\"dataframe\">\n",
       "  <thead>\n",
       "    <tr style=\"text-align: right;\">\n",
       "      <th></th>\n",
       "      <th>id</th>\n",
       "      <th>name</th>\n",
       "      <th>date</th>\n",
       "      <th>manner_of_death</th>\n",
       "      <th>armed</th>\n",
       "      <th>age</th>\n",
       "      <th>gender</th>\n",
       "      <th>race</th>\n",
       "      <th>city</th>\n",
       "      <th>state</th>\n",
       "      <th>signs_of_mental_illness</th>\n",
       "      <th>threat_level</th>\n",
       "      <th>flee</th>\n",
       "      <th>body_camera</th>\n",
       "    </tr>\n",
       "  </thead>\n",
       "  <tbody>\n",
       "    <tr>\n",
       "      <th>0</th>\n",
       "      <td>3</td>\n",
       "      <td>Tim Elliot</td>\n",
       "      <td>02/01/15</td>\n",
       "      <td>shot</td>\n",
       "      <td>gun</td>\n",
       "      <td>53.0</td>\n",
       "      <td>M</td>\n",
       "      <td>A</td>\n",
       "      <td>Shelton</td>\n",
       "      <td>WA</td>\n",
       "      <td>True</td>\n",
       "      <td>attack</td>\n",
       "      <td>Not fleeing</td>\n",
       "      <td>False</td>\n",
       "    </tr>\n",
       "    <tr>\n",
       "      <th>1</th>\n",
       "      <td>4</td>\n",
       "      <td>Lewis Lee Lembke</td>\n",
       "      <td>02/01/15</td>\n",
       "      <td>shot</td>\n",
       "      <td>gun</td>\n",
       "      <td>47.0</td>\n",
       "      <td>M</td>\n",
       "      <td>W</td>\n",
       "      <td>Aloha</td>\n",
       "      <td>OR</td>\n",
       "      <td>False</td>\n",
       "      <td>attack</td>\n",
       "      <td>Not fleeing</td>\n",
       "      <td>False</td>\n",
       "    </tr>\n",
       "    <tr>\n",
       "      <th>2</th>\n",
       "      <td>5</td>\n",
       "      <td>John Paul Quintero</td>\n",
       "      <td>03/01/15</td>\n",
       "      <td>shot and Tasered</td>\n",
       "      <td>unarmed</td>\n",
       "      <td>23.0</td>\n",
       "      <td>M</td>\n",
       "      <td>H</td>\n",
       "      <td>Wichita</td>\n",
       "      <td>KS</td>\n",
       "      <td>False</td>\n",
       "      <td>other</td>\n",
       "      <td>Not fleeing</td>\n",
       "      <td>False</td>\n",
       "    </tr>\n",
       "    <tr>\n",
       "      <th>3</th>\n",
       "      <td>8</td>\n",
       "      <td>Matthew Hoffman</td>\n",
       "      <td>04/01/15</td>\n",
       "      <td>shot</td>\n",
       "      <td>toy weapon</td>\n",
       "      <td>32.0</td>\n",
       "      <td>M</td>\n",
       "      <td>W</td>\n",
       "      <td>San Francisco</td>\n",
       "      <td>CA</td>\n",
       "      <td>True</td>\n",
       "      <td>attack</td>\n",
       "      <td>Not fleeing</td>\n",
       "      <td>False</td>\n",
       "    </tr>\n",
       "    <tr>\n",
       "      <th>4</th>\n",
       "      <td>9</td>\n",
       "      <td>Michael Rodriguez</td>\n",
       "      <td>04/01/15</td>\n",
       "      <td>shot</td>\n",
       "      <td>nail gun</td>\n",
       "      <td>39.0</td>\n",
       "      <td>M</td>\n",
       "      <td>H</td>\n",
       "      <td>Evans</td>\n",
       "      <td>CO</td>\n",
       "      <td>False</td>\n",
       "      <td>attack</td>\n",
       "      <td>Not fleeing</td>\n",
       "      <td>False</td>\n",
       "    </tr>\n",
       "  </tbody>\n",
       "</table>\n",
       "</div>"
      ],
      "text/plain": [
       "   id                name      date   manner_of_death       armed   age  \\\n",
       "0   3          Tim Elliot  02/01/15              shot         gun  53.0   \n",
       "1   4    Lewis Lee Lembke  02/01/15              shot         gun  47.0   \n",
       "2   5  John Paul Quintero  03/01/15  shot and Tasered     unarmed  23.0   \n",
       "3   8     Matthew Hoffman  04/01/15              shot  toy weapon  32.0   \n",
       "4   9   Michael Rodriguez  04/01/15              shot    nail gun  39.0   \n",
       "\n",
       "  gender race           city state  signs_of_mental_illness threat_level  \\\n",
       "0      M    A        Shelton    WA                     True       attack   \n",
       "1      M    W          Aloha    OR                    False       attack   \n",
       "2      M    H        Wichita    KS                    False        other   \n",
       "3      M    W  San Francisco    CA                     True       attack   \n",
       "4      M    H          Evans    CO                    False       attack   \n",
       "\n",
       "          flee  body_camera  \n",
       "0  Not fleeing        False  \n",
       "1  Not fleeing        False  \n",
       "2  Not fleeing        False  \n",
       "3  Not fleeing        False  \n",
       "4  Not fleeing        False  "
      ]
     },
     "execution_count": 5,
     "metadata": {},
     "output_type": "execute_result"
    }
   ],
   "source": [
    "kill.head()"
   ]
  },
  {
   "cell_type": "markdown",
   "id": "2a0acc11",
   "metadata": {},
   "source": [
    "Burada öldürülen insanların ırkına dair bilgileri tutan race sütunu ile ilgileneceğiz."
   ]
  },
  {
   "cell_type": "code",
   "execution_count": 6,
   "id": "baad145f",
   "metadata": {},
   "outputs": [
    {
     "data": {
      "text/plain": [
       "0     A\n",
       "1     W\n",
       "2     H\n",
       "3     W\n",
       "4     H\n",
       "5     W\n",
       "6     H\n",
       "7     W\n",
       "8     W\n",
       "9     B\n",
       "10    W\n",
       "11    B\n",
       "12    B\n",
       "13    W\n",
       "14    B\n",
       "Name: race, dtype: object"
      ]
     },
     "execution_count": 6,
     "metadata": {},
     "output_type": "execute_result"
    }
   ],
   "source": [
    "kill.race.head(15)"
   ]
  },
  {
   "cell_type": "markdown",
   "id": "d054f7d4",
   "metadata": {},
   "source": [
    "Veri setinde race sütununun ilk 15 satırı yukarıda gördüğümüz şekildedir."
   ]
  },
  {
   "cell_type": "code",
   "execution_count": 7,
   "id": "2e5d0c69",
   "metadata": {},
   "outputs": [],
   "source": [
    "kill.race.dropna(inplace = True)"
   ]
  },
  {
   "cell_type": "markdown",
   "id": "9fce9b09",
   "metadata": {},
   "source": [
    "Yukarıdaki satır ile race sütununda NaN yazan ya da boş bırakılan kısımları data'dan çıkardım. Ve inplace=True parametresi ile yaptığım çıkarma işlemini kalıcılaştırdım."
   ]
  },
  {
   "cell_type": "code",
   "execution_count": 8,
   "id": "453eda22",
   "metadata": {},
   "outputs": [
    {
     "data": {
      "text/plain": [
       "W    1201\n",
       "B     618\n",
       "H     423\n",
       "A      39\n",
       "N      31\n",
       "O      28\n",
       "Name: race, dtype: int64"
      ]
     },
     "execution_count": 8,
     "metadata": {},
     "output_type": "execute_result"
    }
   ],
   "source": [
    "kill.race.value_counts()"
   ]
  },
  {
   "cell_type": "markdown",
   "id": "9f6ff925",
   "metadata": {},
   "source": [
    "Yukarıdaki satır ile hangi ırktan kaç tane olduğu bilgisine erişebiliriz. Çıktıda her bir ırktan kaç adet bulunduğunu görüyoruz.\n",
    "\n",
    "O ifadesi W,B,H,A,N ırkları dışındaki ırkları ifade eder."
   ]
  },
  {
   "cell_type": "code",
   "execution_count": 9,
   "id": "5aab612e",
   "metadata": {},
   "outputs": [],
   "source": [
    "labels = kill.race.value_counts().index"
   ]
  },
  {
   "cell_type": "markdown",
   "id": "ec06939d",
   "metadata": {},
   "source": [
    "Irkların indekslerini alıp labels değişkenine atadım. İndeksleri W,B,H,A,N,O 'dur."
   ]
  },
  {
   "cell_type": "code",
   "execution_count": 10,
   "id": "3468b95f",
   "metadata": {},
   "outputs": [],
   "source": [
    "colors = ['grey','blue','red','yellow','green','brown']"
   ]
  },
  {
   "cell_type": "markdown",
   "id": "b2e92eee",
   "metadata": {},
   "source": [
    "6 farklı ırk olduğu için burada 6 farklı renk belirledim. Bunlar Pie Chart'ın renkleridir."
   ]
  },
  {
   "cell_type": "code",
   "execution_count": 11,
   "id": "d9cdb5f3",
   "metadata": {},
   "outputs": [],
   "source": [
    "explode = [0,0,0,0,0,0]"
   ]
  },
  {
   "cell_type": "markdown",
   "id": "7e3524da",
   "metadata": {},
   "source": [
    "Yukarıda tanımladığım explode isimli listede pie chart'ların oranını depolucam. "
   ]
  },
  {
   "cell_type": "code",
   "execution_count": 12,
   "id": "b5c0b8a9",
   "metadata": {},
   "outputs": [],
   "source": [
    "sizes = kill.race.value_counts().values"
   ]
  },
  {
   "cell_type": "markdown",
   "id": "87339a76",
   "metadata": {},
   "source": [
    "Yukarıdaki satır ile her bir ırktan kaç adet olduğunu buldum ve kaç adet var ise bu değerleri aldım."
   ]
  },
  {
   "cell_type": "code",
   "execution_count": 13,
   "id": "7363fa31",
   "metadata": {},
   "outputs": [
    {
     "data": {
      "text/plain": [
       "Text(0.5, 1.0, 'Killed People According to Races')"
      ]
     },
     "execution_count": 13,
     "metadata": {},
     "output_type": "execute_result"
    },
    {
     "data": {
      "image/png": "[encoded data removed]",
      "text/plain": [
       "<Figure size 504x504 with 1 Axes>"
      ]
     },
     "metadata": {},
     "output_type": "display_data"
    }
   ],
   "source": [
    "plt.figure(figsize = (7,7))\n",
    "plt.pie(sizes, explode=explode, labels=labels, colors=colors, autopct='%1.1f%%')\n",
    "plt.title('Killed People According to Races',color = 'blue',fontsize = 15)"
   ]
  },
  {
   "cell_type": "markdown",
   "id": "673f79a3",
   "metadata": {},
   "source": [
    "Yukarıdaki kod bloğu ile görselleştirme yaptım. x ekseni 7 ve y ekseni 7 boyutunda figüre oluşturdum. \n",
    "\n",
    "<font color = 'Red'><br>\n",
    "! Pie plot seaborn kütüphanesinin değil matplotlib'in görselleştirme plotudur.\n",
    "    \n",
    "    \n",
    "<font color = 'Black'>    \n",
    "plt.pie(sizes, explode=explode, labels=labels, colors=colors, autopct='%1.1f%%') satırında ilk parametrede ırkların adet bilgilerini tutan sizes değişkeni bulunmakta. 2.parametrede oluşturduğum liste bulunmakta. 3.parametrede W,B gibi ırk isimlerinin tutulduğu labels değişkeni bulunmakta. autopct='%1.1f%%' parametresi ile de ondalıklı kısmın kaç hane olacağı bilgisi belirtilmiştir."
   ]
  },
  {
   "cell_type": "markdown",
   "id": "ef95c4f4",
   "metadata": {},
   "source": [
    "Çıktıyı yorumlayalım. Öldürülen insanların %51.3 'ü W ırkına aitmiş. %18.1'i H (ispanyol) ırkına aitmiş."
   ]
  }
 ],
 "metadata": {
  "kernelspec": {
   "display_name": "Python 3 (ipykernel)",
   "language": "python",
   "name": "python3"
  },
  "language_info": {
   "codemirror_mode": {
    "name": "ipython",
    "version": 3
   },
   "file_extension": ".py",
   "mimetype": "text/x-python",
   "name": "python",
   "nbconvert_exporter": "python",
   "pygments_lexer": "ipython3",
   "version": "3.9.7"
  }
 },
 "nbformat": 4,
 "nbformat_minor": 5
}
