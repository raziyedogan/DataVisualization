{
 "cells": [
  {
   "cell_type": "markdown",
   "id": "f8400809",
   "metadata": {},
   "source": [
    "Standart olan kütüphaneleri import etme, veri setlerini çağırma ve veri setinde gerekli düzenlemeleri yapma işlemlerini gerçekleştirelim."
   ]
  },
  {
   "cell_type": "code",
   "execution_count": 1,
   "id": "ae25b4a9",
   "metadata": {},
   "outputs": [],
   "source": [
    "import numpy as np\n",
    "import pandas as pd\n",
    "import seaborn as sns\n",
    "import matplotlib.pyplot as plt"
   ]
  },
  {
   "cell_type": "code",
   "execution_count": 2,
   "id": "9b3ce8f9",
   "metadata": {},
   "outputs": [],
   "source": [
    "median_house_hold_in_come = pd.read_csv(\"MedianHouseholdIncome2015.csv\", encoding=\"windows-1252\")\n",
    "percentage_people_below_poverty_level = pd.read_csv(\"PercentagePeopleBelowPovertyLevel.csv\", encoding=\"windows-1252\")\n",
    "percent_over_25_completed_highSchool = pd.read_csv(\"PercentOver25CompletedHighSchool.csv\", encoding=\"windows-1252\")\n",
    "share_race_city = pd.read_csv(\"ShareRaceByCity.csv\", encoding=\"windows-1252\")\n",
    "kill = pd.read_csv(\"PoliceKillingsUS.csv\", encoding=\"windows-1252\")"
   ]
  },
  {
   "cell_type": "code",
   "execution_count": 3,
   "id": "ab8a5a20",
   "metadata": {},
   "outputs": [],
   "source": [
    "percentage_people_below_poverty_level.poverty_rate.replace(['-'],0.0,inplace = True)"
   ]
  },
  {
   "cell_type": "code",
   "execution_count": 4,
   "id": "f9d93d6c",
   "metadata": {},
   "outputs": [],
   "source": [
    "percentage_people_below_poverty_level.poverty_rate = percentage_people_below_poverty_level.poverty_rate.astype(float)"
   ]
  },
  {
   "cell_type": "code",
   "execution_count": 5,
   "id": "976b410b",
   "metadata": {},
   "outputs": [],
   "source": [
    "#barPlot1 dökümanı\n",
    "area_list = list(percentage_people_below_poverty_level['Geographic Area'].unique())\n",
    "area_poverty_ratio = []\n",
    "for i in area_list:\n",
    "    x = percentage_people_below_poverty_level[percentage_people_below_poverty_level['Geographic Area']==i]\n",
    "    area_poverty_rate = sum(x.poverty_rate)/len(x)\n",
    "    area_poverty_ratio.append(area_poverty_rate)\n",
    "data = pd.DataFrame({'area_list': area_list,'area_poverty_ratio':area_poverty_ratio})\n",
    "new_index = (data['area_poverty_ratio'].sort_values(ascending=False)).index.values\n",
    "sorted_data = data.reindex(new_index)"
   ]
  },
  {
   "cell_type": "code",
   "execution_count": 6,
   "id": "ecd20dc0",
   "metadata": {},
   "outputs": [],
   "source": [
    "#barPlot2 dökümanı\n",
    "percent_over_25_completed_highSchool.percent_completed_hs.replace(['-'],0.0,inplace = True)\n",
    "percent_over_25_completed_highSchool.percent_completed_hs = percent_over_25_completed_highSchool.percent_completed_hs.astype(float)\n",
    "area_list = list(percent_over_25_completed_highSchool['Geographic Area'].unique())\n",
    "area_highschool = []\n",
    "for i in area_list:\n",
    "    x = percent_over_25_completed_highSchool[percent_over_25_completed_highSchool['Geographic Area']==i]\n",
    "    area_highschool_rate = sum(x.percent_completed_hs)/len(x)\n",
    "    area_highschool.append(area_highschool_rate)\n",
    "# sorting\n",
    "data = pd.DataFrame({'area_list': area_list,'area_highschool_ratio':area_highschool})\n",
    "new_index = (data['area_highschool_ratio'].sort_values(ascending=True)).index.values\n",
    "sorted_data2 = data.reindex(new_index)"
   ]
  },
  {
   "cell_type": "code",
   "execution_count": 7,
   "id": "e599671d",
   "metadata": {},
   "outputs": [],
   "source": [
    "sorted_data['area_poverty_ratio'] = sorted_data['area_poverty_ratio']/max( sorted_data['area_poverty_ratio'])\n",
    "sorted_data2['area_highschool_ratio'] = sorted_data2['area_highschool_ratio']/max( sorted_data2['area_highschool_ratio'])"
   ]
  },
  {
   "cell_type": "code",
   "execution_count": 8,
   "id": "caceab8a",
   "metadata": {},
   "outputs": [],
   "source": [
    "data = pd.concat([sorted_data,sorted_data2['area_highschool_ratio']],axis=1)"
   ]
  },
  {
   "cell_type": "code",
   "execution_count": 9,
   "id": "6b358c54",
   "metadata": {},
   "outputs": [],
   "source": [
    "data.sort_values('area_poverty_ratio',inplace=True)"
   ]
  },
  {
   "cell_type": "markdown",
   "id": "90462c7d",
   "metadata": {},
   "source": [
    "Box plot ile çizdirdiğimiz aynı problemi Swarm Plot ile çizdirelim.\n",
    "\n",
    "Öncelikle x eksenini M ve F şeklinde ayırıyoruz. y eksenine age değerlerini yerleştiriyoruz. Class'larda shot ve shot and Tasered'dir."
   ]
  },
  {
   "cell_type": "code",
   "execution_count": null,
   "id": "15ff9cf4",
   "metadata": {},
   "outputs": [],
   "source": [
    "sns.swarmplot(x=\"gender\", y=\"age\",hue=\"manner_of_death\", data=kill)\n",
    "plt.show()"
   ]
  },
  {
   "cell_type": "markdown",
   "id": "6c7da5d6",
   "metadata": {},
   "source": [
    "Yukarıdaki kod bloğunu açıklayalım.\n",
    "\n",
    "kill veri setini kullanacağımızı son parametre ile belirttim. Bu veri setini artık tanıdığı için gender, age ve manner_of_death sütunlarınıda kullanabiliriz. gender sütunu içerisindeki unique değerleri x eksene yerleştiriyorum. y ekseninede age sütunundaki sayı değerlerini yerleştiriyorum. \n",
    "\n",
    "Class'lar manner_of_death sütunundaki farklı öldürme şekilleridir. shot ve shot and Tasered şeklinde 2 adet class vardır."
   ]
  },
  {
   "cell_type": "markdown",
   "id": "4f480368",
   "metadata": {},
   "source": [
    "<font color = 'indigo'>\n",
    "    \n",
    "Çıktıyı yorumlayalım.\n",
    "    \n",
    "Cinsiyeti erkek (M) olan kısmı inceleyelim. Mavi noktalar vurularak öldürülenleri ifade eder. Vurularak öldürülenler ve şok tabancasıyla öldürülenler turuncu noktalardır. \n",
    "    \n",
    "Şekil üzerinden hangi yaştaki insanın nasıl öldürüldüğünü gözlemleyebiliyoruz. \n",
    "    \n",
    "5 tane kadın (turuncu noktalar) shot and Tasered ölüm şekli ile öldürülmüş. Bu ölüm şekli ile öldürülen sayısı erkeklerde daha fazladır.\n",
    "    \n",
    "Mavi ve turuncu noktalar erkeklerde, kadınlara göre çok daha yoğundur. "
   ]
  },
  {
   "cell_type": "markdown",
   "id": "bbbca853",
   "metadata": {},
   "source": [
    "Swarm plot'u classification algoritmalarında kullanılır ve data'yı nasıl ayıracağımızı net bir şekilde gösterebilir.\n",
    "\n",
    "Swarm plot'un bir dezavantajı vardır: \n",
    "    🟡 Veri sayısı çok ise mesela 10.000'den fazla ise Swarm plot çizdirmek çok zorlaşacaktır. Bilgisayarınızın hafızası neredeyse %100 çalışacak ama yinede çizdiremeyeceksiniz."
   ]
  }
 ],
 "metadata": {
  "kernelspec": {
   "display_name": "Python 3 (ipykernel)",
   "language": "python",
   "name": "python3"
  },
  "language_info": {
   "codemirror_mode": {
    "name": "ipython",
    "version": 3
   },
   "file_extension": ".py",
   "mimetype": "text/x-python",
   "name": "python",
   "nbconvert_exporter": "python",
   "pygments_lexer": "ipython3",
   "version": "3.9.7"
  }
 },
 "nbformat": 4,
 "nbformat_minor": 5
}
