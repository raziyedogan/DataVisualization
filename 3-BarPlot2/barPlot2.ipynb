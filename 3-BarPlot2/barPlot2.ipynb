{
 "cells": [
  {
   "cell_type": "markdown",
   "id": "66ae8c22",
   "metadata": {},
   "source": [
    "Standart olan kütüphaneleri import etme, veri setlerini çağırma ve gerekli düzenlemeleri yapma işlemlerini gerçekleştirelim."
   ]
  },
  {
   "cell_type": "code",
   "execution_count": 1,
   "id": "a5bd97ea",
   "metadata": {},
   "outputs": [],
   "source": [
    "import numpy as np\n",
    "import pandas as pd\n",
    "import seaborn as sns\n",
    "import matplotlib.pyplot as plt"
   ]
  },
  {
   "cell_type": "code",
   "execution_count": 2,
   "id": "6cb2d4d8",
   "metadata": {},
   "outputs": [],
   "source": [
    "median_house_hold_in_come = pd.read_csv(\"MedianHouseholdIncome2015.csv\", encoding=\"windows-1252\")\n",
    "percentage_people_below_poverty_level = pd.read_csv(\"PercentagePeopleBelowPovertyLevel.csv\", encoding=\"windows-1252\")\n",
    "percent_over_25_completed_highSchool = pd.read_csv(\"PercentOver25CompletedHighSchool.csv\", encoding=\"windows-1252\")\n",
    "share_race_city = pd.read_csv(\"ShareRaceByCity.csv\", encoding=\"windows-1252\")\n",
    "kill = pd.read_csv(\"PoliceKillingsUS.csv\", encoding=\"windows-1252\")"
   ]
  },
  {
   "cell_type": "code",
   "execution_count": 3,
   "id": "aff6f6bc",
   "metadata": {},
   "outputs": [],
   "source": [
    "percentage_people_below_poverty_level.poverty_rate.replace(['-'],0.0,inplace = True)"
   ]
  },
  {
   "cell_type": "code",
   "execution_count": 4,
   "id": "680cbd3e",
   "metadata": {},
   "outputs": [],
   "source": [
    "percentage_people_below_poverty_level.poverty_rate = percentage_people_below_poverty_level.poverty_rate.astype(float)"
   ]
  },
  {
   "cell_type": "markdown",
   "id": "cf5d0b07",
   "metadata": {},
   "source": [
    "Eyaletlerdeki 25 yaşından büyük insanların liseden mezun olma oranlarını görselleştirelim."
   ]
  },
  {
   "cell_type": "markdown",
   "id": "dc0471aa",
   "metadata": {},
   "source": [
    "Öncelikle veri setini inceleyelim."
   ]
  },
  {
   "cell_type": "code",
   "execution_count": 5,
   "id": "2fec9a7b",
   "metadata": {},
   "outputs": [
    {
     "data": {
      "text/html": [
       "<div>\n",
       "<style scoped>\n",
       "    .dataframe tbody tr th:only-of-type {\n",
       "        vertical-align: middle;\n",
       "    }\n",
       "\n",
       "    .dataframe tbody tr th {\n",
       "        vertical-align: top;\n",
       "    }\n",
       "\n",
       "    .dataframe thead th {\n",
       "        text-align: right;\n",
       "    }\n",
       "</style>\n",
       "<table border=\"1\" class=\"dataframe\">\n",
       "  <thead>\n",
       "    <tr style=\"text-align: right;\">\n",
       "      <th></th>\n",
       "      <th>Geographic Area</th>\n",
       "      <th>City</th>\n",
       "      <th>percent_completed_hs</th>\n",
       "    </tr>\n",
       "  </thead>\n",
       "  <tbody>\n",
       "    <tr>\n",
       "      <th>0</th>\n",
       "      <td>AL</td>\n",
       "      <td>Abanda CDP</td>\n",
       "      <td>21.2</td>\n",
       "    </tr>\n",
       "    <tr>\n",
       "      <th>1</th>\n",
       "      <td>AL</td>\n",
       "      <td>Abbeville city</td>\n",
       "      <td>69.1</td>\n",
       "    </tr>\n",
       "    <tr>\n",
       "      <th>2</th>\n",
       "      <td>AL</td>\n",
       "      <td>Adamsville city</td>\n",
       "      <td>78.9</td>\n",
       "    </tr>\n",
       "    <tr>\n",
       "      <th>3</th>\n",
       "      <td>AL</td>\n",
       "      <td>Addison town</td>\n",
       "      <td>81.4</td>\n",
       "    </tr>\n",
       "    <tr>\n",
       "      <th>4</th>\n",
       "      <td>AL</td>\n",
       "      <td>Akron town</td>\n",
       "      <td>68.6</td>\n",
       "    </tr>\n",
       "  </tbody>\n",
       "</table>\n",
       "</div>"
      ],
      "text/plain": [
       "  Geographic Area             City percent_completed_hs\n",
       "0              AL       Abanda CDP                 21.2\n",
       "1              AL   Abbeville city                 69.1\n",
       "2              AL  Adamsville city                 78.9\n",
       "3              AL     Addison town                 81.4\n",
       "4              AL       Akron town                 68.6"
      ]
     },
     "execution_count": 5,
     "metadata": {},
     "output_type": "execute_result"
    }
   ],
   "source": [
    "percent_over_25_completed_highSchool.head()"
   ]
  },
  {
   "cell_type": "markdown",
   "id": "976f7812",
   "metadata": {},
   "source": [
    "Yukarıda çıktıya baktığımızda, eyaletler, şehirleri ve liseden mezun olma oranları bilgilerini görmekteyiz."
   ]
  },
  {
   "cell_type": "markdown",
   "id": "8cf9ca6b",
   "metadata": {},
   "source": [
    "Veri seti içerisinde hatalı bir data olup olmadığına bakalım."
   ]
  },
  {
   "cell_type": "code",
   "execution_count": 6,
   "id": "950def71",
   "metadata": {},
   "outputs": [
    {
     "data": {
      "text/plain": [
       "100     1301\n",
       "-        197\n",
       "91.7     170\n",
       "92.9     169\n",
       "92.5     168\n",
       "        ... \n",
       "39.3       1\n",
       "20.1       1\n",
       "27.2       1\n",
       "36.8       1\n",
       "43.9       1\n",
       "Name: percent_completed_hs, Length: 728, dtype: int64"
      ]
     },
     "execution_count": 6,
     "metadata": {},
     "output_type": "execute_result"
    }
   ],
   "source": [
    "percent_over_25_completed_highSchool.percent_completed_hs.value_counts()"
   ]
  },
  {
   "cell_type": "markdown",
   "id": "90eaa6c4",
   "metadata": {},
   "source": [
    "Çıktıda görüldüğü üzere 197 tane - değeri var. Bu değerin anlamı bilinmemektedir. Dolayısıyla - değerini 0 değerine çevirelim ve bu işlemi - değerine ait oranı atmak gibi düşünebiliriz."
   ]
  },
  {
   "cell_type": "code",
   "execution_count": 7,
   "id": "d5438b22",
   "metadata": {},
   "outputs": [],
   "source": [
    "percent_over_25_completed_highSchool.percent_completed_hs.replace(['-'],0.0,inplace = True)"
   ]
  },
  {
   "cell_type": "markdown",
   "id": "f2690085",
   "metadata": {},
   "source": [
    "Yukarıda veri setinin percent_completed_hs sütununda - yerine 0 yazdırma işlemini yaptım. inplace = True parametresinden dolayı yapılan işlemi veri setinin üzerine yazarak işlemi kalıcılaştırdım."
   ]
  },
  {
   "cell_type": "markdown",
   "id": "4d41db9c",
   "metadata": {},
   "source": [
    "info metodu ile veri setinde istemediğimiz başka durumların olup olmadığını inceleyelim."
   ]
  },
  {
   "cell_type": "code",
   "execution_count": 8,
   "id": "13d56816",
   "metadata": {},
   "outputs": [
    {
     "name": "stdout",
     "output_type": "stream",
     "text": [
      "<class 'pandas.core.frame.DataFrame'>\n",
      "RangeIndex: 29329 entries, 0 to 29328\n",
      "Data columns (total 3 columns):\n",
      " #   Column                Non-Null Count  Dtype \n",
      "---  ------                --------------  ----- \n",
      " 0   Geographic Area       29329 non-null  object\n",
      " 1   City                  29329 non-null  object\n",
      " 2   percent_completed_hs  29329 non-null  object\n",
      "dtypes: object(3)\n",
      "memory usage: 687.5+ KB\n"
     ]
    }
   ],
   "source": [
    "percent_over_25_completed_highSchool.info()"
   ]
  },
  {
   "cell_type": "markdown",
   "id": "2852e98c",
   "metadata": {},
   "source": [
    "percent_completed_hs sütunu oran değerlerini tutuyor fakat bu sütundaki değerlerin veri tipinin string olduğunu çıktıda görüyoruz. Dolayısıyla bu sütunu float'a çevirmeliyiz."
   ]
  },
  {
   "cell_type": "code",
   "execution_count": 9,
   "id": "dbcc9fca",
   "metadata": {},
   "outputs": [],
   "source": [
    "percent_over_25_completed_highSchool.percent_completed_hs = percent_over_25_completed_highSchool.percent_completed_hs.astype(float)"
   ]
  },
  {
   "cell_type": "markdown",
   "id": "7176fa81",
   "metadata": {},
   "source": [
    "Şimdi de kaç farklı eyalet var ise hepsini bir listede depolayalım."
   ]
  },
  {
   "cell_type": "code",
   "execution_count": 10,
   "id": "bba8681a",
   "metadata": {},
   "outputs": [],
   "source": [
    "area_list = list(percent_over_25_completed_highSchool['Geographic Area'].unique())"
   ]
  },
  {
   "cell_type": "markdown",
   "id": "d4d8a942",
   "metadata": {},
   "source": [
    "Sonra, bu listenin içerisinde dolaşarak unique olan eyaletleri bulup bu eyaletleri filtreleyelim ve x değişkenine eşitleyelim. Daha sonrada liseyi tamamlayanları alarak ortalamasını bulalım. Ve bu değerleri area_highschool isimli listenin içerisinde depolayalım."
   ]
  },
  {
   "cell_type": "code",
   "execution_count": 11,
   "id": "2e2bdb2e",
   "metadata": {},
   "outputs": [],
   "source": [
    "area_highschool = []\n",
    "for i in area_list:\n",
    "    x = percent_over_25_completed_highSchool[percent_over_25_completed_highSchool['Geographic Area']==i]\n",
    "    area_highschool_rate = sum(x.percent_completed_hs)/len(x)\n",
    "    area_highschool.append(area_highschool_rate)"
   ]
  },
  {
   "cell_type": "markdown",
   "id": "40f46ca9",
   "metadata": {},
   "source": [
    "Sıralanmamış bir data elde ettik. Grafikte daha anlaşılabilir bir görünüm elde etmek amacıyla veriyi sıralayalım."
   ]
  },
  {
   "cell_type": "code",
   "execution_count": 12,
   "id": "9a83ac40",
   "metadata": {},
   "outputs": [],
   "source": [
    "# sorting\n",
    "data = pd.DataFrame({'area_list': area_list,'area_highschool_ratio':area_highschool})\n",
    "new_index = (data['area_highschool_ratio'].sort_values(ascending=True)).index.values\n",
    "sorted_data2 = data.reindex(new_index)"
   ]
  },
  {
   "cell_type": "markdown",
   "id": "ff688551",
   "metadata": {},
   "source": [
    "ascending=True parametresinden dolayı artan bir sırada sıralama gerçekleştirilmiştir.\n",
    "\n",
    "new_index = (data['area_highschool_ratio'].sort_values(ascending=True)).index.values  satırda artan sırada bir sıralama yapılıp, bu sıralamanın indeksleri elde edilmiştir. Bu işlemi filtremiz olarak nitelendirebiliriz.\n",
    "\n",
    "sorted_data2 = data.reindex(new_index) satırı ile data'nın hepsini sıralamış olduk."
   ]
  },
  {
   "cell_type": "code",
   "execution_count": 13,
   "id": "4d449140",
   "metadata": {},
   "outputs": [
    {
     "data": {
      "text/plain": [
       "Text(0.5, 1.0, \"Percentage of Given State's Population Above 25 that Has Graduated High School\")"
      ]
     },
     "execution_count": 13,
     "metadata": {},
     "output_type": "execute_result"
    },
    {
     "data": {
      "image/png": "[encoded data removed]",
      "text/plain": [
       "<Figure size 1080x720 with 1 Axes>"
      ]
     },
     "metadata": {
      "needs_background": "light"
     },
     "output_type": "display_data"
    }
   ],
   "source": [
    "# visualization\n",
    "plt.figure(figsize=(15,10))\n",
    "sns.barplot(x=sorted_data2['area_list'], y=sorted_data2['area_highschool_ratio'])\n",
    "plt.xticks(rotation= 90)\n",
    "plt.xlabel('States')\n",
    "plt.ylabel('High School Graduate Rate')\n",
    "plt.title(\"Percentage of Given State's Population Above 25 that Has Graduated High School\")"
   ]
  },
  {
   "cell_type": "markdown",
   "id": "6f7949c2",
   "metadata": {},
   "source": [
    "Yukarıdaki bloğu açıklayayım. Eni 15 ve boyu 10 boyutunda olan bir figür oluşturdum. \n",
    "\n",
    "sns.barplot(x=sorted_data2['area_list'], y=sorted_data2['area_highschool_ratio']) satırı ile, x eksenine sıralanan eyaletler yerleştirilmiştir ve y eksenine eyaletlere karşılık gelen liseden mezun olma oranları yerleştirilmiştir.\n",
    "\n",
    "plt.xticks(rotation= 90) satırı ile x ekseninde yazan eyalet isimlerinin düz,çapraz gibi konumunu ayarladım. 90 derece yaparak eyalet isimlerinin dik bir şekilde düz olmasını sağladım."
   ]
  },
  {
   "cell_type": "markdown",
   "id": "e448972b",
   "metadata": {},
   "source": [
    "Çıktıdaki grafiği okuyalım. Eyaletlerden liseden mezun olma oranı en düşük olan TX 'dir. Yaklaşık olarak 75 değerine sahiptir.\n",
    "En yüksek orana sahip olan ise MA eyaletidir."
   ]
  },
  {
   "cell_type": "markdown",
   "id": "03e70e85",
   "metadata": {},
   "source": [
    "Böylelikle bir problem belirleyip bu problemi görselleştirdik."
   ]
  }
 ],
 "metadata": {
  "kernelspec": {
   "display_name": "Python 3 (ipykernel)",
   "language": "python",
   "name": "python3"
  },
  "language_info": {
   "codemirror_mode": {
    "name": "ipython",
    "version": 3
   },
   "file_extension": ".py",
   "mimetype": "text/x-python",
   "name": "python",
   "nbconvert_exporter": "python",
   "pygments_lexer": "ipython3",
   "version": "3.9.7"
  }
 },
 "nbformat": 4,
 "nbformat_minor": 5
}
