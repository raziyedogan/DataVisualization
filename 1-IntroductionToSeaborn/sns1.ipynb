{
 "cells": [
  {
   "cell_type": "markdown",
   "id": "a467e388",
   "metadata": {},
   "source": [
    "Bir veriyi görselleştirebilmek için veriyi analiz etmeliyiz. Görselleştirme aslında analiz etme işlemidir.\n",
    "\n",
    "Görselleştirme işlemi anlaşılabilirlik ve etkileyicilik açısından kullanılır.\n",
    "\n",
    "https://www.kaggle.com/datasets/kwullum/fatal-police-shootings-in-the-us linkinde bir data mevcut. Bu data Amerika'da polisin insana ateş etmesi sonucunda ölümün gerçekleşmesi hakkındadır."
   ]
  },
  {
   "cell_type": "code",
   "execution_count": 1,
   "id": "3b99f692",
   "metadata": {},
   "outputs": [],
   "source": [
    "import numpy as np\n",
    "import pandas as pd\n",
    "import seaborn as sns\n",
    "import matplotlib.pyplot as plt"
   ]
  },
  {
   "cell_type": "markdown",
   "id": "6a6810ae",
   "metadata": {},
   "source": [
    "Veri setlerini çağıralım."
   ]
  },
  {
   "cell_type": "code",
   "execution_count": 2,
   "id": "d510f8f5",
   "metadata": {},
   "outputs": [],
   "source": [
    "median_house_hold_in_come = pd.read_csv(\"MedianHouseholdIncome2015.csv\", encoding=\"windows-1252\")\n",
    "percentage_people_below_poverty_level = pd.read_csv(\"PercentagePeopleBelowPovertyLevel.csv\", encoding=\"windows-1252\")\n",
    "percent_over_25_completed_highSchool = pd.read_csv(\"PercentOver25CompletedHighSchool.csv\", encoding=\"windows-1252\")\n",
    "share_race_city = pd.read_csv(\"ShareRaceByCity.csv\", encoding=\"windows-1252\")\n",
    "kill = pd.read_csv(\"PoliceKillingsUS.csv\", encoding=\"windows-1252\")"
   ]
  },
  {
   "cell_type": "markdown",
   "id": "54fa163a",
   "metadata": {},
   "source": [
    "Her bir eyaletin fakirlik oranı için percentage_people_below_poverty_level değişkeninde tutulan veriyi kullanalım."
   ]
  },
  {
   "cell_type": "code",
   "execution_count": 3,
   "id": "87b9bb69",
   "metadata": {},
   "outputs": [
    {
     "data": {
      "text/html": [
       "<div>\n",
       "<style scoped>\n",
       "    .dataframe tbody tr th:only-of-type {\n",
       "        vertical-align: middle;\n",
       "    }\n",
       "\n",
       "    .dataframe tbody tr th {\n",
       "        vertical-align: top;\n",
       "    }\n",
       "\n",
       "    .dataframe thead th {\n",
       "        text-align: right;\n",
       "    }\n",
       "</style>\n",
       "<table border=\"1\" class=\"dataframe\">\n",
       "  <thead>\n",
       "    <tr style=\"text-align: right;\">\n",
       "      <th></th>\n",
       "      <th>Geographic Area</th>\n",
       "      <th>City</th>\n",
       "      <th>poverty_rate</th>\n",
       "    </tr>\n",
       "  </thead>\n",
       "  <tbody>\n",
       "    <tr>\n",
       "      <th>0</th>\n",
       "      <td>AL</td>\n",
       "      <td>Abanda CDP</td>\n",
       "      <td>78.8</td>\n",
       "    </tr>\n",
       "    <tr>\n",
       "      <th>1</th>\n",
       "      <td>AL</td>\n",
       "      <td>Abbeville city</td>\n",
       "      <td>29.1</td>\n",
       "    </tr>\n",
       "    <tr>\n",
       "      <th>2</th>\n",
       "      <td>AL</td>\n",
       "      <td>Adamsville city</td>\n",
       "      <td>25.5</td>\n",
       "    </tr>\n",
       "    <tr>\n",
       "      <th>3</th>\n",
       "      <td>AL</td>\n",
       "      <td>Addison town</td>\n",
       "      <td>30.7</td>\n",
       "    </tr>\n",
       "    <tr>\n",
       "      <th>4</th>\n",
       "      <td>AL</td>\n",
       "      <td>Akron town</td>\n",
       "      <td>42</td>\n",
       "    </tr>\n",
       "  </tbody>\n",
       "</table>\n",
       "</div>"
      ],
      "text/plain": [
       "  Geographic Area             City poverty_rate\n",
       "0              AL       Abanda CDP         78.8\n",
       "1              AL   Abbeville city         29.1\n",
       "2              AL  Adamsville city         25.5\n",
       "3              AL     Addison town         30.7\n",
       "4              AL       Akron town           42"
      ]
     },
     "execution_count": 3,
     "metadata": {},
     "output_type": "execute_result"
    }
   ],
   "source": [
    "percentage_people_below_poverty_level.head()"
   ]
  },
  {
   "cell_type": "markdown",
   "id": "65391fe2",
   "metadata": {},
   "source": [
    "percentage_people_below_poverty_level değişkeninde tutulan veriyi inceleyelim. Geographic Area sütunu eyaleti ifade eder.\n",
    "City sütunu şehri ve poverty_rate sütunu bu şehirdeki yoksulluk oranı bilgisini barındırır."
   ]
  },
  {
   "cell_type": "code",
   "execution_count": 4,
   "id": "897e1735",
   "metadata": {},
   "outputs": [
    {
     "name": "stdout",
     "output_type": "stream",
     "text": [
      "<class 'pandas.core.frame.DataFrame'>\n",
      "RangeIndex: 29329 entries, 0 to 29328\n",
      "Data columns (total 3 columns):\n",
      " #   Column           Non-Null Count  Dtype \n",
      "---  ------           --------------  ----- \n",
      " 0   Geographic Area  29329 non-null  object\n",
      " 1   City             29329 non-null  object\n",
      " 2   poverty_rate     29329 non-null  object\n",
      "dtypes: object(3)\n",
      "memory usage: 687.5+ KB\n"
     ]
    }
   ],
   "source": [
    "percentage_people_below_poverty_level.info()"
   ]
  },
  {
   "cell_type": "code",
   "execution_count": 5,
   "id": "774d0cd1",
   "metadata": {},
   "outputs": [
    {
     "data": {
      "text/plain": [
       "0       1464\n",
       "-        201\n",
       "7.4      129\n",
       "6.7      129\n",
       "10.9     128\n",
       "        ... \n",
       "73.5       1\n",
       "92         1\n",
       "73.8       1\n",
       "55.9       1\n",
       "83.6       1\n",
       "Name: poverty_rate, Length: 771, dtype: int64"
      ]
     },
     "execution_count": 5,
     "metadata": {},
     "output_type": "execute_result"
    }
   ],
   "source": [
    "percentage_people_below_poverty_level.poverty_rate.value_counts()"
   ]
  },
  {
   "cell_type": "markdown",
   "id": "1013d324",
   "metadata": {},
   "source": [
    "Çıktıyı inceleyelim. poverty_rate yani fakirlik oranı 0 olan 1464 tane yer varmış. Yani 1464 yer fakir değil sonucuna varabiliriz.\n",
    "\n",
    "İkinci satırda bulunan - 'nin anlamını bilmiyoruz. Bu durumda bu 201 tane veriyi görmezden gelmemiz gerekir. Bu - 'yi 0 'a eşitleyebiliriz."
   ]
  },
  {
   "cell_type": "code",
   "execution_count": 6,
   "id": "1e610c59",
   "metadata": {},
   "outputs": [],
   "source": [
    "percentage_people_below_poverty_level.poverty_rate.replace(['-'],0.0,inplace = True)"
   ]
  },
  {
   "cell_type": "markdown",
   "id": "36042ffd",
   "metadata": {},
   "source": [
    "Yukarıdaki kod ile yapılan şudur: - değerini bulur ve - değerini 0 ile değiştirir. inplace = True parametresinden dolayı bu işlemi kalıcı bir şekilde kaydeder."
   ]
  },
  {
   "cell_type": "code",
   "execution_count": 7,
   "id": "a2fd43f0",
   "metadata": {},
   "outputs": [],
   "source": [
    "percentage_people_below_poverty_level.poverty_rate = percentage_people_below_poverty_level.poverty_rate.astype(float)"
   ]
  },
  {
   "cell_type": "markdown",
   "id": "3261a101",
   "metadata": {},
   "source": [
    "Yukarıdaki kod ile yapılan şudur: poverty_rate feature'sinin info metodu sonucunda gördüğümüz üzere object olduğunu anlıyoruz. Fakat bize number lazım. Dolayısıyla bu sütunu float'a çevirdik."
   ]
  },
  {
   "cell_type": "markdown",
   "id": "09f377e4",
   "metadata": {},
   "source": [
    "Böylece veri setinde amaçlarımıza uygun düzeltmeler gerçekleştirdik."
   ]
  }
 ],
 "metadata": {
  "kernelspec": {
   "display_name": "Python 3 (ipykernel)",
   "language": "python",
   "name": "python3"
  },
  "language_info": {
   "codemirror_mode": {
    "name": "ipython",
    "version": 3
   },
   "file_extension": ".py",
   "mimetype": "text/x-python",
   "name": "python",
   "nbconvert_exporter": "python",
   "pygments_lexer": "ipython3",
   "version": "3.9.7"
  }
 },
 "nbformat": 4,
 "nbformat_minor": 5
}
